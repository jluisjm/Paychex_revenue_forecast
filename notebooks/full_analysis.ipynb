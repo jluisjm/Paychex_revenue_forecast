{
 "cells": [
  {
   "cell_type": "code",
   "execution_count": 150,
   "metadata": {},
   "outputs": [],
   "source": [
    "import os, pickle, sys, yaml\n",
    "import pandas as pd\n",
    "import numpy as np\n",
    "import plotly.express as px\n",
    "from pycaret.regression import *\n",
    "from datetime import datetime\n",
    "import seaborn as sns\n",
    "import matplotlib.pyplot as plt\n",
    "from openpyxl import load_workbook, Workbook\n",
    "import src.paychex_ml.data_loader as dl\n",
    "import src.paychex_ml.models as models\n",
    "\n",
    "warnings.filterwarnings(\"ignore\")"
   ]
  },
  {
   "cell_type": "code",
   "execution_count": 151,
   "outputs": [],
   "source": [
    "## Change the project path\n",
    "proyect_path = \"C:/Users/bruno.gonzalez/DataspellProjects/Paychex_revenue_forecast\""
   ],
   "metadata": {
    "collapsed": false,
    "pycharm": {
     "name": "#%%\n"
    }
   }
  },
  {
   "cell_type": "code",
   "execution_count": 152,
   "outputs": [],
   "source": [
    "sys.path.append(proyect_path)"
   ],
   "metadata": {
    "collapsed": false,
    "pycharm": {
     "name": "#%%\n"
    }
   }
  },
  {
   "cell_type": "code",
   "execution_count": 4,
   "outputs": [],
   "source": [
    "# ------------------------------------------------------------------------------------- #\n",
    "# This is where we change parameters to the model\n",
    "# ------------------------------------------------------------------------------------- #\n",
    "train_start_dt = '20140601'\n",
    "train_end_dt = '20200501'\n",
    "test_start_dt = '20200601'\n",
    "test_end_dt = '20210501'\n",
    "pred_start_dt = '20210601'\n",
    "pred_end_dt = '20220101'\n",
    "ml_criteria = 'MAE'\n",
    "forecast_window = 8\n",
    "forecast_type = '2+10'\n",
    "# This is how strong you want the correlation to be in order to be included as a feature\n",
    "correlation_threshold = 0.5\n",
    "# This is how many features you want to keep in the final model\n",
    "features_threshold = 10"
   ],
   "metadata": {
    "collapsed": false,
    "pycharm": {
     "name": "#%%\n"
    }
   }
  },
  {
   "cell_type": "code",
   "execution_count": 5,
   "outputs": [],
   "source": [
    "# Set manually date if is necessary\n",
    "model_run_date = datetime.today().strftime('%Y%m%d')\n",
    "#model_run_date = '20220504'"
   ],
   "metadata": {
    "collapsed": false,
    "pycharm": {
     "name": "#%%\n"
    }
   }
  },
  {
   "cell_type": "code",
   "execution_count": 6,
   "outputs": [],
   "source": [
    "with open(proyect_path+\"/src/line_items.yml\", \"r\") as stream:\n",
    "    items_dicctionary = yaml.safe_load(stream)"
   ],
   "metadata": {
    "collapsed": false,
    "pycharm": {
     "name": "#%%\n"
    }
   }
  },
  {
   "cell_type": "code",
   "execution_count": 7,
   "outputs": [
    {
     "name": "stdout",
     "output_type": "stream",
     "text": [
      "110 -- Total Payroll Revenue.\n",
      "111 -- Payroll blended products\n",
      "112 -- W-2 Revenue\n",
      "113 -- Delivery Revenue\n",
      "114 -- ASO Allocation\n",
      "115 -- Other Processing Revenue\n",
      "116 -- SurePayroll.\n",
      "117 -- Total international\n",
      "120 -- Total 401k\n",
      "121 -- 401K Fee Revenue\n",
      "122 -- 401K Asset fee & BP Revenue\n",
      "130 -- Total ASO Revenue\n",
      "131 -- HR Solutions (PEO)\n",
      "132 -- ASO Revenue - Oasis\n",
      "140 -- Total Online Services\n",
      "141 -- HR Online\n",
      "142 -- Time & Attendance\n",
      "150 -- Other Management Solutions\n",
      "151 -- Total Paychex Advance\n",
      "152 -- Full Service Unemployment Revenue\n",
      "153 -- ESR Revenue\n",
      "154 -- Cafeteria Plans Revenue\n",
      "155 -- Benetrac\n",
      "156 -- Emerging Products\n",
      "100 -- Management Solutions Revenue.\n",
      "261 -- Total PEO\n",
      "270 -- Total Insurance Services\n",
      "271 -- Workers Comp - Payment Services\n",
      "272 -- Health Benefits\n",
      "200 -- Total PEO and Insurance Services.\n",
      "300 -- Service Revenue\n",
      "381 -- Interest on Funds Held for Clients\n",
      "400 -- Total Revenue\n"
     ]
    }
   ],
   "source": [
    "for key in items_dicctionary.keys():\n",
    "    print (key, '--', items_dicctionary[key][0])"
   ],
   "metadata": {
    "collapsed": false,
    "pycharm": {
     "name": "#%%\n"
    }
   }
  },
  {
   "cell_type": "code",
   "execution_count": 135,
   "outputs": [
    {
     "name": "stdout",
     "output_type": "stream",
     "text": [
      "Variable to predict:  Total Insurance Services\n"
     ]
    }
   ],
   "source": [
    "id = '270'\n",
    "target_col, has_drivers, level = items_dicctionary[id]\n",
    "print(\"Variable to predict: \", target_col)"
   ],
   "metadata": {
    "collapsed": false,
    "pycharm": {
     "name": "#%%\n"
    }
   }
  },
  {
   "cell_type": "code",
   "execution_count": 136,
   "outputs": [],
   "source": [
    "ml_col = target_col+' - ML Predicted'\n",
    "uts_col = target_col+' - UTS Predicted'\n",
    "plan_col = target_col+' - Plan'\n",
    "fcst_col = target_col+' - '+forecast_type+' Forecast'\n",
    "fcst_cols = [plan_col,fcst_col,ml_col,uts_col]\n",
    "has_actuals = True\n",
    "feature_selection = 'ml_features'"
   ],
   "metadata": {
    "collapsed": false,
    "pycharm": {
     "name": "#%%\n"
    }
   }
  },
  {
   "cell_type": "code",
   "execution_count": 137,
   "outputs": [],
   "source": [
    "file_path = proyect_path+\"/data/clean/table_predictable.csv\"\n",
    "drive_path = proyect_path+\"/data/clean/table_drivers.csv\"\n",
    "external_path = proyect_path+\"/data/external/external_data_fred.csv\"\n",
    "model_path = proyect_path+\"/data/models/\"+model_run_date\n",
    "if not os.path.exists(model_path):\n",
    "    os.makedirs(model_path)\n",
    "    print(\"Directory created\")"
   ],
   "metadata": {
    "collapsed": false,
    "pycharm": {
     "name": "#%%\n"
    }
   }
  },
  {
   "cell_type": "code",
   "execution_count": 138,
   "outputs": [],
   "source": [
    "all_df = dl.get_clean_data(train_start_dt, pred_end_dt, file_path, level=level)\n",
    "all_df = all_df[['Calendar Date', target_col]]"
   ],
   "metadata": {
    "collapsed": false,
    "pycharm": {
     "name": "#%%\n"
    }
   }
  },
  {
   "cell_type": "code",
   "execution_count": 139,
   "outputs": [],
   "source": [
    "if has_drivers:\n",
    "    driv_df = dl.get_clean_driver_data(train_start_dt, pred_end_dt, target_col, drive_path)\n",
    "    #driv_df.drop(columns=['Scenario'], inplace=True)\n",
    "    all_df = pd.merge(all_df, driv_df, on='Calendar Date', how='inner')"
   ],
   "metadata": {
    "collapsed": false,
    "pycharm": {
     "name": "#%%\n"
    }
   }
  },
  {
   "cell_type": "code",
   "execution_count": 140,
   "outputs": [],
   "source": [
    "ext_df = pd.read_csv(external_path, dtype={'date': str})\\\n",
    "    .rename(columns={'date': 'Calendar Date'})\n",
    "all_df = pd.merge(all_df, ext_df, on='Calendar Date', how='inner')"
   ],
   "metadata": {
    "collapsed": false,
    "pycharm": {
     "name": "#%%\n"
    }
   }
  },
  {
   "cell_type": "code",
   "execution_count": 141,
   "outputs": [
    {
     "name": "stdout",
     "output_type": "stream",
     "text": [
      "Shape of the training dataframe:  (72, 112)\n",
      "Shape of the testing dataframe:  (12, 112)\n",
      "Shape of the combination dataframe:  (84, 112)\n"
     ]
    }
   ],
   "source": [
    "train_df, test_df, comb_df = models.train_test_combine_split(all_df, train_end_dt, test_start_dt, test_end_dt)"
   ],
   "metadata": {
    "collapsed": false,
    "pycharm": {
     "name": "#%%\n"
    }
   }
  },
  {
   "cell_type": "code",
   "execution_count": 142,
   "outputs": [],
   "source": [
    "feature_cols = comb_df.columns.to_list()\n",
    "feature_cols.remove('Calendar Date')\n",
    "feature_cols.remove(target_col)"
   ],
   "metadata": {
    "collapsed": false,
    "pycharm": {
     "name": "#%%\n"
    }
   }
  },
  {
   "cell_type": "code",
   "execution_count": 143,
   "outputs": [
    {
     "data": {
      "text/plain": "<Figure size 576x864 with 2 Axes>",
      "image/png": "[encoded data removed]"
     },
     "metadata": {},
     "output_type": "display_data"
    }
   ],
   "source": [
    "corr_feature_cols, fig = models.features_correlation(comb_df, target_col, correlation_threshold)"
   ],
   "metadata": {
    "collapsed": false,
    "pycharm": {
     "name": "#%%\n"
    }
   }
  },
  {
   "cell_type": "code",
   "execution_count": 144,
   "outputs": [
    {
     "data": {
      "text/plain": "<pandas.io.formats.style.Styler at 0x19b826a4130>",
      "text/html": "<style type=\"text/css\">\n#T_9ca47 th {\n  text-align: left;\n}\n#T_9ca47_row0_col0, #T_9ca47_row0_col2, #T_9ca47_row0_col3, #T_9ca47_row0_col4, #T_9ca47_row0_col5, #T_9ca47_row1_col0, #T_9ca47_row1_col1, #T_9ca47_row1_col6, #T_9ca47_row2_col0, #T_9ca47_row2_col1, #T_9ca47_row2_col2, #T_9ca47_row2_col3, #T_9ca47_row2_col4, #T_9ca47_row2_col5, #T_9ca47_row2_col6, #T_9ca47_row3_col0, #T_9ca47_row3_col1, #T_9ca47_row3_col2, #T_9ca47_row3_col3, #T_9ca47_row3_col4, #T_9ca47_row3_col5, #T_9ca47_row3_col6, #T_9ca47_row4_col0, #T_9ca47_row4_col1, #T_9ca47_row4_col2, #T_9ca47_row4_col3, #T_9ca47_row4_col4, #T_9ca47_row4_col5, #T_9ca47_row4_col6, #T_9ca47_row5_col0, #T_9ca47_row5_col1, #T_9ca47_row5_col2, #T_9ca47_row5_col3, #T_9ca47_row5_col4, #T_9ca47_row5_col5, #T_9ca47_row5_col6, #T_9ca47_row6_col0, #T_9ca47_row6_col1, #T_9ca47_row6_col2, #T_9ca47_row6_col3, #T_9ca47_row6_col4, #T_9ca47_row6_col5, #T_9ca47_row6_col6, #T_9ca47_row7_col0, #T_9ca47_row7_col1, #T_9ca47_row7_col2, #T_9ca47_row7_col3, #T_9ca47_row7_col4, #T_9ca47_row7_col5, #T_9ca47_row7_col6, #T_9ca47_row8_col0, #T_9ca47_row8_col1, #T_9ca47_row8_col2, #T_9ca47_row8_col3, #T_9ca47_row8_col4, #T_9ca47_row8_col5, #T_9ca47_row8_col6, #T_9ca47_row9_col0, #T_9ca47_row9_col1, #T_9ca47_row9_col2, #T_9ca47_row9_col3, #T_9ca47_row9_col4, #T_9ca47_row9_col5, #T_9ca47_row9_col6, #T_9ca47_row10_col0, #T_9ca47_row10_col1, #T_9ca47_row10_col2, #T_9ca47_row10_col3, #T_9ca47_row10_col4, #T_9ca47_row10_col5, #T_9ca47_row10_col6, #T_9ca47_row11_col0, #T_9ca47_row11_col1, #T_9ca47_row11_col2, #T_9ca47_row11_col3, #T_9ca47_row11_col4, #T_9ca47_row11_col5, #T_9ca47_row11_col6, #T_9ca47_row12_col0, #T_9ca47_row12_col1, #T_9ca47_row12_col2, #T_9ca47_row12_col3, #T_9ca47_row12_col4, #T_9ca47_row12_col5, #T_9ca47_row12_col6, #T_9ca47_row13_col0, #T_9ca47_row13_col1, #T_9ca47_row13_col2, #T_9ca47_row13_col3, #T_9ca47_row13_col4, #T_9ca47_row13_col5, #T_9ca47_row13_col6, #T_9ca47_row14_col0, #T_9ca47_row14_col1, #T_9ca47_row14_col2, #T_9ca47_row14_col3, #T_9ca47_row14_col4, #T_9ca47_row14_col5, #T_9ca47_row14_col6, #T_9ca47_row15_col0, #T_9ca47_row15_col1, #T_9ca47_row15_col2, #T_9ca47_row15_col3, #T_9ca47_row15_col4, #T_9ca47_row15_col5, #T_9ca47_row15_col6, #T_9ca47_row16_col0, #T_9ca47_row16_col1, #T_9ca47_row16_col2, #T_9ca47_row16_col3, #T_9ca47_row16_col4, #T_9ca47_row16_col5, #T_9ca47_row16_col6, #T_9ca47_row17_col0, #T_9ca47_row17_col1, #T_9ca47_row17_col2, #T_9ca47_row17_col3, #T_9ca47_row17_col4, #T_9ca47_row17_col5, #T_9ca47_row17_col6, #T_9ca47_row18_col0, #T_9ca47_row18_col1, #T_9ca47_row18_col2, #T_9ca47_row18_col3, #T_9ca47_row18_col4, #T_9ca47_row18_col5, #T_9ca47_row18_col6 {\n  text-align: left;\n}\n#T_9ca47_row0_col1, #T_9ca47_row0_col6, #T_9ca47_row1_col2, #T_9ca47_row1_col3, #T_9ca47_row1_col4, #T_9ca47_row1_col5 {\n  text-align: left;\n  background-color: yellow;\n}\n#T_9ca47_row0_col7, #T_9ca47_row1_col7, #T_9ca47_row2_col7, #T_9ca47_row3_col7, #T_9ca47_row4_col7, #T_9ca47_row5_col7, #T_9ca47_row6_col7, #T_9ca47_row7_col7, #T_9ca47_row8_col7, #T_9ca47_row10_col7, #T_9ca47_row13_col7, #T_9ca47_row14_col7, #T_9ca47_row17_col7, #T_9ca47_row18_col7 {\n  text-align: left;\n  background-color: lightgrey;\n}\n#T_9ca47_row9_col7, #T_9ca47_row11_col7, #T_9ca47_row12_col7, #T_9ca47_row15_col7, #T_9ca47_row16_col7 {\n  text-align: left;\n  background-color: yellow;\n  background-color: lightgrey;\n}\n</style>\n<table id=\"T_9ca47\">\n  <thead>\n    <tr>\n      <th class=\"blank level0\" >&nbsp;</th>\n      <th id=\"T_9ca47_level0_col0\" class=\"col_heading level0 col0\" >Model</th>\n      <th id=\"T_9ca47_level0_col1\" class=\"col_heading level0 col1\" >MAE</th>\n      <th id=\"T_9ca47_level0_col2\" class=\"col_heading level0 col2\" >MSE</th>\n      <th id=\"T_9ca47_level0_col3\" class=\"col_heading level0 col3\" >RMSE</th>\n      <th id=\"T_9ca47_level0_col4\" class=\"col_heading level0 col4\" >R2</th>\n      <th id=\"T_9ca47_level0_col5\" class=\"col_heading level0 col5\" >RMSLE</th>\n      <th id=\"T_9ca47_level0_col6\" class=\"col_heading level0 col6\" >MAPE</th>\n      <th id=\"T_9ca47_level0_col7\" class=\"col_heading level0 col7\" >TT (Sec)</th>\n    </tr>\n  </thead>\n  <tbody>\n    <tr>\n      <th id=\"T_9ca47_level0_row0\" class=\"row_heading level0 row0\" >rf</th>\n      <td id=\"T_9ca47_row0_col0\" class=\"data row0 col0\" >Random Forest Regressor</td>\n      <td id=\"T_9ca47_row0_col1\" class=\"data row0 col1\" >1313917.1280</td>\n      <td id=\"T_9ca47_row0_col2\" class=\"data row0 col2\" >3625403111117.1519</td>\n      <td id=\"T_9ca47_row0_col3\" class=\"data row0 col3\" >1832751.7190</td>\n      <td id=\"T_9ca47_row0_col4\" class=\"data row0 col4\" >-0.2429</td>\n      <td id=\"T_9ca47_row0_col5\" class=\"data row0 col5\" >0.1209</td>\n      <td id=\"T_9ca47_row0_col6\" class=\"data row0 col6\" >0.0857</td>\n      <td id=\"T_9ca47_row0_col7\" class=\"data row0 col7\" >0.1367</td>\n    </tr>\n    <tr>\n      <th id=\"T_9ca47_level0_row1\" class=\"row_heading level0 row1\" >et</th>\n      <td id=\"T_9ca47_row1_col0\" class=\"data row1 col0\" >Extra Trees Regressor</td>\n      <td id=\"T_9ca47_row1_col1\" class=\"data row1 col1\" >1313972.5352</td>\n      <td id=\"T_9ca47_row1_col2\" class=\"data row1 col2\" >3125839733370.4429</td>\n      <td id=\"T_9ca47_row1_col3\" class=\"data row1 col3\" >1750584.5213</td>\n      <td id=\"T_9ca47_row1_col4\" class=\"data row1 col4\" >-0.1734</td>\n      <td id=\"T_9ca47_row1_col5\" class=\"data row1 col5\" >0.1152</td>\n      <td id=\"T_9ca47_row1_col6\" class=\"data row1 col6\" >0.0859</td>\n      <td id=\"T_9ca47_row1_col7\" class=\"data row1 col7\" >0.0900</td>\n    </tr>\n    <tr>\n      <th id=\"T_9ca47_level0_row2\" class=\"row_heading level0 row2\" >gbr</th>\n      <td id=\"T_9ca47_row2_col0\" class=\"data row2 col0\" >Gradient Boosting Regressor</td>\n      <td id=\"T_9ca47_row2_col1\" class=\"data row2 col1\" >1452899.5633</td>\n      <td id=\"T_9ca47_row2_col2\" class=\"data row2 col2\" >4122681134652.4375</td>\n      <td id=\"T_9ca47_row2_col3\" class=\"data row2 col3\" >1958866.6762</td>\n      <td id=\"T_9ca47_row2_col4\" class=\"data row2 col4\" >-0.4065</td>\n      <td id=\"T_9ca47_row2_col5\" class=\"data row2 col5\" >0.1310</td>\n      <td id=\"T_9ca47_row2_col6\" class=\"data row2 col6\" >0.0949</td>\n      <td id=\"T_9ca47_row2_col7\" class=\"data row2 col7\" >0.0400</td>\n    </tr>\n    <tr>\n      <th id=\"T_9ca47_level0_row3\" class=\"row_heading level0 row3\" >ada</th>\n      <td id=\"T_9ca47_row3_col0\" class=\"data row3 col0\" >AdaBoost Regressor</td>\n      <td id=\"T_9ca47_row3_col1\" class=\"data row3 col1\" >1495099.6909</td>\n      <td id=\"T_9ca47_row3_col2\" class=\"data row3 col2\" >4585129085473.0127</td>\n      <td id=\"T_9ca47_row3_col3\" class=\"data row3 col3\" >2062635.1363</td>\n      <td id=\"T_9ca47_row3_col4\" class=\"data row3 col4\" >-0.5419</td>\n      <td id=\"T_9ca47_row3_col5\" class=\"data row3 col5\" >0.1362</td>\n      <td id=\"T_9ca47_row3_col6\" class=\"data row3 col6\" >0.0958</td>\n      <td id=\"T_9ca47_row3_col7\" class=\"data row3 col7\" >0.0500</td>\n    </tr>\n    <tr>\n      <th id=\"T_9ca47_level0_row4\" class=\"row_heading level0 row4\" >xgboost</th>\n      <td id=\"T_9ca47_row4_col0\" class=\"data row4 col0\" >Extreme Gradient Boosting</td>\n      <td id=\"T_9ca47_row4_col1\" class=\"data row4 col1\" >1905122.3750</td>\n      <td id=\"T_9ca47_row4_col2\" class=\"data row4 col2\" >5642429399040.0000</td>\n      <td id=\"T_9ca47_row4_col3\" class=\"data row4 col3\" >2350062.4583</td>\n      <td id=\"T_9ca47_row4_col4\" class=\"data row4 col4\" >-1.0651</td>\n      <td id=\"T_9ca47_row4_col5\" class=\"data row4 col5\" >0.1555</td>\n      <td id=\"T_9ca47_row4_col6\" class=\"data row4 col6\" >0.1272</td>\n      <td id=\"T_9ca47_row4_col7\" class=\"data row4 col7\" >0.1200</td>\n    </tr>\n    <tr>\n      <th id=\"T_9ca47_level0_row5\" class=\"row_heading level0 row5\" >lightgbm</th>\n      <td id=\"T_9ca47_row5_col0\" class=\"data row5 col0\" >Light Gradient Boosting Machine</td>\n      <td id=\"T_9ca47_row5_col1\" class=\"data row5 col1\" >1947105.2501</td>\n      <td id=\"T_9ca47_row5_col2\" class=\"data row5 col2\" >6794666580681.8877</td>\n      <td id=\"T_9ca47_row5_col3\" class=\"data row5 col3\" >2448446.8130</td>\n      <td id=\"T_9ca47_row5_col4\" class=\"data row5 col4\" >-1.1786</td>\n      <td id=\"T_9ca47_row5_col5\" class=\"data row5 col5\" >0.1686</td>\n      <td id=\"T_9ca47_row5_col6\" class=\"data row5 col6\" >0.1271</td>\n      <td id=\"T_9ca47_row5_col7\" class=\"data row5 col7\" >0.0167</td>\n    </tr>\n    <tr>\n      <th id=\"T_9ca47_level0_row6\" class=\"row_heading level0 row6\" >dt</th>\n      <td id=\"T_9ca47_row6_col0\" class=\"data row6 col0\" >Decision Tree Regressor</td>\n      <td id=\"T_9ca47_row6_col1\" class=\"data row6 col1\" >1995219.9444</td>\n      <td id=\"T_9ca47_row6_col2\" class=\"data row6 col2\" >7563925141198.1299</td>\n      <td id=\"T_9ca47_row6_col3\" class=\"data row6 col3\" >2701011.2324</td>\n      <td id=\"T_9ca47_row6_col4\" class=\"data row6 col4\" >-1.7198</td>\n      <td id=\"T_9ca47_row6_col5\" class=\"data row6 col5\" >0.1837</td>\n      <td id=\"T_9ca47_row6_col6\" class=\"data row6 col6\" >0.1276</td>\n      <td id=\"T_9ca47_row6_col7\" class=\"data row6 col7\" >0.0167</td>\n    </tr>\n    <tr>\n      <th id=\"T_9ca47_level0_row7\" class=\"row_heading level0 row7\" >knn</th>\n      <td id=\"T_9ca47_row7_col0\" class=\"data row7 col0\" >K Neighbors Regressor</td>\n      <td id=\"T_9ca47_row7_col1\" class=\"data row7 col1\" >1995747.8750</td>\n      <td id=\"T_9ca47_row7_col2\" class=\"data row7 col2\" >6856788585130.6670</td>\n      <td id=\"T_9ca47_row7_col3\" class=\"data row7 col3\" >2547228.3750</td>\n      <td id=\"T_9ca47_row7_col4\" class=\"data row7 col4\" >-1.3621</td>\n      <td id=\"T_9ca47_row7_col5\" class=\"data row7 col5\" >0.1769</td>\n      <td id=\"T_9ca47_row7_col6\" class=\"data row7 col6\" >0.1304</td>\n      <td id=\"T_9ca47_row7_col7\" class=\"data row7 col7\" >0.0167</td>\n    </tr>\n    <tr>\n      <th id=\"T_9ca47_level0_row8\" class=\"row_heading level0 row8\" >huber</th>\n      <td id=\"T_9ca47_row8_col0\" class=\"data row8 col0\" >Huber Regressor</td>\n      <td id=\"T_9ca47_row8_col1\" class=\"data row8 col1\" >2043485.6742</td>\n      <td id=\"T_9ca47_row8_col2\" class=\"data row8 col2\" >7910787860218.3740</td>\n      <td id=\"T_9ca47_row8_col3\" class=\"data row8 col3\" >2804971.0430</td>\n      <td id=\"T_9ca47_row8_col4\" class=\"data row8 col4\" >-2.0167</td>\n      <td id=\"T_9ca47_row8_col5\" class=\"data row8 col5\" >0.1904</td>\n      <td id=\"T_9ca47_row8_col6\" class=\"data row8 col6\" >0.1375</td>\n      <td id=\"T_9ca47_row8_col7\" class=\"data row8 col7\" >0.0267</td>\n    </tr>\n    <tr>\n      <th id=\"T_9ca47_level0_row9\" class=\"row_heading level0 row9\" >ridge</th>\n      <td id=\"T_9ca47_row9_col0\" class=\"data row9 col0\" >Ridge Regression</td>\n      <td id=\"T_9ca47_row9_col1\" class=\"data row9 col1\" >2161745.1667</td>\n      <td id=\"T_9ca47_row9_col2\" class=\"data row9 col2\" >15097206581930.6660</td>\n      <td id=\"T_9ca47_row9_col3\" class=\"data row9 col3\" >3571765.0000</td>\n      <td id=\"T_9ca47_row9_col4\" class=\"data row9 col4\" >-6.4013</td>\n      <td id=\"T_9ca47_row9_col5\" class=\"data row9 col5\" >0.2095</td>\n      <td id=\"T_9ca47_row9_col6\" class=\"data row9 col6\" >0.1465</td>\n      <td id=\"T_9ca47_row9_col7\" class=\"data row9 col7\" >0.0100</td>\n    </tr>\n    <tr>\n      <th id=\"T_9ca47_level0_row10\" class=\"row_heading level0 row10\" >br</th>\n      <td id=\"T_9ca47_row10_col0\" class=\"data row10 col0\" >Bayesian Ridge</td>\n      <td id=\"T_9ca47_row10_col1\" class=\"data row10 col1\" >2325973.4032</td>\n      <td id=\"T_9ca47_row10_col2\" class=\"data row10 col2\" >9091930478138.8203</td>\n      <td id=\"T_9ca47_row10_col3\" class=\"data row10 col3\" >3005294.3791</td>\n      <td id=\"T_9ca47_row10_col4\" class=\"data row10 col4\" >-2.4580</td>\n      <td id=\"T_9ca47_row10_col5\" class=\"data row10 col5\" >0.2333</td>\n      <td id=\"T_9ca47_row10_col6\" class=\"data row10 col6\" >0.1559</td>\n      <td id=\"T_9ca47_row10_col7\" class=\"data row10 col7\" >0.0133</td>\n    </tr>\n    <tr>\n      <th id=\"T_9ca47_level0_row11\" class=\"row_heading level0 row11\" >dummy</th>\n      <td id=\"T_9ca47_row11_col0\" class=\"data row11 col0\" >Dummy Regressor</td>\n      <td id=\"T_9ca47_row11_col1\" class=\"data row11 col1\" >2405936.9583</td>\n      <td id=\"T_9ca47_row11_col2\" class=\"data row11 col2\" >8759546303829.3330</td>\n      <td id=\"T_9ca47_row11_col3\" class=\"data row11 col3\" >2911492.5833</td>\n      <td id=\"T_9ca47_row11_col4\" class=\"data row11 col4\" >-2.2831</td>\n      <td id=\"T_9ca47_row11_col5\" class=\"data row11 col5\" >0.2018</td>\n      <td id=\"T_9ca47_row11_col6\" class=\"data row11 col6\" >0.1549</td>\n      <td id=\"T_9ca47_row11_col7\" class=\"data row11 col7\" >0.0100</td>\n    </tr>\n    <tr>\n      <th id=\"T_9ca47_level0_row12\" class=\"row_heading level0 row12\" >omp</th>\n      <td id=\"T_9ca47_row12_col0\" class=\"data row12 col0\" >Orthogonal Matching Pursuit</td>\n      <td id=\"T_9ca47_row12_col1\" class=\"data row12 col1\" >2637932.0342</td>\n      <td id=\"T_9ca47_row12_col2\" class=\"data row12 col2\" >77852835174793.0781</td>\n      <td id=\"T_9ca47_row12_col3\" class=\"data row12 col3\" >6458249.5310</td>\n      <td id=\"T_9ca47_row12_col4\" class=\"data row12 col4\" >-42.0090</td>\n      <td id=\"T_9ca47_row12_col5\" class=\"data row12 col5\" >0.2451</td>\n      <td id=\"T_9ca47_row12_col6\" class=\"data row12 col6\" >0.1818</td>\n      <td id=\"T_9ca47_row12_col7\" class=\"data row12 col7\" >0.0100</td>\n    </tr>\n    <tr>\n      <th id=\"T_9ca47_level0_row13\" class=\"row_heading level0 row13\" >par</th>\n      <td id=\"T_9ca47_row13_col0\" class=\"data row13 col0\" >Passive Aggressive Regressor</td>\n      <td id=\"T_9ca47_row13_col1\" class=\"data row13 col1\" >3013197.8882</td>\n      <td id=\"T_9ca47_row13_col2\" class=\"data row13 col2\" >12146194444903.5625</td>\n      <td id=\"T_9ca47_row13_col3\" class=\"data row13 col3\" >3468300.3417</td>\n      <td id=\"T_9ca47_row13_col4\" class=\"data row13 col4\" >-3.5889</td>\n      <td id=\"T_9ca47_row13_col5\" class=\"data row13 col5\" >0.2498</td>\n      <td id=\"T_9ca47_row13_col6\" class=\"data row13 col6\" >0.2019</td>\n      <td id=\"T_9ca47_row13_col7\" class=\"data row13 col7\" >0.0167</td>\n    </tr>\n    <tr>\n      <th id=\"T_9ca47_level0_row14\" class=\"row_heading level0 row14\" >llar</th>\n      <td id=\"T_9ca47_row14_col0\" class=\"data row14 col0\" >Lasso Least Angle Regression</td>\n      <td id=\"T_9ca47_row14_col1\" class=\"data row14 col1\" >3155945.1899</td>\n      <td id=\"T_9ca47_row14_col2\" class=\"data row14 col2\" >18374500276916.0430</td>\n      <td id=\"T_9ca47_row14_col3\" class=\"data row14 col3\" >3710854.9553</td>\n      <td id=\"T_9ca47_row14_col4\" class=\"data row14 col4\" >-8.3872</td>\n      <td id=\"T_9ca47_row14_col5\" class=\"data row14 col5\" >0.3041</td>\n      <td id=\"T_9ca47_row14_col6\" class=\"data row14 col6\" >0.2039</td>\n      <td id=\"T_9ca47_row14_col7\" class=\"data row14 col7\" >0.0167</td>\n    </tr>\n    <tr>\n      <th id=\"T_9ca47_level0_row15\" class=\"row_heading level0 row15\" >en</th>\n      <td id=\"T_9ca47_row15_col0\" class=\"data row15 col0\" >Elastic Net</td>\n      <td id=\"T_9ca47_row15_col1\" class=\"data row15 col1\" >3436017.9583</td>\n      <td id=\"T_9ca47_row15_col2\" class=\"data row15 col2\" >49311873236992.0000</td>\n      <td id=\"T_9ca47_row15_col3\" class=\"data row15 col3\" >5949316.8750</td>\n      <td id=\"T_9ca47_row15_col4\" class=\"data row15 col4\" >-24.0812</td>\n      <td id=\"T_9ca47_row15_col5\" class=\"data row15 col5\" >0.3259</td>\n      <td id=\"T_9ca47_row15_col6\" class=\"data row15 col6\" >0.2326</td>\n      <td id=\"T_9ca47_row15_col7\" class=\"data row15 col7\" >0.0100</td>\n    </tr>\n    <tr>\n      <th id=\"T_9ca47_level0_row16\" class=\"row_heading level0 row16\" >lasso</th>\n      <td id=\"T_9ca47_row16_col0\" class=\"data row16 col0\" >Lasso Regression</td>\n      <td id=\"T_9ca47_row16_col1\" class=\"data row16 col1\" >5800914.7500</td>\n      <td id=\"T_9ca47_row16_col2\" class=\"data row16 col2\" >354378285667669.3125</td>\n      <td id=\"T_9ca47_row16_col3\" class=\"data row16 col3\" >12681895.7500</td>\n      <td id=\"T_9ca47_row16_col4\" class=\"data row16 col4\" >-196.5195</td>\n      <td id=\"T_9ca47_row16_col5\" class=\"data row16 col5\" >0.5900</td>\n      <td id=\"T_9ca47_row16_col6\" class=\"data row16 col6\" >0.3892</td>\n      <td id=\"T_9ca47_row16_col7\" class=\"data row16 col7\" >0.0100</td>\n    </tr>\n    <tr>\n      <th id=\"T_9ca47_level0_row17\" class=\"row_heading level0 row17\" >lr</th>\n      <td id=\"T_9ca47_row17_col0\" class=\"data row17 col0\" >Linear Regression</td>\n      <td id=\"T_9ca47_row17_col1\" class=\"data row17 col1\" >7624651.1667</td>\n      <td id=\"T_9ca47_row17_col2\" class=\"data row17 col2\" >192602481623040.0000</td>\n      <td id=\"T_9ca47_row17_col3\" class=\"data row17 col3\" >11102512.5833</td>\n      <td id=\"T_9ca47_row17_col4\" class=\"data row17 col4\" >-101.7824</td>\n      <td id=\"T_9ca47_row17_col5\" class=\"data row17 col5\" >0.8308</td>\n      <td id=\"T_9ca47_row17_col6\" class=\"data row17 col6\" >0.5130</td>\n      <td id=\"T_9ca47_row17_col7\" class=\"data row17 col7\" >0.0133</td>\n    </tr>\n    <tr>\n      <th id=\"T_9ca47_level0_row18\" class=\"row_heading level0 row18\" >lar</th>\n      <td id=\"T_9ca47_row18_col0\" class=\"data row18 col0\" >Least Angle Regression</td>\n      <td id=\"T_9ca47_row18_col1\" class=\"data row18 col1\" >83945942067571415039606784.0000</td>\n      <td id=\"T_9ca47_row18_col2\" class=\"data row18 col2\" >35752074696043900035315301717823423989291652665573376.0000</td>\n      <td id=\"T_9ca47_row18_col3\" class=\"data row18 col3\" >109168628116180470478143488.0000</td>\n      <td id=\"T_9ca47_row18_col4\" class=\"data row18 col4\" >-13437400071882168198026024935300624547840.0000</td>\n      <td id=\"T_9ca47_row18_col5\" class=\"data row18 col5\" >33.7891</td>\n      <td id=\"T_9ca47_row18_col6\" class=\"data row18 col6\" >6772261035151162368.0000</td>\n      <td id=\"T_9ca47_row18_col7\" class=\"data row18 col7\" >0.0167</td>\n    </tr>\n  </tbody>\n</table>\n"
     },
     "metadata": {},
     "output_type": "display_data"
    },
    {
     "name": "stdout",
     "output_type": "stream",
     "text": [
      "<class 'sklearn.ensemble._forest.RandomForestRegressor'>\n"
     ]
    }
   ],
   "source": [
    "# run auto ml and get the most important features\n",
    "best = models.run_auto_ml(train_df, test_df, target_col, feature_cols, False, ml_criteria)"
   ],
   "metadata": {
    "collapsed": false,
    "pycharm": {
     "name": "#%%\n"
    }
   }
  },
  {
   "cell_type": "code",
   "execution_count": 145,
   "outputs": [],
   "source": [
    " # ml_features or corr_features\n",
    "if feature_selection == 'ml_features':\n",
    "    ml_features = models.get_important_features('xgboost', features_threshold)\n",
    "    feature_cols = ml_features['Feature'].tolist()\n",
    "elif feature_selection == 'corr_features':\n",
    "    feature_cols = corr_feature_cols\n",
    "else:\n",
    "    print(\"No feature selection. This could take a while!\")"
   ],
   "metadata": {
    "collapsed": false,
    "pycharm": {
     "name": "#%%\n"
    }
   }
  },
  {
   "cell_type": "code",
   "execution_count": 146,
   "outputs": [
    {
     "data": {
      "application/vnd.plotly.v1+json": {
       "data": [
        {
         "alignmentgroup": "True",
         "hovertemplate": "Variable Importance=%{x}<br>Feature=%{y}<extra></extra>",
         "legendgroup": "",
         "marker": {
          "color": "#636efa",
          "pattern": {
           "shape": ""
          }
         },
         "name": "",
         "offsetgroup": "",
         "orientation": "h",
         "showlegend": false,
         "textposition": "auto",
         "x": [
          9.5238815744E10,
          1.01654192128E11,
          1.15173957632E11,
          1.55707097088E11,
          1.853227008E11,
          1.87291516928E11,
          2.59227697152E11,
          7.43488356352E11,
          5.28404447232E12,
          5.421773881344E12
         ],
         "xaxis": "x",
         "y": [
          "WAAA",
          "DEXCAUS",
          "BUSINESS OWNER POLICY/5310 AGENCY REPORTING AND PROJECT MANAGEMENT/Loss % of BCB",
          "WORK COMP/5310 AGENCY REPORTING AND PROJECT MANAGEMENT/Loss Gating Calc - RW",
          "OTHER-INS/5310 AGENCY REPORTING AND PROJECT MANAGEMENT/Loss Gating Calc - RW",
          "LIFE/5310 AGENCY REPORTING AND PROJECT MANAGEMENT/Ancillary App Ending Base",
          "OTHER H&B REVENUE/5310 AGENCY REPORTING AND PROJECT MANAGEMENT/Employee Gains - RW",
          "W875RX1",
          "M1SL",
          "UNRATE"
         ],
         "yaxis": "y",
         "type": "bar"
        }
       ],
       "layout": {
        "template": {
         "data": {
          "histogram2dcontour": [
           {
            "type": "histogram2dcontour",
            "colorbar": {
             "outlinewidth": 0,
             "ticks": ""
            },
            "colorscale": [
             [
              0.0,
              "#0d0887"
             ],
             [
              0.1111111111111111,
              "#46039f"
             ],
             [
              0.2222222222222222,
              "#7201a8"
             ],
             [
              0.3333333333333333,
              "#9c179e"
             ],
             [
              0.4444444444444444,
              "#bd3786"
             ],
             [
              0.5555555555555556,
              "#d8576b"
             ],
             [
              0.6666666666666666,
              "#ed7953"
             ],
             [
              0.7777777777777778,
              "#fb9f3a"
             ],
             [
              0.8888888888888888,
              "#fdca26"
             ],
             [
              1.0,
              "#f0f921"
             ]
            ]
           }
          ],
          "choropleth": [
           {
            "type": "choropleth",
            "colorbar": {
             "outlinewidth": 0,
             "ticks": ""
            }
           }
          ],
          "histogram2d": [
           {
            "type": "histogram2d",
            "colorbar": {
             "outlinewidth": 0,
             "ticks": ""
            },
            "colorscale": [
             [
              0.0,
              "#0d0887"
             ],
             [
              0.1111111111111111,
              "#46039f"
             ],
             [
              0.2222222222222222,
              "#7201a8"
             ],
             [
              0.3333333333333333,
              "#9c179e"
             ],
             [
              0.4444444444444444,
              "#bd3786"
             ],
             [
              0.5555555555555556,
              "#d8576b"
             ],
             [
              0.6666666666666666,
              "#ed7953"
             ],
             [
              0.7777777777777778,
              "#fb9f3a"
             ],
             [
              0.8888888888888888,
              "#fdca26"
             ],
             [
              1.0,
              "#f0f921"
             ]
            ]
           }
          ],
          "heatmap": [
           {
            "type": "heatmap",
            "colorbar": {
             "outlinewidth": 0,
             "ticks": ""
            },
            "colorscale": [
             [
              0.0,
              "#0d0887"
             ],
             [
              0.1111111111111111,
              "#46039f"
             ],
             [
              0.2222222222222222,
              "#7201a8"
             ],
             [
              0.3333333333333333,
              "#9c179e"
             ],
             [
              0.4444444444444444,
              "#bd3786"
             ],
             [
              0.5555555555555556,
              "#d8576b"
             ],
             [
              0.6666666666666666,
              "#ed7953"
             ],
             [
              0.7777777777777778,
              "#fb9f3a"
             ],
             [
              0.8888888888888888,
              "#fdca26"
             ],
             [
              1.0,
              "#f0f921"
             ]
            ]
           }
          ],
          "heatmapgl": [
           {
            "type": "heatmapgl",
            "colorbar": {
             "outlinewidth": 0,
             "ticks": ""
            },
            "colorscale": [
             [
              0.0,
              "#0d0887"
             ],
             [
              0.1111111111111111,
              "#46039f"
             ],
             [
              0.2222222222222222,
              "#7201a8"
             ],
             [
              0.3333333333333333,
              "#9c179e"
             ],
             [
              0.4444444444444444,
              "#bd3786"
             ],
             [
              0.5555555555555556,
              "#d8576b"
             ],
             [
              0.6666666666666666,
              "#ed7953"
             ],
             [
              0.7777777777777778,
              "#fb9f3a"
             ],
             [
              0.8888888888888888,
              "#fdca26"
             ],
             [
              1.0,
              "#f0f921"
             ]
            ]
           }
          ],
          "contourcarpet": [
           {
            "type": "contourcarpet",
            "colorbar": {
             "outlinewidth": 0,
             "ticks": ""
            }
           }
          ],
          "contour": [
           {
            "type": "contour",
            "colorbar": {
             "outlinewidth": 0,
             "ticks": ""
            },
            "colorscale": [
             [
              0.0,
              "#0d0887"
             ],
             [
              0.1111111111111111,
              "#46039f"
             ],
             [
              0.2222222222222222,
              "#7201a8"
             ],
             [
              0.3333333333333333,
              "#9c179e"
             ],
             [
              0.4444444444444444,
              "#bd3786"
             ],
             [
              0.5555555555555556,
              "#d8576b"
             ],
             [
              0.6666666666666666,
              "#ed7953"
             ],
             [
              0.7777777777777778,
              "#fb9f3a"
             ],
             [
              0.8888888888888888,
              "#fdca26"
             ],
             [
              1.0,
              "#f0f921"
             ]
            ]
           }
          ],
          "surface": [
           {
            "type": "surface",
            "colorbar": {
             "outlinewidth": 0,
             "ticks": ""
            },
            "colorscale": [
             [
              0.0,
              "#0d0887"
             ],
             [
              0.1111111111111111,
              "#46039f"
             ],
             [
              0.2222222222222222,
              "#7201a8"
             ],
             [
              0.3333333333333333,
              "#9c179e"
             ],
             [
              0.4444444444444444,
              "#bd3786"
             ],
             [
              0.5555555555555556,
              "#d8576b"
             ],
             [
              0.6666666666666666,
              "#ed7953"
             ],
             [
              0.7777777777777778,
              "#fb9f3a"
             ],
             [
              0.8888888888888888,
              "#fdca26"
             ],
             [
              1.0,
              "#f0f921"
             ]
            ]
           }
          ],
          "mesh3d": [
           {
            "type": "mesh3d",
            "colorbar": {
             "outlinewidth": 0,
             "ticks": ""
            }
           }
          ],
          "scatter": [
           {
            "fillpattern": {
             "fillmode": "overlay",
             "size": 10,
             "solidity": 0.2
            },
            "type": "scatter"
           }
          ],
          "parcoords": [
           {
            "type": "parcoords",
            "line": {
             "colorbar": {
              "outlinewidth": 0,
              "ticks": ""
             }
            }
           }
          ],
          "scatterpolargl": [
           {
            "type": "scatterpolargl",
            "marker": {
             "colorbar": {
              "outlinewidth": 0,
              "ticks": ""
             }
            }
           }
          ],
          "bar": [
           {
            "error_x": {
             "color": "#2a3f5f"
            },
            "error_y": {
             "color": "#2a3f5f"
            },
            "marker": {
             "line": {
              "color": "#E5ECF6",
              "width": 0.5
             },
             "pattern": {
              "fillmode": "overlay",
              "size": 10,
              "solidity": 0.2
             }
            },
            "type": "bar"
           }
          ],
          "scattergeo": [
           {
            "type": "scattergeo",
            "marker": {
             "colorbar": {
              "outlinewidth": 0,
              "ticks": ""
             }
            }
           }
          ],
          "scatterpolar": [
           {
            "type": "scatterpolar",
            "marker": {
             "colorbar": {
              "outlinewidth": 0,
              "ticks": ""
             }
            }
           }
          ],
          "histogram": [
           {
            "marker": {
             "pattern": {
              "fillmode": "overlay",
              "size": 10,
              "solidity": 0.2
             }
            },
            "type": "histogram"
           }
          ],
          "scattergl": [
           {
            "type": "scattergl",
            "marker": {
             "colorbar": {
              "outlinewidth": 0,
              "ticks": ""
             }
            }
           }
          ],
          "scatter3d": [
           {
            "type": "scatter3d",
            "line": {
             "colorbar": {
              "outlinewidth": 0,
              "ticks": ""
             }
            },
            "marker": {
             "colorbar": {
              "outlinewidth": 0,
              "ticks": ""
             }
            }
           }
          ],
          "scattermapbox": [
           {
            "type": "scattermapbox",
            "marker": {
             "colorbar": {
              "outlinewidth": 0,
              "ticks": ""
             }
            }
           }
          ],
          "scatterternary": [
           {
            "type": "scatterternary",
            "marker": {
             "colorbar": {
              "outlinewidth": 0,
              "ticks": ""
             }
            }
           }
          ],
          "scattercarpet": [
           {
            "type": "scattercarpet",
            "marker": {
             "colorbar": {
              "outlinewidth": 0,
              "ticks": ""
             }
            }
           }
          ],
          "carpet": [
           {
            "aaxis": {
             "endlinecolor": "#2a3f5f",
             "gridcolor": "white",
             "linecolor": "white",
             "minorgridcolor": "white",
             "startlinecolor": "#2a3f5f"
            },
            "baxis": {
             "endlinecolor": "#2a3f5f",
             "gridcolor": "white",
             "linecolor": "white",
             "minorgridcolor": "white",
             "startlinecolor": "#2a3f5f"
            },
            "type": "carpet"
           }
          ],
          "table": [
           {
            "cells": {
             "fill": {
              "color": "#EBF0F8"
             },
             "line": {
              "color": "white"
             }
            },
            "header": {
             "fill": {
              "color": "#C8D4E3"
             },
             "line": {
              "color": "white"
             }
            },
            "type": "table"
           }
          ],
          "barpolar": [
           {
            "marker": {
             "line": {
              "color": "#E5ECF6",
              "width": 0.5
             },
             "pattern": {
              "fillmode": "overlay",
              "size": 10,
              "solidity": 0.2
             }
            },
            "type": "barpolar"
           }
          ],
          "pie": [
           {
            "automargin": true,
            "type": "pie"
           }
          ]
         },
         "layout": {
          "autotypenumbers": "strict",
          "colorway": [
           "#636efa",
           "#EF553B",
           "#00cc96",
           "#ab63fa",
           "#FFA15A",
           "#19d3f3",
           "#FF6692",
           "#B6E880",
           "#FF97FF",
           "#FECB52"
          ],
          "font": {
           "color": "#2a3f5f"
          },
          "hovermode": "closest",
          "hoverlabel": {
           "align": "left"
          },
          "paper_bgcolor": "white",
          "plot_bgcolor": "#E5ECF6",
          "polar": {
           "bgcolor": "#E5ECF6",
           "angularaxis": {
            "gridcolor": "white",
            "linecolor": "white",
            "ticks": ""
           },
           "radialaxis": {
            "gridcolor": "white",
            "linecolor": "white",
            "ticks": ""
           }
          },
          "ternary": {
           "bgcolor": "#E5ECF6",
           "aaxis": {
            "gridcolor": "white",
            "linecolor": "white",
            "ticks": ""
           },
           "baxis": {
            "gridcolor": "white",
            "linecolor": "white",
            "ticks": ""
           },
           "caxis": {
            "gridcolor": "white",
            "linecolor": "white",
            "ticks": ""
           }
          },
          "coloraxis": {
           "colorbar": {
            "outlinewidth": 0,
            "ticks": ""
           }
          },
          "colorscale": {
           "sequential": [
            [
             0.0,
             "#0d0887"
            ],
            [
             0.1111111111111111,
             "#46039f"
            ],
            [
             0.2222222222222222,
             "#7201a8"
            ],
            [
             0.3333333333333333,
             "#9c179e"
            ],
            [
             0.4444444444444444,
             "#bd3786"
            ],
            [
             0.5555555555555556,
             "#d8576b"
            ],
            [
             0.6666666666666666,
             "#ed7953"
            ],
            [
             0.7777777777777778,
             "#fb9f3a"
            ],
            [
             0.8888888888888888,
             "#fdca26"
            ],
            [
             1.0,
             "#f0f921"
            ]
           ],
           "sequentialminus": [
            [
             0.0,
             "#0d0887"
            ],
            [
             0.1111111111111111,
             "#46039f"
            ],
            [
             0.2222222222222222,
             "#7201a8"
            ],
            [
             0.3333333333333333,
             "#9c179e"
            ],
            [
             0.4444444444444444,
             "#bd3786"
            ],
            [
             0.5555555555555556,
             "#d8576b"
            ],
            [
             0.6666666666666666,
             "#ed7953"
            ],
            [
             0.7777777777777778,
             "#fb9f3a"
            ],
            [
             0.8888888888888888,
             "#fdca26"
            ],
            [
             1.0,
             "#f0f921"
            ]
           ],
           "diverging": [
            [
             0,
             "#8e0152"
            ],
            [
             0.1,
             "#c51b7d"
            ],
            [
             0.2,
             "#de77ae"
            ],
            [
             0.3,
             "#f1b6da"
            ],
            [
             0.4,
             "#fde0ef"
            ],
            [
             0.5,
             "#f7f7f7"
            ],
            [
             0.6,
             "#e6f5d0"
            ],
            [
             0.7,
             "#b8e186"
            ],
            [
             0.8,
             "#7fbc41"
            ],
            [
             0.9,
             "#4d9221"
            ],
            [
             1,
             "#276419"
            ]
           ]
          },
          "xaxis": {
           "gridcolor": "white",
           "linecolor": "white",
           "ticks": "",
           "title": {
            "standoff": 15
           },
           "zerolinecolor": "white",
           "automargin": true,
           "zerolinewidth": 2
          },
          "yaxis": {
           "gridcolor": "white",
           "linecolor": "white",
           "ticks": "",
           "title": {
            "standoff": 15
           },
           "zerolinecolor": "white",
           "automargin": true,
           "zerolinewidth": 2
          },
          "scene": {
           "xaxis": {
            "backgroundcolor": "#E5ECF6",
            "gridcolor": "white",
            "linecolor": "white",
            "showbackground": true,
            "ticks": "",
            "zerolinecolor": "white",
            "gridwidth": 2
           },
           "yaxis": {
            "backgroundcolor": "#E5ECF6",
            "gridcolor": "white",
            "linecolor": "white",
            "showbackground": true,
            "ticks": "",
            "zerolinecolor": "white",
            "gridwidth": 2
           },
           "zaxis": {
            "backgroundcolor": "#E5ECF6",
            "gridcolor": "white",
            "linecolor": "white",
            "showbackground": true,
            "ticks": "",
            "zerolinecolor": "white",
            "gridwidth": 2
           }
          },
          "shapedefaults": {
           "line": {
            "color": "#2a3f5f"
           }
          },
          "annotationdefaults": {
           "arrowcolor": "#2a3f5f",
           "arrowhead": 0,
           "arrowwidth": 1
          },
          "geo": {
           "bgcolor": "white",
           "landcolor": "#E5ECF6",
           "subunitcolor": "white",
           "showland": true,
           "showlakes": true,
           "lakecolor": "white"
          },
          "title": {
           "x": 0.05
          },
          "mapbox": {
           "style": "light"
          }
         }
        },
        "xaxis": {
         "anchor": "y",
         "domain": [
          0.0,
          1.0
         ],
         "title": {
          "text": "Variable Importance"
         }
        },
        "yaxis": {
         "anchor": "x",
         "domain": [
          0.0,
          1.0
         ],
         "title": {
          "text": "Feature"
         }
        },
        "legend": {
         "tracegroupgap": 0
        },
        "title": {
         "text": "Feature Importance Plot"
        },
        "barmode": "relative"
       },
       "config": {
        "plotlyServerURL": "https://plot.ly"
       }
      },
      "text/html": "<div>                            <div id=\"fbbae403-065d-4bfa-b946-22d619e7b4f9\" class=\"plotly-graph-div\" style=\"height:525px; width:100%;\"></div>            <script type=\"text/javascript\">                require([\"plotly\"], function(Plotly) {                    window.PLOTLYENV=window.PLOTLYENV || {};                                    if (document.getElementById(\"fbbae403-065d-4bfa-b946-22d619e7b4f9\")) {                    Plotly.newPlot(                        \"fbbae403-065d-4bfa-b946-22d619e7b4f9\",                        [{\"alignmentgroup\":\"True\",\"hovertemplate\":\"Variable Importance=%{x}<br>Feature=%{y}<extra></extra>\",\"legendgroup\":\"\",\"marker\":{\"color\":\"#636efa\",\"pattern\":{\"shape\":\"\"}},\"name\":\"\",\"offsetgroup\":\"\",\"orientation\":\"h\",\"showlegend\":false,\"textposition\":\"auto\",\"x\":[95238815744.0,101654192128.0,115173957632.0,155707097088.0,185322700800.0,187291516928.0,259227697152.0,743488356352.0,5284044472320.0,5421773881344.0],\"xaxis\":\"x\",\"y\":[\"WAAA\",\"DEXCAUS\",\"BUSINESS OWNER POLICY/5310 AGENCY REPORTING AND PROJECT MANAGEMENT/Loss % of BCB\",\"WORK COMP/5310 AGENCY REPORTING AND PROJECT MANAGEMENT/Loss Gating Calc - RW\",\"OTHER-INS/5310 AGENCY REPORTING AND PROJECT MANAGEMENT/Loss Gating Calc - RW\",\"LIFE/5310 AGENCY REPORTING AND PROJECT MANAGEMENT/Ancillary App Ending Base\",\"OTHER H&B REVENUE/5310 AGENCY REPORTING AND PROJECT MANAGEMENT/Employee Gains - RW\",\"W875RX1\",\"M1SL\",\"UNRATE\"],\"yaxis\":\"y\",\"type\":\"bar\"}],                        {\"template\":{\"data\":{\"histogram2dcontour\":[{\"type\":\"histogram2dcontour\",\"colorbar\":{\"outlinewidth\":0,\"ticks\":\"\"},\"colorscale\":[[0.0,\"#0d0887\"],[0.1111111111111111,\"#46039f\"],[0.2222222222222222,\"#7201a8\"],[0.3333333333333333,\"#9c179e\"],[0.4444444444444444,\"#bd3786\"],[0.5555555555555556,\"#d8576b\"],[0.6666666666666666,\"#ed7953\"],[0.7777777777777778,\"#fb9f3a\"],[0.8888888888888888,\"#fdca26\"],[1.0,\"#f0f921\"]]}],\"choropleth\":[{\"type\":\"choropleth\",\"colorbar\":{\"outlinewidth\":0,\"ticks\":\"\"}}],\"histogram2d\":[{\"type\":\"histogram2d\",\"colorbar\":{\"outlinewidth\":0,\"ticks\":\"\"},\"colorscale\":[[0.0,\"#0d0887\"],[0.1111111111111111,\"#46039f\"],[0.2222222222222222,\"#7201a8\"],[0.3333333333333333,\"#9c179e\"],[0.4444444444444444,\"#bd3786\"],[0.5555555555555556,\"#d8576b\"],[0.6666666666666666,\"#ed7953\"],[0.7777777777777778,\"#fb9f3a\"],[0.8888888888888888,\"#fdca26\"],[1.0,\"#f0f921\"]]}],\"heatmap\":[{\"type\":\"heatmap\",\"colorbar\":{\"outlinewidth\":0,\"ticks\":\"\"},\"colorscale\":[[0.0,\"#0d0887\"],[0.1111111111111111,\"#46039f\"],[0.2222222222222222,\"#7201a8\"],[0.3333333333333333,\"#9c179e\"],[0.4444444444444444,\"#bd3786\"],[0.5555555555555556,\"#d8576b\"],[0.6666666666666666,\"#ed7953\"],[0.7777777777777778,\"#fb9f3a\"],[0.8888888888888888,\"#fdca26\"],[1.0,\"#f0f921\"]]}],\"heatmapgl\":[{\"type\":\"heatmapgl\",\"colorbar\":{\"outlinewidth\":0,\"ticks\":\"\"},\"colorscale\":[[0.0,\"#0d0887\"],[0.1111111111111111,\"#46039f\"],[0.2222222222222222,\"#7201a8\"],[0.3333333333333333,\"#9c179e\"],[0.4444444444444444,\"#bd3786\"],[0.5555555555555556,\"#d8576b\"],[0.6666666666666666,\"#ed7953\"],[0.7777777777777778,\"#fb9f3a\"],[0.8888888888888888,\"#fdca26\"],[1.0,\"#f0f921\"]]}],\"contourcarpet\":[{\"type\":\"contourcarpet\",\"colorbar\":{\"outlinewidth\":0,\"ticks\":\"\"}}],\"contour\":[{\"type\":\"contour\",\"colorbar\":{\"outlinewidth\":0,\"ticks\":\"\"},\"colorscale\":[[0.0,\"#0d0887\"],[0.1111111111111111,\"#46039f\"],[0.2222222222222222,\"#7201a8\"],[0.3333333333333333,\"#9c179e\"],[0.4444444444444444,\"#bd3786\"],[0.5555555555555556,\"#d8576b\"],[0.6666666666666666,\"#ed7953\"],[0.7777777777777778,\"#fb9f3a\"],[0.8888888888888888,\"#fdca26\"],[1.0,\"#f0f921\"]]}],\"surface\":[{\"type\":\"surface\",\"colorbar\":{\"outlinewidth\":0,\"ticks\":\"\"},\"colorscale\":[[0.0,\"#0d0887\"],[0.1111111111111111,\"#46039f\"],[0.2222222222222222,\"#7201a8\"],[0.3333333333333333,\"#9c179e\"],[0.4444444444444444,\"#bd3786\"],[0.5555555555555556,\"#d8576b\"],[0.6666666666666666,\"#ed7953\"],[0.7777777777777778,\"#fb9f3a\"],[0.8888888888888888,\"#fdca26\"],[1.0,\"#f0f921\"]]}],\"mesh3d\":[{\"type\":\"mesh3d\",\"colorbar\":{\"outlinewidth\":0,\"ticks\":\"\"}}],\"scatter\":[{\"fillpattern\":{\"fillmode\":\"overlay\",\"size\":10,\"solidity\":0.2},\"type\":\"scatter\"}],\"parcoords\":[{\"type\":\"parcoords\",\"line\":{\"colorbar\":{\"outlinewidth\":0,\"ticks\":\"\"}}}],\"scatterpolargl\":[{\"type\":\"scatterpolargl\",\"marker\":{\"colorbar\":{\"outlinewidth\":0,\"ticks\":\"\"}}}],\"bar\":[{\"error_x\":{\"color\":\"#2a3f5f\"},\"error_y\":{\"color\":\"#2a3f5f\"},\"marker\":{\"line\":{\"color\":\"#E5ECF6\",\"width\":0.5},\"pattern\":{\"fillmode\":\"overlay\",\"size\":10,\"solidity\":0.2}},\"type\":\"bar\"}],\"scattergeo\":[{\"type\":\"scattergeo\",\"marker\":{\"colorbar\":{\"outlinewidth\":0,\"ticks\":\"\"}}}],\"scatterpolar\":[{\"type\":\"scatterpolar\",\"marker\":{\"colorbar\":{\"outlinewidth\":0,\"ticks\":\"\"}}}],\"histogram\":[{\"marker\":{\"pattern\":{\"fillmode\":\"overlay\",\"size\":10,\"solidity\":0.2}},\"type\":\"histogram\"}],\"scattergl\":[{\"type\":\"scattergl\",\"marker\":{\"colorbar\":{\"outlinewidth\":0,\"ticks\":\"\"}}}],\"scatter3d\":[{\"type\":\"scatter3d\",\"line\":{\"colorbar\":{\"outlinewidth\":0,\"ticks\":\"\"}},\"marker\":{\"colorbar\":{\"outlinewidth\":0,\"ticks\":\"\"}}}],\"scattermapbox\":[{\"type\":\"scattermapbox\",\"marker\":{\"colorbar\":{\"outlinewidth\":0,\"ticks\":\"\"}}}],\"scatterternary\":[{\"type\":\"scatterternary\",\"marker\":{\"colorbar\":{\"outlinewidth\":0,\"ticks\":\"\"}}}],\"scattercarpet\":[{\"type\":\"scattercarpet\",\"marker\":{\"colorbar\":{\"outlinewidth\":0,\"ticks\":\"\"}}}],\"carpet\":[{\"aaxis\":{\"endlinecolor\":\"#2a3f5f\",\"gridcolor\":\"white\",\"linecolor\":\"white\",\"minorgridcolor\":\"white\",\"startlinecolor\":\"#2a3f5f\"},\"baxis\":{\"endlinecolor\":\"#2a3f5f\",\"gridcolor\":\"white\",\"linecolor\":\"white\",\"minorgridcolor\":\"white\",\"startlinecolor\":\"#2a3f5f\"},\"type\":\"carpet\"}],\"table\":[{\"cells\":{\"fill\":{\"color\":\"#EBF0F8\"},\"line\":{\"color\":\"white\"}},\"header\":{\"fill\":{\"color\":\"#C8D4E3\"},\"line\":{\"color\":\"white\"}},\"type\":\"table\"}],\"barpolar\":[{\"marker\":{\"line\":{\"color\":\"#E5ECF6\",\"width\":0.5},\"pattern\":{\"fillmode\":\"overlay\",\"size\":10,\"solidity\":0.2}},\"type\":\"barpolar\"}],\"pie\":[{\"automargin\":true,\"type\":\"pie\"}]},\"layout\":{\"autotypenumbers\":\"strict\",\"colorway\":[\"#636efa\",\"#EF553B\",\"#00cc96\",\"#ab63fa\",\"#FFA15A\",\"#19d3f3\",\"#FF6692\",\"#B6E880\",\"#FF97FF\",\"#FECB52\"],\"font\":{\"color\":\"#2a3f5f\"},\"hovermode\":\"closest\",\"hoverlabel\":{\"align\":\"left\"},\"paper_bgcolor\":\"white\",\"plot_bgcolor\":\"#E5ECF6\",\"polar\":{\"bgcolor\":\"#E5ECF6\",\"angularaxis\":{\"gridcolor\":\"white\",\"linecolor\":\"white\",\"ticks\":\"\"},\"radialaxis\":{\"gridcolor\":\"white\",\"linecolor\":\"white\",\"ticks\":\"\"}},\"ternary\":{\"bgcolor\":\"#E5ECF6\",\"aaxis\":{\"gridcolor\":\"white\",\"linecolor\":\"white\",\"ticks\":\"\"},\"baxis\":{\"gridcolor\":\"white\",\"linecolor\":\"white\",\"ticks\":\"\"},\"caxis\":{\"gridcolor\":\"white\",\"linecolor\":\"white\",\"ticks\":\"\"}},\"coloraxis\":{\"colorbar\":{\"outlinewidth\":0,\"ticks\":\"\"}},\"colorscale\":{\"sequential\":[[0.0,\"#0d0887\"],[0.1111111111111111,\"#46039f\"],[0.2222222222222222,\"#7201a8\"],[0.3333333333333333,\"#9c179e\"],[0.4444444444444444,\"#bd3786\"],[0.5555555555555556,\"#d8576b\"],[0.6666666666666666,\"#ed7953\"],[0.7777777777777778,\"#fb9f3a\"],[0.8888888888888888,\"#fdca26\"],[1.0,\"#f0f921\"]],\"sequentialminus\":[[0.0,\"#0d0887\"],[0.1111111111111111,\"#46039f\"],[0.2222222222222222,\"#7201a8\"],[0.3333333333333333,\"#9c179e\"],[0.4444444444444444,\"#bd3786\"],[0.5555555555555556,\"#d8576b\"],[0.6666666666666666,\"#ed7953\"],[0.7777777777777778,\"#fb9f3a\"],[0.8888888888888888,\"#fdca26\"],[1.0,\"#f0f921\"]],\"diverging\":[[0,\"#8e0152\"],[0.1,\"#c51b7d\"],[0.2,\"#de77ae\"],[0.3,\"#f1b6da\"],[0.4,\"#fde0ef\"],[0.5,\"#f7f7f7\"],[0.6,\"#e6f5d0\"],[0.7,\"#b8e186\"],[0.8,\"#7fbc41\"],[0.9,\"#4d9221\"],[1,\"#276419\"]]},\"xaxis\":{\"gridcolor\":\"white\",\"linecolor\":\"white\",\"ticks\":\"\",\"title\":{\"standoff\":15},\"zerolinecolor\":\"white\",\"automargin\":true,\"zerolinewidth\":2},\"yaxis\":{\"gridcolor\":\"white\",\"linecolor\":\"white\",\"ticks\":\"\",\"title\":{\"standoff\":15},\"zerolinecolor\":\"white\",\"automargin\":true,\"zerolinewidth\":2},\"scene\":{\"xaxis\":{\"backgroundcolor\":\"#E5ECF6\",\"gridcolor\":\"white\",\"linecolor\":\"white\",\"showbackground\":true,\"ticks\":\"\",\"zerolinecolor\":\"white\",\"gridwidth\":2},\"yaxis\":{\"backgroundcolor\":\"#E5ECF6\",\"gridcolor\":\"white\",\"linecolor\":\"white\",\"showbackground\":true,\"ticks\":\"\",\"zerolinecolor\":\"white\",\"gridwidth\":2},\"zaxis\":{\"backgroundcolor\":\"#E5ECF6\",\"gridcolor\":\"white\",\"linecolor\":\"white\",\"showbackground\":true,\"ticks\":\"\",\"zerolinecolor\":\"white\",\"gridwidth\":2}},\"shapedefaults\":{\"line\":{\"color\":\"#2a3f5f\"}},\"annotationdefaults\":{\"arrowcolor\":\"#2a3f5f\",\"arrowhead\":0,\"arrowwidth\":1},\"geo\":{\"bgcolor\":\"white\",\"landcolor\":\"#E5ECF6\",\"subunitcolor\":\"white\",\"showland\":true,\"showlakes\":true,\"lakecolor\":\"white\"},\"title\":{\"x\":0.05},\"mapbox\":{\"style\":\"light\"}}},\"xaxis\":{\"anchor\":\"y\",\"domain\":[0.0,1.0],\"title\":{\"text\":\"Variable Importance\"}},\"yaxis\":{\"anchor\":\"x\",\"domain\":[0.0,1.0],\"title\":{\"text\":\"Feature\"}},\"legend\":{\"tracegroupgap\":0},\"title\":{\"text\":\"Feature Importance Plot\"},\"barmode\":\"relative\"},                        {\"responsive\": true}                    ).then(function(){\n                            \nvar gd = document.getElementById('fbbae403-065d-4bfa-b946-22d619e7b4f9');\nvar x = new MutationObserver(function (mutations, observer) {{\n        var display = window.getComputedStyle(gd).display;\n        if (!display || display === 'none') {{\n            console.log([gd, 'removed!']);\n            Plotly.purge(gd);\n            observer.disconnect();\n        }}\n}});\n\n// Listen for the removal of the full notebook cells\nvar notebookContainer = gd.closest('#notebook-container');\nif (notebookContainer) {{\n    x.observe(notebookContainer, {childList: true});\n}}\n\n// Listen for the clearing of the current output cell\nvar outputEl = gd.closest('.output');\nif (outputEl) {{\n    x.observe(outputEl, {childList: true});\n}}\n\n                        })                };                });            </script>        </div>"
     },
     "metadata": {},
     "output_type": "display_data"
    }
   ],
   "source": [
    "# ml_features = models.get_important_features('xgboost', features_threshold)\n",
    "# ml_feature_cols = ml_features['Feature'].tolist()\n",
    "\n",
    "if len(ml_features.index) != 0:\n",
    "    # plot the most important features\n",
    "    fig = px.bar(ml_features.sort_values('Variable Importance', ascending=True),\n",
    "                 x='Variable Importance',\n",
    "                 y='Feature',\n",
    "                 orientation='h',\n",
    "                 title='Feature Importance Plot')\n",
    "    fig.show()"
   ],
   "metadata": {
    "collapsed": false,
    "pycharm": {
     "name": "#%%\n"
    }
   }
  },
  {
   "cell_type": "code",
   "execution_count": 147,
   "outputs": [],
   "source": [
    "with open(model_path + '/{}_features.pkl'.format(target_col), \"wb\") as fp:   #Pickling\n",
    "    pickle.dump(feature_cols, fp)"
   ],
   "metadata": {
    "collapsed": false,
    "pycharm": {
     "name": "#%%\n"
    }
   }
  },
  {
   "cell_type": "code",
   "execution_count": 148,
   "outputs": [
    {
     "data": {
      "text/plain": "<pandas.io.formats.style.Styler at 0x19b82f94be0>",
      "text/html": "<style type=\"text/css\">\n#T_a6645 th {\n  text-align: left;\n}\n#T_a6645_row0_col0, #T_a6645_row1_col0, #T_a6645_row1_col1, #T_a6645_row1_col2, #T_a6645_row1_col3, #T_a6645_row1_col4, #T_a6645_row1_col5, #T_a6645_row1_col6, #T_a6645_row2_col0, #T_a6645_row2_col1, #T_a6645_row2_col2, #T_a6645_row2_col3, #T_a6645_row2_col4, #T_a6645_row2_col5, #T_a6645_row2_col6, #T_a6645_row3_col0, #T_a6645_row3_col1, #T_a6645_row3_col2, #T_a6645_row3_col3, #T_a6645_row3_col4, #T_a6645_row3_col5, #T_a6645_row3_col6, #T_a6645_row4_col0, #T_a6645_row4_col1, #T_a6645_row4_col2, #T_a6645_row4_col3, #T_a6645_row4_col4, #T_a6645_row4_col5, #T_a6645_row4_col6, #T_a6645_row5_col0, #T_a6645_row5_col1, #T_a6645_row5_col2, #T_a6645_row5_col3, #T_a6645_row5_col4, #T_a6645_row5_col5, #T_a6645_row5_col6, #T_a6645_row6_col0, #T_a6645_row6_col1, #T_a6645_row6_col2, #T_a6645_row6_col3, #T_a6645_row6_col4, #T_a6645_row6_col5, #T_a6645_row6_col6, #T_a6645_row7_col0, #T_a6645_row7_col1, #T_a6645_row7_col2, #T_a6645_row7_col3, #T_a6645_row7_col4, #T_a6645_row7_col5, #T_a6645_row7_col6, #T_a6645_row8_col0, #T_a6645_row8_col1, #T_a6645_row8_col2, #T_a6645_row8_col3, #T_a6645_row8_col4, #T_a6645_row8_col5, #T_a6645_row8_col6, #T_a6645_row9_col0, #T_a6645_row9_col1, #T_a6645_row9_col2, #T_a6645_row9_col3, #T_a6645_row9_col4, #T_a6645_row9_col5, #T_a6645_row9_col6, #T_a6645_row10_col0, #T_a6645_row10_col1, #T_a6645_row10_col2, #T_a6645_row10_col3, #T_a6645_row10_col4, #T_a6645_row10_col5, #T_a6645_row10_col6, #T_a6645_row11_col0, #T_a6645_row11_col1, #T_a6645_row11_col2, #T_a6645_row11_col3, #T_a6645_row11_col4, #T_a6645_row11_col5, #T_a6645_row11_col6, #T_a6645_row12_col0, #T_a6645_row12_col1, #T_a6645_row12_col2, #T_a6645_row12_col3, #T_a6645_row12_col4, #T_a6645_row12_col5, #T_a6645_row12_col6, #T_a6645_row13_col0, #T_a6645_row13_col1, #T_a6645_row13_col2, #T_a6645_row13_col3, #T_a6645_row13_col4, #T_a6645_row13_col5, #T_a6645_row13_col6, #T_a6645_row14_col0, #T_a6645_row14_col1, #T_a6645_row14_col2, #T_a6645_row14_col3, #T_a6645_row14_col4, #T_a6645_row14_col5, #T_a6645_row14_col6, #T_a6645_row15_col0, #T_a6645_row15_col1, #T_a6645_row15_col2, #T_a6645_row15_col3, #T_a6645_row15_col4, #T_a6645_row15_col5, #T_a6645_row15_col6, #T_a6645_row16_col0, #T_a6645_row16_col1, #T_a6645_row16_col2, #T_a6645_row16_col3, #T_a6645_row16_col4, #T_a6645_row16_col5, #T_a6645_row16_col6, #T_a6645_row17_col0, #T_a6645_row17_col1, #T_a6645_row17_col2, #T_a6645_row17_col3, #T_a6645_row17_col4, #T_a6645_row17_col5, #T_a6645_row17_col6, #T_a6645_row18_col0, #T_a6645_row18_col1, #T_a6645_row18_col2, #T_a6645_row18_col3, #T_a6645_row18_col4, #T_a6645_row18_col5, #T_a6645_row18_col6 {\n  text-align: left;\n}\n#T_a6645_row0_col1, #T_a6645_row0_col2, #T_a6645_row0_col3, #T_a6645_row0_col4, #T_a6645_row0_col5, #T_a6645_row0_col6 {\n  text-align: left;\n  background-color: yellow;\n}\n#T_a6645_row0_col7, #T_a6645_row1_col7, #T_a6645_row2_col7, #T_a6645_row3_col7, #T_a6645_row4_col7, #T_a6645_row5_col7, #T_a6645_row6_col7, #T_a6645_row7_col7, #T_a6645_row9_col7, #T_a6645_row11_col7, #T_a6645_row12_col7, #T_a6645_row13_col7, #T_a6645_row14_col7, #T_a6645_row15_col7, #T_a6645_row16_col7, #T_a6645_row17_col7, #T_a6645_row18_col7 {\n  text-align: left;\n  background-color: lightgrey;\n}\n#T_a6645_row8_col7, #T_a6645_row10_col7 {\n  text-align: left;\n  background-color: yellow;\n  background-color: lightgrey;\n}\n</style>\n<table id=\"T_a6645\">\n  <thead>\n    <tr>\n      <th class=\"blank level0\" >&nbsp;</th>\n      <th id=\"T_a6645_level0_col0\" class=\"col_heading level0 col0\" >Model</th>\n      <th id=\"T_a6645_level0_col1\" class=\"col_heading level0 col1\" >MAE</th>\n      <th id=\"T_a6645_level0_col2\" class=\"col_heading level0 col2\" >MSE</th>\n      <th id=\"T_a6645_level0_col3\" class=\"col_heading level0 col3\" >RMSE</th>\n      <th id=\"T_a6645_level0_col4\" class=\"col_heading level0 col4\" >R2</th>\n      <th id=\"T_a6645_level0_col5\" class=\"col_heading level0 col5\" >RMSLE</th>\n      <th id=\"T_a6645_level0_col6\" class=\"col_heading level0 col6\" >MAPE</th>\n      <th id=\"T_a6645_level0_col7\" class=\"col_heading level0 col7\" >TT (Sec)</th>\n    </tr>\n  </thead>\n  <tbody>\n    <tr>\n      <th id=\"T_a6645_level0_row0\" class=\"row_heading level0 row0\" >br</th>\n      <td id=\"T_a6645_row0_col0\" class=\"data row0 col0\" >Bayesian Ridge</td>\n      <td id=\"T_a6645_row0_col1\" class=\"data row0 col1\" >1030174.8155</td>\n      <td id=\"T_a6645_row0_col2\" class=\"data row0 col2\" >2754735252693.1084</td>\n      <td id=\"T_a6645_row0_col3\" class=\"data row0 col3\" >1647041.9385</td>\n      <td id=\"T_a6645_row0_col4\" class=\"data row0 col4\" >-0.0209</td>\n      <td id=\"T_a6645_row0_col5\" class=\"data row0 col5\" >0.1038</td>\n      <td id=\"T_a6645_row0_col6\" class=\"data row0 col6\" >0.0658</td>\n      <td id=\"T_a6645_row0_col7\" class=\"data row0 col7\" >0.0133</td>\n    </tr>\n    <tr>\n      <th id=\"T_a6645_level0_row1\" class=\"row_heading level0 row1\" >et</th>\n      <td id=\"T_a6645_row1_col0\" class=\"data row1 col0\" >Extra Trees Regressor</td>\n      <td id=\"T_a6645_row1_col1\" class=\"data row1 col1\" >1219117.5380</td>\n      <td id=\"T_a6645_row1_col2\" class=\"data row1 col2\" >3316913039366.7710</td>\n      <td id=\"T_a6645_row1_col3\" class=\"data row1 col3\" >1810517.4044</td>\n      <td id=\"T_a6645_row1_col4\" class=\"data row1 col4\" >-0.2385</td>\n      <td id=\"T_a6645_row1_col5\" class=\"data row1 col5\" >0.1162</td>\n      <td id=\"T_a6645_row1_col6\" class=\"data row1 col6\" >0.0796</td>\n      <td id=\"T_a6645_row1_col7\" class=\"data row1 col7\" >0.0867</td>\n    </tr>\n    <tr>\n      <th id=\"T_a6645_level0_row2\" class=\"row_heading level0 row2\" >rf</th>\n      <td id=\"T_a6645_row2_col0\" class=\"data row2 col0\" >Random Forest Regressor</td>\n      <td id=\"T_a6645_row2_col1\" class=\"data row2 col1\" >1241692.2450</td>\n      <td id=\"T_a6645_row2_col2\" class=\"data row2 col2\" >3603863027806.9648</td>\n      <td id=\"T_a6645_row2_col3\" class=\"data row2 col3\" >1885333.1984</td>\n      <td id=\"T_a6645_row2_col4\" class=\"data row2 col4\" >-0.3412</td>\n      <td id=\"T_a6645_row2_col5\" class=\"data row2 col5\" >0.1213</td>\n      <td id=\"T_a6645_row2_col6\" class=\"data row2 col6\" >0.0798</td>\n      <td id=\"T_a6645_row2_col7\" class=\"data row2 col7\" >0.1067</td>\n    </tr>\n    <tr>\n      <th id=\"T_a6645_level0_row3\" class=\"row_heading level0 row3\" >gbr</th>\n      <td id=\"T_a6645_row3_col0\" class=\"data row3 col0\" >Gradient Boosting Regressor</td>\n      <td id=\"T_a6645_row3_col1\" class=\"data row3 col1\" >1424121.7701</td>\n      <td id=\"T_a6645_row3_col2\" class=\"data row3 col2\" >4222243313242.5210</td>\n      <td id=\"T_a6645_row3_col3\" class=\"data row3 col3\" >2036110.5922</td>\n      <td id=\"T_a6645_row3_col4\" class=\"data row3 col4\" >-0.5488</td>\n      <td id=\"T_a6645_row3_col5\" class=\"data row3 col5\" >0.1324</td>\n      <td id=\"T_a6645_row3_col6\" class=\"data row3 col6\" >0.0916</td>\n      <td id=\"T_a6645_row3_col7\" class=\"data row3 col7\" >0.0300</td>\n    </tr>\n    <tr>\n      <th id=\"T_a6645_level0_row4\" class=\"row_heading level0 row4\" >xgboost</th>\n      <td id=\"T_a6645_row4_col0\" class=\"data row4 col0\" >Extreme Gradient Boosting</td>\n      <td id=\"T_a6645_row4_col1\" class=\"data row4 col1\" >1481980.0000</td>\n      <td id=\"T_a6645_row4_col2\" class=\"data row4 col2\" >3924637428394.6665</td>\n      <td id=\"T_a6645_row4_col3\" class=\"data row4 col3\" >1975054.5417</td>\n      <td id=\"T_a6645_row4_col4\" class=\"data row4 col4\" >-0.5138</td>\n      <td id=\"T_a6645_row4_col5\" class=\"data row4 col5\" >0.1301</td>\n      <td id=\"T_a6645_row4_col6\" class=\"data row4 col6\" >0.0969</td>\n      <td id=\"T_a6645_row4_col7\" class=\"data row4 col7\" >0.0767</td>\n    </tr>\n    <tr>\n      <th id=\"T_a6645_level0_row5\" class=\"row_heading level0 row5\" >knn</th>\n      <td id=\"T_a6645_row5_col0\" class=\"data row5 col0\" >K Neighbors Regressor</td>\n      <td id=\"T_a6645_row5_col1\" class=\"data row5 col1\" >1557522.9583</td>\n      <td id=\"T_a6645_row5_col2\" class=\"data row5 col2\" >4653962581333.3330</td>\n      <td id=\"T_a6645_row5_col3\" class=\"data row5 col3\" >2102220.2500</td>\n      <td id=\"T_a6645_row5_col4\" class=\"data row5 col4\" >-0.6144</td>\n      <td id=\"T_a6645_row5_col5\" class=\"data row5 col5\" >0.1401</td>\n      <td id=\"T_a6645_row5_col6\" class=\"data row5 col6\" >0.1010</td>\n      <td id=\"T_a6645_row5_col7\" class=\"data row5 col7\" >0.0133</td>\n    </tr>\n    <tr>\n      <th id=\"T_a6645_level0_row6\" class=\"row_heading level0 row6\" >par</th>\n      <td id=\"T_a6645_row6_col0\" class=\"data row6 col0\" >Passive Aggressive Regressor</td>\n      <td id=\"T_a6645_row6_col1\" class=\"data row6 col1\" >1630325.9594</td>\n      <td id=\"T_a6645_row6_col2\" class=\"data row6 col2\" >6094448751817.0791</td>\n      <td id=\"T_a6645_row6_col3\" class=\"data row6 col3\" >2428928.1861</td>\n      <td id=\"T_a6645_row6_col4\" class=\"data row6 col4\" >-1.6080</td>\n      <td id=\"T_a6645_row6_col5\" class=\"data row6 col5\" >0.1488</td>\n      <td id=\"T_a6645_row6_col6\" class=\"data row6 col6\" >0.1066</td>\n      <td id=\"T_a6645_row6_col7\" class=\"data row6 col7\" >0.0100</td>\n    </tr>\n    <tr>\n      <th id=\"T_a6645_level0_row7\" class=\"row_heading level0 row7\" >ada</th>\n      <td id=\"T_a6645_row7_col0\" class=\"data row7 col0\" >AdaBoost Regressor</td>\n      <td id=\"T_a6645_row7_col1\" class=\"data row7 col1\" >1650511.6649</td>\n      <td id=\"T_a6645_row7_col2\" class=\"data row7 col2\" >5509550363094.6953</td>\n      <td id=\"T_a6645_row7_col3\" class=\"data row7 col3\" >2303954.2175</td>\n      <td id=\"T_a6645_row7_col4\" class=\"data row7 col4\" >-0.9764</td>\n      <td id=\"T_a6645_row7_col5\" class=\"data row7 col5\" >0.1489</td>\n      <td id=\"T_a6645_row7_col6\" class=\"data row7 col6\" >0.1050</td>\n      <td id=\"T_a6645_row7_col7\" class=\"data row7 col7\" >0.0400</td>\n    </tr>\n    <tr>\n      <th id=\"T_a6645_level0_row8\" class=\"row_heading level0 row8\" >dt</th>\n      <td id=\"T_a6645_row8_col0\" class=\"data row8 col0\" >Decision Tree Regressor</td>\n      <td id=\"T_a6645_row8_col1\" class=\"data row8 col1\" >1889992.9815</td>\n      <td id=\"T_a6645_row8_col2\" class=\"data row8 col2\" >6992548576613.7217</td>\n      <td id=\"T_a6645_row8_col3\" class=\"data row8 col3\" >2499643.2490</td>\n      <td id=\"T_a6645_row8_col4\" class=\"data row8 col4\" >-1.2783</td>\n      <td id=\"T_a6645_row8_col5\" class=\"data row8 col5\" >0.1653</td>\n      <td id=\"T_a6645_row8_col6\" class=\"data row8 col6\" >0.1208</td>\n      <td id=\"T_a6645_row8_col7\" class=\"data row8 col7\" >0.0067</td>\n    </tr>\n    <tr>\n      <th id=\"T_a6645_level0_row9\" class=\"row_heading level0 row9\" >lightgbm</th>\n      <td id=\"T_a6645_row9_col0\" class=\"data row9 col0\" >Light Gradient Boosting Machine</td>\n      <td id=\"T_a6645_row9_col1\" class=\"data row9 col1\" >1930090.0474</td>\n      <td id=\"T_a6645_row9_col2\" class=\"data row9 col2\" >6843111085237.4795</td>\n      <td id=\"T_a6645_row9_col3\" class=\"data row9 col3\" >2465127.1623</td>\n      <td id=\"T_a6645_row9_col4\" class=\"data row9 col4\" >-1.2058</td>\n      <td id=\"T_a6645_row9_col5\" class=\"data row9 col5\" >0.1697</td>\n      <td id=\"T_a6645_row9_col6\" class=\"data row9 col6\" >0.1258</td>\n      <td id=\"T_a6645_row9_col7\" class=\"data row9 col7\" >0.0200</td>\n    </tr>\n    <tr>\n      <th id=\"T_a6645_level0_row10\" class=\"row_heading level0 row10\" >en</th>\n      <td id=\"T_a6645_row10_col0\" class=\"data row10 col0\" >Elastic Net</td>\n      <td id=\"T_a6645_row10_col1\" class=\"data row10 col1\" >2108115.3333</td>\n      <td id=\"T_a6645_row10_col2\" class=\"data row10 col2\" >59952181368149.3359</td>\n      <td id=\"T_a6645_row10_col3\" class=\"data row10 col3\" >5598650.9583</td>\n      <td id=\"T_a6645_row10_col4\" class=\"data row10 col4\" >-32.1409</td>\n      <td id=\"T_a6645_row10_col5\" class=\"data row10 col5\" >0.2043</td>\n      <td id=\"T_a6645_row10_col6\" class=\"data row10 col6\" >0.1411</td>\n      <td id=\"T_a6645_row10_col7\" class=\"data row10 col7\" >0.0067</td>\n    </tr>\n    <tr>\n      <th id=\"T_a6645_level0_row11\" class=\"row_heading level0 row11\" >ridge</th>\n      <td id=\"T_a6645_row11_col0\" class=\"data row11 col0\" >Ridge Regression</td>\n      <td id=\"T_a6645_row11_col1\" class=\"data row11 col1\" >2264079.5417</td>\n      <td id=\"T_a6645_row11_col2\" class=\"data row11 col2\" >60344747775317.3359</td>\n      <td id=\"T_a6645_row11_col3\" class=\"data row11 col3\" >5738941.8750</td>\n      <td id=\"T_a6645_row11_col4\" class=\"data row11 col4\" >-32.2359</td>\n      <td id=\"T_a6645_row11_col5\" class=\"data row11 col5\" >0.2176</td>\n      <td id=\"T_a6645_row11_col6\" class=\"data row11 col6\" >0.1529</td>\n      <td id=\"T_a6645_row11_col7\" class=\"data row11 col7\" >0.0100</td>\n    </tr>\n    <tr>\n      <th id=\"T_a6645_level0_row12\" class=\"row_heading level0 row12\" >huber</th>\n      <td id=\"T_a6645_row12_col0\" class=\"data row12 col0\" >Huber Regressor</td>\n      <td id=\"T_a6645_row12_col1\" class=\"data row12 col1\" >2361980.3247</td>\n      <td id=\"T_a6645_row12_col2\" class=\"data row12 col2\" >96097835222640.0781</td>\n      <td id=\"T_a6645_row12_col3\" class=\"data row12 col3\" >6711439.4636</td>\n      <td id=\"T_a6645_row12_col4\" class=\"data row12 col4\" >-52.5271</td>\n      <td id=\"T_a6645_row12_col5\" class=\"data row12 col5\" >0.2127</td>\n      <td id=\"T_a6645_row12_col6\" class=\"data row12 col6\" >0.1586</td>\n      <td id=\"T_a6645_row12_col7\" class=\"data row12 col7\" >0.0267</td>\n    </tr>\n    <tr>\n      <th id=\"T_a6645_level0_row13\" class=\"row_heading level0 row13\" >dummy</th>\n      <td id=\"T_a6645_row13_col0\" class=\"data row13 col0\" >Dummy Regressor</td>\n      <td id=\"T_a6645_row13_col1\" class=\"data row13 col1\" >2405936.9583</td>\n      <td id=\"T_a6645_row13_col2\" class=\"data row13 col2\" >8759546303829.3330</td>\n      <td id=\"T_a6645_row13_col3\" class=\"data row13 col3\" >2911492.5833</td>\n      <td id=\"T_a6645_row13_col4\" class=\"data row13 col4\" >-2.2831</td>\n      <td id=\"T_a6645_row13_col5\" class=\"data row13 col5\" >0.2018</td>\n      <td id=\"T_a6645_row13_col6\" class=\"data row13 col6\" >0.1549</td>\n      <td id=\"T_a6645_row13_col7\" class=\"data row13 col7\" >0.0100</td>\n    </tr>\n    <tr>\n      <th id=\"T_a6645_level0_row14\" class=\"row_heading level0 row14\" >omp</th>\n      <td id=\"T_a6645_row14_col0\" class=\"data row14 col0\" >Orthogonal Matching Pursuit</td>\n      <td id=\"T_a6645_row14_col1\" class=\"data row14 col1\" >2556882.1400</td>\n      <td id=\"T_a6645_row14_col2\" class=\"data row14 col2\" >99059027305221.4844</td>\n      <td id=\"T_a6645_row14_col3\" class=\"data row14 col3\" >6899707.9033</td>\n      <td id=\"T_a6645_row14_col4\" class=\"data row14 col4\" >-54.1128</td>\n      <td id=\"T_a6645_row14_col5\" class=\"data row14 col5\" >0.2250</td>\n      <td id=\"T_a6645_row14_col6\" class=\"data row14 col6\" >0.1735</td>\n      <td id=\"T_a6645_row14_col7\" class=\"data row14 col7\" >0.0100</td>\n    </tr>\n    <tr>\n      <th id=\"T_a6645_level0_row15\" class=\"row_heading level0 row15\" >llar</th>\n      <td id=\"T_a6645_row15_col0\" class=\"data row15 col0\" >Lasso Least Angle Regression</td>\n      <td id=\"T_a6645_row15_col1\" class=\"data row15 col1\" >2896079.9650</td>\n      <td id=\"T_a6645_row15_col2\" class=\"data row15 col2\" >17102814295752.4297</td>\n      <td id=\"T_a6645_row15_col3\" class=\"data row15 col3\" >4015988.2264</td>\n      <td id=\"T_a6645_row15_col4\" class=\"data row15 col4\" >-6.8260</td>\n      <td id=\"T_a6645_row15_col5\" class=\"data row15 col5\" >0.3070</td>\n      <td id=\"T_a6645_row15_col6\" class=\"data row15 col6\" >0.2021</td>\n      <td id=\"T_a6645_row15_col7\" class=\"data row15 col7\" >0.0100</td>\n    </tr>\n    <tr>\n      <th id=\"T_a6645_level0_row16\" class=\"row_heading level0 row16\" >lr</th>\n      <td id=\"T_a6645_row16_col0\" class=\"data row16 col0\" >Linear Regression</td>\n      <td id=\"T_a6645_row16_col1\" class=\"data row16 col1\" >2896195.9167</td>\n      <td id=\"T_a6645_row16_col2\" class=\"data row16 col2\" >17106927790762.6660</td>\n      <td id=\"T_a6645_row16_col3\" class=\"data row16 col3\" >4016354.6667</td>\n      <td id=\"T_a6645_row16_col4\" class=\"data row16 col4\" >-6.8284</td>\n      <td id=\"T_a6645_row16_col5\" class=\"data row16 col5\" >0.3072</td>\n      <td id=\"T_a6645_row16_col6\" class=\"data row16 col6\" >0.2021</td>\n      <td id=\"T_a6645_row16_col7\" class=\"data row16 col7\" >0.0100</td>\n    </tr>\n    <tr>\n      <th id=\"T_a6645_level0_row17\" class=\"row_heading level0 row17\" >lasso</th>\n      <td id=\"T_a6645_row17_col0\" class=\"data row17 col0\" >Lasso Regression</td>\n      <td id=\"T_a6645_row17_col1\" class=\"data row17 col1\" >2896797.0000</td>\n      <td id=\"T_a6645_row17_col2\" class=\"data row17 col2\" >17113827770368.0000</td>\n      <td id=\"T_a6645_row17_col3\" class=\"data row17 col3\" >4017167.6667</td>\n      <td id=\"T_a6645_row17_col4\" class=\"data row17 col4\" >-6.8316</td>\n      <td id=\"T_a6645_row17_col5\" class=\"data row17 col5\" >0.3073</td>\n      <td id=\"T_a6645_row17_col6\" class=\"data row17 col6\" >0.2022</td>\n      <td id=\"T_a6645_row17_col7\" class=\"data row17 col7\" >0.0100</td>\n    </tr>\n    <tr>\n      <th id=\"T_a6645_level0_row18\" class=\"row_heading level0 row18\" >lar</th>\n      <td id=\"T_a6645_row18_col0\" class=\"data row18 col0\" >Least Angle Regression</td>\n      <td id=\"T_a6645_row18_col1\" class=\"data row18 col1\" >3175584.3365</td>\n      <td id=\"T_a6645_row18_col2\" class=\"data row18 col2\" >19391711005307.7969</td>\n      <td id=\"T_a6645_row18_col3\" class=\"data row18 col3\" >4318075.0485</td>\n      <td id=\"T_a6645_row18_col4\" class=\"data row18 col4\" >-7.6872</td>\n      <td id=\"T_a6645_row18_col5\" class=\"data row18 col5\" >0.3413</td>\n      <td id=\"T_a6645_row18_col6\" class=\"data row18 col6\" >0.2233</td>\n      <td id=\"T_a6645_row18_col7\" class=\"data row18 col7\" >0.0100</td>\n    </tr>\n  </tbody>\n</table>\n"
     },
     "metadata": {},
     "output_type": "display_data"
    },
    {
     "name": "stdout",
     "output_type": "stream",
     "text": [
      "<class 'sklearn.linear_model._bayes.BayesianRidge'>\n"
     ]
    }
   ],
   "source": [
    "# ------------------------------------------------------------------------------------- #\n",
    "# re-run the auto ml with only the important features\n",
    "# ------------------------------------------------------------------------------------- #\n",
    "\n",
    "\n",
    "# Here we need to figure out which set of features we want to use\n",
    "# ml_features or corr_features\n",
    "#feature_cols = ml_feature_cols\n",
    "#feature_cols = corr_feature_cols\n",
    "\n",
    "#feature_cols = ml_feature_cols\n",
    "#keeps = ['Calendar Date', target_col]+feature_cols\n",
    "keeps = [target_col]+feature_cols\n",
    "train_df = train_df[keeps]\n",
    "test_df = test_df[keeps]\n",
    "#comb_df = comb_df[keeps]\n",
    "\n",
    "best = models.run_auto_ml(train_df, test_df, target_col, feature_cols, False, ml_criteria)"
   ],
   "metadata": {
    "collapsed": false,
    "pycharm": {
     "name": "#%%\n"
    }
   }
  },
  {
   "cell_type": "code",
   "execution_count": 149,
   "outputs": [
    {
     "name": "stdout",
     "output_type": "stream",
     "text": [
      "Transformation Pipeline and Model Successfully Saved\n"
     ]
    }
   ],
   "source": [
    "pipeline, name = save_model(best, model_path + '/{}_model'.format(target_col))"
   ],
   "metadata": {
    "collapsed": false,
    "pycharm": {
     "name": "#%%\n"
    }
   }
  },
  {
   "cell_type": "code",
   "execution_count": 24,
   "outputs": [
    {
     "data": {
      "application/vnd.plotly.v1+json": {
       "data": [
        {
         "hovertemplate": "variable=Service Revenue<br>Date=%{x}<br>value=%{y}<extra></extra>",
         "legendgroup": "Service Revenue",
         "line": {
          "color": "#636efa",
          "dash": "solid"
         },
         "marker": {
          "symbol": "circle"
         },
         "mode": "lines",
         "name": "Service Revenue",
         "orientation": "v",
         "showlegend": true,
         "x": [
          "2014-06-01T00:00:00",
          "2014-07-01T00:00:00",
          "2014-08-01T00:00:00",
          "2014-09-01T00:00:00",
          "2014-10-01T00:00:00",
          "2014-11-01T00:00:00",
          "2014-12-01T00:00:00",
          "2015-01-01T00:00:00",
          "2015-02-01T00:00:00",
          "2015-03-01T00:00:00",
          "2015-04-01T00:00:00",
          "2015-05-01T00:00:00",
          "2015-06-01T00:00:00",
          "2015-07-01T00:00:00",
          "2015-08-01T00:00:00",
          "2015-09-01T00:00:00",
          "2015-10-01T00:00:00",
          "2015-11-01T00:00:00",
          "2015-12-01T00:00:00",
          "2016-01-01T00:00:00",
          "2016-02-01T00:00:00",
          "2016-03-01T00:00:00",
          "2016-04-01T00:00:00",
          "2016-05-01T00:00:00",
          "2016-06-01T00:00:00",
          "2016-07-01T00:00:00",
          "2016-08-01T00:00:00",
          "2016-09-01T00:00:00",
          "2016-10-01T00:00:00",
          "2016-11-01T00:00:00",
          "2016-12-01T00:00:00",
          "2017-01-01T00:00:00",
          "2017-02-01T00:00:00",
          "2017-03-01T00:00:00",
          "2017-04-01T00:00:00",
          "2017-05-01T00:00:00",
          "2017-06-01T00:00:00",
          "2017-07-01T00:00:00",
          "2017-08-01T00:00:00",
          "2017-09-01T00:00:00",
          "2017-10-01T00:00:00",
          "2017-11-01T00:00:00",
          "2017-12-01T00:00:00",
          "2018-01-01T00:00:00",
          "2018-02-01T00:00:00",
          "2018-03-01T00:00:00",
          "2018-04-01T00:00:00",
          "2018-05-01T00:00:00",
          "2018-06-01T00:00:00",
          "2018-07-01T00:00:00",
          "2018-08-01T00:00:00",
          "2018-09-01T00:00:00",
          "2018-10-01T00:00:00",
          "2018-11-01T00:00:00",
          "2018-12-01T00:00:00",
          "2019-01-01T00:00:00",
          "2019-02-01T00:00:00",
          "2019-03-01T00:00:00",
          "2019-04-01T00:00:00",
          "2019-05-01T00:00:00",
          "2019-06-01T00:00:00",
          "2019-07-01T00:00:00",
          "2019-08-01T00:00:00",
          "2019-09-01T00:00:00",
          "2019-10-01T00:00:00",
          "2019-11-01T00:00:00",
          "2019-12-01T00:00:00",
          "2020-01-01T00:00:00",
          "2020-02-01T00:00:00",
          "2020-03-01T00:00:00",
          "2020-04-01T00:00:00",
          "2020-05-01T00:00:00",
          "2020-06-01T00:00:00",
          "2020-07-01T00:00:00",
          "2020-08-01T00:00:00",
          "2020-09-01T00:00:00",
          "2020-10-01T00:00:00",
          "2020-11-01T00:00:00",
          "2020-12-01T00:00:00",
          "2021-01-01T00:00:00",
          "2021-02-01T00:00:00",
          "2021-03-01T00:00:00",
          "2021-04-01T00:00:00",
          "2021-05-01T00:00:00"
         ],
         "xaxis": "x",
         "y": [
          2.0412643245999998E8,
          2.4489549054E8,
          2.0760902306E8,
          2.0299825424E8,
          2.5498726607999998E8,
          2.0786671635999998E8,
          2.1520171782E8,
          2.6834542484E8,
          2.1009757709E8,
          2.0402502016E8,
          2.5588500387E8,
          2.2156496385000002E8,
          2.1353274491E8,
          2.6949058951E8,
          2.2742865738E8,
          2.6060093687E8,
          2.2791726746E8,
          2.2103446728E8,
          2.3121871435999998E8,
          2.8471579319E8,
          2.2275252424E8,
          2.6409796735E8,
          2.3571650031E8,
          2.4016981599E8,
          2.6132290619E8,
          2.4442525773E8,
          2.6680540051000002E8,
          2.4701361679E8,
          2.5227353674E8,
          2.5896526983E8,
          2.6165487398E8,
          2.7528575797E8,
          2.4391149153E8,
          2.6265695454000002E8,
          2.4512423891E8,
          2.7457221429E8,
          2.6427580588E8,
          2.6030617985999998E8,
          2.7623845982E8,
          2.5829379742000002E8,
          2.7394971222E8,
          2.7780287695E8,
          2.7659253754E8,
          3.0566636753E8,
          2.6576037165E8,
          2.7718132587E8,
          2.7546930995E8,
          2.9653102840000004E8,
          2.6988157156E8,
          2.8516442009999996E8,
          2.9062953453E8,
          2.6714822531E8,
          3.0055959155E8,
          2.7291622505E8,
          2.9573855264E8,
          4.4444008563E8,
          3.0722217487E8,
          3.0714691403999996E8,
          3.1786952831E8,
          3.2509052759E8,
          3.0901161853E8,
          3.4091944153999996E8,
          3.1749549933E8,
          3.1501988994E8,
          3.4439963059E8,
          3.0809571702E8,
          3.5233105979E8,
          4.4448186154E8,
          3.2160763209E8,
          3.2060046514E8,
          2.9512305249E8,
          2.7180772269E8,
          3.0043278646999997E8,
          3.1877000504E8,
          2.9478700989E8,
          3.2630464331E8,
          3.2189324558E8,
          3.1659785625E8,
          3.588854863E8,
          4.1469008106E8,
          3.1956191589E8,
          3.4971147365E8,
          3.3838345178999996E8,
          3.2586078115999997E8
         ],
         "yaxis": "y",
         "type": "scatter"
        },
        {
         "hovertemplate": "variable=Service Revenue - ML Predicted<br>Date=%{x}<br>value=%{y}<extra></extra>",
         "legendgroup": "Service Revenue - ML Predicted",
         "line": {
          "color": "#EF553B",
          "dash": "solid"
         },
         "marker": {
          "symbol": "circle"
         },
         "mode": "lines",
         "name": "Service Revenue - ML Predicted",
         "orientation": "v",
         "showlegend": true,
         "x": [
          "2014-06-01T00:00:00",
          "2014-07-01T00:00:00",
          "2014-08-01T00:00:00",
          "2014-09-01T00:00:00",
          "2014-10-01T00:00:00",
          "2014-11-01T00:00:00",
          "2014-12-01T00:00:00",
          "2015-01-01T00:00:00",
          "2015-02-01T00:00:00",
          "2015-03-01T00:00:00",
          "2015-04-01T00:00:00",
          "2015-05-01T00:00:00",
          "2015-06-01T00:00:00",
          "2015-07-01T00:00:00",
          "2015-08-01T00:00:00",
          "2015-09-01T00:00:00",
          "2015-10-01T00:00:00",
          "2015-11-01T00:00:00",
          "2015-12-01T00:00:00",
          "2016-01-01T00:00:00",
          "2016-02-01T00:00:00",
          "2016-03-01T00:00:00",
          "2016-04-01T00:00:00",
          "2016-05-01T00:00:00",
          "2016-06-01T00:00:00",
          "2016-07-01T00:00:00",
          "2016-08-01T00:00:00",
          "2016-09-01T00:00:00",
          "2016-10-01T00:00:00",
          "2016-11-01T00:00:00",
          "2016-12-01T00:00:00",
          "2017-01-01T00:00:00",
          "2017-02-01T00:00:00",
          "2017-03-01T00:00:00",
          "2017-04-01T00:00:00",
          "2017-05-01T00:00:00",
          "2017-06-01T00:00:00",
          "2017-07-01T00:00:00",
          "2017-08-01T00:00:00",
          "2017-09-01T00:00:00",
          "2017-10-01T00:00:00",
          "2017-11-01T00:00:00",
          "2017-12-01T00:00:00",
          "2018-01-01T00:00:00",
          "2018-02-01T00:00:00",
          "2018-03-01T00:00:00",
          "2018-04-01T00:00:00",
          "2018-05-01T00:00:00",
          "2018-06-01T00:00:00",
          "2018-07-01T00:00:00",
          "2018-08-01T00:00:00",
          "2018-09-01T00:00:00",
          "2018-10-01T00:00:00",
          "2018-11-01T00:00:00",
          "2018-12-01T00:00:00",
          "2019-01-01T00:00:00",
          "2019-02-01T00:00:00",
          "2019-03-01T00:00:00",
          "2019-04-01T00:00:00",
          "2019-05-01T00:00:00",
          "2019-06-01T00:00:00",
          "2019-07-01T00:00:00",
          "2019-08-01T00:00:00",
          "2019-09-01T00:00:00",
          "2019-10-01T00:00:00",
          "2019-11-01T00:00:00",
          "2019-12-01T00:00:00",
          "2020-01-01T00:00:00",
          "2020-02-01T00:00:00",
          "2020-03-01T00:00:00",
          "2020-04-01T00:00:00",
          "2020-05-01T00:00:00",
          "2020-06-01T00:00:00",
          "2020-07-01T00:00:00",
          "2020-08-01T00:00:00",
          "2020-09-01T00:00:00",
          "2020-10-01T00:00:00",
          "2020-11-01T00:00:00",
          "2020-12-01T00:00:00",
          "2021-01-01T00:00:00",
          "2021-02-01T00:00:00",
          "2021-03-01T00:00:00",
          "2021-04-01T00:00:00",
          "2021-05-01T00:00:00"
         ],
         "xaxis": "x",
         "y": [
          2.296637217283666E8,
          2.305112862282991E8,
          2.313846490774984E8,
          2.314282402318294E8,
          2.3217091620156366E8,
          2.3299271778030956E8,
          2.3303264277294263E8,
          2.3365732688307115E8,
          2.3338367857994884E8,
          2.336110059804782E8,
          2.3477686475838423E8,
          2.3540745320871904E8,
          2.421986881908444E8,
          2.4711162425240147E8,
          2.401761145314292E8,
          2.472579171654996E8,
          2.4384124952841625E8,
          2.4483658199613956E8,
          2.6435251671618468E8,
          2.921552845220751E8,
          2.483745185501361E8,
          2.4947807607891166E8,
          2.4481080519365352E8,
          2.4689415396622348E8,
          2.534252510122229E8,
          2.4442526065143785E8,
          2.5383517914447817E8,
          2.467805068559485E8,
          2.5283322957484666E8,
          2.486240479083921E8,
          2.70398974804113E8,
          3.241277056331508E8,
          2.5107510431324673E8,
          2.5312452012187785E8,
          2.4823480202578625E8,
          2.556178334880833E8,
          2.4878145383173856E8,
          2.537858915710918E8,
          2.5550922145445898E8,
          2.5209626476714095E8,
          2.599214439500507E8,
          2.5872252122211578E8,
          2.760649110947799E8,
          3.180259221958949E8,
          2.5737350151177508E8,
          2.6564463193801028E8,
          2.8437309099688625E8,
          2.625087162323783E8,
          2.8388454455311555E8,
          2.6493451427162984E8,
          2.859914063203721E8,
          2.835504121308445E8,
          2.790240627312479E8,
          2.835357513046698E8,
          3.249405692161641E8,
          3.8505033686639714E8,
          3.041936193323378E8,
          3.079837668377584E8,
          3.1515298832459134E8,
          3.249234379875171E8,
          3.1946603184604174E8,
          3.5193109639956856E8,
          3.1339015286351097E8,
          3.180201495461195E8,
          3.359983990321415E8,
          3.3277708281666595E8,
          3.4110348491223145E8,
          4.444658042607161E8,
          3.2160785043770754E8,
          3.0886680187628955E8,
          3.0282557639646477E8,
          2.890410137174731E8,
          2.9168790336056995E8,
          3.1120201092072856E8,
          3.0239493284595406E8,
          3.015471838734351E8,
          3.048730871695657E8,
          3.631794129082704E8,
          3.2523443294181603E8,
          4.239680672615876E8,
          3.1483043640873885E8,
          3.166871706135167E8,
          3.194001258182604E8,
          3.17289834087495E8
         ],
         "yaxis": "y",
         "type": "scatter"
        }
       ],
       "layout": {
        "template": {
         "data": {
          "barpolar": [
           {
            "marker": {
             "line": {
              "color": "white",
              "width": 0.5
             },
             "pattern": {
              "fillmode": "overlay",
              "size": 10,
              "solidity": 0.2
             }
            },
            "type": "barpolar"
           }
          ],
          "bar": [
           {
            "error_x": {
             "color": "#2a3f5f"
            },
            "error_y": {
             "color": "#2a3f5f"
            },
            "marker": {
             "line": {
              "color": "white",
              "width": 0.5
             },
             "pattern": {
              "fillmode": "overlay",
              "size": 10,
              "solidity": 0.2
             }
            },
            "type": "bar"
           }
          ],
          "carpet": [
           {
            "aaxis": {
             "endlinecolor": "#2a3f5f",
             "gridcolor": "#C8D4E3",
             "linecolor": "#C8D4E3",
             "minorgridcolor": "#C8D4E3",
             "startlinecolor": "#2a3f5f"
            },
            "baxis": {
             "endlinecolor": "#2a3f5f",
             "gridcolor": "#C8D4E3",
             "linecolor": "#C8D4E3",
             "minorgridcolor": "#C8D4E3",
             "startlinecolor": "#2a3f5f"
            },
            "type": "carpet"
           }
          ],
          "choropleth": [
           {
            "colorbar": {
             "outlinewidth": 0,
             "ticks": ""
            },
            "type": "choropleth"
           }
          ],
          "contourcarpet": [
           {
            "colorbar": {
             "outlinewidth": 0,
             "ticks": ""
            },
            "type": "contourcarpet"
           }
          ],
          "contour": [
           {
            "colorbar": {
             "outlinewidth": 0,
             "ticks": ""
            },
            "colorscale": [
             [
              0.0,
              "#0d0887"
             ],
             [
              0.1111111111111111,
              "#46039f"
             ],
             [
              0.2222222222222222,
              "#7201a8"
             ],
             [
              0.3333333333333333,
              "#9c179e"
             ],
             [
              0.4444444444444444,
              "#bd3786"
             ],
             [
              0.5555555555555556,
              "#d8576b"
             ],
             [
              0.6666666666666666,
              "#ed7953"
             ],
             [
              0.7777777777777778,
              "#fb9f3a"
             ],
             [
              0.8888888888888888,
              "#fdca26"
             ],
             [
              1.0,
              "#f0f921"
             ]
            ],
            "type": "contour"
           }
          ],
          "heatmapgl": [
           {
            "colorbar": {
             "outlinewidth": 0,
             "ticks": ""
            },
            "colorscale": [
             [
              0.0,
              "#0d0887"
             ],
             [
              0.1111111111111111,
              "#46039f"
             ],
             [
              0.2222222222222222,
              "#7201a8"
             ],
             [
              0.3333333333333333,
              "#9c179e"
             ],
             [
              0.4444444444444444,
              "#bd3786"
             ],
             [
              0.5555555555555556,
              "#d8576b"
             ],
             [
              0.6666666666666666,
              "#ed7953"
             ],
             [
              0.7777777777777778,
              "#fb9f3a"
             ],
             [
              0.8888888888888888,
              "#fdca26"
             ],
             [
              1.0,
              "#f0f921"
             ]
            ],
            "type": "heatmapgl"
           }
          ],
          "heatmap": [
           {
            "colorbar": {
             "outlinewidth": 0,
             "ticks": ""
            },
            "colorscale": [
             [
              0.0,
              "#0d0887"
             ],
             [
              0.1111111111111111,
              "#46039f"
             ],
             [
              0.2222222222222222,
              "#7201a8"
             ],
             [
              0.3333333333333333,
              "#9c179e"
             ],
             [
              0.4444444444444444,
              "#bd3786"
             ],
             [
              0.5555555555555556,
              "#d8576b"
             ],
             [
              0.6666666666666666,
              "#ed7953"
             ],
             [
              0.7777777777777778,
              "#fb9f3a"
             ],
             [
              0.8888888888888888,
              "#fdca26"
             ],
             [
              1.0,
              "#f0f921"
             ]
            ],
            "type": "heatmap"
           }
          ],
          "histogram2dcontour": [
           {
            "colorbar": {
             "outlinewidth": 0,
             "ticks": ""
            },
            "colorscale": [
             [
              0.0,
              "#0d0887"
             ],
             [
              0.1111111111111111,
              "#46039f"
             ],
             [
              0.2222222222222222,
              "#7201a8"
             ],
             [
              0.3333333333333333,
              "#9c179e"
             ],
             [
              0.4444444444444444,
              "#bd3786"
             ],
             [
              0.5555555555555556,
              "#d8576b"
             ],
             [
              0.6666666666666666,
              "#ed7953"
             ],
             [
              0.7777777777777778,
              "#fb9f3a"
             ],
             [
              0.8888888888888888,
              "#fdca26"
             ],
             [
              1.0,
              "#f0f921"
             ]
            ],
            "type": "histogram2dcontour"
           }
          ],
          "histogram2d": [
           {
            "colorbar": {
             "outlinewidth": 0,
             "ticks": ""
            },
            "colorscale": [
             [
              0.0,
              "#0d0887"
             ],
             [
              0.1111111111111111,
              "#46039f"
             ],
             [
              0.2222222222222222,
              "#7201a8"
             ],
             [
              0.3333333333333333,
              "#9c179e"
             ],
             [
              0.4444444444444444,
              "#bd3786"
             ],
             [
              0.5555555555555556,
              "#d8576b"
             ],
             [
              0.6666666666666666,
              "#ed7953"
             ],
             [
              0.7777777777777778,
              "#fb9f3a"
             ],
             [
              0.8888888888888888,
              "#fdca26"
             ],
             [
              1.0,
              "#f0f921"
             ]
            ],
            "type": "histogram2d"
           }
          ],
          "histogram": [
           {
            "marker": {
             "pattern": {
              "fillmode": "overlay",
              "size": 10,
              "solidity": 0.2
             }
            },
            "type": "histogram"
           }
          ],
          "mesh3d": [
           {
            "colorbar": {
             "outlinewidth": 0,
             "ticks": ""
            },
            "type": "mesh3d"
           }
          ],
          "parcoords": [
           {
            "line": {
             "colorbar": {
              "outlinewidth": 0,
              "ticks": ""
             }
            },
            "type": "parcoords"
           }
          ],
          "pie": [
           {
            "automargin": true,
            "type": "pie"
           }
          ],
          "scatter3d": [
           {
            "line": {
             "colorbar": {
              "outlinewidth": 0,
              "ticks": ""
             }
            },
            "marker": {
             "colorbar": {
              "outlinewidth": 0,
              "ticks": ""
             }
            },
            "type": "scatter3d"
           }
          ],
          "scattercarpet": [
           {
            "marker": {
             "colorbar": {
              "outlinewidth": 0,
              "ticks": ""
             }
            },
            "type": "scattercarpet"
           }
          ],
          "scattergeo": [
           {
            "marker": {
             "colorbar": {
              "outlinewidth": 0,
              "ticks": ""
             }
            },
            "type": "scattergeo"
           }
          ],
          "scattergl": [
           {
            "marker": {
             "colorbar": {
              "outlinewidth": 0,
              "ticks": ""
             }
            },
            "type": "scattergl"
           }
          ],
          "scattermapbox": [
           {
            "marker": {
             "colorbar": {
              "outlinewidth": 0,
              "ticks": ""
             }
            },
            "type": "scattermapbox"
           }
          ],
          "scatterpolargl": [
           {
            "marker": {
             "colorbar": {
              "outlinewidth": 0,
              "ticks": ""
             }
            },
            "type": "scatterpolargl"
           }
          ],
          "scatterpolar": [
           {
            "marker": {
             "colorbar": {
              "outlinewidth": 0,
              "ticks": ""
             }
            },
            "type": "scatterpolar"
           }
          ],
          "scatter": [
           {
            "fillpattern": {
             "fillmode": "overlay",
             "size": 10,
             "solidity": 0.2
            },
            "type": "scatter"
           }
          ],
          "scatterternary": [
           {
            "marker": {
             "colorbar": {
              "outlinewidth": 0,
              "ticks": ""
             }
            },
            "type": "scatterternary"
           }
          ],
          "surface": [
           {
            "colorbar": {
             "outlinewidth": 0,
             "ticks": ""
            },
            "colorscale": [
             [
              0.0,
              "#0d0887"
             ],
             [
              0.1111111111111111,
              "#46039f"
             ],
             [
              0.2222222222222222,
              "#7201a8"
             ],
             [
              0.3333333333333333,
              "#9c179e"
             ],
             [
              0.4444444444444444,
              "#bd3786"
             ],
             [
              0.5555555555555556,
              "#d8576b"
             ],
             [
              0.6666666666666666,
              "#ed7953"
             ],
             [
              0.7777777777777778,
              "#fb9f3a"
             ],
             [
              0.8888888888888888,
              "#fdca26"
             ],
             [
              1.0,
              "#f0f921"
             ]
            ],
            "type": "surface"
           }
          ],
          "table": [
           {
            "cells": {
             "fill": {
              "color": "#EBF0F8"
             },
             "line": {
              "color": "white"
             }
            },
            "header": {
             "fill": {
              "color": "#C8D4E3"
             },
             "line": {
              "color": "white"
             }
            },
            "type": "table"
           }
          ]
         },
         "layout": {
          "annotationdefaults": {
           "arrowcolor": "#2a3f5f",
           "arrowhead": 0,
           "arrowwidth": 1
          },
          "autotypenumbers": "strict",
          "coloraxis": {
           "colorbar": {
            "outlinewidth": 0,
            "ticks": ""
           }
          },
          "colorscale": {
           "diverging": [
            [
             0,
             "#8e0152"
            ],
            [
             0.1,
             "#c51b7d"
            ],
            [
             0.2,
             "#de77ae"
            ],
            [
             0.3,
             "#f1b6da"
            ],
            [
             0.4,
             "#fde0ef"
            ],
            [
             0.5,
             "#f7f7f7"
            ],
            [
             0.6,
             "#e6f5d0"
            ],
            [
             0.7,
             "#b8e186"
            ],
            [
             0.8,
             "#7fbc41"
            ],
            [
             0.9,
             "#4d9221"
            ],
            [
             1,
             "#276419"
            ]
           ],
           "sequential": [
            [
             0.0,
             "#0d0887"
            ],
            [
             0.1111111111111111,
             "#46039f"
            ],
            [
             0.2222222222222222,
             "#7201a8"
            ],
            [
             0.3333333333333333,
             "#9c179e"
            ],
            [
             0.4444444444444444,
             "#bd3786"
            ],
            [
             0.5555555555555556,
             "#d8576b"
            ],
            [
             0.6666666666666666,
             "#ed7953"
            ],
            [
             0.7777777777777778,
             "#fb9f3a"
            ],
            [
             0.8888888888888888,
             "#fdca26"
            ],
            [
             1.0,
             "#f0f921"
            ]
           ],
           "sequentialminus": [
            [
             0.0,
             "#0d0887"
            ],
            [
             0.1111111111111111,
             "#46039f"
            ],
            [
             0.2222222222222222,
             "#7201a8"
            ],
            [
             0.3333333333333333,
             "#9c179e"
            ],
            [
             0.4444444444444444,
             "#bd3786"
            ],
            [
             0.5555555555555556,
             "#d8576b"
            ],
            [
             0.6666666666666666,
             "#ed7953"
            ],
            [
             0.7777777777777778,
             "#fb9f3a"
            ],
            [
             0.8888888888888888,
             "#fdca26"
            ],
            [
             1.0,
             "#f0f921"
            ]
           ]
          },
          "colorway": [
           "#636efa",
           "#EF553B",
           "#00cc96",
           "#ab63fa",
           "#FFA15A",
           "#19d3f3",
           "#FF6692",
           "#B6E880",
           "#FF97FF",
           "#FECB52"
          ],
          "font": {
           "color": "#2a3f5f"
          },
          "geo": {
           "bgcolor": "white",
           "lakecolor": "white",
           "landcolor": "white",
           "showlakes": true,
           "showland": true,
           "subunitcolor": "#C8D4E3"
          },
          "hoverlabel": {
           "align": "left"
          },
          "hovermode": "closest",
          "mapbox": {
           "style": "light"
          },
          "paper_bgcolor": "white",
          "plot_bgcolor": "white",
          "polar": {
           "angularaxis": {
            "gridcolor": "#EBF0F8",
            "linecolor": "#EBF0F8",
            "ticks": ""
           },
           "bgcolor": "white",
           "radialaxis": {
            "gridcolor": "#EBF0F8",
            "linecolor": "#EBF0F8",
            "ticks": ""
           }
          },
          "scene": {
           "xaxis": {
            "backgroundcolor": "white",
            "gridcolor": "#DFE8F3",
            "gridwidth": 2,
            "linecolor": "#EBF0F8",
            "showbackground": true,
            "ticks": "",
            "zerolinecolor": "#EBF0F8"
           },
           "yaxis": {
            "backgroundcolor": "white",
            "gridcolor": "#DFE8F3",
            "gridwidth": 2,
            "linecolor": "#EBF0F8",
            "showbackground": true,
            "ticks": "",
            "zerolinecolor": "#EBF0F8"
           },
           "zaxis": {
            "backgroundcolor": "white",
            "gridcolor": "#DFE8F3",
            "gridwidth": 2,
            "linecolor": "#EBF0F8",
            "showbackground": true,
            "ticks": "",
            "zerolinecolor": "#EBF0F8"
           }
          },
          "shapedefaults": {
           "line": {
            "color": "#2a3f5f"
           }
          },
          "ternary": {
           "aaxis": {
            "gridcolor": "#DFE8F3",
            "linecolor": "#A2B1C6",
            "ticks": ""
           },
           "baxis": {
            "gridcolor": "#DFE8F3",
            "linecolor": "#A2B1C6",
            "ticks": ""
           },
           "bgcolor": "white",
           "caxis": {
            "gridcolor": "#DFE8F3",
            "linecolor": "#A2B1C6",
            "ticks": ""
           }
          },
          "title": {
           "x": 0.05
          },
          "xaxis": {
           "automargin": true,
           "gridcolor": "#EBF0F8",
           "linecolor": "#EBF0F8",
           "ticks": "",
           "title": {
            "standoff": 15
           },
           "zerolinecolor": "#EBF0F8",
           "zerolinewidth": 2
          },
          "yaxis": {
           "automargin": true,
           "gridcolor": "#EBF0F8",
           "linecolor": "#EBF0F8",
           "ticks": "",
           "title": {
            "standoff": 15
           },
           "zerolinecolor": "#EBF0F8",
           "zerolinewidth": 2
          }
         }
        },
        "xaxis": {
         "anchor": "y",
         "domain": [
          0.0,
          1.0
         ],
         "title": {
          "text": "Date"
         }
        },
        "yaxis": {
         "anchor": "x",
         "domain": [
          0.0,
          1.0
         ],
         "title": {
          "text": "value"
         }
        },
        "legend": {
         "title": {
          "text": "variable"
         },
         "tracegroupgap": 0
        },
        "margin": {
         "t": 60
        }
       },
       "config": {
        "plotlyServerURL": "https://plot.ly"
       }
      },
      "text/html": "<div>                            <div id=\"2e32302b-7687-4810-abf1-57698b802178\" class=\"plotly-graph-div\" style=\"height:525px; width:100%;\"></div>            <script type=\"text/javascript\">                require([\"plotly\"], function(Plotly) {                    window.PLOTLYENV=window.PLOTLYENV || {};                                    if (document.getElementById(\"2e32302b-7687-4810-abf1-57698b802178\")) {                    Plotly.newPlot(                        \"2e32302b-7687-4810-abf1-57698b802178\",                        [{\"hovertemplate\":\"variable=Service Revenue<br>Date=%{x}<br>value=%{y}<extra></extra>\",\"legendgroup\":\"Service Revenue\",\"line\":{\"color\":\"#636efa\",\"dash\":\"solid\"},\"marker\":{\"symbol\":\"circle\"},\"mode\":\"lines\",\"name\":\"Service Revenue\",\"orientation\":\"v\",\"showlegend\":true,\"x\":[\"2014-06-01T00:00:00\",\"2014-07-01T00:00:00\",\"2014-08-01T00:00:00\",\"2014-09-01T00:00:00\",\"2014-10-01T00:00:00\",\"2014-11-01T00:00:00\",\"2014-12-01T00:00:00\",\"2015-01-01T00:00:00\",\"2015-02-01T00:00:00\",\"2015-03-01T00:00:00\",\"2015-04-01T00:00:00\",\"2015-05-01T00:00:00\",\"2015-06-01T00:00:00\",\"2015-07-01T00:00:00\",\"2015-08-01T00:00:00\",\"2015-09-01T00:00:00\",\"2015-10-01T00:00:00\",\"2015-11-01T00:00:00\",\"2015-12-01T00:00:00\",\"2016-01-01T00:00:00\",\"2016-02-01T00:00:00\",\"2016-03-01T00:00:00\",\"2016-04-01T00:00:00\",\"2016-05-01T00:00:00\",\"2016-06-01T00:00:00\",\"2016-07-01T00:00:00\",\"2016-08-01T00:00:00\",\"2016-09-01T00:00:00\",\"2016-10-01T00:00:00\",\"2016-11-01T00:00:00\",\"2016-12-01T00:00:00\",\"2017-01-01T00:00:00\",\"2017-02-01T00:00:00\",\"2017-03-01T00:00:00\",\"2017-04-01T00:00:00\",\"2017-05-01T00:00:00\",\"2017-06-01T00:00:00\",\"2017-07-01T00:00:00\",\"2017-08-01T00:00:00\",\"2017-09-01T00:00:00\",\"2017-10-01T00:00:00\",\"2017-11-01T00:00:00\",\"2017-12-01T00:00:00\",\"2018-01-01T00:00:00\",\"2018-02-01T00:00:00\",\"2018-03-01T00:00:00\",\"2018-04-01T00:00:00\",\"2018-05-01T00:00:00\",\"2018-06-01T00:00:00\",\"2018-07-01T00:00:00\",\"2018-08-01T00:00:00\",\"2018-09-01T00:00:00\",\"2018-10-01T00:00:00\",\"2018-11-01T00:00:00\",\"2018-12-01T00:00:00\",\"2019-01-01T00:00:00\",\"2019-02-01T00:00:00\",\"2019-03-01T00:00:00\",\"2019-04-01T00:00:00\",\"2019-05-01T00:00:00\",\"2019-06-01T00:00:00\",\"2019-07-01T00:00:00\",\"2019-08-01T00:00:00\",\"2019-09-01T00:00:00\",\"2019-10-01T00:00:00\",\"2019-11-01T00:00:00\",\"2019-12-01T00:00:00\",\"2020-01-01T00:00:00\",\"2020-02-01T00:00:00\",\"2020-03-01T00:00:00\",\"2020-04-01T00:00:00\",\"2020-05-01T00:00:00\",\"2020-06-01T00:00:00\",\"2020-07-01T00:00:00\",\"2020-08-01T00:00:00\",\"2020-09-01T00:00:00\",\"2020-10-01T00:00:00\",\"2020-11-01T00:00:00\",\"2020-12-01T00:00:00\",\"2021-01-01T00:00:00\",\"2021-02-01T00:00:00\",\"2021-03-01T00:00:00\",\"2021-04-01T00:00:00\",\"2021-05-01T00:00:00\"],\"xaxis\":\"x\",\"y\":[204126432.45999998,244895490.54,207609023.06,202998254.24,254987266.07999998,207866716.35999998,215201717.82,268345424.84,210097577.09,204025020.16,255885003.87,221564963.85000002,213532744.91,269490589.51,227428657.38,260600936.87,227917267.46,221034467.28,231218714.35999998,284715793.19,222752524.24,264097967.35,235716500.31,240169815.99,261322906.19,244425257.73,266805400.51000002,247013616.79,252273536.74,258965269.83,261654873.98,275285757.97,243911491.53,262656954.54000002,245124238.91,274572214.29,264275805.88,260306179.85999998,276238459.82,258293797.42000002,273949712.22,277802876.95,276592537.54,305666367.53,265760371.65,277181325.87,275469309.95,296531028.40000004,269881571.56,285164420.09999996,290629534.53,267148225.31,300559591.55,272916225.05,295738552.64,444440085.63,307222174.87,307146914.03999996,317869528.31,325090527.59,309011618.53,340919441.53999996,317495499.33,315019889.94,344399630.59,308095717.02,352331059.79,444481861.54,321607632.09,320600465.14,295123052.49,271807722.69,300432786.46999997,318770005.04,294787009.89,326304643.31,321893245.58,316597856.25,358885486.3,414690081.06,319561915.89,349711473.65,338383451.78999996,325860781.15999997],\"yaxis\":\"y\",\"type\":\"scatter\"},{\"hovertemplate\":\"variable=Service Revenue - ML Predicted<br>Date=%{x}<br>value=%{y}<extra></extra>\",\"legendgroup\":\"Service Revenue - ML Predicted\",\"line\":{\"color\":\"#EF553B\",\"dash\":\"solid\"},\"marker\":{\"symbol\":\"circle\"},\"mode\":\"lines\",\"name\":\"Service Revenue - ML Predicted\",\"orientation\":\"v\",\"showlegend\":true,\"x\":[\"2014-06-01T00:00:00\",\"2014-07-01T00:00:00\",\"2014-08-01T00:00:00\",\"2014-09-01T00:00:00\",\"2014-10-01T00:00:00\",\"2014-11-01T00:00:00\",\"2014-12-01T00:00:00\",\"2015-01-01T00:00:00\",\"2015-02-01T00:00:00\",\"2015-03-01T00:00:00\",\"2015-04-01T00:00:00\",\"2015-05-01T00:00:00\",\"2015-06-01T00:00:00\",\"2015-07-01T00:00:00\",\"2015-08-01T00:00:00\",\"2015-09-01T00:00:00\",\"2015-10-01T00:00:00\",\"2015-11-01T00:00:00\",\"2015-12-01T00:00:00\",\"2016-01-01T00:00:00\",\"2016-02-01T00:00:00\",\"2016-03-01T00:00:00\",\"2016-04-01T00:00:00\",\"2016-05-01T00:00:00\",\"2016-06-01T00:00:00\",\"2016-07-01T00:00:00\",\"2016-08-01T00:00:00\",\"2016-09-01T00:00:00\",\"2016-10-01T00:00:00\",\"2016-11-01T00:00:00\",\"2016-12-01T00:00:00\",\"2017-01-01T00:00:00\",\"2017-02-01T00:00:00\",\"2017-03-01T00:00:00\",\"2017-04-01T00:00:00\",\"2017-05-01T00:00:00\",\"2017-06-01T00:00:00\",\"2017-07-01T00:00:00\",\"2017-08-01T00:00:00\",\"2017-09-01T00:00:00\",\"2017-10-01T00:00:00\",\"2017-11-01T00:00:00\",\"2017-12-01T00:00:00\",\"2018-01-01T00:00:00\",\"2018-02-01T00:00:00\",\"2018-03-01T00:00:00\",\"2018-04-01T00:00:00\",\"2018-05-01T00:00:00\",\"2018-06-01T00:00:00\",\"2018-07-01T00:00:00\",\"2018-08-01T00:00:00\",\"2018-09-01T00:00:00\",\"2018-10-01T00:00:00\",\"2018-11-01T00:00:00\",\"2018-12-01T00:00:00\",\"2019-01-01T00:00:00\",\"2019-02-01T00:00:00\",\"2019-03-01T00:00:00\",\"2019-04-01T00:00:00\",\"2019-05-01T00:00:00\",\"2019-06-01T00:00:00\",\"2019-07-01T00:00:00\",\"2019-08-01T00:00:00\",\"2019-09-01T00:00:00\",\"2019-10-01T00:00:00\",\"2019-11-01T00:00:00\",\"2019-12-01T00:00:00\",\"2020-01-01T00:00:00\",\"2020-02-01T00:00:00\",\"2020-03-01T00:00:00\",\"2020-04-01T00:00:00\",\"2020-05-01T00:00:00\",\"2020-06-01T00:00:00\",\"2020-07-01T00:00:00\",\"2020-08-01T00:00:00\",\"2020-09-01T00:00:00\",\"2020-10-01T00:00:00\",\"2020-11-01T00:00:00\",\"2020-12-01T00:00:00\",\"2021-01-01T00:00:00\",\"2021-02-01T00:00:00\",\"2021-03-01T00:00:00\",\"2021-04-01T00:00:00\",\"2021-05-01T00:00:00\"],\"xaxis\":\"x\",\"y\":[229663721.7283666,230511286.2282991,231384649.0774984,231428240.2318294,232170916.20156366,232992717.78030956,233032642.77294263,233657326.88307115,233383678.57994884,233611005.9804782,234776864.75838423,235407453.20871904,242198688.1908444,247111624.25240147,240176114.5314292,247257917.1654996,243841249.52841625,244836581.99613956,264352516.71618468,292155284.5220751,248374518.5501361,249478076.07891166,244810805.19365352,246894153.96622348,253425251.0122229,244425260.65143785,253835179.14447817,246780506.8559485,252833229.57484666,248624047.9083921,270398974.804113,324127705.6331508,251075104.31324673,253124520.12187785,248234802.02578625,255617833.4880833,248781453.83173856,253785891.5710918,255509221.45445898,252096264.76714095,259921443.9500507,258722521.22211578,276064911.0947799,318025922.1958949,257373501.51177508,265644631.93801028,284373090.99688625,262508716.2323783,283884544.55311555,264934514.27162984,285991406.3203721,283550412.1308445,279024062.7312479,283535751.3046698,324940569.2161641,385050336.86639714,304193619.3323378,307983766.8377584,315152988.32459134,324923437.9875171,319466031.84604174,351931096.39956856,313390152.86351097,318020149.5461195,335998399.0321415,332777082.81666595,341103484.91223145,444465804.2607161,321607850.43770754,308866801.87628955,302825576.39646477,289041013.7174731,291687903.36056995,311202010.92072856,302394932.84595406,301547183.8734351,304873087.1695657,363179412.9082704,325234432.94181603,423968067.2615876,314830436.40873885,316687170.6135167,319400125.8182604,317289834.087495],\"yaxis\":\"y\",\"type\":\"scatter\"}],                        {\"template\":{\"data\":{\"barpolar\":[{\"marker\":{\"line\":{\"color\":\"white\",\"width\":0.5},\"pattern\":{\"fillmode\":\"overlay\",\"size\":10,\"solidity\":0.2}},\"type\":\"barpolar\"}],\"bar\":[{\"error_x\":{\"color\":\"#2a3f5f\"},\"error_y\":{\"color\":\"#2a3f5f\"},\"marker\":{\"line\":{\"color\":\"white\",\"width\":0.5},\"pattern\":{\"fillmode\":\"overlay\",\"size\":10,\"solidity\":0.2}},\"type\":\"bar\"}],\"carpet\":[{\"aaxis\":{\"endlinecolor\":\"#2a3f5f\",\"gridcolor\":\"#C8D4E3\",\"linecolor\":\"#C8D4E3\",\"minorgridcolor\":\"#C8D4E3\",\"startlinecolor\":\"#2a3f5f\"},\"baxis\":{\"endlinecolor\":\"#2a3f5f\",\"gridcolor\":\"#C8D4E3\",\"linecolor\":\"#C8D4E3\",\"minorgridcolor\":\"#C8D4E3\",\"startlinecolor\":\"#2a3f5f\"},\"type\":\"carpet\"}],\"choropleth\":[{\"colorbar\":{\"outlinewidth\":0,\"ticks\":\"\"},\"type\":\"choropleth\"}],\"contourcarpet\":[{\"colorbar\":{\"outlinewidth\":0,\"ticks\":\"\"},\"type\":\"contourcarpet\"}],\"contour\":[{\"colorbar\":{\"outlinewidth\":0,\"ticks\":\"\"},\"colorscale\":[[0.0,\"#0d0887\"],[0.1111111111111111,\"#46039f\"],[0.2222222222222222,\"#7201a8\"],[0.3333333333333333,\"#9c179e\"],[0.4444444444444444,\"#bd3786\"],[0.5555555555555556,\"#d8576b\"],[0.6666666666666666,\"#ed7953\"],[0.7777777777777778,\"#fb9f3a\"],[0.8888888888888888,\"#fdca26\"],[1.0,\"#f0f921\"]],\"type\":\"contour\"}],\"heatmapgl\":[{\"colorbar\":{\"outlinewidth\":0,\"ticks\":\"\"},\"colorscale\":[[0.0,\"#0d0887\"],[0.1111111111111111,\"#46039f\"],[0.2222222222222222,\"#7201a8\"],[0.3333333333333333,\"#9c179e\"],[0.4444444444444444,\"#bd3786\"],[0.5555555555555556,\"#d8576b\"],[0.6666666666666666,\"#ed7953\"],[0.7777777777777778,\"#fb9f3a\"],[0.8888888888888888,\"#fdca26\"],[1.0,\"#f0f921\"]],\"type\":\"heatmapgl\"}],\"heatmap\":[{\"colorbar\":{\"outlinewidth\":0,\"ticks\":\"\"},\"colorscale\":[[0.0,\"#0d0887\"],[0.1111111111111111,\"#46039f\"],[0.2222222222222222,\"#7201a8\"],[0.3333333333333333,\"#9c179e\"],[0.4444444444444444,\"#bd3786\"],[0.5555555555555556,\"#d8576b\"],[0.6666666666666666,\"#ed7953\"],[0.7777777777777778,\"#fb9f3a\"],[0.8888888888888888,\"#fdca26\"],[1.0,\"#f0f921\"]],\"type\":\"heatmap\"}],\"histogram2dcontour\":[{\"colorbar\":{\"outlinewidth\":0,\"ticks\":\"\"},\"colorscale\":[[0.0,\"#0d0887\"],[0.1111111111111111,\"#46039f\"],[0.2222222222222222,\"#7201a8\"],[0.3333333333333333,\"#9c179e\"],[0.4444444444444444,\"#bd3786\"],[0.5555555555555556,\"#d8576b\"],[0.6666666666666666,\"#ed7953\"],[0.7777777777777778,\"#fb9f3a\"],[0.8888888888888888,\"#fdca26\"],[1.0,\"#f0f921\"]],\"type\":\"histogram2dcontour\"}],\"histogram2d\":[{\"colorbar\":{\"outlinewidth\":0,\"ticks\":\"\"},\"colorscale\":[[0.0,\"#0d0887\"],[0.1111111111111111,\"#46039f\"],[0.2222222222222222,\"#7201a8\"],[0.3333333333333333,\"#9c179e\"],[0.4444444444444444,\"#bd3786\"],[0.5555555555555556,\"#d8576b\"],[0.6666666666666666,\"#ed7953\"],[0.7777777777777778,\"#fb9f3a\"],[0.8888888888888888,\"#fdca26\"],[1.0,\"#f0f921\"]],\"type\":\"histogram2d\"}],\"histogram\":[{\"marker\":{\"pattern\":{\"fillmode\":\"overlay\",\"size\":10,\"solidity\":0.2}},\"type\":\"histogram\"}],\"mesh3d\":[{\"colorbar\":{\"outlinewidth\":0,\"ticks\":\"\"},\"type\":\"mesh3d\"}],\"parcoords\":[{\"line\":{\"colorbar\":{\"outlinewidth\":0,\"ticks\":\"\"}},\"type\":\"parcoords\"}],\"pie\":[{\"automargin\":true,\"type\":\"pie\"}],\"scatter3d\":[{\"line\":{\"colorbar\":{\"outlinewidth\":0,\"ticks\":\"\"}},\"marker\":{\"colorbar\":{\"outlinewidth\":0,\"ticks\":\"\"}},\"type\":\"scatter3d\"}],\"scattercarpet\":[{\"marker\":{\"colorbar\":{\"outlinewidth\":0,\"ticks\":\"\"}},\"type\":\"scattercarpet\"}],\"scattergeo\":[{\"marker\":{\"colorbar\":{\"outlinewidth\":0,\"ticks\":\"\"}},\"type\":\"scattergeo\"}],\"scattergl\":[{\"marker\":{\"colorbar\":{\"outlinewidth\":0,\"ticks\":\"\"}},\"type\":\"scattergl\"}],\"scattermapbox\":[{\"marker\":{\"colorbar\":{\"outlinewidth\":0,\"ticks\":\"\"}},\"type\":\"scattermapbox\"}],\"scatterpolargl\":[{\"marker\":{\"colorbar\":{\"outlinewidth\":0,\"ticks\":\"\"}},\"type\":\"scatterpolargl\"}],\"scatterpolar\":[{\"marker\":{\"colorbar\":{\"outlinewidth\":0,\"ticks\":\"\"}},\"type\":\"scatterpolar\"}],\"scatter\":[{\"fillpattern\":{\"fillmode\":\"overlay\",\"size\":10,\"solidity\":0.2},\"type\":\"scatter\"}],\"scatterternary\":[{\"marker\":{\"colorbar\":{\"outlinewidth\":0,\"ticks\":\"\"}},\"type\":\"scatterternary\"}],\"surface\":[{\"colorbar\":{\"outlinewidth\":0,\"ticks\":\"\"},\"colorscale\":[[0.0,\"#0d0887\"],[0.1111111111111111,\"#46039f\"],[0.2222222222222222,\"#7201a8\"],[0.3333333333333333,\"#9c179e\"],[0.4444444444444444,\"#bd3786\"],[0.5555555555555556,\"#d8576b\"],[0.6666666666666666,\"#ed7953\"],[0.7777777777777778,\"#fb9f3a\"],[0.8888888888888888,\"#fdca26\"],[1.0,\"#f0f921\"]],\"type\":\"surface\"}],\"table\":[{\"cells\":{\"fill\":{\"color\":\"#EBF0F8\"},\"line\":{\"color\":\"white\"}},\"header\":{\"fill\":{\"color\":\"#C8D4E3\"},\"line\":{\"color\":\"white\"}},\"type\":\"table\"}]},\"layout\":{\"annotationdefaults\":{\"arrowcolor\":\"#2a3f5f\",\"arrowhead\":0,\"arrowwidth\":1},\"autotypenumbers\":\"strict\",\"coloraxis\":{\"colorbar\":{\"outlinewidth\":0,\"ticks\":\"\"}},\"colorscale\":{\"diverging\":[[0,\"#8e0152\"],[0.1,\"#c51b7d\"],[0.2,\"#de77ae\"],[0.3,\"#f1b6da\"],[0.4,\"#fde0ef\"],[0.5,\"#f7f7f7\"],[0.6,\"#e6f5d0\"],[0.7,\"#b8e186\"],[0.8,\"#7fbc41\"],[0.9,\"#4d9221\"],[1,\"#276419\"]],\"sequential\":[[0.0,\"#0d0887\"],[0.1111111111111111,\"#46039f\"],[0.2222222222222222,\"#7201a8\"],[0.3333333333333333,\"#9c179e\"],[0.4444444444444444,\"#bd3786\"],[0.5555555555555556,\"#d8576b\"],[0.6666666666666666,\"#ed7953\"],[0.7777777777777778,\"#fb9f3a\"],[0.8888888888888888,\"#fdca26\"],[1.0,\"#f0f921\"]],\"sequentialminus\":[[0.0,\"#0d0887\"],[0.1111111111111111,\"#46039f\"],[0.2222222222222222,\"#7201a8\"],[0.3333333333333333,\"#9c179e\"],[0.4444444444444444,\"#bd3786\"],[0.5555555555555556,\"#d8576b\"],[0.6666666666666666,\"#ed7953\"],[0.7777777777777778,\"#fb9f3a\"],[0.8888888888888888,\"#fdca26\"],[1.0,\"#f0f921\"]]},\"colorway\":[\"#636efa\",\"#EF553B\",\"#00cc96\",\"#ab63fa\",\"#FFA15A\",\"#19d3f3\",\"#FF6692\",\"#B6E880\",\"#FF97FF\",\"#FECB52\"],\"font\":{\"color\":\"#2a3f5f\"},\"geo\":{\"bgcolor\":\"white\",\"lakecolor\":\"white\",\"landcolor\":\"white\",\"showlakes\":true,\"showland\":true,\"subunitcolor\":\"#C8D4E3\"},\"hoverlabel\":{\"align\":\"left\"},\"hovermode\":\"closest\",\"mapbox\":{\"style\":\"light\"},\"paper_bgcolor\":\"white\",\"plot_bgcolor\":\"white\",\"polar\":{\"angularaxis\":{\"gridcolor\":\"#EBF0F8\",\"linecolor\":\"#EBF0F8\",\"ticks\":\"\"},\"bgcolor\":\"white\",\"radialaxis\":{\"gridcolor\":\"#EBF0F8\",\"linecolor\":\"#EBF0F8\",\"ticks\":\"\"}},\"scene\":{\"xaxis\":{\"backgroundcolor\":\"white\",\"gridcolor\":\"#DFE8F3\",\"gridwidth\":2,\"linecolor\":\"#EBF0F8\",\"showbackground\":true,\"ticks\":\"\",\"zerolinecolor\":\"#EBF0F8\"},\"yaxis\":{\"backgroundcolor\":\"white\",\"gridcolor\":\"#DFE8F3\",\"gridwidth\":2,\"linecolor\":\"#EBF0F8\",\"showbackground\":true,\"ticks\":\"\",\"zerolinecolor\":\"#EBF0F8\"},\"zaxis\":{\"backgroundcolor\":\"white\",\"gridcolor\":\"#DFE8F3\",\"gridwidth\":2,\"linecolor\":\"#EBF0F8\",\"showbackground\":true,\"ticks\":\"\",\"zerolinecolor\":\"#EBF0F8\"}},\"shapedefaults\":{\"line\":{\"color\":\"#2a3f5f\"}},\"ternary\":{\"aaxis\":{\"gridcolor\":\"#DFE8F3\",\"linecolor\":\"#A2B1C6\",\"ticks\":\"\"},\"baxis\":{\"gridcolor\":\"#DFE8F3\",\"linecolor\":\"#A2B1C6\",\"ticks\":\"\"},\"bgcolor\":\"white\",\"caxis\":{\"gridcolor\":\"#DFE8F3\",\"linecolor\":\"#A2B1C6\",\"ticks\":\"\"}},\"title\":{\"x\":0.05},\"xaxis\":{\"automargin\":true,\"gridcolor\":\"#EBF0F8\",\"linecolor\":\"#EBF0F8\",\"ticks\":\"\",\"title\":{\"standoff\":15},\"zerolinecolor\":\"#EBF0F8\",\"zerolinewidth\":2},\"yaxis\":{\"automargin\":true,\"gridcolor\":\"#EBF0F8\",\"linecolor\":\"#EBF0F8\",\"ticks\":\"\",\"title\":{\"standoff\":15},\"zerolinecolor\":\"#EBF0F8\",\"zerolinewidth\":2}}},\"xaxis\":{\"anchor\":\"y\",\"domain\":[0.0,1.0],\"title\":{\"text\":\"Date\"}},\"yaxis\":{\"anchor\":\"x\",\"domain\":[0.0,1.0],\"title\":{\"text\":\"value\"}},\"legend\":{\"title\":{\"text\":\"variable\"},\"tracegroupgap\":0},\"margin\":{\"t\":60}},                        {\"responsive\": true}                    ).then(function(){\n                            \nvar gd = document.getElementById('2e32302b-7687-4810-abf1-57698b802178');\nvar x = new MutationObserver(function (mutations, observer) {{\n        var display = window.getComputedStyle(gd).display;\n        if (!display || display === 'none') {{\n            console.log([gd, 'removed!']);\n            Plotly.purge(gd);\n            observer.disconnect();\n        }}\n}});\n\n// Listen for the removal of the full notebook cells\nvar notebookContainer = gd.closest('#notebook-container');\nif (notebookContainer) {{\n    x.observe(notebookContainer, {childList: true});\n}}\n\n// Listen for the clearing of the current output cell\nvar outputEl = gd.closest('.output');\nif (outputEl) {{\n    x.observe(outputEl, {childList: true});\n}}\n\n                        })                };                });            </script>        </div>"
     },
     "metadata": {},
     "output_type": "display_data"
    }
   ],
   "source": [
    "# ------------------------------------------------------------------------------------- #\n",
    "# generate and plot predicted values on the original dataset\n",
    "# ------------------------------------------------------------------------------------- #\n",
    "\n",
    "predictions = predict_model(best, data=comb_df)\n",
    "predictions['Date'] = pd.date_range(start=str(train_start_dt), end = str(test_end_dt), freq = 'MS')\n",
    "predictions.rename(columns={'Label':target_col+' - ML Predicted'}, inplace=True)\n",
    "fig = px.line(predictions, x='Date', y=[target_col, target_col+' - ML Predicted'], template = 'plotly_white')\n",
    "fig.show()\n",
    "\n",
    "# ------------------------------------------------------------------------------------- #\n",
    "# This section now applies the trained/tested model to make future predictions\n",
    "# ------------------------------------------------------------------------------------- #"
   ],
   "metadata": {
    "collapsed": false,
    "pycharm": {
     "name": "#%%\n"
    }
   }
  },
  {
   "cell_type": "code",
   "execution_count": 25,
   "outputs": [],
   "source": [
    "act_df = all_df[all_df['Calendar Date'] >= pred_start_dt]\n",
    "act_df = act_df[['Calendar Date', target_col]]\n",
    "act_df['Calendar Date'] = pd.to_datetime(act_df['Calendar Date'])"
   ],
   "metadata": {
    "collapsed": false,
    "pycharm": {
     "name": "#%%\n"
    }
   }
  },
  {
   "cell_type": "code",
   "execution_count": 26,
   "metadata": {},
   "outputs": [
    {
     "name": "stdout",
     "output_type": "stream",
     "text": [
      "############################  Running Auto ARIMA for BUSINV   ############################\n",
      "Performing stepwise search to minimize aic\n",
      " ARIMA(1,1,1)(0,1,1)[12]             : AIC=1585.793, Time=0.50 sec\n",
      " ARIMA(0,1,0)(0,1,0)[12]             : AIC=1562.121, Time=0.02 sec\n",
      " ARIMA(1,1,0)(1,1,0)[12]             : AIC=1587.158, Time=0.37 sec\n",
      " ARIMA(0,1,1)(0,1,1)[12]             : AIC=1566.542, Time=0.31 sec\n",
      " ARIMA(0,1,0)(1,1,0)[12]             : AIC=1571.687, Time=0.11 sec\n",
      " ARIMA(0,1,0)(0,1,1)[12]             : AIC=1569.806, Time=0.07 sec\n",
      " ARIMA(0,1,0)(1,1,1)[12]             : AIC=1565.454, Time=0.14 sec\n",
      " ARIMA(1,1,0)(0,1,0)[12]             : AIC=1585.515, Time=0.08 sec\n",
      " ARIMA(0,1,1)(0,1,0)[12]             : AIC=1563.178, Time=0.11 sec\n",
      " ARIMA(1,1,1)(0,1,0)[12]             : AIC=1584.088, Time=0.15 sec\n",
      " ARIMA(0,1,0)(0,1,0)[12] intercept   : AIC=1563.526, Time=0.01 sec\n",
      "\n",
      "Best model:  ARIMA(0,1,0)(0,1,0)[12]          \n",
      "Total fit time: 1.867 seconds\n",
      "############################  End Auto ARIMA for BUSINV   ############################\n",
      "\n",
      "\n",
      "############################  Running Auto ARIMA for DIRECT DEPOSIT PREMIUM/1509 SP SUN TRUST/SurePayroll Revenue Share   ############################\n",
      "Performing stepwise search to minimize aic\n",
      " ARIMA(1,1,1)(0,1,1)[12]             : AIC=1564.166, Time=0.22 sec\n",
      " ARIMA(0,1,0)(0,1,0)[12]             : AIC=1587.868, Time=0.01 sec\n",
      " ARIMA(1,1,0)(1,1,0)[12]             : AIC=1571.841, Time=0.13 sec\n",
      " ARIMA(0,1,1)(0,1,1)[12]             : AIC=1560.650, Time=0.53 sec\n",
      " ARIMA(0,1,1)(0,1,0)[12]             : AIC=1571.515, Time=0.02 sec\n",
      " ARIMA(0,1,1)(1,1,1)[12]             : AIC=1565.027, Time=0.15 sec\n",
      " ARIMA(0,1,1)(0,1,2)[12]             : AIC=1564.996, Time=0.62 sec\n",
      " ARIMA(0,1,1)(1,1,0)[12]             : AIC=1566.690, Time=0.12 sec\n",
      " ARIMA(0,1,1)(1,1,2)[12]             : AIC=1566.703, Time=0.77 sec\n",
      " ARIMA(0,1,0)(0,1,1)[12]             : AIC=1571.054, Time=0.19 sec\n",
      " ARIMA(0,1,2)(0,1,1)[12]             : AIC=1565.794, Time=0.20 sec\n",
      " ARIMA(1,1,0)(0,1,1)[12]             : AIC=1567.685, Time=0.13 sec\n",
      " ARIMA(1,1,2)(0,1,1)[12]             : AIC=1567.761, Time=0.38 sec\n",
      " ARIMA(0,1,1)(0,1,1)[12] intercept   : AIC=1565.038, Time=0.17 sec\n",
      "\n",
      "Best model:  ARIMA(0,1,1)(0,1,1)[12]          \n",
      "Total fit time: 3.651 seconds\n",
      "############################  End Auto ARIMA for DIRECT DEPOSIT PREMIUM/1509 SP SUN TRUST/SurePayroll Revenue Share   ############################\n",
      "\n",
      "\n",
      "############################  Running Auto ARIMA for Total Flex Blended Products Revenue/0921 DSC West/Losses - RW   ############################\n",
      "Performing stepwise search to minimize aic\n",
      " ARIMA(1,1,1)(0,1,1)[12]             : AIC=844.289, Time=0.29 sec\n",
      " ARIMA(0,1,0)(0,1,0)[12]             : AIC=870.047, Time=0.01 sec\n",
      " ARIMA(1,1,0)(1,1,0)[12]             : AIC=852.606, Time=0.11 sec\n",
      " ARIMA(0,1,1)(0,1,1)[12]             : AIC=842.329, Time=0.20 sec\n",
      " ARIMA(0,1,1)(0,1,0)[12]             : AIC=841.647, Time=0.04 sec\n",
      " ARIMA(0,1,1)(1,1,0)[12]             : AIC=841.680, Time=0.15 sec\n",
      " ARIMA(0,1,1)(1,1,1)[12]             : AIC=841.917, Time=0.57 sec\n",
      " ARIMA(1,1,1)(0,1,0)[12]             : AIC=843.539, Time=0.06 sec\n",
      " ARIMA(0,1,2)(0,1,0)[12]             : AIC=843.528, Time=0.06 sec\n",
      " ARIMA(1,1,0)(0,1,0)[12]             : AIC=852.928, Time=0.03 sec\n",
      " ARIMA(1,1,2)(0,1,0)[12]             : AIC=843.580, Time=0.14 sec\n",
      " ARIMA(0,1,1)(0,1,0)[12] intercept   : AIC=841.636, Time=0.06 sec\n",
      " ARIMA(0,1,1)(1,1,0)[12] intercept   : AIC=841.422, Time=0.29 sec\n",
      " ARIMA(0,1,1)(2,1,0)[12] intercept   : AIC=840.803, Time=0.93 sec\n",
      " ARIMA(0,1,1)(2,1,1)[12] intercept   : AIC=842.648, Time=1.53 sec\n",
      " ARIMA(0,1,1)(1,1,1)[12] intercept   : AIC=841.869, Time=1.13 sec\n",
      " ARIMA(0,1,0)(2,1,0)[12] intercept   : AIC=869.319, Time=1.34 sec\n",
      " ARIMA(1,1,1)(2,1,0)[12] intercept   : AIC=842.774, Time=1.57 sec\n",
      " ARIMA(0,1,2)(2,1,0)[12] intercept   : AIC=842.768, Time=1.99 sec\n",
      " ARIMA(1,1,0)(2,1,0)[12] intercept   : AIC=853.830, Time=1.10 sec\n",
      " ARIMA(1,1,2)(2,1,0)[12] intercept   : AIC=843.692, Time=1.76 sec\n",
      " ARIMA(0,1,1)(2,1,0)[12]             : AIC=840.532, Time=0.47 sec\n",
      " ARIMA(0,1,1)(2,1,1)[12]             : AIC=842.111, Time=1.03 sec\n",
      " ARIMA(0,1,0)(2,1,0)[12]             : AIC=867.420, Time=0.24 sec\n",
      " ARIMA(1,1,1)(2,1,0)[12]             : AIC=842.463, Time=0.62 sec\n",
      " ARIMA(0,1,2)(2,1,0)[12]             : AIC=842.448, Time=0.68 sec\n",
      " ARIMA(1,1,0)(2,1,0)[12]             : AIC=852.053, Time=0.41 sec\n",
      " ARIMA(1,1,2)(2,1,0)[12]             : AIC=842.308, Time=1.39 sec\n",
      "\n",
      "Best model:  ARIMA(0,1,1)(2,1,0)[12]          \n",
      "Total fit time: 18.226 seconds\n",
      "############################  End Auto ARIMA for Total Flex Blended Products Revenue/0921 DSC West/Losses - RW   ############################\n",
      "\n",
      "\n",
      "############################  Running Auto ARIMA for OTHER H&B REVENUE/5310 AGENCY REPORTING AND PROJECT MANAGEMENT/Lost Employees - RW   ############################\n",
      "Performing stepwise search to minimize aic\n",
      " ARIMA(1,1,1)(0,1,1)[12]             : AIC=1065.942, Time=0.42 sec\n",
      " ARIMA(0,1,0)(0,1,0)[12]             : AIC=1105.526, Time=0.01 sec\n",
      " ARIMA(1,1,0)(1,1,0)[12]             : AIC=1072.844, Time=0.17 sec\n",
      " ARIMA(0,1,1)(0,1,1)[12]             : AIC=1064.200, Time=0.26 sec\n",
      " ARIMA(0,1,1)(0,1,0)[12]             : AIC=1077.902, Time=0.06 sec\n",
      " ARIMA(0,1,1)(1,1,1)[12]             : AIC=inf, Time=0.54 sec\n",
      " ARIMA(0,1,1)(0,1,2)[12]             : AIC=1065.909, Time=0.86 sec\n",
      " ARIMA(0,1,1)(1,1,0)[12]             : AIC=1067.005, Time=0.18 sec\n",
      " ARIMA(0,1,1)(1,1,2)[12]             : AIC=inf, Time=2.45 sec\n",
      " ARIMA(0,1,0)(0,1,1)[12]             : AIC=1087.629, Time=0.24 sec\n",
      " ARIMA(0,1,2)(0,1,1)[12]             : AIC=1065.919, Time=0.49 sec\n",
      " ARIMA(1,1,0)(0,1,1)[12]             : AIC=1071.325, Time=0.23 sec\n",
      " ARIMA(1,1,2)(0,1,1)[12]             : AIC=1067.919, Time=0.56 sec\n",
      " ARIMA(0,1,1)(0,1,1)[12] intercept   : AIC=1065.207, Time=0.47 sec\n",
      "\n",
      "Best model:  ARIMA(0,1,1)(0,1,1)[12]          \n",
      "Total fit time: 6.948 seconds\n",
      "############################  End Auto ARIMA for OTHER H&B REVENUE/5310 AGENCY REPORTING AND PROJECT MANAGEMENT/Lost Employees - RW   ############################\n",
      "\n",
      "\n",
      "############################  Running Auto ARIMA for PR PRODUCT/1502 SP ETAP/Sales - RW   ############################\n",
      "Performing stepwise search to minimize aic\n",
      " ARIMA(1,1,1)(0,1,1)[12]             : AIC=inf, Time=0.28 sec\n",
      " ARIMA(0,1,0)(0,1,0)[12]             : AIC=938.327, Time=0.01 sec\n",
      " ARIMA(1,1,0)(1,1,0)[12]             : AIC=920.024, Time=0.12 sec\n",
      " ARIMA(0,1,1)(0,1,1)[12]             : AIC=892.629, Time=0.40 sec\n",
      " ARIMA(0,1,1)(0,1,0)[12]             : AIC=inf, Time=0.04 sec\n",
      " ARIMA(0,1,1)(1,1,1)[12]             : AIC=894.168, Time=0.34 sec\n",
      " ARIMA(0,1,1)(0,1,2)[12]             : AIC=inf, Time=0.78 sec\n",
      " ARIMA(0,1,1)(1,1,0)[12]             : AIC=893.572, Time=0.31 sec\n",
      " ARIMA(0,1,1)(1,1,2)[12]             : AIC=inf, Time=1.13 sec\n",
      " ARIMA(0,1,0)(0,1,1)[12]             : AIC=935.341, Time=0.13 sec\n",
      " ARIMA(0,1,2)(0,1,1)[12]             : AIC=894.614, Time=0.33 sec\n",
      " ARIMA(1,1,0)(0,1,1)[12]             : AIC=918.865, Time=0.19 sec\n",
      " ARIMA(1,1,2)(0,1,1)[12]             : AIC=896.622, Time=0.77 sec\n",
      " ARIMA(0,1,1)(0,1,1)[12] intercept   : AIC=inf, Time=0.32 sec\n",
      "\n",
      "Best model:  ARIMA(0,1,1)(0,1,1)[12]          \n",
      "Total fit time: 5.172 seconds\n",
      "############################  End Auto ARIMA for PR PRODUCT/1502 SP ETAP/Sales - RW   ############################\n",
      "\n",
      "\n",
      "############################  Running Auto ARIMA for Total Flex Blended Products Revenue/Auburn RSC/Transfers out - RW   ############################\n",
      "Performing stepwise search to minimize aic\n",
      " ARIMA(1,1,1)(0,1,1)[12]             : AIC=inf, Time=0.54 sec\n",
      " ARIMA(0,1,0)(0,1,0)[12]             : AIC=1140.788, Time=0.01 sec\n",
      " ARIMA(1,1,0)(1,1,0)[12]             : AIC=1105.534, Time=0.19 sec\n",
      " ARIMA(0,1,1)(0,1,1)[12]             : AIC=inf, Time=0.36 sec\n",
      " ARIMA(1,1,0)(0,1,0)[12]             : AIC=1120.375, Time=0.02 sec\n",
      " ARIMA(1,1,0)(2,1,0)[12]             : AIC=1104.971, Time=0.57 sec\n",
      " ARIMA(1,1,0)(2,1,1)[12]             : AIC=inf, Time=1.63 sec\n",
      " ARIMA(1,1,0)(1,1,1)[12]             : AIC=inf, Time=0.36 sec\n",
      " ARIMA(0,1,0)(2,1,0)[12]             : AIC=1127.846, Time=0.37 sec\n",
      " ARIMA(2,1,0)(2,1,0)[12]             : AIC=1096.222, Time=0.62 sec\n",
      " ARIMA(2,1,0)(1,1,0)[12]             : AIC=1098.347, Time=0.22 sec\n",
      " ARIMA(2,1,0)(2,1,1)[12]             : AIC=inf, Time=1.84 sec\n",
      " ARIMA(2,1,0)(1,1,1)[12]             : AIC=inf, Time=0.78 sec\n",
      " ARIMA(3,1,0)(2,1,0)[12]             : AIC=1096.176, Time=0.89 sec\n",
      " ARIMA(3,1,0)(1,1,0)[12]             : AIC=1099.166, Time=0.32 sec\n",
      " ARIMA(3,1,0)(2,1,1)[12]             : AIC=inf, Time=2.45 sec\n",
      " ARIMA(3,1,0)(1,1,1)[12]             : AIC=inf, Time=1.10 sec\n",
      " ARIMA(4,1,0)(2,1,0)[12]             : AIC=1096.211, Time=1.07 sec\n",
      " ARIMA(3,1,1)(2,1,0)[12]             : AIC=1097.238, Time=1.46 sec\n",
      " ARIMA(2,1,1)(2,1,0)[12]             : AIC=1095.282, Time=1.09 sec\n",
      " ARIMA(2,1,1)(1,1,0)[12]             : AIC=1098.521, Time=0.36 sec\n",
      " ARIMA(2,1,1)(2,1,1)[12]             : AIC=inf, Time=2.11 sec\n",
      " ARIMA(2,1,1)(1,1,1)[12]             : AIC=inf, Time=0.98 sec\n",
      " ARIMA(1,1,1)(2,1,0)[12]             : AIC=1094.129, Time=0.88 sec\n",
      " ARIMA(1,1,1)(1,1,0)[12]             : AIC=1097.081, Time=0.31 sec\n",
      " ARIMA(1,1,1)(2,1,1)[12]             : AIC=inf, Time=3.60 sec\n",
      " ARIMA(1,1,1)(1,1,1)[12]             : AIC=inf, Time=0.61 sec\n",
      " ARIMA(0,1,1)(2,1,0)[12]             : AIC=1093.970, Time=0.68 sec\n",
      " ARIMA(0,1,1)(1,1,0)[12]             : AIC=1096.299, Time=0.16 sec\n",
      " ARIMA(0,1,1)(2,1,1)[12]             : AIC=inf, Time=2.65 sec\n",
      " ARIMA(0,1,1)(1,1,1)[12]             : AIC=inf, Time=0.55 sec\n",
      " ARIMA(0,1,2)(2,1,0)[12]             : AIC=1093.430, Time=0.85 sec\n",
      " ARIMA(0,1,2)(1,1,0)[12]             : AIC=1096.727, Time=0.34 sec\n",
      " ARIMA(0,1,2)(2,1,1)[12]             : AIC=inf, Time=1.42 sec\n",
      " ARIMA(0,1,2)(1,1,1)[12]             : AIC=inf, Time=0.64 sec\n",
      " ARIMA(1,1,2)(2,1,0)[12]             : AIC=1095.151, Time=1.98 sec\n",
      " ARIMA(0,1,3)(2,1,0)[12]             : AIC=1094.941, Time=1.01 sec\n",
      " ARIMA(1,1,3)(2,1,0)[12]             : AIC=1096.338, Time=1.82 sec\n",
      " ARIMA(0,1,2)(2,1,0)[12] intercept   : AIC=1095.424, Time=1.67 sec\n",
      "\n",
      "Best model:  ARIMA(0,1,2)(2,1,0)[12]          \n",
      "Total fit time: 38.555 seconds\n",
      "############################  End Auto ARIMA for Total Flex Blended Products Revenue/Auburn RSC/Transfers out - RW   ############################\n",
      "\n",
      "\n",
      "############################  Running Auto ARIMA for Total Preview Blended Products Revenue/0439 ORLANDO MMS/Non Processing Clients   ############################\n",
      "Performing stepwise search to minimize aic\n",
      " ARIMA(1,1,1)(0,1,1)[12]             : AIC=449.060, Time=0.37 sec\n",
      " ARIMA(0,1,0)(0,1,0)[12]             : AIC=487.058, Time=0.01 sec\n",
      " ARIMA(1,1,0)(1,1,0)[12]             : AIC=457.882, Time=0.09 sec\n",
      " ARIMA(0,1,1)(0,1,1)[12]             : AIC=448.147, Time=0.14 sec\n",
      " ARIMA(0,1,1)(0,1,0)[12]             : AIC=469.686, Time=0.02 sec\n",
      " ARIMA(0,1,1)(1,1,1)[12]             : AIC=449.931, Time=0.23 sec\n",
      " ARIMA(0,1,1)(0,1,2)[12]             : AIC=449.825, Time=0.40 sec\n",
      " ARIMA(0,1,1)(1,1,0)[12]             : AIC=454.070, Time=0.09 sec\n",
      " ARIMA(0,1,1)(1,1,2)[12]             : AIC=451.672, Time=0.95 sec\n",
      " ARIMA(0,1,0)(0,1,1)[12]             : AIC=471.950, Time=0.09 sec\n",
      " ARIMA(0,1,2)(0,1,1)[12]             : AIC=450.138, Time=0.25 sec\n",
      " ARIMA(1,1,0)(0,1,1)[12]             : AIC=454.096, Time=0.16 sec\n",
      " ARIMA(1,1,2)(0,1,1)[12]             : AIC=inf, Time=0.75 sec\n",
      " ARIMA(0,1,1)(0,1,1)[12] intercept   : AIC=450.129, Time=0.26 sec\n",
      "\n",
      "Best model:  ARIMA(0,1,1)(0,1,1)[12]          \n",
      "Total fit time: 3.833 seconds\n",
      "############################  End Auto ARIMA for Total Preview Blended Products Revenue/0439 ORLANDO MMS/Non Processing Clients   ############################\n",
      "\n",
      "\n",
      "############################  Running Auto ARIMA for Total Preview Blended Products Revenue/0472 DALLAS MMS/Transfers out - RW   ############################\n",
      "Performing stepwise search to minimize aic\n",
      " ARIMA(1,1,1)(0,1,1)[12]             : AIC=inf, Time=0.53 sec\n",
      " ARIMA(0,1,0)(0,1,0)[12]             : AIC=539.010, Time=0.01 sec\n",
      " ARIMA(1,1,0)(1,1,0)[12]             : AIC=499.168, Time=0.10 sec\n",
      " ARIMA(0,1,1)(0,1,1)[12]             : AIC=inf, Time=0.27 sec\n",
      " ARIMA(1,1,0)(0,1,0)[12]             : AIC=525.444, Time=0.03 sec\n",
      " ARIMA(1,1,0)(2,1,0)[12]             : AIC=492.060, Time=0.33 sec\n",
      " ARIMA(1,1,0)(2,1,1)[12]             : AIC=inf, Time=1.49 sec\n",
      " ARIMA(1,1,0)(1,1,1)[12]             : AIC=inf, Time=0.59 sec\n",
      " ARIMA(0,1,0)(2,1,0)[12]             : AIC=503.350, Time=0.19 sec\n",
      " ARIMA(2,1,0)(2,1,0)[12]             : AIC=477.027, Time=0.48 sec\n",
      " ARIMA(2,1,0)(1,1,0)[12]             : AIC=484.796, Time=0.14 sec\n",
      " ARIMA(2,1,0)(2,1,1)[12]             : AIC=inf, Time=1.77 sec\n",
      " ARIMA(2,1,0)(1,1,1)[12]             : AIC=inf, Time=0.65 sec\n",
      " ARIMA(3,1,0)(2,1,0)[12]             : AIC=475.975, Time=0.45 sec\n",
      " ARIMA(3,1,0)(1,1,0)[12]             : AIC=485.673, Time=0.15 sec\n",
      " ARIMA(3,1,0)(2,1,1)[12]             : AIC=inf, Time=1.91 sec\n",
      " ARIMA(3,1,0)(1,1,1)[12]             : AIC=inf, Time=0.91 sec\n",
      " ARIMA(4,1,0)(2,1,0)[12]             : AIC=475.240, Time=0.54 sec\n",
      " ARIMA(4,1,0)(1,1,0)[12]             : AIC=484.907, Time=0.21 sec\n",
      " ARIMA(4,1,0)(2,1,1)[12]             : AIC=inf, Time=2.93 sec\n",
      " ARIMA(4,1,0)(1,1,1)[12]             : AIC=inf, Time=1.02 sec\n",
      " ARIMA(5,1,0)(2,1,0)[12]             : AIC=467.119, Time=0.88 sec\n",
      " ARIMA(5,1,0)(1,1,0)[12]             : AIC=479.110, Time=0.30 sec\n",
      " ARIMA(5,1,0)(2,1,1)[12]             : AIC=inf, Time=3.09 sec\n",
      " ARIMA(5,1,0)(1,1,1)[12]             : AIC=inf, Time=1.05 sec\n",
      " ARIMA(5,1,1)(2,1,0)[12]             : AIC=468.270, Time=1.23 sec\n",
      " ARIMA(4,1,1)(2,1,0)[12]             : AIC=468.763, Time=1.22 sec\n",
      " ARIMA(5,1,0)(2,1,0)[12] intercept   : AIC=468.583, Time=2.00 sec\n",
      "\n",
      "Best model:  ARIMA(5,1,0)(2,1,0)[12]          \n",
      "Total fit time: 24.481 seconds\n",
      "############################  End Auto ARIMA for Total Preview Blended Products Revenue/0472 DALLAS MMS/Transfers out - RW   ############################\n",
      "\n",
      "\n",
      "############################  Running Auto ARIMA for PEO ADMIN Revenue/0741 PBS ST. PETERSBURG/Lost Employees - RW   ############################\n",
      "Performing stepwise search to minimize aic\n",
      " ARIMA(1,1,1)(0,1,1)[12]             : AIC=1232.497, Time=0.45 sec\n",
      " ARIMA(0,1,0)(0,1,0)[12]             : AIC=1263.382, Time=0.02 sec\n",
      " ARIMA(1,1,0)(1,1,0)[12]             : AIC=1250.122, Time=0.08 sec\n",
      " ARIMA(0,1,1)(0,1,1)[12]             : AIC=1230.699, Time=0.27 sec\n",
      " ARIMA(0,1,1)(0,1,0)[12]             : AIC=1228.704, Time=0.05 sec\n",
      " ARIMA(0,1,1)(1,1,0)[12]             : AIC=1230.700, Time=0.21 sec\n",
      " ARIMA(0,1,1)(1,1,1)[12]             : AIC=1232.029, Time=0.73 sec\n",
      " ARIMA(1,1,1)(0,1,0)[12]             : AIC=1230.509, Time=0.10 sec\n",
      " ARIMA(0,1,2)(0,1,0)[12]             : AIC=1230.509, Time=0.08 sec\n",
      " ARIMA(1,1,0)(0,1,0)[12]             : AIC=1248.135, Time=0.02 sec\n",
      " ARIMA(1,1,2)(0,1,0)[12]             : AIC=inf, Time=0.30 sec\n",
      " ARIMA(0,1,1)(0,1,0)[12] intercept   : AIC=inf, Time=0.07 sec\n",
      "\n",
      "Best model:  ARIMA(0,1,1)(0,1,0)[12]          \n",
      "Total fit time: 2.371 seconds\n",
      "############################  End Auto ARIMA for PEO ADMIN Revenue/0741 PBS ST. PETERSBURG/Lost Employees - RW   ############################\n",
      "\n",
      "\n",
      "############################  Running Auto ARIMA for 401(K) PLANS/5020 EPlan Sales/Sales - RW   ############################\n",
      "Performing stepwise search to minimize aic\n",
      " ARIMA(1,1,1)(0,1,1)[12]             : AIC=inf, Time=0.52 sec\n",
      " ARIMA(0,1,0)(0,1,0)[12]             : AIC=600.717, Time=0.01 sec\n",
      " ARIMA(1,1,0)(1,1,0)[12]             : AIC=571.582, Time=0.09 sec\n",
      " ARIMA(0,1,1)(0,1,1)[12]             : AIC=inf, Time=0.23 sec\n",
      " ARIMA(1,1,0)(0,1,0)[12]             : AIC=587.146, Time=0.02 sec\n",
      " ARIMA(1,1,0)(2,1,0)[12]             : AIC=573.516, Time=0.30 sec\n",
      " ARIMA(1,1,0)(1,1,1)[12]             : AIC=inf, Time=0.53 sec\n",
      " ARIMA(1,1,0)(0,1,1)[12]             : AIC=inf, Time=0.25 sec\n",
      " ARIMA(1,1,0)(2,1,1)[12]             : AIC=inf, Time=1.35 sec\n",
      " ARIMA(0,1,0)(1,1,0)[12]             : AIC=584.961, Time=0.06 sec\n",
      " ARIMA(2,1,0)(1,1,0)[12]             : AIC=561.697, Time=0.16 sec\n",
      " ARIMA(2,1,0)(0,1,0)[12]             : AIC=585.799, Time=0.05 sec\n",
      " ARIMA(2,1,0)(2,1,0)[12]             : AIC=563.369, Time=0.44 sec\n",
      " ARIMA(2,1,0)(1,1,1)[12]             : AIC=inf, Time=0.72 sec\n",
      " ARIMA(2,1,0)(0,1,1)[12]             : AIC=inf, Time=0.46 sec\n",
      " ARIMA(2,1,0)(2,1,1)[12]             : AIC=inf, Time=2.09 sec\n",
      " ARIMA(3,1,0)(1,1,0)[12]             : AIC=561.984, Time=0.26 sec\n",
      " ARIMA(2,1,1)(1,1,0)[12]             : AIC=555.752, Time=0.44 sec\n",
      " ARIMA(2,1,1)(0,1,0)[12]             : AIC=inf, Time=0.22 sec\n",
      " ARIMA(2,1,1)(2,1,0)[12]             : AIC=557.313, Time=1.04 sec\n",
      " ARIMA(2,1,1)(1,1,1)[12]             : AIC=inf, Time=1.04 sec\n",
      " ARIMA(2,1,1)(0,1,1)[12]             : AIC=inf, Time=0.99 sec\n",
      " ARIMA(2,1,1)(2,1,1)[12]             : AIC=inf, Time=2.36 sec\n",
      " ARIMA(1,1,1)(1,1,0)[12]             : AIC=554.112, Time=0.19 sec\n",
      " ARIMA(1,1,1)(0,1,0)[12]             : AIC=577.172, Time=0.07 sec\n",
      " ARIMA(1,1,1)(2,1,0)[12]             : AIC=555.906, Time=0.72 sec\n",
      " ARIMA(1,1,1)(1,1,1)[12]             : AIC=inf, Time=0.94 sec\n",
      " ARIMA(1,1,1)(2,1,1)[12]             : AIC=inf, Time=2.10 sec\n",
      " ARIMA(0,1,1)(1,1,0)[12]             : AIC=552.256, Time=0.17 sec\n",
      " ARIMA(0,1,1)(0,1,0)[12]             : AIC=578.299, Time=0.05 sec\n",
      " ARIMA(0,1,1)(2,1,0)[12]             : AIC=554.035, Time=0.44 sec\n",
      " ARIMA(0,1,1)(1,1,1)[12]             : AIC=inf, Time=0.68 sec\n",
      " ARIMA(0,1,1)(2,1,1)[12]             : AIC=inf, Time=1.20 sec\n",
      " ARIMA(0,1,2)(1,1,0)[12]             : AIC=554.084, Time=0.24 sec\n",
      " ARIMA(1,1,2)(1,1,0)[12]             : AIC=554.725, Time=0.40 sec\n",
      " ARIMA(0,1,1)(1,1,0)[12] intercept   : AIC=553.580, Time=0.17 sec\n",
      "\n",
      "Best model:  ARIMA(0,1,1)(1,1,0)[12]          \n",
      "Total fit time: 21.029 seconds\n",
      "############################  End Auto ARIMA for 401(K) PLANS/5020 EPlan Sales/Sales - RW   ############################\n",
      "\n",
      "\n"
     ]
    }
   ],
   "source": [
    "# create the future predictions dataframe\n",
    "if has_actuals:\n",
    "    pred_df, _ = models.run_auto_arima(comb_df, feature_cols, pred_start_dt, forecast_window, ci=False)\n",
    "    final_best = finalize_model(best)\n",
    "    #future_dates = pd.date_range(start = pred_start_dt, end = pred_end_dt, freq = 'MS')\n",
    "    pred_df = predict_model(final_best, data=pred_df)\n",
    "    #pred_df = pred_df[['Calendar Date', 'Label']]\n",
    "    pred_df = pred_df.rename(columns={'Label':ml_col})[['Calendar Date', ml_col]]\n",
    "    concat_df = pd.merge(act_df, pred_df ,on='Calendar Date', how='inner')\n",
    "    \n",
    "    # get plan data\n",
    "    plan_df = dl.get_clean_data(train_start_dt, pred_end_dt, file_path, type='plan', level=level)\n",
    "    plan_df = plan_df[['Calendar Date', target_col]]\n",
    "    plan_df.rename(columns={target_col:plan_col}, inplace=True)\n",
    "    plan_df['Calendar Date'] = pd.to_datetime(plan_df['Calendar Date'])\n",
    "    concat_df = pd.merge(concat_df,plan_df, on='Calendar Date', how='inner')\n",
    "    \n",
    "    # get forecast data\n",
    "    fcst_df = dl.get_clean_data(train_start_dt, pred_end_dt, file_path,\n",
    "                                type='forecast',\n",
    "                                forecast_type=forecast_type,\n",
    "                                level=level)\n",
    "    fcst_df = fcst_df[['Calendar Date', target_col]]\n",
    "    fcst_df.rename(columns={target_col:fcst_col}, inplace=True)\n",
    "    fcst_df['Calendar Date'] = pd.to_datetime(fcst_df['Calendar Date'])\n",
    "    concat_df = pd.merge(concat_df,fcst_df, on='Calendar Date', how='inner')"
   ]
  },
  {
   "cell_type": "code",
   "execution_count": 27,
   "metadata": {},
   "outputs": [
    {
     "name": "stdout",
     "output_type": "stream",
     "text": [
      "############################  Running Auto ARIMA for Service Revenue   ############################\n",
      "Performing stepwise search to minimize aic\n",
      " ARIMA(1,1,1)(0,1,1)[12]             : AIC=2643.294, Time=0.16 sec\n",
      " ARIMA(0,1,0)(0,1,0)[12]             : AIC=2669.485, Time=0.01 sec\n",
      " ARIMA(1,1,0)(1,1,0)[12]             : AIC=2650.760, Time=0.10 sec\n",
      " ARIMA(0,1,1)(0,1,1)[12]             : AIC=2641.882, Time=0.08 sec\n",
      " ARIMA(0,1,1)(0,1,0)[12]             : AIC=2653.990, Time=0.02 sec\n",
      " ARIMA(0,1,1)(1,1,1)[12]             : AIC=2639.946, Time=0.19 sec\n",
      " ARIMA(0,1,1)(1,1,0)[12]             : AIC=2648.489, Time=0.10 sec\n",
      " ARIMA(0,1,1)(2,1,1)[12]             : AIC=2640.752, Time=1.32 sec\n",
      " ARIMA(0,1,1)(1,1,2)[12]             : AIC=2641.150, Time=1.09 sec\n",
      " ARIMA(0,1,1)(0,1,2)[12]             : AIC=2639.170, Time=0.43 sec\n",
      " ARIMA(0,1,0)(0,1,2)[12]             : AIC=2657.001, Time=0.34 sec\n",
      " ARIMA(1,1,1)(0,1,2)[12]             : AIC=2640.242, Time=1.03 sec\n",
      " ARIMA(0,1,2)(0,1,2)[12]             : AIC=2640.460, Time=0.70 sec\n",
      " ARIMA(1,1,0)(0,1,2)[12]             : AIC=2641.010, Time=0.43 sec\n",
      " ARIMA(1,1,2)(0,1,2)[12]             : AIC=2642.144, Time=0.83 sec\n",
      " ARIMA(0,1,1)(0,1,2)[12] intercept   : AIC=2641.474, Time=0.40 sec\n",
      "\n",
      "Best model:  ARIMA(0,1,1)(0,1,2)[12]          \n",
      "Total fit time: 7.255 seconds\n",
      "############################  End Auto ARIMA for Service Revenue   ############################\n",
      "\n",
      "\n"
     ]
    }
   ],
   "source": [
    "# run UTS\n",
    "uts_df = comb_df[['Calendar Date', target_col]]\n",
    "uts_df, uts_model = models.run_auto_arima(uts_df, [target_col], pred_start_dt, forecast_window, ci=True, alpha = 0.05)\n",
    "uts_df.rename(columns={target_col:uts_col}, inplace=True)"
   ]
  },
  {
   "cell_type": "code",
   "execution_count": 34,
   "outputs": [],
   "source": [
    "with open(model_path + '/{}_uts_model.pkl'.format(target_col), 'wb') as pkl:\n",
    "    pickle.dump(uts_model, pkl)"
   ],
   "metadata": {
    "collapsed": false,
    "pycharm": {
     "name": "#%%\n"
    }
   }
  },
  {
   "cell_type": "code",
   "execution_count": 35,
   "outputs": [],
   "source": [
    "concat_df = pd.merge(concat_df,uts_df, on='Calendar Date', how='inner')"
   ],
   "metadata": {
    "collapsed": false,
    "pycharm": {
     "name": "#%%\n"
    }
   }
  },
  {
   "cell_type": "code",
   "execution_count": 36,
   "metadata": {},
   "outputs": [],
   "source": [
    "# combine all data together\n",
    "concat_df = pd.concat([comb_df[['Calendar Date', target_col]],concat_df], axis=0)"
   ]
  },
  {
   "cell_type": "code",
   "execution_count": 37,
   "outputs": [
    {
     "data": {
      "application/vnd.plotly.v1+json": {
       "data": [
        {
         "hovertemplate": "variable=Total Revenue<br>Calendar Date=%{x}<br>value=%{y}<extra></extra>",
         "legendgroup": "Total Revenue",
         "line": {
          "color": "#636efa",
          "dash": "solid"
         },
         "marker": {
          "symbol": "circle"
         },
         "mode": "lines",
         "name": "Total Revenue",
         "orientation": "v",
         "showlegend": true,
         "x": [
          "2014-06-01T00:00:00",
          "2014-07-01T00:00:00",
          "2014-08-01T00:00:00",
          "2014-09-01T00:00:00",
          "2014-10-01T00:00:00",
          "2014-11-01T00:00:00",
          "2014-12-01T00:00:00",
          "2015-01-01T00:00:00",
          "2015-02-01T00:00:00",
          "2015-03-01T00:00:00",
          "2015-04-01T00:00:00",
          "2015-05-01T00:00:00",
          "2015-06-01T00:00:00",
          "2015-07-01T00:00:00",
          "2015-08-01T00:00:00",
          "2015-09-01T00:00:00",
          "2015-10-01T00:00:00",
          "2015-11-01T00:00:00",
          "2015-12-01T00:00:00",
          "2016-01-01T00:00:00",
          "2016-02-01T00:00:00",
          "2016-03-01T00:00:00",
          "2016-04-01T00:00:00",
          "2016-05-01T00:00:00",
          "2016-06-01T00:00:00",
          "2016-07-01T00:00:00",
          "2016-08-01T00:00:00",
          "2016-09-01T00:00:00",
          "2016-10-01T00:00:00",
          "2016-11-01T00:00:00",
          "2016-12-01T00:00:00",
          "2017-01-01T00:00:00",
          "2017-02-01T00:00:00",
          "2017-03-01T00:00:00",
          "2017-04-01T00:00:00",
          "2017-05-01T00:00:00",
          "2017-06-01T00:00:00",
          "2017-07-01T00:00:00",
          "2017-08-01T00:00:00",
          "2017-09-01T00:00:00",
          "2017-10-01T00:00:00",
          "2017-11-01T00:00:00",
          "2017-12-01T00:00:00",
          "2018-01-01T00:00:00",
          "2018-02-01T00:00:00",
          "2018-03-01T00:00:00",
          "2018-04-01T00:00:00",
          "2018-05-01T00:00:00",
          "2018-06-01T00:00:00",
          "2018-07-01T00:00:00",
          "2018-08-01T00:00:00",
          "2018-09-01T00:00:00",
          "2018-10-01T00:00:00",
          "2018-11-01T00:00:00",
          "2018-12-01T00:00:00",
          "2019-01-01T00:00:00",
          "2019-02-01T00:00:00",
          "2019-03-01T00:00:00",
          "2019-04-01T00:00:00",
          "2019-05-01T00:00:00",
          "2019-06-01T00:00:00",
          "2019-07-01T00:00:00",
          "2019-08-01T00:00:00",
          "2019-09-01T00:00:00",
          "2019-10-01T00:00:00",
          "2019-11-01T00:00:00",
          "2019-12-01T00:00:00",
          "2020-01-01T00:00:00",
          "2020-02-01T00:00:00",
          "2020-03-01T00:00:00",
          "2020-04-01T00:00:00",
          "2020-05-01T00:00:00",
          "2020-06-01T00:00:00",
          "2020-07-01T00:00:00",
          "2020-08-01T00:00:00",
          "2020-09-01T00:00:00",
          "2020-10-01T00:00:00",
          "2020-11-01T00:00:00",
          "2020-12-01T00:00:00",
          "2021-01-01T00:00:00",
          "2021-02-01T00:00:00",
          "2021-03-01T00:00:00",
          "2021-04-01T00:00:00",
          "2021-05-01T00:00:00",
          "2021-06-01T00:00:00",
          "2021-07-01T00:00:00",
          "2021-08-01T00:00:00",
          "2021-09-01T00:00:00",
          "2021-10-01T00:00:00",
          "2021-11-01T00:00:00",
          "2021-12-01T00:00:00",
          "2022-01-01T00:00:00"
         ],
         "xaxis": "x",
         "y": [
          2.0743458645999998E8,
          2.4836186554E8,
          2.1104344206E8,
          2.0641817224E8,
          2.5845930407999998E8,
          2.1133591935999998E8,
          2.1875267982E8,
          2.7202895984000003E8,
          2.1360705209E8,
          2.0767028516E8,
          2.5951283887E8,
          2.2505892685000002E8,
          2.1701426091E8,
          2.7314138551E8,
          2.3108715238E8,
          2.6425569287E8,
          2.3168017346E8,
          2.2477419628E8,
          2.3515555735999998E8,
          2.8874219319E8,
          2.2666794824E8,
          2.6816804035E8,
          2.4002389031E8,
          2.4402189099E8,
          2.6526755819E8,
          2.4865489273E8,
          2.7061116051E8,
          2.5059166079E8,
          2.5628180974E8,
          2.6276210083E8,
          2.6609399698E8,
          2.7984343497E8,
          2.4814704353E8,
          2.6729550354000002E8,
          2.5030142291E8,
          2.7874610929E8,
          2.6874594988E8,
          2.6518761985999998E8,
          2.8059605582E8,
          2.6293843442000002E8,
          2.7867221922E8,
          2.8242062795E8,
          2.8309471754E8,
          3.1169069053E8,
          2.7133775665E8,
          2.8317579587E8,
          2.8226038495E8,
          3.0148173040000004E8,
          2.7551482056E8,
          2.9122388109999996E8,
          2.9609719453E8,
          2.7315041531E8,
          3.0664430555E8,
          2.7911762805E8,
          3.0399596464E8,
          4.5171138863E8,
          3.1464905787E8,
          3.1533739103999996E8,
          3.2636964031E8,
          3.2607943159E8,
          3.1049027853E8,
          3.4324507753999996E8,
          3.1896772633E8,
          3.1586119394E8,
          3.4540957859E8,
          3.0878921202E8,
          3.5344782279E8,
          4.4578902554E8,
          3.2244662709E8,
          3.2123345014E8,
          2.9515460349E8,
          2.7992666269E8,
          3.0020864846999997E8,
          3.1849960204E8,
          2.9450668289E8,
          3.2601279031E8,
          3.2171011458E8,
          3.1606577425E8,
          3.586426393E8,
          4.1438531006E8,
          3.1920085489E8,
          3.4941373265E8,
          3.3777083078999996E8,
          3.2545813915999997E8,
          3.5680314769E8,
          3.5438096032E8,
          3.5601372595E8,
          3.7092361457E8,
          3.5744001578000003E8,
          3.646378559E8,
          4.0786916988E8,
          4.8603425921E8
         ],
         "yaxis": "y",
         "type": "scatter"
        },
        {
         "hovertemplate": "variable=Total Revenue - ML Predicted<br>Calendar Date=%{x}<br>value=%{y}<extra></extra>",
         "legendgroup": "Total Revenue - ML Predicted",
         "line": {
          "color": "#EF553B",
          "dash": "solid"
         },
         "marker": {
          "symbol": "circle"
         },
         "mode": "lines",
         "name": "Total Revenue - ML Predicted",
         "orientation": "v",
         "showlegend": true,
         "x": [
          "2014-06-01T00:00:00",
          "2014-07-01T00:00:00",
          "2014-08-01T00:00:00",
          "2014-09-01T00:00:00",
          "2014-10-01T00:00:00",
          "2014-11-01T00:00:00",
          "2014-12-01T00:00:00",
          "2015-01-01T00:00:00",
          "2015-02-01T00:00:00",
          "2015-03-01T00:00:00",
          "2015-04-01T00:00:00",
          "2015-05-01T00:00:00",
          "2015-06-01T00:00:00",
          "2015-07-01T00:00:00",
          "2015-08-01T00:00:00",
          "2015-09-01T00:00:00",
          "2015-10-01T00:00:00",
          "2015-11-01T00:00:00",
          "2015-12-01T00:00:00",
          "2016-01-01T00:00:00",
          "2016-02-01T00:00:00",
          "2016-03-01T00:00:00",
          "2016-04-01T00:00:00",
          "2016-05-01T00:00:00",
          "2016-06-01T00:00:00",
          "2016-07-01T00:00:00",
          "2016-08-01T00:00:00",
          "2016-09-01T00:00:00",
          "2016-10-01T00:00:00",
          "2016-11-01T00:00:00",
          "2016-12-01T00:00:00",
          "2017-01-01T00:00:00",
          "2017-02-01T00:00:00",
          "2017-03-01T00:00:00",
          "2017-04-01T00:00:00",
          "2017-05-01T00:00:00",
          "2017-06-01T00:00:00",
          "2017-07-01T00:00:00",
          "2017-08-01T00:00:00",
          "2017-09-01T00:00:00",
          "2017-10-01T00:00:00",
          "2017-11-01T00:00:00",
          "2017-12-01T00:00:00",
          "2018-01-01T00:00:00",
          "2018-02-01T00:00:00",
          "2018-03-01T00:00:00",
          "2018-04-01T00:00:00",
          "2018-05-01T00:00:00",
          "2018-06-01T00:00:00",
          "2018-07-01T00:00:00",
          "2018-08-01T00:00:00",
          "2018-09-01T00:00:00",
          "2018-10-01T00:00:00",
          "2018-11-01T00:00:00",
          "2018-12-01T00:00:00",
          "2019-01-01T00:00:00",
          "2019-02-01T00:00:00",
          "2019-03-01T00:00:00",
          "2019-04-01T00:00:00",
          "2019-05-01T00:00:00",
          "2019-06-01T00:00:00",
          "2019-07-01T00:00:00",
          "2019-08-01T00:00:00",
          "2019-09-01T00:00:00",
          "2019-10-01T00:00:00",
          "2019-11-01T00:00:00",
          "2019-12-01T00:00:00",
          "2020-01-01T00:00:00",
          "2020-02-01T00:00:00",
          "2020-03-01T00:00:00",
          "2020-04-01T00:00:00",
          "2020-05-01T00:00:00",
          "2020-06-01T00:00:00",
          "2020-07-01T00:00:00",
          "2020-08-01T00:00:00",
          "2020-09-01T00:00:00",
          "2020-10-01T00:00:00",
          "2020-11-01T00:00:00",
          "2020-12-01T00:00:00",
          "2021-01-01T00:00:00",
          "2021-02-01T00:00:00",
          "2021-03-01T00:00:00",
          "2021-04-01T00:00:00",
          "2021-05-01T00:00:00",
          "2021-06-01T00:00:00",
          "2021-07-01T00:00:00",
          "2021-08-01T00:00:00",
          "2021-09-01T00:00:00",
          "2021-10-01T00:00:00",
          "2021-11-01T00:00:00",
          "2021-12-01T00:00:00",
          "2022-01-01T00:00:00"
         ],
         "xaxis": "x",
         "y": [
          null,
          null,
          null,
          null,
          null,
          null,
          null,
          null,
          null,
          null,
          null,
          null,
          null,
          null,
          null,
          null,
          null,
          null,
          null,
          null,
          null,
          null,
          null,
          null,
          null,
          null,
          null,
          null,
          null,
          null,
          null,
          null,
          null,
          null,
          null,
          null,
          null,
          null,
          null,
          null,
          null,
          null,
          null,
          null,
          null,
          null,
          null,
          null,
          null,
          null,
          null,
          null,
          null,
          null,
          null,
          null,
          null,
          null,
          null,
          null,
          null,
          null,
          null,
          null,
          null,
          null,
          null,
          null,
          null,
          null,
          null,
          null,
          null,
          null,
          null,
          null,
          null,
          null,
          null,
          null,
          null,
          null,
          null,
          null,
          3.230795333621829E8,
          3.2341549473257047E8,
          3.275867416859761E8,
          3.337098485055768E8,
          3.4050007016646737E8,
          3.453641537139402E8,
          3.5026733435598594E8,
          3.544186422826999E8
         ],
         "yaxis": "y",
         "type": "scatter"
        },
        {
         "hovertemplate": "variable=Total Revenue - UTS Predicted<br>Calendar Date=%{x}<br>value=%{y}<extra></extra>",
         "legendgroup": "Total Revenue - UTS Predicted",
         "line": {
          "color": "#00cc96",
          "dash": "solid"
         },
         "marker": {
          "symbol": "circle"
         },
         "mode": "lines",
         "name": "Total Revenue - UTS Predicted",
         "orientation": "v",
         "showlegend": true,
         "x": [
          "2014-06-01T00:00:00",
          "2014-07-01T00:00:00",
          "2014-08-01T00:00:00",
          "2014-09-01T00:00:00",
          "2014-10-01T00:00:00",
          "2014-11-01T00:00:00",
          "2014-12-01T00:00:00",
          "2015-01-01T00:00:00",
          "2015-02-01T00:00:00",
          "2015-03-01T00:00:00",
          "2015-04-01T00:00:00",
          "2015-05-01T00:00:00",
          "2015-06-01T00:00:00",
          "2015-07-01T00:00:00",
          "2015-08-01T00:00:00",
          "2015-09-01T00:00:00",
          "2015-10-01T00:00:00",
          "2015-11-01T00:00:00",
          "2015-12-01T00:00:00",
          "2016-01-01T00:00:00",
          "2016-02-01T00:00:00",
          "2016-03-01T00:00:00",
          "2016-04-01T00:00:00",
          "2016-05-01T00:00:00",
          "2016-06-01T00:00:00",
          "2016-07-01T00:00:00",
          "2016-08-01T00:00:00",
          "2016-09-01T00:00:00",
          "2016-10-01T00:00:00",
          "2016-11-01T00:00:00",
          "2016-12-01T00:00:00",
          "2017-01-01T00:00:00",
          "2017-02-01T00:00:00",
          "2017-03-01T00:00:00",
          "2017-04-01T00:00:00",
          "2017-05-01T00:00:00",
          "2017-06-01T00:00:00",
          "2017-07-01T00:00:00",
          "2017-08-01T00:00:00",
          "2017-09-01T00:00:00",
          "2017-10-01T00:00:00",
          "2017-11-01T00:00:00",
          "2017-12-01T00:00:00",
          "2018-01-01T00:00:00",
          "2018-02-01T00:00:00",
          "2018-03-01T00:00:00",
          "2018-04-01T00:00:00",
          "2018-05-01T00:00:00",
          "2018-06-01T00:00:00",
          "2018-07-01T00:00:00",
          "2018-08-01T00:00:00",
          "2018-09-01T00:00:00",
          "2018-10-01T00:00:00",
          "2018-11-01T00:00:00",
          "2018-12-01T00:00:00",
          "2019-01-01T00:00:00",
          "2019-02-01T00:00:00",
          "2019-03-01T00:00:00",
          "2019-04-01T00:00:00",
          "2019-05-01T00:00:00",
          "2019-06-01T00:00:00",
          "2019-07-01T00:00:00",
          "2019-08-01T00:00:00",
          "2019-09-01T00:00:00",
          "2019-10-01T00:00:00",
          "2019-11-01T00:00:00",
          "2019-12-01T00:00:00",
          "2020-01-01T00:00:00",
          "2020-02-01T00:00:00",
          "2020-03-01T00:00:00",
          "2020-04-01T00:00:00",
          "2020-05-01T00:00:00",
          "2020-06-01T00:00:00",
          "2020-07-01T00:00:00",
          "2020-08-01T00:00:00",
          "2020-09-01T00:00:00",
          "2020-10-01T00:00:00",
          "2020-11-01T00:00:00",
          "2020-12-01T00:00:00",
          "2021-01-01T00:00:00",
          "2021-02-01T00:00:00",
          "2021-03-01T00:00:00",
          "2021-04-01T00:00:00",
          "2021-05-01T00:00:00",
          "2021-06-01T00:00:00",
          "2021-07-01T00:00:00",
          "2021-08-01T00:00:00",
          "2021-09-01T00:00:00",
          "2021-10-01T00:00:00",
          "2021-11-01T00:00:00",
          "2021-12-01T00:00:00",
          "2022-01-01T00:00:00"
         ],
         "xaxis": "x",
         "y": [
          null,
          null,
          null,
          null,
          null,
          null,
          null,
          null,
          null,
          null,
          null,
          null,
          null,
          null,
          null,
          null,
          null,
          null,
          null,
          null,
          null,
          null,
          null,
          null,
          null,
          null,
          null,
          null,
          null,
          null,
          null,
          null,
          null,
          null,
          null,
          null,
          null,
          null,
          null,
          null,
          null,
          null,
          null,
          null,
          null,
          null,
          null,
          null,
          null,
          null,
          null,
          null,
          null,
          null,
          null,
          null,
          null,
          null,
          null,
          null,
          null,
          null,
          null,
          null,
          null,
          null,
          null,
          null,
          null,
          null,
          null,
          null,
          null,
          null,
          null,
          null,
          null,
          null,
          null,
          null,
          null,
          null,
          null,
          null,
          3.399100721391925E8,
          3.5679191263731754E8,
          3.413132370983953E8,
          3.560264915371353E8,
          3.6098180718202543E8,
          3.510391478064857E8,
          3.83337840071721E8,
          4.4775543173648393E8
         ],
         "yaxis": "y",
         "type": "scatter"
        },
        {
         "hovertemplate": "variable=Total Revenue - Plan<br>Calendar Date=%{x}<br>value=%{y}<extra></extra>",
         "legendgroup": "Total Revenue - Plan",
         "line": {
          "color": "#ab63fa",
          "dash": "solid"
         },
         "marker": {
          "symbol": "circle"
         },
         "mode": "lines",
         "name": "Total Revenue - Plan",
         "orientation": "v",
         "showlegend": true,
         "x": [
          "2014-06-01T00:00:00",
          "2014-07-01T00:00:00",
          "2014-08-01T00:00:00",
          "2014-09-01T00:00:00",
          "2014-10-01T00:00:00",
          "2014-11-01T00:00:00",
          "2014-12-01T00:00:00",
          "2015-01-01T00:00:00",
          "2015-02-01T00:00:00",
          "2015-03-01T00:00:00",
          "2015-04-01T00:00:00",
          "2015-05-01T00:00:00",
          "2015-06-01T00:00:00",
          "2015-07-01T00:00:00",
          "2015-08-01T00:00:00",
          "2015-09-01T00:00:00",
          "2015-10-01T00:00:00",
          "2015-11-01T00:00:00",
          "2015-12-01T00:00:00",
          "2016-01-01T00:00:00",
          "2016-02-01T00:00:00",
          "2016-03-01T00:00:00",
          "2016-04-01T00:00:00",
          "2016-05-01T00:00:00",
          "2016-06-01T00:00:00",
          "2016-07-01T00:00:00",
          "2016-08-01T00:00:00",
          "2016-09-01T00:00:00",
          "2016-10-01T00:00:00",
          "2016-11-01T00:00:00",
          "2016-12-01T00:00:00",
          "2017-01-01T00:00:00",
          "2017-02-01T00:00:00",
          "2017-03-01T00:00:00",
          "2017-04-01T00:00:00",
          "2017-05-01T00:00:00",
          "2017-06-01T00:00:00",
          "2017-07-01T00:00:00",
          "2017-08-01T00:00:00",
          "2017-09-01T00:00:00",
          "2017-10-01T00:00:00",
          "2017-11-01T00:00:00",
          "2017-12-01T00:00:00",
          "2018-01-01T00:00:00",
          "2018-02-01T00:00:00",
          "2018-03-01T00:00:00",
          "2018-04-01T00:00:00",
          "2018-05-01T00:00:00",
          "2018-06-01T00:00:00",
          "2018-07-01T00:00:00",
          "2018-08-01T00:00:00",
          "2018-09-01T00:00:00",
          "2018-10-01T00:00:00",
          "2018-11-01T00:00:00",
          "2018-12-01T00:00:00",
          "2019-01-01T00:00:00",
          "2019-02-01T00:00:00",
          "2019-03-01T00:00:00",
          "2019-04-01T00:00:00",
          "2019-05-01T00:00:00",
          "2019-06-01T00:00:00",
          "2019-07-01T00:00:00",
          "2019-08-01T00:00:00",
          "2019-09-01T00:00:00",
          "2019-10-01T00:00:00",
          "2019-11-01T00:00:00",
          "2019-12-01T00:00:00",
          "2020-01-01T00:00:00",
          "2020-02-01T00:00:00",
          "2020-03-01T00:00:00",
          "2020-04-01T00:00:00",
          "2020-05-01T00:00:00",
          "2020-06-01T00:00:00",
          "2020-07-01T00:00:00",
          "2020-08-01T00:00:00",
          "2020-09-01T00:00:00",
          "2020-10-01T00:00:00",
          "2020-11-01T00:00:00",
          "2020-12-01T00:00:00",
          "2021-01-01T00:00:00",
          "2021-02-01T00:00:00",
          "2021-03-01T00:00:00",
          "2021-04-01T00:00:00",
          "2021-05-01T00:00:00",
          "2021-06-01T00:00:00",
          "2021-07-01T00:00:00",
          "2021-08-01T00:00:00",
          "2021-09-01T00:00:00",
          "2021-10-01T00:00:00",
          "2021-11-01T00:00:00",
          "2021-12-01T00:00:00",
          "2022-01-01T00:00:00"
         ],
         "xaxis": "x",
         "y": [
          null,
          null,
          null,
          null,
          null,
          null,
          null,
          null,
          null,
          null,
          null,
          null,
          null,
          null,
          null,
          null,
          null,
          null,
          null,
          null,
          null,
          null,
          null,
          null,
          null,
          null,
          null,
          null,
          null,
          null,
          null,
          null,
          null,
          null,
          null,
          null,
          null,
          null,
          null,
          null,
          null,
          null,
          null,
          null,
          null,
          null,
          null,
          null,
          null,
          null,
          null,
          null,
          null,
          null,
          null,
          null,
          null,
          null,
          null,
          null,
          null,
          null,
          null,
          null,
          null,
          null,
          null,
          null,
          null,
          null,
          null,
          null,
          null,
          null,
          null,
          null,
          null,
          null,
          null,
          null,
          null,
          null,
          null,
          null,
          3.548008842E8,
          3.5245565918E8,
          3.5207241854E8,
          3.5678642663E8,
          3.4101625037E8,
          3.4808239593E8,
          3.7525606323E8,
          4.5470692852E8
         ],
         "yaxis": "y",
         "type": "scatter"
        },
        {
         "hovertemplate": "variable=Total Revenue - 2+10 Forecast<br>Calendar Date=%{x}<br>value=%{y}<extra></extra>",
         "legendgroup": "Total Revenue - 2+10 Forecast",
         "line": {
          "color": "#FFA15A",
          "dash": "solid"
         },
         "marker": {
          "symbol": "circle"
         },
         "mode": "lines",
         "name": "Total Revenue - 2+10 Forecast",
         "orientation": "v",
         "showlegend": true,
         "x": [
          "2014-06-01T00:00:00",
          "2014-07-01T00:00:00",
          "2014-08-01T00:00:00",
          "2014-09-01T00:00:00",
          "2014-10-01T00:00:00",
          "2014-11-01T00:00:00",
          "2014-12-01T00:00:00",
          "2015-01-01T00:00:00",
          "2015-02-01T00:00:00",
          "2015-03-01T00:00:00",
          "2015-04-01T00:00:00",
          "2015-05-01T00:00:00",
          "2015-06-01T00:00:00",
          "2015-07-01T00:00:00",
          "2015-08-01T00:00:00",
          "2015-09-01T00:00:00",
          "2015-10-01T00:00:00",
          "2015-11-01T00:00:00",
          "2015-12-01T00:00:00",
          "2016-01-01T00:00:00",
          "2016-02-01T00:00:00",
          "2016-03-01T00:00:00",
          "2016-04-01T00:00:00",
          "2016-05-01T00:00:00",
          "2016-06-01T00:00:00",
          "2016-07-01T00:00:00",
          "2016-08-01T00:00:00",
          "2016-09-01T00:00:00",
          "2016-10-01T00:00:00",
          "2016-11-01T00:00:00",
          "2016-12-01T00:00:00",
          "2017-01-01T00:00:00",
          "2017-02-01T00:00:00",
          "2017-03-01T00:00:00",
          "2017-04-01T00:00:00",
          "2017-05-01T00:00:00",
          "2017-06-01T00:00:00",
          "2017-07-01T00:00:00",
          "2017-08-01T00:00:00",
          "2017-09-01T00:00:00",
          "2017-10-01T00:00:00",
          "2017-11-01T00:00:00",
          "2017-12-01T00:00:00",
          "2018-01-01T00:00:00",
          "2018-02-01T00:00:00",
          "2018-03-01T00:00:00",
          "2018-04-01T00:00:00",
          "2018-05-01T00:00:00",
          "2018-06-01T00:00:00",
          "2018-07-01T00:00:00",
          "2018-08-01T00:00:00",
          "2018-09-01T00:00:00",
          "2018-10-01T00:00:00",
          "2018-11-01T00:00:00",
          "2018-12-01T00:00:00",
          "2019-01-01T00:00:00",
          "2019-02-01T00:00:00",
          "2019-03-01T00:00:00",
          "2019-04-01T00:00:00",
          "2019-05-01T00:00:00",
          "2019-06-01T00:00:00",
          "2019-07-01T00:00:00",
          "2019-08-01T00:00:00",
          "2019-09-01T00:00:00",
          "2019-10-01T00:00:00",
          "2019-11-01T00:00:00",
          "2019-12-01T00:00:00",
          "2020-01-01T00:00:00",
          "2020-02-01T00:00:00",
          "2020-03-01T00:00:00",
          "2020-04-01T00:00:00",
          "2020-05-01T00:00:00",
          "2020-06-01T00:00:00",
          "2020-07-01T00:00:00",
          "2020-08-01T00:00:00",
          "2020-09-01T00:00:00",
          "2020-10-01T00:00:00",
          "2020-11-01T00:00:00",
          "2020-12-01T00:00:00",
          "2021-01-01T00:00:00",
          "2021-02-01T00:00:00",
          "2021-03-01T00:00:00",
          "2021-04-01T00:00:00",
          "2021-05-01T00:00:00",
          "2021-06-01T00:00:00",
          "2021-07-01T00:00:00",
          "2021-08-01T00:00:00",
          "2021-09-01T00:00:00",
          "2021-10-01T00:00:00",
          "2021-11-01T00:00:00",
          "2021-12-01T00:00:00",
          "2022-01-01T00:00:00"
         ],
         "xaxis": "x",
         "y": [
          null,
          null,
          null,
          null,
          null,
          null,
          null,
          null,
          null,
          null,
          null,
          null,
          null,
          null,
          null,
          null,
          null,
          null,
          null,
          null,
          null,
          null,
          null,
          null,
          null,
          null,
          null,
          null,
          null,
          null,
          null,
          null,
          null,
          null,
          null,
          null,
          null,
          null,
          null,
          null,
          null,
          null,
          null,
          null,
          null,
          null,
          null,
          null,
          null,
          null,
          null,
          null,
          null,
          null,
          null,
          null,
          null,
          null,
          null,
          null,
          null,
          null,
          null,
          null,
          null,
          null,
          null,
          null,
          null,
          null,
          null,
          null,
          null,
          null,
          null,
          null,
          null,
          null,
          null,
          null,
          null,
          null,
          null,
          null,
          3.5680314769E8,
          3.5438096032E8,
          3.6025486384E8,
          3.6040747157E8,
          3.4341132461E8,
          3.5202149669E8,
          3.7884476145E8,
          4.5642714273E8
         ],
         "yaxis": "y",
         "type": "scatter"
        }
       ],
       "layout": {
        "template": {
         "data": {
          "barpolar": [
           {
            "marker": {
             "line": {
              "color": "white",
              "width": 0.5
             },
             "pattern": {
              "fillmode": "overlay",
              "size": 10,
              "solidity": 0.2
             }
            },
            "type": "barpolar"
           }
          ],
          "bar": [
           {
            "error_x": {
             "color": "#2a3f5f"
            },
            "error_y": {
             "color": "#2a3f5f"
            },
            "marker": {
             "line": {
              "color": "white",
              "width": 0.5
             },
             "pattern": {
              "fillmode": "overlay",
              "size": 10,
              "solidity": 0.2
             }
            },
            "type": "bar"
           }
          ],
          "carpet": [
           {
            "aaxis": {
             "endlinecolor": "#2a3f5f",
             "gridcolor": "#C8D4E3",
             "linecolor": "#C8D4E3",
             "minorgridcolor": "#C8D4E3",
             "startlinecolor": "#2a3f5f"
            },
            "baxis": {
             "endlinecolor": "#2a3f5f",
             "gridcolor": "#C8D4E3",
             "linecolor": "#C8D4E3",
             "minorgridcolor": "#C8D4E3",
             "startlinecolor": "#2a3f5f"
            },
            "type": "carpet"
           }
          ],
          "choropleth": [
           {
            "colorbar": {
             "outlinewidth": 0,
             "ticks": ""
            },
            "type": "choropleth"
           }
          ],
          "contourcarpet": [
           {
            "colorbar": {
             "outlinewidth": 0,
             "ticks": ""
            },
            "type": "contourcarpet"
           }
          ],
          "contour": [
           {
            "colorbar": {
             "outlinewidth": 0,
             "ticks": ""
            },
            "colorscale": [
             [
              0.0,
              "#0d0887"
             ],
             [
              0.1111111111111111,
              "#46039f"
             ],
             [
              0.2222222222222222,
              "#7201a8"
             ],
             [
              0.3333333333333333,
              "#9c179e"
             ],
             [
              0.4444444444444444,
              "#bd3786"
             ],
             [
              0.5555555555555556,
              "#d8576b"
             ],
             [
              0.6666666666666666,
              "#ed7953"
             ],
             [
              0.7777777777777778,
              "#fb9f3a"
             ],
             [
              0.8888888888888888,
              "#fdca26"
             ],
             [
              1.0,
              "#f0f921"
             ]
            ],
            "type": "contour"
           }
          ],
          "heatmapgl": [
           {
            "colorbar": {
             "outlinewidth": 0,
             "ticks": ""
            },
            "colorscale": [
             [
              0.0,
              "#0d0887"
             ],
             [
              0.1111111111111111,
              "#46039f"
             ],
             [
              0.2222222222222222,
              "#7201a8"
             ],
             [
              0.3333333333333333,
              "#9c179e"
             ],
             [
              0.4444444444444444,
              "#bd3786"
             ],
             [
              0.5555555555555556,
              "#d8576b"
             ],
             [
              0.6666666666666666,
              "#ed7953"
             ],
             [
              0.7777777777777778,
              "#fb9f3a"
             ],
             [
              0.8888888888888888,
              "#fdca26"
             ],
             [
              1.0,
              "#f0f921"
             ]
            ],
            "type": "heatmapgl"
           }
          ],
          "heatmap": [
           {
            "colorbar": {
             "outlinewidth": 0,
             "ticks": ""
            },
            "colorscale": [
             [
              0.0,
              "#0d0887"
             ],
             [
              0.1111111111111111,
              "#46039f"
             ],
             [
              0.2222222222222222,
              "#7201a8"
             ],
             [
              0.3333333333333333,
              "#9c179e"
             ],
             [
              0.4444444444444444,
              "#bd3786"
             ],
             [
              0.5555555555555556,
              "#d8576b"
             ],
             [
              0.6666666666666666,
              "#ed7953"
             ],
             [
              0.7777777777777778,
              "#fb9f3a"
             ],
             [
              0.8888888888888888,
              "#fdca26"
             ],
             [
              1.0,
              "#f0f921"
             ]
            ],
            "type": "heatmap"
           }
          ],
          "histogram2dcontour": [
           {
            "colorbar": {
             "outlinewidth": 0,
             "ticks": ""
            },
            "colorscale": [
             [
              0.0,
              "#0d0887"
             ],
             [
              0.1111111111111111,
              "#46039f"
             ],
             [
              0.2222222222222222,
              "#7201a8"
             ],
             [
              0.3333333333333333,
              "#9c179e"
             ],
             [
              0.4444444444444444,
              "#bd3786"
             ],
             [
              0.5555555555555556,
              "#d8576b"
             ],
             [
              0.6666666666666666,
              "#ed7953"
             ],
             [
              0.7777777777777778,
              "#fb9f3a"
             ],
             [
              0.8888888888888888,
              "#fdca26"
             ],
             [
              1.0,
              "#f0f921"
             ]
            ],
            "type": "histogram2dcontour"
           }
          ],
          "histogram2d": [
           {
            "colorbar": {
             "outlinewidth": 0,
             "ticks": ""
            },
            "colorscale": [
             [
              0.0,
              "#0d0887"
             ],
             [
              0.1111111111111111,
              "#46039f"
             ],
             [
              0.2222222222222222,
              "#7201a8"
             ],
             [
              0.3333333333333333,
              "#9c179e"
             ],
             [
              0.4444444444444444,
              "#bd3786"
             ],
             [
              0.5555555555555556,
              "#d8576b"
             ],
             [
              0.6666666666666666,
              "#ed7953"
             ],
             [
              0.7777777777777778,
              "#fb9f3a"
             ],
             [
              0.8888888888888888,
              "#fdca26"
             ],
             [
              1.0,
              "#f0f921"
             ]
            ],
            "type": "histogram2d"
           }
          ],
          "histogram": [
           {
            "marker": {
             "pattern": {
              "fillmode": "overlay",
              "size": 10,
              "solidity": 0.2
             }
            },
            "type": "histogram"
           }
          ],
          "mesh3d": [
           {
            "colorbar": {
             "outlinewidth": 0,
             "ticks": ""
            },
            "type": "mesh3d"
           }
          ],
          "parcoords": [
           {
            "line": {
             "colorbar": {
              "outlinewidth": 0,
              "ticks": ""
             }
            },
            "type": "parcoords"
           }
          ],
          "pie": [
           {
            "automargin": true,
            "type": "pie"
           }
          ],
          "scatter3d": [
           {
            "line": {
             "colorbar": {
              "outlinewidth": 0,
              "ticks": ""
             }
            },
            "marker": {
             "colorbar": {
              "outlinewidth": 0,
              "ticks": ""
             }
            },
            "type": "scatter3d"
           }
          ],
          "scattercarpet": [
           {
            "marker": {
             "colorbar": {
              "outlinewidth": 0,
              "ticks": ""
             }
            },
            "type": "scattercarpet"
           }
          ],
          "scattergeo": [
           {
            "marker": {
             "colorbar": {
              "outlinewidth": 0,
              "ticks": ""
             }
            },
            "type": "scattergeo"
           }
          ],
          "scattergl": [
           {
            "marker": {
             "colorbar": {
              "outlinewidth": 0,
              "ticks": ""
             }
            },
            "type": "scattergl"
           }
          ],
          "scattermapbox": [
           {
            "marker": {
             "colorbar": {
              "outlinewidth": 0,
              "ticks": ""
             }
            },
            "type": "scattermapbox"
           }
          ],
          "scatterpolargl": [
           {
            "marker": {
             "colorbar": {
              "outlinewidth": 0,
              "ticks": ""
             }
            },
            "type": "scatterpolargl"
           }
          ],
          "scatterpolar": [
           {
            "marker": {
             "colorbar": {
              "outlinewidth": 0,
              "ticks": ""
             }
            },
            "type": "scatterpolar"
           }
          ],
          "scatter": [
           {
            "fillpattern": {
             "fillmode": "overlay",
             "size": 10,
             "solidity": 0.2
            },
            "type": "scatter"
           }
          ],
          "scatterternary": [
           {
            "marker": {
             "colorbar": {
              "outlinewidth": 0,
              "ticks": ""
             }
            },
            "type": "scatterternary"
           }
          ],
          "surface": [
           {
            "colorbar": {
             "outlinewidth": 0,
             "ticks": ""
            },
            "colorscale": [
             [
              0.0,
              "#0d0887"
             ],
             [
              0.1111111111111111,
              "#46039f"
             ],
             [
              0.2222222222222222,
              "#7201a8"
             ],
             [
              0.3333333333333333,
              "#9c179e"
             ],
             [
              0.4444444444444444,
              "#bd3786"
             ],
             [
              0.5555555555555556,
              "#d8576b"
             ],
             [
              0.6666666666666666,
              "#ed7953"
             ],
             [
              0.7777777777777778,
              "#fb9f3a"
             ],
             [
              0.8888888888888888,
              "#fdca26"
             ],
             [
              1.0,
              "#f0f921"
             ]
            ],
            "type": "surface"
           }
          ],
          "table": [
           {
            "cells": {
             "fill": {
              "color": "#EBF0F8"
             },
             "line": {
              "color": "white"
             }
            },
            "header": {
             "fill": {
              "color": "#C8D4E3"
             },
             "line": {
              "color": "white"
             }
            },
            "type": "table"
           }
          ]
         },
         "layout": {
          "annotationdefaults": {
           "arrowcolor": "#2a3f5f",
           "arrowhead": 0,
           "arrowwidth": 1
          },
          "autotypenumbers": "strict",
          "coloraxis": {
           "colorbar": {
            "outlinewidth": 0,
            "ticks": ""
           }
          },
          "colorscale": {
           "diverging": [
            [
             0,
             "#8e0152"
            ],
            [
             0.1,
             "#c51b7d"
            ],
            [
             0.2,
             "#de77ae"
            ],
            [
             0.3,
             "#f1b6da"
            ],
            [
             0.4,
             "#fde0ef"
            ],
            [
             0.5,
             "#f7f7f7"
            ],
            [
             0.6,
             "#e6f5d0"
            ],
            [
             0.7,
             "#b8e186"
            ],
            [
             0.8,
             "#7fbc41"
            ],
            [
             0.9,
             "#4d9221"
            ],
            [
             1,
             "#276419"
            ]
           ],
           "sequential": [
            [
             0.0,
             "#0d0887"
            ],
            [
             0.1111111111111111,
             "#46039f"
            ],
            [
             0.2222222222222222,
             "#7201a8"
            ],
            [
             0.3333333333333333,
             "#9c179e"
            ],
            [
             0.4444444444444444,
             "#bd3786"
            ],
            [
             0.5555555555555556,
             "#d8576b"
            ],
            [
             0.6666666666666666,
             "#ed7953"
            ],
            [
             0.7777777777777778,
             "#fb9f3a"
            ],
            [
             0.8888888888888888,
             "#fdca26"
            ],
            [
             1.0,
             "#f0f921"
            ]
           ],
           "sequentialminus": [
            [
             0.0,
             "#0d0887"
            ],
            [
             0.1111111111111111,
             "#46039f"
            ],
            [
             0.2222222222222222,
             "#7201a8"
            ],
            [
             0.3333333333333333,
             "#9c179e"
            ],
            [
             0.4444444444444444,
             "#bd3786"
            ],
            [
             0.5555555555555556,
             "#d8576b"
            ],
            [
             0.6666666666666666,
             "#ed7953"
            ],
            [
             0.7777777777777778,
             "#fb9f3a"
            ],
            [
             0.8888888888888888,
             "#fdca26"
            ],
            [
             1.0,
             "#f0f921"
            ]
           ]
          },
          "colorway": [
           "#636efa",
           "#EF553B",
           "#00cc96",
           "#ab63fa",
           "#FFA15A",
           "#19d3f3",
           "#FF6692",
           "#B6E880",
           "#FF97FF",
           "#FECB52"
          ],
          "font": {
           "color": "#2a3f5f"
          },
          "geo": {
           "bgcolor": "white",
           "lakecolor": "white",
           "landcolor": "white",
           "showlakes": true,
           "showland": true,
           "subunitcolor": "#C8D4E3"
          },
          "hoverlabel": {
           "align": "left"
          },
          "hovermode": "closest",
          "mapbox": {
           "style": "light"
          },
          "paper_bgcolor": "white",
          "plot_bgcolor": "white",
          "polar": {
           "angularaxis": {
            "gridcolor": "#EBF0F8",
            "linecolor": "#EBF0F8",
            "ticks": ""
           },
           "bgcolor": "white",
           "radialaxis": {
            "gridcolor": "#EBF0F8",
            "linecolor": "#EBF0F8",
            "ticks": ""
           }
          },
          "scene": {
           "xaxis": {
            "backgroundcolor": "white",
            "gridcolor": "#DFE8F3",
            "gridwidth": 2,
            "linecolor": "#EBF0F8",
            "showbackground": true,
            "ticks": "",
            "zerolinecolor": "#EBF0F8"
           },
           "yaxis": {
            "backgroundcolor": "white",
            "gridcolor": "#DFE8F3",
            "gridwidth": 2,
            "linecolor": "#EBF0F8",
            "showbackground": true,
            "ticks": "",
            "zerolinecolor": "#EBF0F8"
           },
           "zaxis": {
            "backgroundcolor": "white",
            "gridcolor": "#DFE8F3",
            "gridwidth": 2,
            "linecolor": "#EBF0F8",
            "showbackground": true,
            "ticks": "",
            "zerolinecolor": "#EBF0F8"
           }
          },
          "shapedefaults": {
           "line": {
            "color": "#2a3f5f"
           }
          },
          "ternary": {
           "aaxis": {
            "gridcolor": "#DFE8F3",
            "linecolor": "#A2B1C6",
            "ticks": ""
           },
           "baxis": {
            "gridcolor": "#DFE8F3",
            "linecolor": "#A2B1C6",
            "ticks": ""
           },
           "bgcolor": "white",
           "caxis": {
            "gridcolor": "#DFE8F3",
            "linecolor": "#A2B1C6",
            "ticks": ""
           }
          },
          "title": {
           "x": 0.05
          },
          "xaxis": {
           "automargin": true,
           "gridcolor": "#EBF0F8",
           "linecolor": "#EBF0F8",
           "ticks": "",
           "title": {
            "standoff": 15
           },
           "zerolinecolor": "#EBF0F8",
           "zerolinewidth": 2
          },
          "yaxis": {
           "automargin": true,
           "gridcolor": "#EBF0F8",
           "linecolor": "#EBF0F8",
           "ticks": "",
           "title": {
            "standoff": 15
           },
           "zerolinecolor": "#EBF0F8",
           "zerolinewidth": 2
          }
         }
        },
        "xaxis": {
         "anchor": "y",
         "domain": [
          0.0,
          1.0
         ],
         "title": {
          "text": "Calendar Date"
         }
        },
        "yaxis": {
         "anchor": "x",
         "domain": [
          0.0,
          1.0
         ],
         "title": {
          "text": "value"
         }
        },
        "legend": {
         "title": {
          "text": "variable"
         },
         "tracegroupgap": 0
        },
        "margin": {
         "t": 60
        }
       },
       "config": {
        "plotlyServerURL": "https://plot.ly"
       }
      },
      "text/html": "<div>                            <div id=\"d5e71e28-b30c-4aaf-b12e-a8fdad113556\" class=\"plotly-graph-div\" style=\"height:525px; width:100%;\"></div>            <script type=\"text/javascript\">                require([\"plotly\"], function(Plotly) {                    window.PLOTLYENV=window.PLOTLYENV || {};                                    if (document.getElementById(\"d5e71e28-b30c-4aaf-b12e-a8fdad113556\")) {                    Plotly.newPlot(                        \"d5e71e28-b30c-4aaf-b12e-a8fdad113556\",                        [{\"hovertemplate\":\"variable=Total Revenue<br>Calendar Date=%{x}<br>value=%{y}<extra></extra>\",\"legendgroup\":\"Total Revenue\",\"line\":{\"color\":\"#636efa\",\"dash\":\"solid\"},\"marker\":{\"symbol\":\"circle\"},\"mode\":\"lines\",\"name\":\"Total Revenue\",\"orientation\":\"v\",\"showlegend\":true,\"x\":[\"2014-06-01T00:00:00\",\"2014-07-01T00:00:00\",\"2014-08-01T00:00:00\",\"2014-09-01T00:00:00\",\"2014-10-01T00:00:00\",\"2014-11-01T00:00:00\",\"2014-12-01T00:00:00\",\"2015-01-01T00:00:00\",\"2015-02-01T00:00:00\",\"2015-03-01T00:00:00\",\"2015-04-01T00:00:00\",\"2015-05-01T00:00:00\",\"2015-06-01T00:00:00\",\"2015-07-01T00:00:00\",\"2015-08-01T00:00:00\",\"2015-09-01T00:00:00\",\"2015-10-01T00:00:00\",\"2015-11-01T00:00:00\",\"2015-12-01T00:00:00\",\"2016-01-01T00:00:00\",\"2016-02-01T00:00:00\",\"2016-03-01T00:00:00\",\"2016-04-01T00:00:00\",\"2016-05-01T00:00:00\",\"2016-06-01T00:00:00\",\"2016-07-01T00:00:00\",\"2016-08-01T00:00:00\",\"2016-09-01T00:00:00\",\"2016-10-01T00:00:00\",\"2016-11-01T00:00:00\",\"2016-12-01T00:00:00\",\"2017-01-01T00:00:00\",\"2017-02-01T00:00:00\",\"2017-03-01T00:00:00\",\"2017-04-01T00:00:00\",\"2017-05-01T00:00:00\",\"2017-06-01T00:00:00\",\"2017-07-01T00:00:00\",\"2017-08-01T00:00:00\",\"2017-09-01T00:00:00\",\"2017-10-01T00:00:00\",\"2017-11-01T00:00:00\",\"2017-12-01T00:00:00\",\"2018-01-01T00:00:00\",\"2018-02-01T00:00:00\",\"2018-03-01T00:00:00\",\"2018-04-01T00:00:00\",\"2018-05-01T00:00:00\",\"2018-06-01T00:00:00\",\"2018-07-01T00:00:00\",\"2018-08-01T00:00:00\",\"2018-09-01T00:00:00\",\"2018-10-01T00:00:00\",\"2018-11-01T00:00:00\",\"2018-12-01T00:00:00\",\"2019-01-01T00:00:00\",\"2019-02-01T00:00:00\",\"2019-03-01T00:00:00\",\"2019-04-01T00:00:00\",\"2019-05-01T00:00:00\",\"2019-06-01T00:00:00\",\"2019-07-01T00:00:00\",\"2019-08-01T00:00:00\",\"2019-09-01T00:00:00\",\"2019-10-01T00:00:00\",\"2019-11-01T00:00:00\",\"2019-12-01T00:00:00\",\"2020-01-01T00:00:00\",\"2020-02-01T00:00:00\",\"2020-03-01T00:00:00\",\"2020-04-01T00:00:00\",\"2020-05-01T00:00:00\",\"2020-06-01T00:00:00\",\"2020-07-01T00:00:00\",\"2020-08-01T00:00:00\",\"2020-09-01T00:00:00\",\"2020-10-01T00:00:00\",\"2020-11-01T00:00:00\",\"2020-12-01T00:00:00\",\"2021-01-01T00:00:00\",\"2021-02-01T00:00:00\",\"2021-03-01T00:00:00\",\"2021-04-01T00:00:00\",\"2021-05-01T00:00:00\",\"2021-06-01T00:00:00\",\"2021-07-01T00:00:00\",\"2021-08-01T00:00:00\",\"2021-09-01T00:00:00\",\"2021-10-01T00:00:00\",\"2021-11-01T00:00:00\",\"2021-12-01T00:00:00\",\"2022-01-01T00:00:00\"],\"xaxis\":\"x\",\"y\":[207434586.45999998,248361865.54,211043442.06,206418172.24,258459304.07999998,211335919.35999998,218752679.82,272028959.84000003,213607052.09,207670285.16,259512838.87,225058926.85000002,217014260.91,273141385.51,231087152.38,264255692.87,231680173.46,224774196.28,235155557.35999998,288742193.19,226667948.24,268168040.35,240023890.31,244021890.99,265267558.19,248654892.73,270611160.51,250591660.79,256281809.74,262762100.83,266093996.98,279843434.97,248147043.53,267295503.54000002,250301422.91,278746109.29,268745949.88,265187619.85999998,280596055.82,262938434.42000002,278672219.22,282420627.95,283094717.54,311690690.53,271337756.65,283175795.87,282260384.95,301481730.40000004,275514820.56,291223881.09999996,296097194.53,273150415.31,306644305.55,279117628.05,303995964.64,451711388.63,314649057.87,315337391.03999996,326369640.31,326079431.59,310490278.53,343245077.53999996,318967726.33,315861193.94,345409578.59,308789212.02,353447822.79,445789025.54,322446627.09,321233450.14,295154603.49,279926662.69,300208648.46999997,318499602.04,294506682.89,326012790.31,321710114.58,316065774.25,358642639.3,414385310.06,319200854.89,349413732.65,337770830.78999996,325458139.15999997,356803147.69,354380960.32,356013725.95,370923614.57,357440015.78000003,364637855.9,407869169.88,486034259.21],\"yaxis\":\"y\",\"type\":\"scatter\"},{\"hovertemplate\":\"variable=Total Revenue - ML Predicted<br>Calendar Date=%{x}<br>value=%{y}<extra></extra>\",\"legendgroup\":\"Total Revenue - ML Predicted\",\"line\":{\"color\":\"#EF553B\",\"dash\":\"solid\"},\"marker\":{\"symbol\":\"circle\"},\"mode\":\"lines\",\"name\":\"Total Revenue - ML Predicted\",\"orientation\":\"v\",\"showlegend\":true,\"x\":[\"2014-06-01T00:00:00\",\"2014-07-01T00:00:00\",\"2014-08-01T00:00:00\",\"2014-09-01T00:00:00\",\"2014-10-01T00:00:00\",\"2014-11-01T00:00:00\",\"2014-12-01T00:00:00\",\"2015-01-01T00:00:00\",\"2015-02-01T00:00:00\",\"2015-03-01T00:00:00\",\"2015-04-01T00:00:00\",\"2015-05-01T00:00:00\",\"2015-06-01T00:00:00\",\"2015-07-01T00:00:00\",\"2015-08-01T00:00:00\",\"2015-09-01T00:00:00\",\"2015-10-01T00:00:00\",\"2015-11-01T00:00:00\",\"2015-12-01T00:00:00\",\"2016-01-01T00:00:00\",\"2016-02-01T00:00:00\",\"2016-03-01T00:00:00\",\"2016-04-01T00:00:00\",\"2016-05-01T00:00:00\",\"2016-06-01T00:00:00\",\"2016-07-01T00:00:00\",\"2016-08-01T00:00:00\",\"2016-09-01T00:00:00\",\"2016-10-01T00:00:00\",\"2016-11-01T00:00:00\",\"2016-12-01T00:00:00\",\"2017-01-01T00:00:00\",\"2017-02-01T00:00:00\",\"2017-03-01T00:00:00\",\"2017-04-01T00:00:00\",\"2017-05-01T00:00:00\",\"2017-06-01T00:00:00\",\"2017-07-01T00:00:00\",\"2017-08-01T00:00:00\",\"2017-09-01T00:00:00\",\"2017-10-01T00:00:00\",\"2017-11-01T00:00:00\",\"2017-12-01T00:00:00\",\"2018-01-01T00:00:00\",\"2018-02-01T00:00:00\",\"2018-03-01T00:00:00\",\"2018-04-01T00:00:00\",\"2018-05-01T00:00:00\",\"2018-06-01T00:00:00\",\"2018-07-01T00:00:00\",\"2018-08-01T00:00:00\",\"2018-09-01T00:00:00\",\"2018-10-01T00:00:00\",\"2018-11-01T00:00:00\",\"2018-12-01T00:00:00\",\"2019-01-01T00:00:00\",\"2019-02-01T00:00:00\",\"2019-03-01T00:00:00\",\"2019-04-01T00:00:00\",\"2019-05-01T00:00:00\",\"2019-06-01T00:00:00\",\"2019-07-01T00:00:00\",\"2019-08-01T00:00:00\",\"2019-09-01T00:00:00\",\"2019-10-01T00:00:00\",\"2019-11-01T00:00:00\",\"2019-12-01T00:00:00\",\"2020-01-01T00:00:00\",\"2020-02-01T00:00:00\",\"2020-03-01T00:00:00\",\"2020-04-01T00:00:00\",\"2020-05-01T00:00:00\",\"2020-06-01T00:00:00\",\"2020-07-01T00:00:00\",\"2020-08-01T00:00:00\",\"2020-09-01T00:00:00\",\"2020-10-01T00:00:00\",\"2020-11-01T00:00:00\",\"2020-12-01T00:00:00\",\"2021-01-01T00:00:00\",\"2021-02-01T00:00:00\",\"2021-03-01T00:00:00\",\"2021-04-01T00:00:00\",\"2021-05-01T00:00:00\",\"2021-06-01T00:00:00\",\"2021-07-01T00:00:00\",\"2021-08-01T00:00:00\",\"2021-09-01T00:00:00\",\"2021-10-01T00:00:00\",\"2021-11-01T00:00:00\",\"2021-12-01T00:00:00\",\"2022-01-01T00:00:00\"],\"xaxis\":\"x\",\"y\":[null,null,null,null,null,null,null,null,null,null,null,null,null,null,null,null,null,null,null,null,null,null,null,null,null,null,null,null,null,null,null,null,null,null,null,null,null,null,null,null,null,null,null,null,null,null,null,null,null,null,null,null,null,null,null,null,null,null,null,null,null,null,null,null,null,null,null,null,null,null,null,null,null,null,null,null,null,null,null,null,null,null,null,null,323079533.3621829,323415494.73257047,327586741.6859761,333709848.5055768,340500070.16646737,345364153.7139402,350267334.35598594,354418642.2826999],\"yaxis\":\"y\",\"type\":\"scatter\"},{\"hovertemplate\":\"variable=Total Revenue - UTS Predicted<br>Calendar Date=%{x}<br>value=%{y}<extra></extra>\",\"legendgroup\":\"Total Revenue - UTS Predicted\",\"line\":{\"color\":\"#00cc96\",\"dash\":\"solid\"},\"marker\":{\"symbol\":\"circle\"},\"mode\":\"lines\",\"name\":\"Total Revenue - UTS Predicted\",\"orientation\":\"v\",\"showlegend\":true,\"x\":[\"2014-06-01T00:00:00\",\"2014-07-01T00:00:00\",\"2014-08-01T00:00:00\",\"2014-09-01T00:00:00\",\"2014-10-01T00:00:00\",\"2014-11-01T00:00:00\",\"2014-12-01T00:00:00\",\"2015-01-01T00:00:00\",\"2015-02-01T00:00:00\",\"2015-03-01T00:00:00\",\"2015-04-01T00:00:00\",\"2015-05-01T00:00:00\",\"2015-06-01T00:00:00\",\"2015-07-01T00:00:00\",\"2015-08-01T00:00:00\",\"2015-09-01T00:00:00\",\"2015-10-01T00:00:00\",\"2015-11-01T00:00:00\",\"2015-12-01T00:00:00\",\"2016-01-01T00:00:00\",\"2016-02-01T00:00:00\",\"2016-03-01T00:00:00\",\"2016-04-01T00:00:00\",\"2016-05-01T00:00:00\",\"2016-06-01T00:00:00\",\"2016-07-01T00:00:00\",\"2016-08-01T00:00:00\",\"2016-09-01T00:00:00\",\"2016-10-01T00:00:00\",\"2016-11-01T00:00:00\",\"2016-12-01T00:00:00\",\"2017-01-01T00:00:00\",\"2017-02-01T00:00:00\",\"2017-03-01T00:00:00\",\"2017-04-01T00:00:00\",\"2017-05-01T00:00:00\",\"2017-06-01T00:00:00\",\"2017-07-01T00:00:00\",\"2017-08-01T00:00:00\",\"2017-09-01T00:00:00\",\"2017-10-01T00:00:00\",\"2017-11-01T00:00:00\",\"2017-12-01T00:00:00\",\"2018-01-01T00:00:00\",\"2018-02-01T00:00:00\",\"2018-03-01T00:00:00\",\"2018-04-01T00:00:00\",\"2018-05-01T00:00:00\",\"2018-06-01T00:00:00\",\"2018-07-01T00:00:00\",\"2018-08-01T00:00:00\",\"2018-09-01T00:00:00\",\"2018-10-01T00:00:00\",\"2018-11-01T00:00:00\",\"2018-12-01T00:00:00\",\"2019-01-01T00:00:00\",\"2019-02-01T00:00:00\",\"2019-03-01T00:00:00\",\"2019-04-01T00:00:00\",\"2019-05-01T00:00:00\",\"2019-06-01T00:00:00\",\"2019-07-01T00:00:00\",\"2019-08-01T00:00:00\",\"2019-09-01T00:00:00\",\"2019-10-01T00:00:00\",\"2019-11-01T00:00:00\",\"2019-12-01T00:00:00\",\"2020-01-01T00:00:00\",\"2020-02-01T00:00:00\",\"2020-03-01T00:00:00\",\"2020-04-01T00:00:00\",\"2020-05-01T00:00:00\",\"2020-06-01T00:00:00\",\"2020-07-01T00:00:00\",\"2020-08-01T00:00:00\",\"2020-09-01T00:00:00\",\"2020-10-01T00:00:00\",\"2020-11-01T00:00:00\",\"2020-12-01T00:00:00\",\"2021-01-01T00:00:00\",\"2021-02-01T00:00:00\",\"2021-03-01T00:00:00\",\"2021-04-01T00:00:00\",\"2021-05-01T00:00:00\",\"2021-06-01T00:00:00\",\"2021-07-01T00:00:00\",\"2021-08-01T00:00:00\",\"2021-09-01T00:00:00\",\"2021-10-01T00:00:00\",\"2021-11-01T00:00:00\",\"2021-12-01T00:00:00\",\"2022-01-01T00:00:00\"],\"xaxis\":\"x\",\"y\":[null,null,null,null,null,null,null,null,null,null,null,null,null,null,null,null,null,null,null,null,null,null,null,null,null,null,null,null,null,null,null,null,null,null,null,null,null,null,null,null,null,null,null,null,null,null,null,null,null,null,null,null,null,null,null,null,null,null,null,null,null,null,null,null,null,null,null,null,null,null,null,null,null,null,null,null,null,null,null,null,null,null,null,null,339910072.1391925,356791912.63731754,341313237.0983953,356026491.5371353,360981807.18202543,351039147.8064857,383337840.071721,447755431.73648393],\"yaxis\":\"y\",\"type\":\"scatter\"},{\"hovertemplate\":\"variable=Total Revenue - Plan<br>Calendar Date=%{x}<br>value=%{y}<extra></extra>\",\"legendgroup\":\"Total Revenue - Plan\",\"line\":{\"color\":\"#ab63fa\",\"dash\":\"solid\"},\"marker\":{\"symbol\":\"circle\"},\"mode\":\"lines\",\"name\":\"Total Revenue - Plan\",\"orientation\":\"v\",\"showlegend\":true,\"x\":[\"2014-06-01T00:00:00\",\"2014-07-01T00:00:00\",\"2014-08-01T00:00:00\",\"2014-09-01T00:00:00\",\"2014-10-01T00:00:00\",\"2014-11-01T00:00:00\",\"2014-12-01T00:00:00\",\"2015-01-01T00:00:00\",\"2015-02-01T00:00:00\",\"2015-03-01T00:00:00\",\"2015-04-01T00:00:00\",\"2015-05-01T00:00:00\",\"2015-06-01T00:00:00\",\"2015-07-01T00:00:00\",\"2015-08-01T00:00:00\",\"2015-09-01T00:00:00\",\"2015-10-01T00:00:00\",\"2015-11-01T00:00:00\",\"2015-12-01T00:00:00\",\"2016-01-01T00:00:00\",\"2016-02-01T00:00:00\",\"2016-03-01T00:00:00\",\"2016-04-01T00:00:00\",\"2016-05-01T00:00:00\",\"2016-06-01T00:00:00\",\"2016-07-01T00:00:00\",\"2016-08-01T00:00:00\",\"2016-09-01T00:00:00\",\"2016-10-01T00:00:00\",\"2016-11-01T00:00:00\",\"2016-12-01T00:00:00\",\"2017-01-01T00:00:00\",\"2017-02-01T00:00:00\",\"2017-03-01T00:00:00\",\"2017-04-01T00:00:00\",\"2017-05-01T00:00:00\",\"2017-06-01T00:00:00\",\"2017-07-01T00:00:00\",\"2017-08-01T00:00:00\",\"2017-09-01T00:00:00\",\"2017-10-01T00:00:00\",\"2017-11-01T00:00:00\",\"2017-12-01T00:00:00\",\"2018-01-01T00:00:00\",\"2018-02-01T00:00:00\",\"2018-03-01T00:00:00\",\"2018-04-01T00:00:00\",\"2018-05-01T00:00:00\",\"2018-06-01T00:00:00\",\"2018-07-01T00:00:00\",\"2018-08-01T00:00:00\",\"2018-09-01T00:00:00\",\"2018-10-01T00:00:00\",\"2018-11-01T00:00:00\",\"2018-12-01T00:00:00\",\"2019-01-01T00:00:00\",\"2019-02-01T00:00:00\",\"2019-03-01T00:00:00\",\"2019-04-01T00:00:00\",\"2019-05-01T00:00:00\",\"2019-06-01T00:00:00\",\"2019-07-01T00:00:00\",\"2019-08-01T00:00:00\",\"2019-09-01T00:00:00\",\"2019-10-01T00:00:00\",\"2019-11-01T00:00:00\",\"2019-12-01T00:00:00\",\"2020-01-01T00:00:00\",\"2020-02-01T00:00:00\",\"2020-03-01T00:00:00\",\"2020-04-01T00:00:00\",\"2020-05-01T00:00:00\",\"2020-06-01T00:00:00\",\"2020-07-01T00:00:00\",\"2020-08-01T00:00:00\",\"2020-09-01T00:00:00\",\"2020-10-01T00:00:00\",\"2020-11-01T00:00:00\",\"2020-12-01T00:00:00\",\"2021-01-01T00:00:00\",\"2021-02-01T00:00:00\",\"2021-03-01T00:00:00\",\"2021-04-01T00:00:00\",\"2021-05-01T00:00:00\",\"2021-06-01T00:00:00\",\"2021-07-01T00:00:00\",\"2021-08-01T00:00:00\",\"2021-09-01T00:00:00\",\"2021-10-01T00:00:00\",\"2021-11-01T00:00:00\",\"2021-12-01T00:00:00\",\"2022-01-01T00:00:00\"],\"xaxis\":\"x\",\"y\":[null,null,null,null,null,null,null,null,null,null,null,null,null,null,null,null,null,null,null,null,null,null,null,null,null,null,null,null,null,null,null,null,null,null,null,null,null,null,null,null,null,null,null,null,null,null,null,null,null,null,null,null,null,null,null,null,null,null,null,null,null,null,null,null,null,null,null,null,null,null,null,null,null,null,null,null,null,null,null,null,null,null,null,null,354800884.2,352455659.18,352072418.54,356786426.63,341016250.37,348082395.93,375256063.23,454706928.52],\"yaxis\":\"y\",\"type\":\"scatter\"},{\"hovertemplate\":\"variable=Total Revenue - 2+10 Forecast<br>Calendar Date=%{x}<br>value=%{y}<extra></extra>\",\"legendgroup\":\"Total Revenue - 2+10 Forecast\",\"line\":{\"color\":\"#FFA15A\",\"dash\":\"solid\"},\"marker\":{\"symbol\":\"circle\"},\"mode\":\"lines\",\"name\":\"Total Revenue - 2+10 Forecast\",\"orientation\":\"v\",\"showlegend\":true,\"x\":[\"2014-06-01T00:00:00\",\"2014-07-01T00:00:00\",\"2014-08-01T00:00:00\",\"2014-09-01T00:00:00\",\"2014-10-01T00:00:00\",\"2014-11-01T00:00:00\",\"2014-12-01T00:00:00\",\"2015-01-01T00:00:00\",\"2015-02-01T00:00:00\",\"2015-03-01T00:00:00\",\"2015-04-01T00:00:00\",\"2015-05-01T00:00:00\",\"2015-06-01T00:00:00\",\"2015-07-01T00:00:00\",\"2015-08-01T00:00:00\",\"2015-09-01T00:00:00\",\"2015-10-01T00:00:00\",\"2015-11-01T00:00:00\",\"2015-12-01T00:00:00\",\"2016-01-01T00:00:00\",\"2016-02-01T00:00:00\",\"2016-03-01T00:00:00\",\"2016-04-01T00:00:00\",\"2016-05-01T00:00:00\",\"2016-06-01T00:00:00\",\"2016-07-01T00:00:00\",\"2016-08-01T00:00:00\",\"2016-09-01T00:00:00\",\"2016-10-01T00:00:00\",\"2016-11-01T00:00:00\",\"2016-12-01T00:00:00\",\"2017-01-01T00:00:00\",\"2017-02-01T00:00:00\",\"2017-03-01T00:00:00\",\"2017-04-01T00:00:00\",\"2017-05-01T00:00:00\",\"2017-06-01T00:00:00\",\"2017-07-01T00:00:00\",\"2017-08-01T00:00:00\",\"2017-09-01T00:00:00\",\"2017-10-01T00:00:00\",\"2017-11-01T00:00:00\",\"2017-12-01T00:00:00\",\"2018-01-01T00:00:00\",\"2018-02-01T00:00:00\",\"2018-03-01T00:00:00\",\"2018-04-01T00:00:00\",\"2018-05-01T00:00:00\",\"2018-06-01T00:00:00\",\"2018-07-01T00:00:00\",\"2018-08-01T00:00:00\",\"2018-09-01T00:00:00\",\"2018-10-01T00:00:00\",\"2018-11-01T00:00:00\",\"2018-12-01T00:00:00\",\"2019-01-01T00:00:00\",\"2019-02-01T00:00:00\",\"2019-03-01T00:00:00\",\"2019-04-01T00:00:00\",\"2019-05-01T00:00:00\",\"2019-06-01T00:00:00\",\"2019-07-01T00:00:00\",\"2019-08-01T00:00:00\",\"2019-09-01T00:00:00\",\"2019-10-01T00:00:00\",\"2019-11-01T00:00:00\",\"2019-12-01T00:00:00\",\"2020-01-01T00:00:00\",\"2020-02-01T00:00:00\",\"2020-03-01T00:00:00\",\"2020-04-01T00:00:00\",\"2020-05-01T00:00:00\",\"2020-06-01T00:00:00\",\"2020-07-01T00:00:00\",\"2020-08-01T00:00:00\",\"2020-09-01T00:00:00\",\"2020-10-01T00:00:00\",\"2020-11-01T00:00:00\",\"2020-12-01T00:00:00\",\"2021-01-01T00:00:00\",\"2021-02-01T00:00:00\",\"2021-03-01T00:00:00\",\"2021-04-01T00:00:00\",\"2021-05-01T00:00:00\",\"2021-06-01T00:00:00\",\"2021-07-01T00:00:00\",\"2021-08-01T00:00:00\",\"2021-09-01T00:00:00\",\"2021-10-01T00:00:00\",\"2021-11-01T00:00:00\",\"2021-12-01T00:00:00\",\"2022-01-01T00:00:00\"],\"xaxis\":\"x\",\"y\":[null,null,null,null,null,null,null,null,null,null,null,null,null,null,null,null,null,null,null,null,null,null,null,null,null,null,null,null,null,null,null,null,null,null,null,null,null,null,null,null,null,null,null,null,null,null,null,null,null,null,null,null,null,null,null,null,null,null,null,null,null,null,null,null,null,null,null,null,null,null,null,null,null,null,null,null,null,null,null,null,null,null,null,null,356803147.69,354380960.32,360254863.84,360407471.57,343411324.61,352021496.69,378844761.45,456427142.73],\"yaxis\":\"y\",\"type\":\"scatter\"}],                        {\"template\":{\"data\":{\"barpolar\":[{\"marker\":{\"line\":{\"color\":\"white\",\"width\":0.5},\"pattern\":{\"fillmode\":\"overlay\",\"size\":10,\"solidity\":0.2}},\"type\":\"barpolar\"}],\"bar\":[{\"error_x\":{\"color\":\"#2a3f5f\"},\"error_y\":{\"color\":\"#2a3f5f\"},\"marker\":{\"line\":{\"color\":\"white\",\"width\":0.5},\"pattern\":{\"fillmode\":\"overlay\",\"size\":10,\"solidity\":0.2}},\"type\":\"bar\"}],\"carpet\":[{\"aaxis\":{\"endlinecolor\":\"#2a3f5f\",\"gridcolor\":\"#C8D4E3\",\"linecolor\":\"#C8D4E3\",\"minorgridcolor\":\"#C8D4E3\",\"startlinecolor\":\"#2a3f5f\"},\"baxis\":{\"endlinecolor\":\"#2a3f5f\",\"gridcolor\":\"#C8D4E3\",\"linecolor\":\"#C8D4E3\",\"minorgridcolor\":\"#C8D4E3\",\"startlinecolor\":\"#2a3f5f\"},\"type\":\"carpet\"}],\"choropleth\":[{\"colorbar\":{\"outlinewidth\":0,\"ticks\":\"\"},\"type\":\"choropleth\"}],\"contourcarpet\":[{\"colorbar\":{\"outlinewidth\":0,\"ticks\":\"\"},\"type\":\"contourcarpet\"}],\"contour\":[{\"colorbar\":{\"outlinewidth\":0,\"ticks\":\"\"},\"colorscale\":[[0.0,\"#0d0887\"],[0.1111111111111111,\"#46039f\"],[0.2222222222222222,\"#7201a8\"],[0.3333333333333333,\"#9c179e\"],[0.4444444444444444,\"#bd3786\"],[0.5555555555555556,\"#d8576b\"],[0.6666666666666666,\"#ed7953\"],[0.7777777777777778,\"#fb9f3a\"],[0.8888888888888888,\"#fdca26\"],[1.0,\"#f0f921\"]],\"type\":\"contour\"}],\"heatmapgl\":[{\"colorbar\":{\"outlinewidth\":0,\"ticks\":\"\"},\"colorscale\":[[0.0,\"#0d0887\"],[0.1111111111111111,\"#46039f\"],[0.2222222222222222,\"#7201a8\"],[0.3333333333333333,\"#9c179e\"],[0.4444444444444444,\"#bd3786\"],[0.5555555555555556,\"#d8576b\"],[0.6666666666666666,\"#ed7953\"],[0.7777777777777778,\"#fb9f3a\"],[0.8888888888888888,\"#fdca26\"],[1.0,\"#f0f921\"]],\"type\":\"heatmapgl\"}],\"heatmap\":[{\"colorbar\":{\"outlinewidth\":0,\"ticks\":\"\"},\"colorscale\":[[0.0,\"#0d0887\"],[0.1111111111111111,\"#46039f\"],[0.2222222222222222,\"#7201a8\"],[0.3333333333333333,\"#9c179e\"],[0.4444444444444444,\"#bd3786\"],[0.5555555555555556,\"#d8576b\"],[0.6666666666666666,\"#ed7953\"],[0.7777777777777778,\"#fb9f3a\"],[0.8888888888888888,\"#fdca26\"],[1.0,\"#f0f921\"]],\"type\":\"heatmap\"}],\"histogram2dcontour\":[{\"colorbar\":{\"outlinewidth\":0,\"ticks\":\"\"},\"colorscale\":[[0.0,\"#0d0887\"],[0.1111111111111111,\"#46039f\"],[0.2222222222222222,\"#7201a8\"],[0.3333333333333333,\"#9c179e\"],[0.4444444444444444,\"#bd3786\"],[0.5555555555555556,\"#d8576b\"],[0.6666666666666666,\"#ed7953\"],[0.7777777777777778,\"#fb9f3a\"],[0.8888888888888888,\"#fdca26\"],[1.0,\"#f0f921\"]],\"type\":\"histogram2dcontour\"}],\"histogram2d\":[{\"colorbar\":{\"outlinewidth\":0,\"ticks\":\"\"},\"colorscale\":[[0.0,\"#0d0887\"],[0.1111111111111111,\"#46039f\"],[0.2222222222222222,\"#7201a8\"],[0.3333333333333333,\"#9c179e\"],[0.4444444444444444,\"#bd3786\"],[0.5555555555555556,\"#d8576b\"],[0.6666666666666666,\"#ed7953\"],[0.7777777777777778,\"#fb9f3a\"],[0.8888888888888888,\"#fdca26\"],[1.0,\"#f0f921\"]],\"type\":\"histogram2d\"}],\"histogram\":[{\"marker\":{\"pattern\":{\"fillmode\":\"overlay\",\"size\":10,\"solidity\":0.2}},\"type\":\"histogram\"}],\"mesh3d\":[{\"colorbar\":{\"outlinewidth\":0,\"ticks\":\"\"},\"type\":\"mesh3d\"}],\"parcoords\":[{\"line\":{\"colorbar\":{\"outlinewidth\":0,\"ticks\":\"\"}},\"type\":\"parcoords\"}],\"pie\":[{\"automargin\":true,\"type\":\"pie\"}],\"scatter3d\":[{\"line\":{\"colorbar\":{\"outlinewidth\":0,\"ticks\":\"\"}},\"marker\":{\"colorbar\":{\"outlinewidth\":0,\"ticks\":\"\"}},\"type\":\"scatter3d\"}],\"scattercarpet\":[{\"marker\":{\"colorbar\":{\"outlinewidth\":0,\"ticks\":\"\"}},\"type\":\"scattercarpet\"}],\"scattergeo\":[{\"marker\":{\"colorbar\":{\"outlinewidth\":0,\"ticks\":\"\"}},\"type\":\"scattergeo\"}],\"scattergl\":[{\"marker\":{\"colorbar\":{\"outlinewidth\":0,\"ticks\":\"\"}},\"type\":\"scattergl\"}],\"scattermapbox\":[{\"marker\":{\"colorbar\":{\"outlinewidth\":0,\"ticks\":\"\"}},\"type\":\"scattermapbox\"}],\"scatterpolargl\":[{\"marker\":{\"colorbar\":{\"outlinewidth\":0,\"ticks\":\"\"}},\"type\":\"scatterpolargl\"}],\"scatterpolar\":[{\"marker\":{\"colorbar\":{\"outlinewidth\":0,\"ticks\":\"\"}},\"type\":\"scatterpolar\"}],\"scatter\":[{\"fillpattern\":{\"fillmode\":\"overlay\",\"size\":10,\"solidity\":0.2},\"type\":\"scatter\"}],\"scatterternary\":[{\"marker\":{\"colorbar\":{\"outlinewidth\":0,\"ticks\":\"\"}},\"type\":\"scatterternary\"}],\"surface\":[{\"colorbar\":{\"outlinewidth\":0,\"ticks\":\"\"},\"colorscale\":[[0.0,\"#0d0887\"],[0.1111111111111111,\"#46039f\"],[0.2222222222222222,\"#7201a8\"],[0.3333333333333333,\"#9c179e\"],[0.4444444444444444,\"#bd3786\"],[0.5555555555555556,\"#d8576b\"],[0.6666666666666666,\"#ed7953\"],[0.7777777777777778,\"#fb9f3a\"],[0.8888888888888888,\"#fdca26\"],[1.0,\"#f0f921\"]],\"type\":\"surface\"}],\"table\":[{\"cells\":{\"fill\":{\"color\":\"#EBF0F8\"},\"line\":{\"color\":\"white\"}},\"header\":{\"fill\":{\"color\":\"#C8D4E3\"},\"line\":{\"color\":\"white\"}},\"type\":\"table\"}]},\"layout\":{\"annotationdefaults\":{\"arrowcolor\":\"#2a3f5f\",\"arrowhead\":0,\"arrowwidth\":1},\"autotypenumbers\":\"strict\",\"coloraxis\":{\"colorbar\":{\"outlinewidth\":0,\"ticks\":\"\"}},\"colorscale\":{\"diverging\":[[0,\"#8e0152\"],[0.1,\"#c51b7d\"],[0.2,\"#de77ae\"],[0.3,\"#f1b6da\"],[0.4,\"#fde0ef\"],[0.5,\"#f7f7f7\"],[0.6,\"#e6f5d0\"],[0.7,\"#b8e186\"],[0.8,\"#7fbc41\"],[0.9,\"#4d9221\"],[1,\"#276419\"]],\"sequential\":[[0.0,\"#0d0887\"],[0.1111111111111111,\"#46039f\"],[0.2222222222222222,\"#7201a8\"],[0.3333333333333333,\"#9c179e\"],[0.4444444444444444,\"#bd3786\"],[0.5555555555555556,\"#d8576b\"],[0.6666666666666666,\"#ed7953\"],[0.7777777777777778,\"#fb9f3a\"],[0.8888888888888888,\"#fdca26\"],[1.0,\"#f0f921\"]],\"sequentialminus\":[[0.0,\"#0d0887\"],[0.1111111111111111,\"#46039f\"],[0.2222222222222222,\"#7201a8\"],[0.3333333333333333,\"#9c179e\"],[0.4444444444444444,\"#bd3786\"],[0.5555555555555556,\"#d8576b\"],[0.6666666666666666,\"#ed7953\"],[0.7777777777777778,\"#fb9f3a\"],[0.8888888888888888,\"#fdca26\"],[1.0,\"#f0f921\"]]},\"colorway\":[\"#636efa\",\"#EF553B\",\"#00cc96\",\"#ab63fa\",\"#FFA15A\",\"#19d3f3\",\"#FF6692\",\"#B6E880\",\"#FF97FF\",\"#FECB52\"],\"font\":{\"color\":\"#2a3f5f\"},\"geo\":{\"bgcolor\":\"white\",\"lakecolor\":\"white\",\"landcolor\":\"white\",\"showlakes\":true,\"showland\":true,\"subunitcolor\":\"#C8D4E3\"},\"hoverlabel\":{\"align\":\"left\"},\"hovermode\":\"closest\",\"mapbox\":{\"style\":\"light\"},\"paper_bgcolor\":\"white\",\"plot_bgcolor\":\"white\",\"polar\":{\"angularaxis\":{\"gridcolor\":\"#EBF0F8\",\"linecolor\":\"#EBF0F8\",\"ticks\":\"\"},\"bgcolor\":\"white\",\"radialaxis\":{\"gridcolor\":\"#EBF0F8\",\"linecolor\":\"#EBF0F8\",\"ticks\":\"\"}},\"scene\":{\"xaxis\":{\"backgroundcolor\":\"white\",\"gridcolor\":\"#DFE8F3\",\"gridwidth\":2,\"linecolor\":\"#EBF0F8\",\"showbackground\":true,\"ticks\":\"\",\"zerolinecolor\":\"#EBF0F8\"},\"yaxis\":{\"backgroundcolor\":\"white\",\"gridcolor\":\"#DFE8F3\",\"gridwidth\":2,\"linecolor\":\"#EBF0F8\",\"showbackground\":true,\"ticks\":\"\",\"zerolinecolor\":\"#EBF0F8\"},\"zaxis\":{\"backgroundcolor\":\"white\",\"gridcolor\":\"#DFE8F3\",\"gridwidth\":2,\"linecolor\":\"#EBF0F8\",\"showbackground\":true,\"ticks\":\"\",\"zerolinecolor\":\"#EBF0F8\"}},\"shapedefaults\":{\"line\":{\"color\":\"#2a3f5f\"}},\"ternary\":{\"aaxis\":{\"gridcolor\":\"#DFE8F3\",\"linecolor\":\"#A2B1C6\",\"ticks\":\"\"},\"baxis\":{\"gridcolor\":\"#DFE8F3\",\"linecolor\":\"#A2B1C6\",\"ticks\":\"\"},\"bgcolor\":\"white\",\"caxis\":{\"gridcolor\":\"#DFE8F3\",\"linecolor\":\"#A2B1C6\",\"ticks\":\"\"}},\"title\":{\"x\":0.05},\"xaxis\":{\"automargin\":true,\"gridcolor\":\"#EBF0F8\",\"linecolor\":\"#EBF0F8\",\"ticks\":\"\",\"title\":{\"standoff\":15},\"zerolinecolor\":\"#EBF0F8\",\"zerolinewidth\":2},\"yaxis\":{\"automargin\":true,\"gridcolor\":\"#EBF0F8\",\"linecolor\":\"#EBF0F8\",\"ticks\":\"\",\"title\":{\"standoff\":15},\"zerolinecolor\":\"#EBF0F8\",\"zerolinewidth\":2}}},\"xaxis\":{\"anchor\":\"y\",\"domain\":[0.0,1.0],\"title\":{\"text\":\"Calendar Date\"}},\"yaxis\":{\"anchor\":\"x\",\"domain\":[0.0,1.0],\"title\":{\"text\":\"value\"}},\"legend\":{\"title\":{\"text\":\"variable\"},\"tracegroupgap\":0},\"margin\":{\"t\":60}},                        {\"responsive\": true}                    ).then(function(){\n                            \nvar gd = document.getElementById('d5e71e28-b30c-4aaf-b12e-a8fdad113556');\nvar x = new MutationObserver(function (mutations, observer) {{\n        var display = window.getComputedStyle(gd).display;\n        if (!display || display === 'none') {{\n            console.log([gd, 'removed!']);\n            Plotly.purge(gd);\n            observer.disconnect();\n        }}\n}});\n\n// Listen for the removal of the full notebook cells\nvar notebookContainer = gd.closest('#notebook-container');\nif (notebookContainer) {{\n    x.observe(notebookContainer, {childList: true});\n}}\n\n// Listen for the clearing of the current output cell\nvar outputEl = gd.closest('.output');\nif (outputEl) {{\n    x.observe(outputEl, {childList: true});\n}}\n\n                        })                };                });            </script>        </div>"
     },
     "metadata": {},
     "output_type": "display_data"
    }
   ],
   "source": [
    "# show plot\n",
    "fig = px.line(concat_df, x='Calendar Date', y=[target_col, ml_col, uts_col, plan_col, fcst_col], template='plotly_white')\n",
    "fig.show()"
   ],
   "metadata": {
    "collapsed": false,
    "pycharm": {
     "name": "#%%\n"
    }
   }
  },
  {
   "cell_type": "code",
   "execution_count": 38,
   "outputs": [],
   "source": [
    "# compute mape_df\n",
    "mape_df = concat_df[['Calendar Date', target_col, ml_col, uts_col, plan_col, fcst_col]]\n",
    "mape_df = mape_df[mape_df['Calendar Date'] >= datetime.strptime(pred_start_dt, '%Y%m%d')]\n",
    "mape_df = models.compute_apes_and_mapes(mape_df, 'Calendar Date', target_col, fcst_cols)\n",
    "mape_df = mape_df.rename(index={True:'MAPE'})\n",
    "mape_df = pd.concat([mape_df.reset_index(drop=True), uts_df], axis=1)"
   ],
   "metadata": {
    "collapsed": false,
    "pycharm": {
     "name": "#%%\n"
    }
   }
  },
  {
   "cell_type": "code",
   "execution_count": 39,
   "outputs": [
    {
     "data": {
      "text/plain": "         Calendar Date  Total Revenue  Total Revenue - Plan  \\\n0  2021-06-01 00:00:00   3.568031e+08          3.548009e+08   \n1  2021-07-01 00:00:00   3.543810e+08          3.524557e+08   \n2  2021-08-01 00:00:00   3.560137e+08          3.520724e+08   \n3  2021-09-01 00:00:00   3.709236e+08          3.567864e+08   \n4  2021-10-01 00:00:00   3.574400e+08          3.410163e+08   \n5  2021-11-01 00:00:00   3.646379e+08          3.480824e+08   \n6  2021-12-01 00:00:00   4.078692e+08          3.752561e+08   \n7  2022-01-01 00:00:00   4.860343e+08          4.547069e+08   \n8                  NaN            NaN                   NaN   \n\n   Total Revenue - Plan - APE  Total Revenue - 2+10 Forecast  \\\n0                    0.005612                   3.568031e+08   \n1                    0.005433                   3.543810e+08   \n2                    0.011071                   3.602549e+08   \n3                    0.038113                   3.604075e+08   \n4                    0.045948                   3.434113e+08   \n5                    0.045402                   3.520215e+08   \n6                    0.079960                   3.788448e+08   \n7                    0.064455                   4.564271e+08   \n8                    0.036999                            NaN   \n\n   Total Revenue - 2+10 Forecast - APE  Total Revenue - ML Predicted  \\\n0                             0.000000                  3.230795e+08   \n1                             0.000000                  3.234155e+08   \n2                             0.011913                  3.275867e+08   \n3                             0.028351                  3.337098e+08   \n4                             0.039248                  3.405001e+08   \n5                             0.034600                  3.453642e+08   \n6                             0.071161                  3.502673e+08   \n7                             0.060916                  3.544186e+08   \n8                             0.030774                           NaN   \n\n   Total Revenue - ML Predicted - APE  Total Revenue - UTS Predicted  \\\n0                            0.094516                   3.399101e+08   \n1                            0.087379                   3.567919e+08   \n2                            0.079848                   3.413132e+08   \n3                            0.100327                   3.560265e+08   \n4                            0.047392                   3.609818e+08   \n5                            0.052857                   3.510391e+08   \n6                            0.141226                   3.833378e+08   \n7                            0.270795                   4.477554e+08   \n8                            0.109293                            NaN   \n\n   Total Revenue - UTS Predicted - APE Calendar Date  \\\n0                             0.047346    2021-06-01   \n1                             0.006803    2021-07-01   \n2                             0.041292    2021-08-01   \n3                             0.040162    2021-09-01   \n4                             0.009909    2021-10-01   \n5                             0.037294    2021-11-01   \n6                             0.060145    2021-12-01   \n7                             0.078757    2022-01-01   \n8                             0.040214           NaT   \n\n   Total Revenue - UTS Predicted  Lower CI - 95.0%  Upper CI - 95.0%  \n0                   3.399101e+08      2.858192e+08      3.940010e+08  \n1                   3.567919e+08      2.932189e+08      4.203650e+08  \n2                   3.413132e+08      2.694993e+08      4.131272e+08  \n3                   3.560265e+08      2.768245e+08      4.352285e+08  \n4                   3.609818e+08      2.750245e+08      4.469391e+08  \n5                   3.510391e+08      2.588200e+08      4.432583e+08  \n6                   3.833378e+08      2.852558e+08      4.814199e+08  \n7                   4.477554e+08      3.441418e+08      5.513691e+08  \n8                            NaN               NaN               NaN  ",
      "text/html": "<div>\n<style scoped>\n    .dataframe tbody tr th:only-of-type {\n        vertical-align: middle;\n    }\n\n    .dataframe tbody tr th {\n        vertical-align: top;\n    }\n\n    .dataframe thead th {\n        text-align: right;\n    }\n</style>\n<table border=\"1\" class=\"dataframe\">\n  <thead>\n    <tr style=\"text-align: right;\">\n      <th></th>\n      <th>Calendar Date</th>\n      <th>Total Revenue</th>\n      <th>Total Revenue - Plan</th>\n      <th>Total Revenue - Plan - APE</th>\n      <th>Total Revenue - 2+10 Forecast</th>\n      <th>Total Revenue - 2+10 Forecast - APE</th>\n      <th>Total Revenue - ML Predicted</th>\n      <th>Total Revenue - ML Predicted - APE</th>\n      <th>Total Revenue - UTS Predicted</th>\n      <th>Total Revenue - UTS Predicted - APE</th>\n      <th>Calendar Date</th>\n      <th>Total Revenue - UTS Predicted</th>\n      <th>Lower CI - 95.0%</th>\n      <th>Upper CI - 95.0%</th>\n    </tr>\n  </thead>\n  <tbody>\n    <tr>\n      <th>0</th>\n      <td>2021-06-01 00:00:00</td>\n      <td>3.568031e+08</td>\n      <td>3.548009e+08</td>\n      <td>0.005612</td>\n      <td>3.568031e+08</td>\n      <td>0.000000</td>\n      <td>3.230795e+08</td>\n      <td>0.094516</td>\n      <td>3.399101e+08</td>\n      <td>0.047346</td>\n      <td>2021-06-01</td>\n      <td>3.399101e+08</td>\n      <td>2.858192e+08</td>\n      <td>3.940010e+08</td>\n    </tr>\n    <tr>\n      <th>1</th>\n      <td>2021-07-01 00:00:00</td>\n      <td>3.543810e+08</td>\n      <td>3.524557e+08</td>\n      <td>0.005433</td>\n      <td>3.543810e+08</td>\n      <td>0.000000</td>\n      <td>3.234155e+08</td>\n      <td>0.087379</td>\n      <td>3.567919e+08</td>\n      <td>0.006803</td>\n      <td>2021-07-01</td>\n      <td>3.567919e+08</td>\n      <td>2.932189e+08</td>\n      <td>4.203650e+08</td>\n    </tr>\n    <tr>\n      <th>2</th>\n      <td>2021-08-01 00:00:00</td>\n      <td>3.560137e+08</td>\n      <td>3.520724e+08</td>\n      <td>0.011071</td>\n      <td>3.602549e+08</td>\n      <td>0.011913</td>\n      <td>3.275867e+08</td>\n      <td>0.079848</td>\n      <td>3.413132e+08</td>\n      <td>0.041292</td>\n      <td>2021-08-01</td>\n      <td>3.413132e+08</td>\n      <td>2.694993e+08</td>\n      <td>4.131272e+08</td>\n    </tr>\n    <tr>\n      <th>3</th>\n      <td>2021-09-01 00:00:00</td>\n      <td>3.709236e+08</td>\n      <td>3.567864e+08</td>\n      <td>0.038113</td>\n      <td>3.604075e+08</td>\n      <td>0.028351</td>\n      <td>3.337098e+08</td>\n      <td>0.100327</td>\n      <td>3.560265e+08</td>\n      <td>0.040162</td>\n      <td>2021-09-01</td>\n      <td>3.560265e+08</td>\n      <td>2.768245e+08</td>\n      <td>4.352285e+08</td>\n    </tr>\n    <tr>\n      <th>4</th>\n      <td>2021-10-01 00:00:00</td>\n      <td>3.574400e+08</td>\n      <td>3.410163e+08</td>\n      <td>0.045948</td>\n      <td>3.434113e+08</td>\n      <td>0.039248</td>\n      <td>3.405001e+08</td>\n      <td>0.047392</td>\n      <td>3.609818e+08</td>\n      <td>0.009909</td>\n      <td>2021-10-01</td>\n      <td>3.609818e+08</td>\n      <td>2.750245e+08</td>\n      <td>4.469391e+08</td>\n    </tr>\n    <tr>\n      <th>5</th>\n      <td>2021-11-01 00:00:00</td>\n      <td>3.646379e+08</td>\n      <td>3.480824e+08</td>\n      <td>0.045402</td>\n      <td>3.520215e+08</td>\n      <td>0.034600</td>\n      <td>3.453642e+08</td>\n      <td>0.052857</td>\n      <td>3.510391e+08</td>\n      <td>0.037294</td>\n      <td>2021-11-01</td>\n      <td>3.510391e+08</td>\n      <td>2.588200e+08</td>\n      <td>4.432583e+08</td>\n    </tr>\n    <tr>\n      <th>6</th>\n      <td>2021-12-01 00:00:00</td>\n      <td>4.078692e+08</td>\n      <td>3.752561e+08</td>\n      <td>0.079960</td>\n      <td>3.788448e+08</td>\n      <td>0.071161</td>\n      <td>3.502673e+08</td>\n      <td>0.141226</td>\n      <td>3.833378e+08</td>\n      <td>0.060145</td>\n      <td>2021-12-01</td>\n      <td>3.833378e+08</td>\n      <td>2.852558e+08</td>\n      <td>4.814199e+08</td>\n    </tr>\n    <tr>\n      <th>7</th>\n      <td>2022-01-01 00:00:00</td>\n      <td>4.860343e+08</td>\n      <td>4.547069e+08</td>\n      <td>0.064455</td>\n      <td>4.564271e+08</td>\n      <td>0.060916</td>\n      <td>3.544186e+08</td>\n      <td>0.270795</td>\n      <td>4.477554e+08</td>\n      <td>0.078757</td>\n      <td>2022-01-01</td>\n      <td>4.477554e+08</td>\n      <td>3.441418e+08</td>\n      <td>5.513691e+08</td>\n    </tr>\n    <tr>\n      <th>8</th>\n      <td>NaN</td>\n      <td>NaN</td>\n      <td>NaN</td>\n      <td>0.036999</td>\n      <td>NaN</td>\n      <td>0.030774</td>\n      <td>NaN</td>\n      <td>0.109293</td>\n      <td>NaN</td>\n      <td>0.040214</td>\n      <td>NaT</td>\n      <td>NaN</td>\n      <td>NaN</td>\n      <td>NaN</td>\n    </tr>\n  </tbody>\n</table>\n</div>"
     },
     "execution_count": 39,
     "metadata": {},
     "output_type": "execute_result"
    }
   ],
   "source": [
    "mape_df"
   ],
   "metadata": {
    "collapsed": false,
    "pycharm": {
     "name": "#%%\n"
    }
   }
  },
  {
   "cell_type": "code",
   "execution_count": 40,
   "outputs": [],
   "source": [
    "metadata_path = proyect_path + \"/data/metadata/\"\n",
    "mape_path = metadata_path + model_run_date + \"_mape.xlsx\"\n",
    "if os.path.exists(mape_path):\n",
    "    book = load_workbook(mape_path)\n",
    "else:\n",
    "    book = Workbook()\n",
    "with pd.ExcelWriter(mape_path, engine = 'openpyxl') as writer:\n",
    "    writer.book = book\n",
    "    mape_df.to_excel(writer, sheet_name = target_col[0:30], index=False)"
   ],
   "metadata": {
    "collapsed": false,
    "pycharm": {
     "name": "#%%\n"
    }
   }
  },
  {
   "cell_type": "code",
   "execution_count": 40,
   "outputs": [],
   "source": [],
   "metadata": {
    "collapsed": false,
    "pycharm": {
     "name": "#%%\n"
    }
   }
  },
  {
   "cell_type": "code",
   "execution_count": 41,
   "outputs": [
    {
     "data": {
      "text/plain": "  Calendar Date  Total Revenue  Total Revenue - ML Predicted  \\\n0    2021-06-01   3.568031e+08                  3.230795e+08   \n1    2021-07-01   3.543810e+08                  3.234155e+08   \n2    2021-08-01   3.560137e+08                  3.275867e+08   \n3    2021-09-01   3.709236e+08                  3.337098e+08   \n4    2021-10-01   3.574400e+08                  3.405001e+08   \n5    2021-11-01   3.646379e+08                  3.453642e+08   \n6    2021-12-01   4.078692e+08                  3.502673e+08   \n7    2022-01-01   4.860343e+08                  3.544186e+08   \n\n   Total Revenue - Plan  Total Revenue - 2+10 Forecast  \\\n0          3.548009e+08                   3.568031e+08   \n1          3.524557e+08                   3.543810e+08   \n2          3.520724e+08                   3.602549e+08   \n3          3.567864e+08                   3.604075e+08   \n4          3.410163e+08                   3.434113e+08   \n5          3.480824e+08                   3.520215e+08   \n6          3.752561e+08                   3.788448e+08   \n7          4.547069e+08                   4.564271e+08   \n\n   Total Revenue - UTS Predicted  Lower CI - 95.0%  Upper CI - 95.0%  \n0                   3.399101e+08      2.858192e+08      3.940010e+08  \n1                   3.567919e+08      2.932189e+08      4.203650e+08  \n2                   3.413132e+08      2.694993e+08      4.131272e+08  \n3                   3.560265e+08      2.768245e+08      4.352285e+08  \n4                   3.609818e+08      2.750245e+08      4.469391e+08  \n5                   3.510391e+08      2.588200e+08      4.432583e+08  \n6                   3.833378e+08      2.852558e+08      4.814199e+08  \n7                   4.477554e+08      3.441418e+08      5.513691e+08  ",
      "text/html": "<div>\n<style scoped>\n    .dataframe tbody tr th:only-of-type {\n        vertical-align: middle;\n    }\n\n    .dataframe tbody tr th {\n        vertical-align: top;\n    }\n\n    .dataframe thead th {\n        text-align: right;\n    }\n</style>\n<table border=\"1\" class=\"dataframe\">\n  <thead>\n    <tr style=\"text-align: right;\">\n      <th></th>\n      <th>Calendar Date</th>\n      <th>Total Revenue</th>\n      <th>Total Revenue - ML Predicted</th>\n      <th>Total Revenue - Plan</th>\n      <th>Total Revenue - 2+10 Forecast</th>\n      <th>Total Revenue - UTS Predicted</th>\n      <th>Lower CI - 95.0%</th>\n      <th>Upper CI - 95.0%</th>\n    </tr>\n  </thead>\n  <tbody>\n    <tr>\n      <th>0</th>\n      <td>2021-06-01</td>\n      <td>3.568031e+08</td>\n      <td>3.230795e+08</td>\n      <td>3.548009e+08</td>\n      <td>3.568031e+08</td>\n      <td>3.399101e+08</td>\n      <td>2.858192e+08</td>\n      <td>3.940010e+08</td>\n    </tr>\n    <tr>\n      <th>1</th>\n      <td>2021-07-01</td>\n      <td>3.543810e+08</td>\n      <td>3.234155e+08</td>\n      <td>3.524557e+08</td>\n      <td>3.543810e+08</td>\n      <td>3.567919e+08</td>\n      <td>2.932189e+08</td>\n      <td>4.203650e+08</td>\n    </tr>\n    <tr>\n      <th>2</th>\n      <td>2021-08-01</td>\n      <td>3.560137e+08</td>\n      <td>3.275867e+08</td>\n      <td>3.520724e+08</td>\n      <td>3.602549e+08</td>\n      <td>3.413132e+08</td>\n      <td>2.694993e+08</td>\n      <td>4.131272e+08</td>\n    </tr>\n    <tr>\n      <th>3</th>\n      <td>2021-09-01</td>\n      <td>3.709236e+08</td>\n      <td>3.337098e+08</td>\n      <td>3.567864e+08</td>\n      <td>3.604075e+08</td>\n      <td>3.560265e+08</td>\n      <td>2.768245e+08</td>\n      <td>4.352285e+08</td>\n    </tr>\n    <tr>\n      <th>4</th>\n      <td>2021-10-01</td>\n      <td>3.574400e+08</td>\n      <td>3.405001e+08</td>\n      <td>3.410163e+08</td>\n      <td>3.434113e+08</td>\n      <td>3.609818e+08</td>\n      <td>2.750245e+08</td>\n      <td>4.469391e+08</td>\n    </tr>\n    <tr>\n      <th>5</th>\n      <td>2021-11-01</td>\n      <td>3.646379e+08</td>\n      <td>3.453642e+08</td>\n      <td>3.480824e+08</td>\n      <td>3.520215e+08</td>\n      <td>3.510391e+08</td>\n      <td>2.588200e+08</td>\n      <td>4.432583e+08</td>\n    </tr>\n    <tr>\n      <th>6</th>\n      <td>2021-12-01</td>\n      <td>4.078692e+08</td>\n      <td>3.502673e+08</td>\n      <td>3.752561e+08</td>\n      <td>3.788448e+08</td>\n      <td>3.833378e+08</td>\n      <td>2.852558e+08</td>\n      <td>4.814199e+08</td>\n    </tr>\n    <tr>\n      <th>7</th>\n      <td>2022-01-01</td>\n      <td>4.860343e+08</td>\n      <td>3.544186e+08</td>\n      <td>4.547069e+08</td>\n      <td>4.564271e+08</td>\n      <td>4.477554e+08</td>\n      <td>3.441418e+08</td>\n      <td>5.513691e+08</td>\n    </tr>\n  </tbody>\n</table>\n</div>"
     },
     "execution_count": 41,
     "metadata": {},
     "output_type": "execute_result"
    }
   ],
   "source": [
    "concat_df[concat_df['Calendar Date'] >= pred_start_dt]"
   ],
   "metadata": {
    "collapsed": false,
    "pycharm": {
     "name": "#%%\n"
    }
   }
  },
  {
   "cell_type": "code",
   "execution_count": 42,
   "outputs": [
    {
     "name": "stdout",
     "output_type": "stream",
     "text": [
      "Directory created\n"
     ]
    }
   ],
   "source": [
    "predictions_path = proyect_path+\"/data/predictions/\"+model_run_date\n",
    "if not os.path.exists(predictions_path):\n",
    "    os.makedirs(predictions_path)\n",
    "    print(\"Directory created\")"
   ],
   "metadata": {
    "collapsed": false,
    "pycharm": {
     "name": "#%%\n"
    }
   }
  },
  {
   "cell_type": "code",
   "execution_count": 43,
   "outputs": [],
   "source": [
    "df_write = concat_df.rename(columns={target_col: 'Actual',\n",
    "                           ml_col: 'ML Predicted',\n",
    "                           uts_col: 'UTS Predicted',\n",
    "                           plan_col: 'Plan',\n",
    "                           fcst_col:' Forecast'})"
   ],
   "metadata": {
    "collapsed": false,
    "pycharm": {
     "name": "#%%\n"
    }
   }
  },
  {
   "cell_type": "code",
   "execution_count": 44,
   "outputs": [],
   "source": [
    "df_write['Item'] = target_col"
   ],
   "metadata": {
    "collapsed": false,
    "pycharm": {
     "name": "#%%\n"
    }
   }
  },
  {
   "cell_type": "code",
   "execution_count": 45,
   "outputs": [
    {
     "data": {
      "text/plain": "   Calendar Date        Actual  ML Predicted          Plan      Forecast  \\\n0     2014-06-01  2.074346e+08           NaN           NaN           NaN   \n1     2014-07-01  2.483619e+08           NaN           NaN           NaN   \n2     2014-08-01  2.110434e+08           NaN           NaN           NaN   \n3     2014-09-01  2.064182e+08           NaN           NaN           NaN   \n4     2014-10-01  2.584593e+08           NaN           NaN           NaN   \n..           ...           ...           ...           ...           ...   \n3     2021-09-01  3.709236e+08  3.337098e+08  3.567864e+08  3.604075e+08   \n4     2021-10-01  3.574400e+08  3.405001e+08  3.410163e+08  3.434113e+08   \n5     2021-11-01  3.646379e+08  3.453642e+08  3.480824e+08  3.520215e+08   \n6     2021-12-01  4.078692e+08  3.502673e+08  3.752561e+08  3.788448e+08   \n7     2022-01-01  4.860343e+08  3.544186e+08  4.547069e+08  4.564271e+08   \n\n    UTS Predicted  Lower CI - 95.0%  Upper CI - 95.0%           Item  \n0             NaN               NaN               NaN  Total Revenue  \n1             NaN               NaN               NaN  Total Revenue  \n2             NaN               NaN               NaN  Total Revenue  \n3             NaN               NaN               NaN  Total Revenue  \n4             NaN               NaN               NaN  Total Revenue  \n..            ...               ...               ...            ...  \n3    3.560265e+08      2.768245e+08      4.352285e+08  Total Revenue  \n4    3.609818e+08      2.750245e+08      4.469391e+08  Total Revenue  \n5    3.510391e+08      2.588200e+08      4.432583e+08  Total Revenue  \n6    3.833378e+08      2.852558e+08      4.814199e+08  Total Revenue  \n7    4.477554e+08      3.441418e+08      5.513691e+08  Total Revenue  \n\n[92 rows x 9 columns]",
      "text/html": "<div>\n<style scoped>\n    .dataframe tbody tr th:only-of-type {\n        vertical-align: middle;\n    }\n\n    .dataframe tbody tr th {\n        vertical-align: top;\n    }\n\n    .dataframe thead th {\n        text-align: right;\n    }\n</style>\n<table border=\"1\" class=\"dataframe\">\n  <thead>\n    <tr style=\"text-align: right;\">\n      <th></th>\n      <th>Calendar Date</th>\n      <th>Actual</th>\n      <th>ML Predicted</th>\n      <th>Plan</th>\n      <th>Forecast</th>\n      <th>UTS Predicted</th>\n      <th>Lower CI - 95.0%</th>\n      <th>Upper CI - 95.0%</th>\n      <th>Item</th>\n    </tr>\n  </thead>\n  <tbody>\n    <tr>\n      <th>0</th>\n      <td>2014-06-01</td>\n      <td>2.074346e+08</td>\n      <td>NaN</td>\n      <td>NaN</td>\n      <td>NaN</td>\n      <td>NaN</td>\n      <td>NaN</td>\n      <td>NaN</td>\n      <td>Total Revenue</td>\n    </tr>\n    <tr>\n      <th>1</th>\n      <td>2014-07-01</td>\n      <td>2.483619e+08</td>\n      <td>NaN</td>\n      <td>NaN</td>\n      <td>NaN</td>\n      <td>NaN</td>\n      <td>NaN</td>\n      <td>NaN</td>\n      <td>Total Revenue</td>\n    </tr>\n    <tr>\n      <th>2</th>\n      <td>2014-08-01</td>\n      <td>2.110434e+08</td>\n      <td>NaN</td>\n      <td>NaN</td>\n      <td>NaN</td>\n      <td>NaN</td>\n      <td>NaN</td>\n      <td>NaN</td>\n      <td>Total Revenue</td>\n    </tr>\n    <tr>\n      <th>3</th>\n      <td>2014-09-01</td>\n      <td>2.064182e+08</td>\n      <td>NaN</td>\n      <td>NaN</td>\n      <td>NaN</td>\n      <td>NaN</td>\n      <td>NaN</td>\n      <td>NaN</td>\n      <td>Total Revenue</td>\n    </tr>\n    <tr>\n      <th>4</th>\n      <td>2014-10-01</td>\n      <td>2.584593e+08</td>\n      <td>NaN</td>\n      <td>NaN</td>\n      <td>NaN</td>\n      <td>NaN</td>\n      <td>NaN</td>\n      <td>NaN</td>\n      <td>Total Revenue</td>\n    </tr>\n    <tr>\n      <th>...</th>\n      <td>...</td>\n      <td>...</td>\n      <td>...</td>\n      <td>...</td>\n      <td>...</td>\n      <td>...</td>\n      <td>...</td>\n      <td>...</td>\n      <td>...</td>\n    </tr>\n    <tr>\n      <th>3</th>\n      <td>2021-09-01</td>\n      <td>3.709236e+08</td>\n      <td>3.337098e+08</td>\n      <td>3.567864e+08</td>\n      <td>3.604075e+08</td>\n      <td>3.560265e+08</td>\n      <td>2.768245e+08</td>\n      <td>4.352285e+08</td>\n      <td>Total Revenue</td>\n    </tr>\n    <tr>\n      <th>4</th>\n      <td>2021-10-01</td>\n      <td>3.574400e+08</td>\n      <td>3.405001e+08</td>\n      <td>3.410163e+08</td>\n      <td>3.434113e+08</td>\n      <td>3.609818e+08</td>\n      <td>2.750245e+08</td>\n      <td>4.469391e+08</td>\n      <td>Total Revenue</td>\n    </tr>\n    <tr>\n      <th>5</th>\n      <td>2021-11-01</td>\n      <td>3.646379e+08</td>\n      <td>3.453642e+08</td>\n      <td>3.480824e+08</td>\n      <td>3.520215e+08</td>\n      <td>3.510391e+08</td>\n      <td>2.588200e+08</td>\n      <td>4.432583e+08</td>\n      <td>Total Revenue</td>\n    </tr>\n    <tr>\n      <th>6</th>\n      <td>2021-12-01</td>\n      <td>4.078692e+08</td>\n      <td>3.502673e+08</td>\n      <td>3.752561e+08</td>\n      <td>3.788448e+08</td>\n      <td>3.833378e+08</td>\n      <td>2.852558e+08</td>\n      <td>4.814199e+08</td>\n      <td>Total Revenue</td>\n    </tr>\n    <tr>\n      <th>7</th>\n      <td>2022-01-01</td>\n      <td>4.860343e+08</td>\n      <td>3.544186e+08</td>\n      <td>4.547069e+08</td>\n      <td>4.564271e+08</td>\n      <td>4.477554e+08</td>\n      <td>3.441418e+08</td>\n      <td>5.513691e+08</td>\n      <td>Total Revenue</td>\n    </tr>\n  </tbody>\n</table>\n<p>92 rows × 9 columns</p>\n</div>"
     },
     "execution_count": 45,
     "metadata": {},
     "output_type": "execute_result"
    }
   ],
   "source": [
    "df_write"
   ],
   "metadata": {
    "collapsed": false,
    "pycharm": {
     "name": "#%%\n"
    }
   }
  },
  {
   "cell_type": "code",
   "execution_count": 46,
   "outputs": [],
   "source": [
    "df_write.to_parquet(predictions_path+\"/\"+target_col.replace(\" \",\"\")+\".parquet\")"
   ],
   "metadata": {
    "collapsed": false,
    "pycharm": {
     "name": "#%%\n"
    }
   }
  },
  {
   "cell_type": "code",
   "execution_count": 46,
   "outputs": [],
   "source": [],
   "metadata": {
    "collapsed": false,
    "pycharm": {
     "name": "#%%\n"
    }
   }
  },
  {
   "cell_type": "code",
   "execution_count": 158,
   "outputs": [],
   "source": [
    "df = pd.read_parquet(\"C:/Users/bruno.gonzalez/DataspellProjects/Paychex_revenue_forecast/data/predictions/20220509\")"
   ],
   "metadata": {
    "collapsed": false,
    "pycharm": {
     "name": "#%%\n"
    }
   }
  },
  {
   "cell_type": "code",
   "execution_count": 159,
   "outputs": [
    {
     "data": {
      "text/plain": "   Calendar Date                      Item        Actual  ML Predicted  \\\n0     2021-06-01          Delivery Revenue  7.829827e+06  8.742005e+06   \n1     2021-07-01          Delivery Revenue  1.243936e+07  1.289055e+07   \n2     2021-08-01          Delivery Revenue  7.622602e+06  7.869987e+06   \n3     2021-09-01          Delivery Revenue  7.779041e+06  7.976084e+06   \n4     2021-10-01          Delivery Revenue  1.126827e+07  1.287066e+07   \n5     2021-11-01          Delivery Revenue  7.617424e+06  7.695706e+06   \n6     2021-12-01          Delivery Revenue  8.212787e+06  8.042708e+06   \n7     2022-01-01          Delivery Revenue  2.243552e+07  2.102415e+07   \n8     2021-06-01  Payroll blended products  1.142380e+08  1.069185e+08   \n9     2021-07-01  Payroll blended products  1.131859e+08  1.110458e+08   \n10    2021-08-01  Payroll blended products  1.157689e+08  1.060490e+08   \n11    2021-09-01  Payroll blended products  1.164069e+08  1.087553e+08   \n12    2021-10-01  Payroll blended products  1.074553e+08  1.026939e+08   \n13    2021-11-01  Payroll blended products  1.175037e+08  1.053842e+08   \n14    2021-12-01  Payroll blended products  1.278009e+08  1.143640e+08   \n15    2022-01-01  Payroll blended products  1.038698e+08  1.069483e+08   \n16    2021-06-01               W-2 Revenue  1.456643e+05  1.787953e+07   \n17    2021-07-01               W-2 Revenue  1.295130e+05  1.787953e+07   \n18    2021-08-01               W-2 Revenue  1.496995e+05  1.787953e+07   \n19    2021-09-01               W-2 Revenue  1.845622e+05  1.787953e+07   \n20    2021-10-01               W-2 Revenue  1.811631e+05  1.787953e+07   \n21    2021-11-01               W-2 Revenue  1.552792e+05  1.787953e+07   \n22    2021-12-01               W-2 Revenue  1.925841e+05  1.787953e+07   \n23    2022-01-01               W-2 Revenue  8.154442e+07  1.787953e+07   \n\n    UTS Predicted          Plan      Forecast      Lower CI      Upper CI  \n0    7.621582e+06  7.486713e+06  7.829827e+06  5.679662e+06  9.563501e+06  \n1    1.218767e+07  1.261072e+07  1.243936e+07  1.005493e+07  1.432041e+07  \n2    7.427974e+06  7.556542e+06  7.682000e+06  4.843065e+06  1.001288e+07  \n3    7.893044e+06  6.818278e+06  7.149703e+06  5.066063e+06  1.072002e+07  \n4    1.247308e+07  1.174251e+07  1.122409e+07  9.354347e+06  1.559181e+07  \n5    7.406496e+06  6.938894e+06  7.147250e+06  4.056574e+06  1.075642e+07  \n6    8.094190e+06  7.564224e+06  7.716521e+06  4.510080e+06  1.167830e+07  \n7    2.258278e+07  2.262883e+07  2.207458e+07  1.878818e+07  2.637738e+07  \n8    1.145630e+08  1.134306e+08  1.142380e+08  9.281367e+07  1.363124e+08  \n9    1.157635e+08  1.143207e+08  1.131859e+08  9.176588e+07  1.397611e+08  \n10   1.135166e+08  1.167989e+08  1.182797e+08  8.548083e+07  1.415523e+08  \n11   1.153946e+08  1.126937e+08  1.132994e+08  8.442522e+07  1.463641e+08  \n12   1.174904e+08  1.045306e+08  1.053015e+08  8.370521e+07  1.512755e+08  \n13   1.143671e+08  1.132584e+08  1.141515e+08  7.800990e+07  1.507242e+08  \n14   1.278934e+08  1.195799e+08  1.199513e+08  8.913152e+07  1.666554e+08  \n15   1.105324e+08  1.026955e+08  1.036316e+08  6.950595e+07  1.515589e+08  \n16   8.334384e+04  9.433619e+04  1.456643e+05 -2.347631e+07  2.364300e+07  \n17   1.423647e+05  1.629054e+05  1.295130e+05 -2.343360e+07  2.371833e+07  \n18   1.556587e+05  1.762317e+05  1.762317e+05 -2.343660e+07  2.374792e+07  \n19   2.069904e+05  2.275312e+05  2.275312e+05 -2.340155e+07  2.381553e+07  \n20   1.627679e+05  1.833087e+05  1.833087e+05 -2.346205e+07  2.378758e+07  \n21   1.882647e+05  2.085526e+05  2.085526e+05 -2.345281e+07  2.382934e+07  \n22   2.124756e+05  2.332858e+05  2.332858e+05 -2.344485e+07  2.386980e+07  \n23   8.096834e+07  8.089268e+07  8.080842e+07  5.729477e+07  1.046419e+08  ",
      "text/html": "<div>\n<style scoped>\n    .dataframe tbody tr th:only-of-type {\n        vertical-align: middle;\n    }\n\n    .dataframe tbody tr th {\n        vertical-align: top;\n    }\n\n    .dataframe thead th {\n        text-align: right;\n    }\n</style>\n<table border=\"1\" class=\"dataframe\">\n  <thead>\n    <tr style=\"text-align: right;\">\n      <th></th>\n      <th>Calendar Date</th>\n      <th>Item</th>\n      <th>Actual</th>\n      <th>ML Predicted</th>\n      <th>UTS Predicted</th>\n      <th>Plan</th>\n      <th>Forecast</th>\n      <th>Lower CI</th>\n      <th>Upper CI</th>\n    </tr>\n  </thead>\n  <tbody>\n    <tr>\n      <th>0</th>\n      <td>2021-06-01</td>\n      <td>Delivery Revenue</td>\n      <td>7.829827e+06</td>\n      <td>8.742005e+06</td>\n      <td>7.621582e+06</td>\n      <td>7.486713e+06</td>\n      <td>7.829827e+06</td>\n      <td>5.679662e+06</td>\n      <td>9.563501e+06</td>\n    </tr>\n    <tr>\n      <th>1</th>\n      <td>2021-07-01</td>\n      <td>Delivery Revenue</td>\n      <td>1.243936e+07</td>\n      <td>1.289055e+07</td>\n      <td>1.218767e+07</td>\n      <td>1.261072e+07</td>\n      <td>1.243936e+07</td>\n      <td>1.005493e+07</td>\n      <td>1.432041e+07</td>\n    </tr>\n    <tr>\n      <th>2</th>\n      <td>2021-08-01</td>\n      <td>Delivery Revenue</td>\n      <td>7.622602e+06</td>\n      <td>7.869987e+06</td>\n      <td>7.427974e+06</td>\n      <td>7.556542e+06</td>\n      <td>7.682000e+06</td>\n      <td>4.843065e+06</td>\n      <td>1.001288e+07</td>\n    </tr>\n    <tr>\n      <th>3</th>\n      <td>2021-09-01</td>\n      <td>Delivery Revenue</td>\n      <td>7.779041e+06</td>\n      <td>7.976084e+06</td>\n      <td>7.893044e+06</td>\n      <td>6.818278e+06</td>\n      <td>7.149703e+06</td>\n      <td>5.066063e+06</td>\n      <td>1.072002e+07</td>\n    </tr>\n    <tr>\n      <th>4</th>\n      <td>2021-10-01</td>\n      <td>Delivery Revenue</td>\n      <td>1.126827e+07</td>\n      <td>1.287066e+07</td>\n      <td>1.247308e+07</td>\n      <td>1.174251e+07</td>\n      <td>1.122409e+07</td>\n      <td>9.354347e+06</td>\n      <td>1.559181e+07</td>\n    </tr>\n    <tr>\n      <th>5</th>\n      <td>2021-11-01</td>\n      <td>Delivery Revenue</td>\n      <td>7.617424e+06</td>\n      <td>7.695706e+06</td>\n      <td>7.406496e+06</td>\n      <td>6.938894e+06</td>\n      <td>7.147250e+06</td>\n      <td>4.056574e+06</td>\n      <td>1.075642e+07</td>\n    </tr>\n    <tr>\n      <th>6</th>\n      <td>2021-12-01</td>\n      <td>Delivery Revenue</td>\n      <td>8.212787e+06</td>\n      <td>8.042708e+06</td>\n      <td>8.094190e+06</td>\n      <td>7.564224e+06</td>\n      <td>7.716521e+06</td>\n      <td>4.510080e+06</td>\n      <td>1.167830e+07</td>\n    </tr>\n    <tr>\n      <th>7</th>\n      <td>2022-01-01</td>\n      <td>Delivery Revenue</td>\n      <td>2.243552e+07</td>\n      <td>2.102415e+07</td>\n      <td>2.258278e+07</td>\n      <td>2.262883e+07</td>\n      <td>2.207458e+07</td>\n      <td>1.878818e+07</td>\n      <td>2.637738e+07</td>\n    </tr>\n    <tr>\n      <th>8</th>\n      <td>2021-06-01</td>\n      <td>Payroll blended products</td>\n      <td>1.142380e+08</td>\n      <td>1.069185e+08</td>\n      <td>1.145630e+08</td>\n      <td>1.134306e+08</td>\n      <td>1.142380e+08</td>\n      <td>9.281367e+07</td>\n      <td>1.363124e+08</td>\n    </tr>\n    <tr>\n      <th>9</th>\n      <td>2021-07-01</td>\n      <td>Payroll blended products</td>\n      <td>1.131859e+08</td>\n      <td>1.110458e+08</td>\n      <td>1.157635e+08</td>\n      <td>1.143207e+08</td>\n      <td>1.131859e+08</td>\n      <td>9.176588e+07</td>\n      <td>1.397611e+08</td>\n    </tr>\n    <tr>\n      <th>10</th>\n      <td>2021-08-01</td>\n      <td>Payroll blended products</td>\n      <td>1.157689e+08</td>\n      <td>1.060490e+08</td>\n      <td>1.135166e+08</td>\n      <td>1.167989e+08</td>\n      <td>1.182797e+08</td>\n      <td>8.548083e+07</td>\n      <td>1.415523e+08</td>\n    </tr>\n    <tr>\n      <th>11</th>\n      <td>2021-09-01</td>\n      <td>Payroll blended products</td>\n      <td>1.164069e+08</td>\n      <td>1.087553e+08</td>\n      <td>1.153946e+08</td>\n      <td>1.126937e+08</td>\n      <td>1.132994e+08</td>\n      <td>8.442522e+07</td>\n      <td>1.463641e+08</td>\n    </tr>\n    <tr>\n      <th>12</th>\n      <td>2021-10-01</td>\n      <td>Payroll blended products</td>\n      <td>1.074553e+08</td>\n      <td>1.026939e+08</td>\n      <td>1.174904e+08</td>\n      <td>1.045306e+08</td>\n      <td>1.053015e+08</td>\n      <td>8.370521e+07</td>\n      <td>1.512755e+08</td>\n    </tr>\n    <tr>\n      <th>13</th>\n      <td>2021-11-01</td>\n      <td>Payroll blended products</td>\n      <td>1.175037e+08</td>\n      <td>1.053842e+08</td>\n      <td>1.143671e+08</td>\n      <td>1.132584e+08</td>\n      <td>1.141515e+08</td>\n      <td>7.800990e+07</td>\n      <td>1.507242e+08</td>\n    </tr>\n    <tr>\n      <th>14</th>\n      <td>2021-12-01</td>\n      <td>Payroll blended products</td>\n      <td>1.278009e+08</td>\n      <td>1.143640e+08</td>\n      <td>1.278934e+08</td>\n      <td>1.195799e+08</td>\n      <td>1.199513e+08</td>\n      <td>8.913152e+07</td>\n      <td>1.666554e+08</td>\n    </tr>\n    <tr>\n      <th>15</th>\n      <td>2022-01-01</td>\n      <td>Payroll blended products</td>\n      <td>1.038698e+08</td>\n      <td>1.069483e+08</td>\n      <td>1.105324e+08</td>\n      <td>1.026955e+08</td>\n      <td>1.036316e+08</td>\n      <td>6.950595e+07</td>\n      <td>1.515589e+08</td>\n    </tr>\n    <tr>\n      <th>16</th>\n      <td>2021-06-01</td>\n      <td>W-2 Revenue</td>\n      <td>1.456643e+05</td>\n      <td>1.787953e+07</td>\n      <td>8.334384e+04</td>\n      <td>9.433619e+04</td>\n      <td>1.456643e+05</td>\n      <td>-2.347631e+07</td>\n      <td>2.364300e+07</td>\n    </tr>\n    <tr>\n      <th>17</th>\n      <td>2021-07-01</td>\n      <td>W-2 Revenue</td>\n      <td>1.295130e+05</td>\n      <td>1.787953e+07</td>\n      <td>1.423647e+05</td>\n      <td>1.629054e+05</td>\n      <td>1.295130e+05</td>\n      <td>-2.343360e+07</td>\n      <td>2.371833e+07</td>\n    </tr>\n    <tr>\n      <th>18</th>\n      <td>2021-08-01</td>\n      <td>W-2 Revenue</td>\n      <td>1.496995e+05</td>\n      <td>1.787953e+07</td>\n      <td>1.556587e+05</td>\n      <td>1.762317e+05</td>\n      <td>1.762317e+05</td>\n      <td>-2.343660e+07</td>\n      <td>2.374792e+07</td>\n    </tr>\n    <tr>\n      <th>19</th>\n      <td>2021-09-01</td>\n      <td>W-2 Revenue</td>\n      <td>1.845622e+05</td>\n      <td>1.787953e+07</td>\n      <td>2.069904e+05</td>\n      <td>2.275312e+05</td>\n      <td>2.275312e+05</td>\n      <td>-2.340155e+07</td>\n      <td>2.381553e+07</td>\n    </tr>\n    <tr>\n      <th>20</th>\n      <td>2021-10-01</td>\n      <td>W-2 Revenue</td>\n      <td>1.811631e+05</td>\n      <td>1.787953e+07</td>\n      <td>1.627679e+05</td>\n      <td>1.833087e+05</td>\n      <td>1.833087e+05</td>\n      <td>-2.346205e+07</td>\n      <td>2.378758e+07</td>\n    </tr>\n    <tr>\n      <th>21</th>\n      <td>2021-11-01</td>\n      <td>W-2 Revenue</td>\n      <td>1.552792e+05</td>\n      <td>1.787953e+07</td>\n      <td>1.882647e+05</td>\n      <td>2.085526e+05</td>\n      <td>2.085526e+05</td>\n      <td>-2.345281e+07</td>\n      <td>2.382934e+07</td>\n    </tr>\n    <tr>\n      <th>22</th>\n      <td>2021-12-01</td>\n      <td>W-2 Revenue</td>\n      <td>1.925841e+05</td>\n      <td>1.787953e+07</td>\n      <td>2.124756e+05</td>\n      <td>2.332858e+05</td>\n      <td>2.332858e+05</td>\n      <td>-2.344485e+07</td>\n      <td>2.386980e+07</td>\n    </tr>\n    <tr>\n      <th>23</th>\n      <td>2022-01-01</td>\n      <td>W-2 Revenue</td>\n      <td>8.154442e+07</td>\n      <td>1.787953e+07</td>\n      <td>8.096834e+07</td>\n      <td>8.089268e+07</td>\n      <td>8.080842e+07</td>\n      <td>5.729477e+07</td>\n      <td>1.046419e+08</td>\n    </tr>\n  </tbody>\n</table>\n</div>"
     },
     "execution_count": 159,
     "metadata": {},
     "output_type": "execute_result"
    }
   ],
   "source": [
    "df"
   ],
   "metadata": {
    "collapsed": false,
    "pycharm": {
     "name": "#%%\n"
    }
   }
  },
  {
   "cell_type": "code",
   "execution_count": null,
   "outputs": [],
   "source": [],
   "metadata": {
    "collapsed": false,
    "pycharm": {
     "name": "#%%\n"
    }
   }
  }
 ],
 "metadata": {
  "kernelspec": {
   "display_name": "Python 3",
   "language": "python",
   "name": "python3"
  },
  "language_info": {
   "codemirror_mode": {
    "name": "ipython",
    "version": 3
   },
   "file_extension": ".py",
   "mimetype": "text/x-python",
   "name": "python",
   "nbconvert_exporter": "python",
   "pygments_lexer": "ipython3",
   "version": "3.8.1"
  }
 },
 "nbformat": 4,
 "nbformat_minor": 4
}