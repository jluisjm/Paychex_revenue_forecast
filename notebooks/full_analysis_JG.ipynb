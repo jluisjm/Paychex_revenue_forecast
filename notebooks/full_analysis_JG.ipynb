{
 "cells": [
  {
   "cell_type": "code",
   "execution_count": 3,
   "metadata": {},
   "outputs": [
    {
     "data": {
      "text/html": [
       "<style type=\"text/css\">\n",
       "#T_bf500_ th {\n",
       "  text-align: left;\n",
       "}\n",
       "#T_bf500_row0_col0, #T_bf500_row0_col2, #T_bf500_row0_col3, #T_bf500_row0_col4, #T_bf500_row0_col5, #T_bf500_row1_col0, #T_bf500_row1_col1, #T_bf500_row1_col2, #T_bf500_row1_col3, #T_bf500_row1_col4, #T_bf500_row1_col6, #T_bf500_row2_col0, #T_bf500_row2_col1, #T_bf500_row2_col2, #T_bf500_row2_col3, #T_bf500_row2_col4, #T_bf500_row2_col5, #T_bf500_row2_col6, #T_bf500_row3_col0, #T_bf500_row3_col1, #T_bf500_row3_col2, #T_bf500_row3_col3, #T_bf500_row3_col4, #T_bf500_row3_col5, #T_bf500_row3_col6, #T_bf500_row4_col0, #T_bf500_row4_col1, #T_bf500_row4_col2, #T_bf500_row4_col3, #T_bf500_row4_col4, #T_bf500_row4_col5, #T_bf500_row4_col6, #T_bf500_row5_col0, #T_bf500_row5_col1, #T_bf500_row5_col2, #T_bf500_row5_col3, #T_bf500_row5_col4, #T_bf500_row5_col5, #T_bf500_row5_col6, #T_bf500_row6_col0, #T_bf500_row6_col1, #T_bf500_row6_col2, #T_bf500_row6_col3, #T_bf500_row6_col4, #T_bf500_row6_col5, #T_bf500_row6_col6, #T_bf500_row7_col0, #T_bf500_row7_col1, #T_bf500_row7_col2, #T_bf500_row7_col3, #T_bf500_row7_col4, #T_bf500_row7_col5, #T_bf500_row7_col6, #T_bf500_row8_col0, #T_bf500_row8_col1, #T_bf500_row8_col3, #T_bf500_row8_col4, #T_bf500_row8_col5, #T_bf500_row8_col6, #T_bf500_row9_col0, #T_bf500_row9_col1, #T_bf500_row9_col2, #T_bf500_row9_col3, #T_bf500_row9_col4, #T_bf500_row9_col5, #T_bf500_row9_col6, #T_bf500_row10_col0, #T_bf500_row10_col1, #T_bf500_row10_col2, #T_bf500_row10_col3, #T_bf500_row10_col4, #T_bf500_row10_col5, #T_bf500_row10_col6, #T_bf500_row11_col0, #T_bf500_row11_col1, #T_bf500_row11_col2, #T_bf500_row11_col3, #T_bf500_row11_col4, #T_bf500_row11_col5, #T_bf500_row11_col6, #T_bf500_row12_col0, #T_bf500_row12_col1, #T_bf500_row12_col2, #T_bf500_row12_col3, #T_bf500_row12_col4, #T_bf500_row12_col5, #T_bf500_row12_col6, #T_bf500_row13_col0, #T_bf500_row13_col1, #T_bf500_row13_col2, #T_bf500_row13_col5, #T_bf500_row13_col6, #T_bf500_row14_col0, #T_bf500_row14_col1, #T_bf500_row14_col2, #T_bf500_row14_col3, #T_bf500_row14_col4, #T_bf500_row14_col5, #T_bf500_row14_col6, #T_bf500_row15_col0, #T_bf500_row15_col1, #T_bf500_row15_col2, #T_bf500_row15_col3, #T_bf500_row15_col4, #T_bf500_row15_col5, #T_bf500_row15_col6, #T_bf500_row16_col0, #T_bf500_row16_col1, #T_bf500_row16_col2, #T_bf500_row16_col3, #T_bf500_row16_col4, #T_bf500_row16_col5, #T_bf500_row16_col6, #T_bf500_row17_col0, #T_bf500_row17_col1, #T_bf500_row17_col2, #T_bf500_row17_col3, #T_bf500_row17_col4, #T_bf500_row17_col5, #T_bf500_row17_col6, #T_bf500_row18_col0, #T_bf500_row18_col1, #T_bf500_row18_col2, #T_bf500_row18_col3, #T_bf500_row18_col4, #T_bf500_row18_col5, #T_bf500_row18_col6, #T_bf500_row19_col0, #T_bf500_row19_col1, #T_bf500_row19_col2, #T_bf500_row19_col3, #T_bf500_row19_col4, #T_bf500_row19_col5, #T_bf500_row19_col6 {\n",
       "  text-align: left;\n",
       "}\n",
       "#T_bf500_row0_col1, #T_bf500_row0_col6, #T_bf500_row1_col5, #T_bf500_row8_col2, #T_bf500_row13_col3, #T_bf500_row13_col4 {\n",
       "  text-align: left;\n",
       "  background-color: yellow;\n",
       "}\n",
       "#T_bf500_row0_col7, #T_bf500_row1_col7, #T_bf500_row2_col7, #T_bf500_row3_col7, #T_bf500_row4_col7, #T_bf500_row5_col7, #T_bf500_row6_col7, #T_bf500_row7_col7, #T_bf500_row8_col7, #T_bf500_row9_col7, #T_bf500_row10_col7, #T_bf500_row11_col7, #T_bf500_row13_col7, #T_bf500_row14_col7, #T_bf500_row15_col7, #T_bf500_row16_col7, #T_bf500_row17_col7, #T_bf500_row18_col7, #T_bf500_row19_col7 {\n",
       "  text-align: left;\n",
       "  background-color: lightgrey;\n",
       "}\n",
       "#T_bf500_row12_col7 {\n",
       "  text-align: left;\n",
       "  background-color: yellow;\n",
       "  background-color: lightgrey;\n",
       "}\n",
       "</style>\n",
       "<table id=\"T_bf500_\">\n",
       "  <thead>\n",
       "    <tr>\n",
       "      <th class=\"blank level0\" >&nbsp;</th>\n",
       "      <th class=\"col_heading level0 col0\" >Model</th>\n",
       "      <th class=\"col_heading level0 col1\" >MAE</th>\n",
       "      <th class=\"col_heading level0 col2\" >MSE</th>\n",
       "      <th class=\"col_heading level0 col3\" >RMSE</th>\n",
       "      <th class=\"col_heading level0 col4\" >R2</th>\n",
       "      <th class=\"col_heading level0 col5\" >RMSLE</th>\n",
       "      <th class=\"col_heading level0 col6\" >MAPE</th>\n",
       "      <th class=\"col_heading level0 col7\" >TT (Sec)</th>\n",
       "    </tr>\n",
       "  </thead>\n",
       "  <tbody>\n",
       "    <tr>\n",
       "      <th id=\"T_bf500_level0_row0\" class=\"row_heading level0 row0\" >par</th>\n",
       "      <td id=\"T_bf500_row0_col0\" class=\"data row0 col0\" >Passive Aggressive Regressor</td>\n",
       "      <td id=\"T_bf500_row0_col1\" class=\"data row0 col1\" >4651039.6694</td>\n",
       "      <td id=\"T_bf500_row0_col2\" class=\"data row0 col2\" >307766895756327.3125</td>\n",
       "      <td id=\"T_bf500_row0_col3\" class=\"data row0 col3\" >11794467.3407</td>\n",
       "      <td id=\"T_bf500_row0_col4\" class=\"data row0 col4\" >-0.1276</td>\n",
       "      <td id=\"T_bf500_row0_col5\" class=\"data row0 col5\" >1.4240</td>\n",
       "      <td id=\"T_bf500_row0_col6\" class=\"data row0 col6\" >4.6328</td>\n",
       "      <td id=\"T_bf500_row0_col7\" class=\"data row0 col7\" >0.0167</td>\n",
       "    </tr>\n",
       "    <tr>\n",
       "      <th id=\"T_bf500_level0_row1\" class=\"row_heading level0 row1\" >xgboost</th>\n",
       "      <td id=\"T_bf500_row1_col0\" class=\"data row1 col0\" >Extreme Gradient Boosting</td>\n",
       "      <td id=\"T_bf500_row1_col1\" class=\"data row1 col1\" >4852885.0000</td>\n",
       "      <td id=\"T_bf500_row1_col2\" class=\"data row1 col2\" >293389066633216.0000</td>\n",
       "      <td id=\"T_bf500_row1_col3\" class=\"data row1 col3\" >11559160.2083</td>\n",
       "      <td id=\"T_bf500_row1_col4\" class=\"data row1 col4\" >-0.2445</td>\n",
       "      <td id=\"T_bf500_row1_col5\" class=\"data row1 col5\" >1.3321</td>\n",
       "      <td id=\"T_bf500_row1_col6\" class=\"data row1 col6\" >5.1403</td>\n",
       "      <td id=\"T_bf500_row1_col7\" class=\"data row1 col7\" >0.3633</td>\n",
       "    </tr>\n",
       "    <tr>\n",
       "      <th id=\"T_bf500_level0_row2\" class=\"row_heading level0 row2\" >ada</th>\n",
       "      <td id=\"T_bf500_row2_col0\" class=\"data row2 col0\" >AdaBoost Regressor</td>\n",
       "      <td id=\"T_bf500_row2_col1\" class=\"data row2 col1\" >5393288.0624</td>\n",
       "      <td id=\"T_bf500_row2_col2\" class=\"data row2 col2\" >312841972602843.2500</td>\n",
       "      <td id=\"T_bf500_row2_col3\" class=\"data row2 col3\" >11908733.5410</td>\n",
       "      <td id=\"T_bf500_row2_col4\" class=\"data row2 col4\" >-0.2442</td>\n",
       "      <td id=\"T_bf500_row2_col5\" class=\"data row2 col5\" >1.6959</td>\n",
       "      <td id=\"T_bf500_row2_col6\" class=\"data row2 col6\" >14.3631</td>\n",
       "      <td id=\"T_bf500_row2_col7\" class=\"data row2 col7\" >0.0867</td>\n",
       "    </tr>\n",
       "    <tr>\n",
       "      <th id=\"T_bf500_level0_row3\" class=\"row_heading level0 row3\" >rf</th>\n",
       "      <td id=\"T_bf500_row3_col0\" class=\"data row3 col0\" >Random Forest Regressor</td>\n",
       "      <td id=\"T_bf500_row3_col1\" class=\"data row3 col1\" >5403796.6588</td>\n",
       "      <td id=\"T_bf500_row3_col2\" class=\"data row3 col2\" >310501206110308.6875</td>\n",
       "      <td id=\"T_bf500_row3_col3\" class=\"data row3 col3\" >11846932.0788</td>\n",
       "      <td id=\"T_bf500_row3_col4\" class=\"data row3 col4\" >-0.1410</td>\n",
       "      <td id=\"T_bf500_row3_col5\" class=\"data row3 col5\" >1.6956</td>\n",
       "      <td id=\"T_bf500_row3_col6\" class=\"data row3 col6\" >12.6452</td>\n",
       "      <td id=\"T_bf500_row3_col7\" class=\"data row3 col7\" >0.2600</td>\n",
       "    </tr>\n",
       "    <tr>\n",
       "      <th id=\"T_bf500_level0_row4\" class=\"row_heading level0 row4\" >et</th>\n",
       "      <td id=\"T_bf500_row4_col0\" class=\"data row4 col0\" >Extra Trees Regressor</td>\n",
       "      <td id=\"T_bf500_row4_col1\" class=\"data row4 col1\" >5488484.4916</td>\n",
       "      <td id=\"T_bf500_row4_col2\" class=\"data row4 col2\" >294055732832148.0000</td>\n",
       "      <td id=\"T_bf500_row4_col3\" class=\"data row4 col3\" >11543907.0378</td>\n",
       "      <td id=\"T_bf500_row4_col4\" class=\"data row4 col4\" >-0.1055</td>\n",
       "      <td id=\"T_bf500_row4_col5\" class=\"data row4 col5\" >1.6918</td>\n",
       "      <td id=\"T_bf500_row4_col6\" class=\"data row4 col6\" >14.7648</td>\n",
       "      <td id=\"T_bf500_row4_col7\" class=\"data row4 col7\" >0.2433</td>\n",
       "    </tr>\n",
       "    <tr>\n",
       "      <th id=\"T_bf500_level0_row5\" class=\"row_heading level0 row5\" >gbr</th>\n",
       "      <td id=\"T_bf500_row5_col0\" class=\"data row5 col0\" >Gradient Boosting Regressor</td>\n",
       "      <td id=\"T_bf500_row5_col1\" class=\"data row5 col1\" >5498416.6912</td>\n",
       "      <td id=\"T_bf500_row5_col2\" class=\"data row5 col2\" >309384708433030.7500</td>\n",
       "      <td id=\"T_bf500_row5_col3\" class=\"data row5 col3\" >11862635.4646</td>\n",
       "      <td id=\"T_bf500_row5_col4\" class=\"data row5 col4\" >-0.2328</td>\n",
       "      <td id=\"T_bf500_row5_col5\" class=\"data row5 col5\" >1.6825</td>\n",
       "      <td id=\"T_bf500_row5_col6\" class=\"data row5 col6\" >13.5913</td>\n",
       "      <td id=\"T_bf500_row5_col7\" class=\"data row5 col7\" >0.0400</td>\n",
       "    </tr>\n",
       "    <tr>\n",
       "      <th id=\"T_bf500_level0_row6\" class=\"row_heading level0 row6\" >knn</th>\n",
       "      <td id=\"T_bf500_row6_col0\" class=\"data row6 col0\" >K Neighbors Regressor</td>\n",
       "      <td id=\"T_bf500_row6_col1\" class=\"data row6 col1\" >5631672.6667</td>\n",
       "      <td id=\"T_bf500_row6_col2\" class=\"data row6 col2\" >285927980750165.3125</td>\n",
       "      <td id=\"T_bf500_row6_col3\" class=\"data row6 col3\" >11429202.9583</td>\n",
       "      <td id=\"T_bf500_row6_col4\" class=\"data row6 col4\" >-0.1508</td>\n",
       "      <td id=\"T_bf500_row6_col5\" class=\"data row6 col5\" >1.7228</td>\n",
       "      <td id=\"T_bf500_row6_col6\" class=\"data row6 col6\" >17.1622</td>\n",
       "      <td id=\"T_bf500_row6_col7\" class=\"data row6 col7\" >0.0233</td>\n",
       "    </tr>\n",
       "    <tr>\n",
       "      <th id=\"T_bf500_level0_row7\" class=\"row_heading level0 row7\" >catboost</th>\n",
       "      <td id=\"T_bf500_row7_col0\" class=\"data row7 col0\" >CatBoost Regressor</td>\n",
       "      <td id=\"T_bf500_row7_col1\" class=\"data row7 col1\" >5724207.6152</td>\n",
       "      <td id=\"T_bf500_row7_col2\" class=\"data row7 col2\" >282578686996215.0000</td>\n",
       "      <td id=\"T_bf500_row7_col3\" class=\"data row7 col3\" >11369621.1177</td>\n",
       "      <td id=\"T_bf500_row7_col4\" class=\"data row7 col4\" >-0.1100</td>\n",
       "      <td id=\"T_bf500_row7_col5\" class=\"data row7 col5\" >1.7380</td>\n",
       "      <td id=\"T_bf500_row7_col6\" class=\"data row7 col6\" >17.0373</td>\n",
       "      <td id=\"T_bf500_row7_col7\" class=\"data row7 col7\" >1.1100</td>\n",
       "    </tr>\n",
       "    <tr>\n",
       "      <th id=\"T_bf500_level0_row8\" class=\"row_heading level0 row8\" >omp</th>\n",
       "      <td id=\"T_bf500_row8_col0\" class=\"data row8 col0\" >Orthogonal Matching Pursuit</td>\n",
       "      <td id=\"T_bf500_row8_col1\" class=\"data row8 col1\" >5781223.4642</td>\n",
       "      <td id=\"T_bf500_row8_col2\" class=\"data row8 col2\" >275262824866120.0000</td>\n",
       "      <td id=\"T_bf500_row8_col3\" class=\"data row8 col3\" >11246530.8477</td>\n",
       "      <td id=\"T_bf500_row8_col4\" class=\"data row8 col4\" >-0.1533</td>\n",
       "      <td id=\"T_bf500_row8_col5\" class=\"data row8 col5\" >1.7591</td>\n",
       "      <td id=\"T_bf500_row8_col6\" class=\"data row8 col6\" >18.0001</td>\n",
       "      <td id=\"T_bf500_row8_col7\" class=\"data row8 col7\" >0.0433</td>\n",
       "    </tr>\n",
       "    <tr>\n",
       "      <th id=\"T_bf500_level0_row9\" class=\"row_heading level0 row9\" >lightgbm</th>\n",
       "      <td id=\"T_bf500_row9_col0\" class=\"data row9 col0\" >Light Gradient Boosting Machine</td>\n",
       "      <td id=\"T_bf500_row9_col1\" class=\"data row9 col1\" >5834790.9128</td>\n",
       "      <td id=\"T_bf500_row9_col2\" class=\"data row9 col2\" >285229608434774.0625</td>\n",
       "      <td id=\"T_bf500_row9_col3\" class=\"data row9 col3\" >11409767.6941</td>\n",
       "      <td id=\"T_bf500_row9_col4\" class=\"data row9 col4\" >-0.1077</td>\n",
       "      <td id=\"T_bf500_row9_col5\" class=\"data row9 col5\" >1.7736</td>\n",
       "      <td id=\"T_bf500_row9_col6\" class=\"data row9 col6\" >18.4539</td>\n",
       "      <td id=\"T_bf500_row9_col7\" class=\"data row9 col7\" >0.0500</td>\n",
       "    </tr>\n",
       "    <tr>\n",
       "      <th id=\"T_bf500_level0_row10\" class=\"row_heading level0 row10\" >dt</th>\n",
       "      <td id=\"T_bf500_row10_col0\" class=\"data row10 col0\" >Decision Tree Regressor</td>\n",
       "      <td id=\"T_bf500_row10_col1\" class=\"data row10 col1\" >5924065.9326</td>\n",
       "      <td id=\"T_bf500_row10_col2\" class=\"data row10 col2\" >317337522625946.2500</td>\n",
       "      <td id=\"T_bf500_row10_col3\" class=\"data row10 col3\" >12110264.4607</td>\n",
       "      <td id=\"T_bf500_row10_col4\" class=\"data row10 col4\" >-0.2576</td>\n",
       "      <td id=\"T_bf500_row10_col5\" class=\"data row10 col5\" >1.7981</td>\n",
       "      <td id=\"T_bf500_row10_col6\" class=\"data row10 col6\" >18.9682</td>\n",
       "      <td id=\"T_bf500_row10_col7\" class=\"data row10 col7\" >0.0167</td>\n",
       "    </tr>\n",
       "    <tr>\n",
       "      <th id=\"T_bf500_level0_row11\" class=\"row_heading level0 row11\" >br</th>\n",
       "      <td id=\"T_bf500_row11_col0\" class=\"data row11 col0\" >Bayesian Ridge</td>\n",
       "      <td id=\"T_bf500_row11_col1\" class=\"data row11 col1\" >6031944.8244</td>\n",
       "      <td id=\"T_bf500_row11_col2\" class=\"data row11 col2\" >292268501789964.6250</td>\n",
       "      <td id=\"T_bf500_row11_col3\" class=\"data row11 col3\" >11530366.7961</td>\n",
       "      <td id=\"T_bf500_row11_col4\" class=\"data row11 col4\" >-0.1153</td>\n",
       "      <td id=\"T_bf500_row11_col5\" class=\"data row11 col5\" >1.7958</td>\n",
       "      <td id=\"T_bf500_row11_col6\" class=\"data row11 col6\" >19.6257</td>\n",
       "      <td id=\"T_bf500_row11_col7\" class=\"data row11 col7\" >0.0267</td>\n",
       "    </tr>\n",
       "    <tr>\n",
       "      <th id=\"T_bf500_level0_row12\" class=\"row_heading level0 row12\" >dummy</th>\n",
       "      <td id=\"T_bf500_row12_col0\" class=\"data row12 col0\" >Dummy Regressor</td>\n",
       "      <td id=\"T_bf500_row12_col1\" class=\"data row12 col1\" >6324920.3333</td>\n",
       "      <td id=\"T_bf500_row12_col2\" class=\"data row12 col2\" >278538458824704.0000</td>\n",
       "      <td id=\"T_bf500_row12_col3\" class=\"data row12 col3\" >11293274.4583</td>\n",
       "      <td id=\"T_bf500_row12_col4\" class=\"data row12 col4\" >-0.0993</td>\n",
       "      <td id=\"T_bf500_row12_col5\" class=\"data row12 col5\" >1.8521</td>\n",
       "      <td id=\"T_bf500_row12_col6\" class=\"data row12 col6\" >20.4736</td>\n",
       "      <td id=\"T_bf500_row12_col7\" class=\"data row12 col7\" >0.0133</td>\n",
       "    </tr>\n",
       "    <tr>\n",
       "      <th id=\"T_bf500_level0_row13\" class=\"row_heading level0 row13\" >huber</th>\n",
       "      <td id=\"T_bf500_row13_col0\" class=\"data row13 col0\" >Huber Regressor</td>\n",
       "      <td id=\"T_bf500_row13_col1\" class=\"data row13 col1\" >6502821.1413</td>\n",
       "      <td id=\"T_bf500_row13_col2\" class=\"data row13 col2\" >275799096365103.6562</td>\n",
       "      <td id=\"T_bf500_row13_col3\" class=\"data row13 col3\" >11204593.3918</td>\n",
       "      <td id=\"T_bf500_row13_col4\" class=\"data row13 col4\" >-0.0658</td>\n",
       "      <td id=\"T_bf500_row13_col5\" class=\"data row13 col5\" >1.8767</td>\n",
       "      <td id=\"T_bf500_row13_col6\" class=\"data row13 col6\" >22.6434</td>\n",
       "      <td id=\"T_bf500_row13_col7\" class=\"data row13 col7\" >0.0533</td>\n",
       "    </tr>\n",
       "    <tr>\n",
       "      <th id=\"T_bf500_level0_row14\" class=\"row_heading level0 row14\" >lr</th>\n",
       "      <td id=\"T_bf500_row14_col0\" class=\"data row14 col0\" >Linear Regression</td>\n",
       "      <td id=\"T_bf500_row14_col1\" class=\"data row14 col1\" >11090531.9583</td>\n",
       "      <td id=\"T_bf500_row14_col2\" class=\"data row14 col2\" >1461730099855360.0000</td>\n",
       "      <td id=\"T_bf500_row14_col3\" class=\"data row14 col3\" >23614567.4167</td>\n",
       "      <td id=\"T_bf500_row14_col4\" class=\"data row14 col4\" >-1.6874</td>\n",
       "      <td id=\"T_bf500_row14_col5\" class=\"data row14 col5\" >1.8707</td>\n",
       "      <td id=\"T_bf500_row14_col6\" class=\"data row14 col6\" >66.3271</td>\n",
       "      <td id=\"T_bf500_row14_col7\" class=\"data row14 col7\" >0.0167</td>\n",
       "    </tr>\n",
       "    <tr>\n",
       "      <th id=\"T_bf500_level0_row15\" class=\"row_heading level0 row15\" >llar</th>\n",
       "      <td id=\"T_bf500_row15_col0\" class=\"data row15 col0\" >Lasso Least Angle Regression</td>\n",
       "      <td id=\"T_bf500_row15_col1\" class=\"data row15 col1\" >11960221.4583</td>\n",
       "      <td id=\"T_bf500_row15_col2\" class=\"data row15 col2\" >1985259798528000.0000</td>\n",
       "      <td id=\"T_bf500_row15_col3\" class=\"data row15 col3\" >27158997.6250</td>\n",
       "      <td id=\"T_bf500_row15_col4\" class=\"data row15 col4\" >-2.0879</td>\n",
       "      <td id=\"T_bf500_row15_col5\" class=\"data row15 col5\" >1.8005</td>\n",
       "      <td id=\"T_bf500_row15_col6\" class=\"data row15 col6\" >73.5884</td>\n",
       "      <td id=\"T_bf500_row15_col7\" class=\"data row15 col7\" >0.0233</td>\n",
       "    </tr>\n",
       "    <tr>\n",
       "      <th id=\"T_bf500_level0_row16\" class=\"row_heading level0 row16\" >lasso</th>\n",
       "      <td id=\"T_bf500_row16_col0\" class=\"data row16 col0\" >Lasso Regression</td>\n",
       "      <td id=\"T_bf500_row16_col1\" class=\"data row16 col1\" >12001153.9167</td>\n",
       "      <td id=\"T_bf500_row16_col2\" class=\"data row16 col2\" >1983434148063914.7500</td>\n",
       "      <td id=\"T_bf500_row16_col3\" class=\"data row16 col3\" >27248930.2500</td>\n",
       "      <td id=\"T_bf500_row16_col4\" class=\"data row16 col4\" >-2.4163</td>\n",
       "      <td id=\"T_bf500_row16_col5\" class=\"data row16 col5\" >1.8152</td>\n",
       "      <td id=\"T_bf500_row16_col6\" class=\"data row16 col6\" >73.5567</td>\n",
       "      <td id=\"T_bf500_row16_col7\" class=\"data row16 col7\" >0.0167</td>\n",
       "    </tr>\n",
       "    <tr>\n",
       "      <th id=\"T_bf500_level0_row17\" class=\"row_heading level0 row17\" >en</th>\n",
       "      <td id=\"T_bf500_row17_col0\" class=\"data row17 col0\" >Elastic Net</td>\n",
       "      <td id=\"T_bf500_row17_col1\" class=\"data row17 col1\" >12936188.2708</td>\n",
       "      <td id=\"T_bf500_row17_col2\" class=\"data row17 col2\" >2349956949868544.0000</td>\n",
       "      <td id=\"T_bf500_row17_col3\" class=\"data row17 col3\" >29674966.2500</td>\n",
       "      <td id=\"T_bf500_row17_col4\" class=\"data row17 col4\" >-2.8344</td>\n",
       "      <td id=\"T_bf500_row17_col5\" class=\"data row17 col5\" >1.8909</td>\n",
       "      <td id=\"T_bf500_row17_col6\" class=\"data row17 col6\" >79.1191</td>\n",
       "      <td id=\"T_bf500_row17_col7\" class=\"data row17 col7\" >0.0267</td>\n",
       "    </tr>\n",
       "    <tr>\n",
       "      <th id=\"T_bf500_level0_row18\" class=\"row_heading level0 row18\" >ridge</th>\n",
       "      <td id=\"T_bf500_row18_col0\" class=\"data row18 col0\" >Ridge Regression</td>\n",
       "      <td id=\"T_bf500_row18_col1\" class=\"data row18 col1\" >13304785.0833</td>\n",
       "      <td id=\"T_bf500_row18_col2\" class=\"data row18 col2\" >2646876148727808.0000</td>\n",
       "      <td id=\"T_bf500_row18_col3\" class=\"data row18 col3\" >31289320.2500</td>\n",
       "      <td id=\"T_bf500_row18_col4\" class=\"data row18 col4\" >-3.1002</td>\n",
       "      <td id=\"T_bf500_row18_col5\" class=\"data row18 col5\" >1.8595</td>\n",
       "      <td id=\"T_bf500_row18_col6\" class=\"data row18 col6\" >83.0968</td>\n",
       "      <td id=\"T_bf500_row18_col7\" class=\"data row18 col7\" >0.0267</td>\n",
       "    </tr>\n",
       "    <tr>\n",
       "      <th id=\"T_bf500_level0_row19\" class=\"row_heading level0 row19\" >lar</th>\n",
       "      <td id=\"T_bf500_row19_col0\" class=\"data row19 col0\" >Least Angle Regression</td>\n",
       "      <td id=\"T_bf500_row19_col1\" class=\"data row19 col1\" >886424443876908.6250</td>\n",
       "      <td id=\"T_bf500_row19_col2\" class=\"data row19 col2\" >3200278907040951742218199105536.0000</td>\n",
       "      <td id=\"T_bf500_row19_col3\" class=\"data row19 col3\" >1032840610205883.6250</td>\n",
       "      <td id=\"T_bf500_row19_col4\" class=\"data row19 col4\" >-4532195951837291520.0000</td>\n",
       "      <td id=\"T_bf500_row19_col5\" class=\"data row19 col5\" >8.3101</td>\n",
       "      <td id=\"T_bf500_row19_col6\" class=\"data row19 col6\" >114483434.3904</td>\n",
       "      <td id=\"T_bf500_row19_col7\" class=\"data row19 col7\" >0.0367</td>\n",
       "    </tr>\n",
       "  </tbody>\n",
       "</table>\n"
      ],
      "text/plain": [
       "<pandas.io.formats.style.Styler at 0x1ead224fbb0>"
      ]
     },
     "metadata": {},
     "output_type": "display_data"
    },
    {
     "data": {
      "application/vnd.plotly.v1+json": {
       "config": {
        "plotlyServerURL": "https://plot.ly"
       },
       "data": [
        {
         "hovertemplate": "variable=W-2 Revenue<br>Date=%{x}<br>value=%{y}<extra></extra>",
         "legendgroup": "W-2 Revenue",
         "line": {
          "color": "#636efa",
          "dash": "solid"
         },
         "marker": {
          "symbol": "circle"
         },
         "mode": "lines",
         "name": "W-2 Revenue",
         "orientation": "v",
         "showlegend": true,
         "type": "scatter",
         "x": [
          "2014-06-01T00:00:00",
          "2014-07-01T00:00:00",
          "2014-08-01T00:00:00",
          "2014-09-01T00:00:00",
          "2014-10-01T00:00:00",
          "2014-11-01T00:00:00",
          "2014-12-01T00:00:00",
          "2015-01-01T00:00:00",
          "2015-02-01T00:00:00",
          "2015-03-01T00:00:00",
          "2015-04-01T00:00:00",
          "2015-05-01T00:00:00",
          "2015-06-01T00:00:00",
          "2015-07-01T00:00:00",
          "2015-08-01T00:00:00",
          "2015-09-01T00:00:00",
          "2015-10-01T00:00:00",
          "2015-11-01T00:00:00",
          "2015-12-01T00:00:00",
          "2016-01-01T00:00:00",
          "2016-02-01T00:00:00",
          "2016-03-01T00:00:00",
          "2016-04-01T00:00:00",
          "2016-05-01T00:00:00",
          "2016-06-01T00:00:00",
          "2016-07-01T00:00:00",
          "2016-08-01T00:00:00",
          "2016-09-01T00:00:00",
          "2016-10-01T00:00:00",
          "2016-11-01T00:00:00",
          "2016-12-01T00:00:00",
          "2017-01-01T00:00:00",
          "2017-02-01T00:00:00",
          "2017-03-01T00:00:00",
          "2017-04-01T00:00:00",
          "2017-05-01T00:00:00",
          "2017-06-01T00:00:00",
          "2017-07-01T00:00:00",
          "2017-08-01T00:00:00",
          "2017-09-01T00:00:00",
          "2017-10-01T00:00:00",
          "2017-11-01T00:00:00",
          "2017-12-01T00:00:00",
          "2018-01-01T00:00:00",
          "2018-02-01T00:00:00",
          "2018-03-01T00:00:00",
          "2018-04-01T00:00:00",
          "2018-05-01T00:00:00",
          "2018-06-01T00:00:00",
          "2018-07-01T00:00:00",
          "2018-08-01T00:00:00",
          "2018-09-01T00:00:00",
          "2018-10-01T00:00:00",
          "2018-11-01T00:00:00",
          "2018-12-01T00:00:00",
          "2019-01-01T00:00:00",
          "2019-02-01T00:00:00",
          "2019-03-01T00:00:00",
          "2019-04-01T00:00:00",
          "2019-05-01T00:00:00",
          "2019-06-01T00:00:00",
          "2019-07-01T00:00:00",
          "2019-08-01T00:00:00",
          "2019-09-01T00:00:00",
          "2019-10-01T00:00:00",
          "2019-11-01T00:00:00",
          "2019-12-01T00:00:00",
          "2020-01-01T00:00:00",
          "2020-02-01T00:00:00",
          "2020-03-01T00:00:00",
          "2020-04-01T00:00:00",
          "2020-05-01T00:00:00",
          "2020-06-01T00:00:00",
          "2020-07-01T00:00:00",
          "2020-08-01T00:00:00",
          "2020-09-01T00:00:00",
          "2020-10-01T00:00:00",
          "2020-11-01T00:00:00",
          "2020-12-01T00:00:00",
          "2021-01-01T00:00:00",
          "2021-02-01T00:00:00",
          "2021-03-01T00:00:00",
          "2021-04-01T00:00:00",
          "2021-05-01T00:00:00"
         ],
         "xaxis": "x",
         "y": [
          7031234.09,
          7325377.82,
          7443620.46,
          7414842.11,
          7818212.35,
          7542659.46,
          8117392.17,
          9377834.84,
          7226134.53,
          6909620.47,
          7301671.08,
          7260382.11,
          7394189.03,
          7847795.04,
          7932837.15,
          7936344.08,
          8278406.81,
          7554776.85,
          8573805.72,
          7593788.48,
          7305483.96,
          7231568.92,
          7382402.54,
          6983682.41,
          7939119.37,
          7866814.61,
          8052852.46,
          7498421.18,
          8531642.37,
          8540560.78,
          7987958.95,
          10169659.06,
          6785179.52,
          7927264.97,
          7537154.75,
          6175856.06,
          8800397.84,
          7887136.61,
          7602343.41,
          7277217.55,
          8126909.97,
          8449869.35,
          7915751.12,
          13178457.56,
          7194287.27,
          7567950.55,
          7695015.35,
          8621115.07,
          254225.27,
          305124.49,
          342622.3,
          276560.9,
          180092.57,
          517750.99,
          633412.69,
          91805550.59,
          -183758.43,
          141277.9,
          157985.54,
          300405.13,
          255174.15,
          359903.73,
          236475.53,
          302200.63,
          426395.09,
          294299.84,
          422089.81,
          89119517.59,
          -55689.5,
          16995.28,
          180969.05,
          135876.35,
          103884.59,
          162905.4,
          176199.4,
          227531.19,
          183308.66,
          208805.4,
          233016.32,
          80988881.77,
          28599.77,
          -43477.46,
          44625.45,
          113517.87
         ],
         "yaxis": "y"
        },
        {
         "hovertemplate": "variable=W-2 Revenue - ML Predicted<br>Date=%{x}<br>value=%{y}<extra></extra>",
         "legendgroup": "W-2 Revenue - ML Predicted",
         "line": {
          "color": "#EF553B",
          "dash": "solid"
         },
         "marker": {
          "symbol": "circle"
         },
         "mode": "lines",
         "name": "W-2 Revenue - ML Predicted",
         "orientation": "v",
         "showlegend": true,
         "type": "scatter",
         "x": [
          "2014-06-01T00:00:00",
          "2014-07-01T00:00:00",
          "2014-08-01T00:00:00",
          "2014-09-01T00:00:00",
          "2014-10-01T00:00:00",
          "2014-11-01T00:00:00",
          "2014-12-01T00:00:00",
          "2015-01-01T00:00:00",
          "2015-02-01T00:00:00",
          "2015-03-01T00:00:00",
          "2015-04-01T00:00:00",
          "2015-05-01T00:00:00",
          "2015-06-01T00:00:00",
          "2015-07-01T00:00:00",
          "2015-08-01T00:00:00",
          "2015-09-01T00:00:00",
          "2015-10-01T00:00:00",
          "2015-11-01T00:00:00",
          "2015-12-01T00:00:00",
          "2016-01-01T00:00:00",
          "2016-02-01T00:00:00",
          "2016-03-01T00:00:00",
          "2016-04-01T00:00:00",
          "2016-05-01T00:00:00",
          "2016-06-01T00:00:00",
          "2016-07-01T00:00:00",
          "2016-08-01T00:00:00",
          "2016-09-01T00:00:00",
          "2016-10-01T00:00:00",
          "2016-11-01T00:00:00",
          "2016-12-01T00:00:00",
          "2017-01-01T00:00:00",
          "2017-02-01T00:00:00",
          "2017-03-01T00:00:00",
          "2017-04-01T00:00:00",
          "2017-05-01T00:00:00",
          "2017-06-01T00:00:00",
          "2017-07-01T00:00:00",
          "2017-08-01T00:00:00",
          "2017-09-01T00:00:00",
          "2017-10-01T00:00:00",
          "2017-11-01T00:00:00",
          "2017-12-01T00:00:00",
          "2018-01-01T00:00:00",
          "2018-02-01T00:00:00",
          "2018-03-01T00:00:00",
          "2018-04-01T00:00:00",
          "2018-05-01T00:00:00",
          "2018-06-01T00:00:00",
          "2018-07-01T00:00:00",
          "2018-08-01T00:00:00",
          "2018-09-01T00:00:00",
          "2018-10-01T00:00:00",
          "2018-11-01T00:00:00",
          "2018-12-01T00:00:00",
          "2019-01-01T00:00:00",
          "2019-02-01T00:00:00",
          "2019-03-01T00:00:00",
          "2019-04-01T00:00:00",
          "2019-05-01T00:00:00",
          "2019-06-01T00:00:00",
          "2019-07-01T00:00:00",
          "2019-08-01T00:00:00",
          "2019-09-01T00:00:00",
          "2019-10-01T00:00:00",
          "2019-11-01T00:00:00",
          "2019-12-01T00:00:00",
          "2020-01-01T00:00:00",
          "2020-02-01T00:00:00",
          "2020-03-01T00:00:00",
          "2020-04-01T00:00:00",
          "2020-05-01T00:00:00",
          "2020-06-01T00:00:00",
          "2020-07-01T00:00:00",
          "2020-08-01T00:00:00",
          "2020-09-01T00:00:00",
          "2020-10-01T00:00:00",
          "2020-11-01T00:00:00",
          "2020-12-01T00:00:00",
          "2021-01-01T00:00:00",
          "2021-02-01T00:00:00",
          "2021-03-01T00:00:00",
          "2021-04-01T00:00:00",
          "2021-05-01T00:00:00"
         ],
         "xaxis": "x",
         "y": [
          8724674.206153363,
          11602960.075823527,
          8502053.168362442,
          8737320.108111475,
          8348545.666355564,
          8268471.843488445,
          8026328.893679932,
          7822508.1140124155,
          7675035.241868869,
          8170485.708980245,
          8085282.696650844,
          7521437.568239361,
          8460571.504841335,
          8169393.0036976235,
          7966043.247526887,
          7707551.87347445,
          7895144.594610049,
          8113973.276152139,
          7776562.351198965,
          7949835.877047103,
          7691512.284578247,
          7584994.82954008,
          7970295.550734073,
          7789492.348434227,
          7430091.398736151,
          7466839.239578056,
          7877526.211343333,
          7406278.975849475,
          8552937.518967813,
          7719402.979875558,
          7563869.066783124,
          7615677.800257231,
          7492442.654745662,
          7795338.797633608,
          7854390.674703482,
          7743491.323325855,
          8556678.938954256,
          7767301.397347512,
          7824016.395727081,
          8305519.470552008,
          8130750.033527082,
          8450339.640290732,
          8365219.900399756,
          7929912.739219719,
          8148974.064301535,
          8539080.987028692,
          8568768.286610823,
          8621114.90010463,
          8632477.669870902,
          8289968.442511863,
          8932389.778007742,
          8787668.900623828,
          8539320.940573249,
          8087447.322006003,
          8663098.604174785,
          9105617.157113846,
          8695815.386318147,
          9264075.362095311,
          9112606.705710128,
          8535927.596406806,
          8751265.790713886,
          8974304.18363136,
          8787007.244798603,
          8769922.861307336,
          9009882.775745781,
          8262152.835552299,
          8534697.459149376,
          8017923.786004386,
          8102214.5687940745,
          5961866.607547003,
          5287226.717799067,
          5739985.4749478,
          6579864.593268166,
          7434640.048548569,
          7599041.836989121,
          7742012.791294651,
          7827317.737155403,
          8040472.4377408,
          8198858.811868275,
          8443425.444098372,
          8569011.249360252,
          8699878.062269207,
          8611072.373114087,
          8952532.775284346
         ],
         "yaxis": "y"
        }
       ],
       "layout": {
        "legend": {
         "title": {
          "text": "variable"
         },
         "tracegroupgap": 0
        },
        "margin": {
         "t": 60
        },
        "template": {
         "data": {
          "bar": [
           {
            "error_x": {
             "color": "#2a3f5f"
            },
            "error_y": {
             "color": "#2a3f5f"
            },
            "marker": {
             "line": {
              "color": "white",
              "width": 0.5
             },
             "pattern": {
              "fillmode": "overlay",
              "size": 10,
              "solidity": 0.2
             }
            },
            "type": "bar"
           }
          ],
          "barpolar": [
           {
            "marker": {
             "line": {
              "color": "white",
              "width": 0.5
             },
             "pattern": {
              "fillmode": "overlay",
              "size": 10,
              "solidity": 0.2
             }
            },
            "type": "barpolar"
           }
          ],
          "carpet": [
           {
            "aaxis": {
             "endlinecolor": "#2a3f5f",
             "gridcolor": "#C8D4E3",
             "linecolor": "#C8D4E3",
             "minorgridcolor": "#C8D4E3",
             "startlinecolor": "#2a3f5f"
            },
            "baxis": {
             "endlinecolor": "#2a3f5f",
             "gridcolor": "#C8D4E3",
             "linecolor": "#C8D4E3",
             "minorgridcolor": "#C8D4E3",
             "startlinecolor": "#2a3f5f"
            },
            "type": "carpet"
           }
          ],
          "choropleth": [
           {
            "colorbar": {
             "outlinewidth": 0,
             "ticks": ""
            },
            "type": "choropleth"
           }
          ],
          "contour": [
           {
            "colorbar": {
             "outlinewidth": 0,
             "ticks": ""
            },
            "colorscale": [
             [
              0,
              "#0d0887"
             ],
             [
              0.1111111111111111,
              "#46039f"
             ],
             [
              0.2222222222222222,
              "#7201a8"
             ],
             [
              0.3333333333333333,
              "#9c179e"
             ],
             [
              0.4444444444444444,
              "#bd3786"
             ],
             [
              0.5555555555555556,
              "#d8576b"
             ],
             [
              0.6666666666666666,
              "#ed7953"
             ],
             [
              0.7777777777777778,
              "#fb9f3a"
             ],
             [
              0.8888888888888888,
              "#fdca26"
             ],
             [
              1,
              "#f0f921"
             ]
            ],
            "type": "contour"
           }
          ],
          "contourcarpet": [
           {
            "colorbar": {
             "outlinewidth": 0,
             "ticks": ""
            },
            "type": "contourcarpet"
           }
          ],
          "heatmap": [
           {
            "colorbar": {
             "outlinewidth": 0,
             "ticks": ""
            },
            "colorscale": [
             [
              0,
              "#0d0887"
             ],
             [
              0.1111111111111111,
              "#46039f"
             ],
             [
              0.2222222222222222,
              "#7201a8"
             ],
             [
              0.3333333333333333,
              "#9c179e"
             ],
             [
              0.4444444444444444,
              "#bd3786"
             ],
             [
              0.5555555555555556,
              "#d8576b"
             ],
             [
              0.6666666666666666,
              "#ed7953"
             ],
             [
              0.7777777777777778,
              "#fb9f3a"
             ],
             [
              0.8888888888888888,
              "#fdca26"
             ],
             [
              1,
              "#f0f921"
             ]
            ],
            "type": "heatmap"
           }
          ],
          "heatmapgl": [
           {
            "colorbar": {
             "outlinewidth": 0,
             "ticks": ""
            },
            "colorscale": [
             [
              0,
              "#0d0887"
             ],
             [
              0.1111111111111111,
              "#46039f"
             ],
             [
              0.2222222222222222,
              "#7201a8"
             ],
             [
              0.3333333333333333,
              "#9c179e"
             ],
             [
              0.4444444444444444,
              "#bd3786"
             ],
             [
              0.5555555555555556,
              "#d8576b"
             ],
             [
              0.6666666666666666,
              "#ed7953"
             ],
             [
              0.7777777777777778,
              "#fb9f3a"
             ],
             [
              0.8888888888888888,
              "#fdca26"
             ],
             [
              1,
              "#f0f921"
             ]
            ],
            "type": "heatmapgl"
           }
          ],
          "histogram": [
           {
            "marker": {
             "pattern": {
              "fillmode": "overlay",
              "size": 10,
              "solidity": 0.2
             }
            },
            "type": "histogram"
           }
          ],
          "histogram2d": [
           {
            "colorbar": {
             "outlinewidth": 0,
             "ticks": ""
            },
            "colorscale": [
             [
              0,
              "#0d0887"
             ],
             [
              0.1111111111111111,
              "#46039f"
             ],
             [
              0.2222222222222222,
              "#7201a8"
             ],
             [
              0.3333333333333333,
              "#9c179e"
             ],
             [
              0.4444444444444444,
              "#bd3786"
             ],
             [
              0.5555555555555556,
              "#d8576b"
             ],
             [
              0.6666666666666666,
              "#ed7953"
             ],
             [
              0.7777777777777778,
              "#fb9f3a"
             ],
             [
              0.8888888888888888,
              "#fdca26"
             ],
             [
              1,
              "#f0f921"
             ]
            ],
            "type": "histogram2d"
           }
          ],
          "histogram2dcontour": [
           {
            "colorbar": {
             "outlinewidth": 0,
             "ticks": ""
            },
            "colorscale": [
             [
              0,
              "#0d0887"
             ],
             [
              0.1111111111111111,
              "#46039f"
             ],
             [
              0.2222222222222222,
              "#7201a8"
             ],
             [
              0.3333333333333333,
              "#9c179e"
             ],
             [
              0.4444444444444444,
              "#bd3786"
             ],
             [
              0.5555555555555556,
              "#d8576b"
             ],
             [
              0.6666666666666666,
              "#ed7953"
             ],
             [
              0.7777777777777778,
              "#fb9f3a"
             ],
             [
              0.8888888888888888,
              "#fdca26"
             ],
             [
              1,
              "#f0f921"
             ]
            ],
            "type": "histogram2dcontour"
           }
          ],
          "mesh3d": [
           {
            "colorbar": {
             "outlinewidth": 0,
             "ticks": ""
            },
            "type": "mesh3d"
           }
          ],
          "parcoords": [
           {
            "line": {
             "colorbar": {
              "outlinewidth": 0,
              "ticks": ""
             }
            },
            "type": "parcoords"
           }
          ],
          "pie": [
           {
            "automargin": true,
            "type": "pie"
           }
          ],
          "scatter": [
           {
            "marker": {
             "colorbar": {
              "outlinewidth": 0,
              "ticks": ""
             }
            },
            "type": "scatter"
           }
          ],
          "scatter3d": [
           {
            "line": {
             "colorbar": {
              "outlinewidth": 0,
              "ticks": ""
             }
            },
            "marker": {
             "colorbar": {
              "outlinewidth": 0,
              "ticks": ""
             }
            },
            "type": "scatter3d"
           }
          ],
          "scattercarpet": [
           {
            "marker": {
             "colorbar": {
              "outlinewidth": 0,
              "ticks": ""
             }
            },
            "type": "scattercarpet"
           }
          ],
          "scattergeo": [
           {
            "marker": {
             "colorbar": {
              "outlinewidth": 0,
              "ticks": ""
             }
            },
            "type": "scattergeo"
           }
          ],
          "scattergl": [
           {
            "marker": {
             "colorbar": {
              "outlinewidth": 0,
              "ticks": ""
             }
            },
            "type": "scattergl"
           }
          ],
          "scattermapbox": [
           {
            "marker": {
             "colorbar": {
              "outlinewidth": 0,
              "ticks": ""
             }
            },
            "type": "scattermapbox"
           }
          ],
          "scatterpolar": [
           {
            "marker": {
             "colorbar": {
              "outlinewidth": 0,
              "ticks": ""
             }
            },
            "type": "scatterpolar"
           }
          ],
          "scatterpolargl": [
           {
            "marker": {
             "colorbar": {
              "outlinewidth": 0,
              "ticks": ""
             }
            },
            "type": "scatterpolargl"
           }
          ],
          "scatterternary": [
           {
            "marker": {
             "colorbar": {
              "outlinewidth": 0,
              "ticks": ""
             }
            },
            "type": "scatterternary"
           }
          ],
          "surface": [
           {
            "colorbar": {
             "outlinewidth": 0,
             "ticks": ""
            },
            "colorscale": [
             [
              0,
              "#0d0887"
             ],
             [
              0.1111111111111111,
              "#46039f"
             ],
             [
              0.2222222222222222,
              "#7201a8"
             ],
             [
              0.3333333333333333,
              "#9c179e"
             ],
             [
              0.4444444444444444,
              "#bd3786"
             ],
             [
              0.5555555555555556,
              "#d8576b"
             ],
             [
              0.6666666666666666,
              "#ed7953"
             ],
             [
              0.7777777777777778,
              "#fb9f3a"
             ],
             [
              0.8888888888888888,
              "#fdca26"
             ],
             [
              1,
              "#f0f921"
             ]
            ],
            "type": "surface"
           }
          ],
          "table": [
           {
            "cells": {
             "fill": {
              "color": "#EBF0F8"
             },
             "line": {
              "color": "white"
             }
            },
            "header": {
             "fill": {
              "color": "#C8D4E3"
             },
             "line": {
              "color": "white"
             }
            },
            "type": "table"
           }
          ]
         },
         "layout": {
          "annotationdefaults": {
           "arrowcolor": "#2a3f5f",
           "arrowhead": 0,
           "arrowwidth": 1
          },
          "autotypenumbers": "strict",
          "coloraxis": {
           "colorbar": {
            "outlinewidth": 0,
            "ticks": ""
           }
          },
          "colorscale": {
           "diverging": [
            [
             0,
             "#8e0152"
            ],
            [
             0.1,
             "#c51b7d"
            ],
            [
             0.2,
             "#de77ae"
            ],
            [
             0.3,
             "#f1b6da"
            ],
            [
             0.4,
             "#fde0ef"
            ],
            [
             0.5,
             "#f7f7f7"
            ],
            [
             0.6,
             "#e6f5d0"
            ],
            [
             0.7,
             "#b8e186"
            ],
            [
             0.8,
             "#7fbc41"
            ],
            [
             0.9,
             "#4d9221"
            ],
            [
             1,
             "#276419"
            ]
           ],
           "sequential": [
            [
             0,
             "#0d0887"
            ],
            [
             0.1111111111111111,
             "#46039f"
            ],
            [
             0.2222222222222222,
             "#7201a8"
            ],
            [
             0.3333333333333333,
             "#9c179e"
            ],
            [
             0.4444444444444444,
             "#bd3786"
            ],
            [
             0.5555555555555556,
             "#d8576b"
            ],
            [
             0.6666666666666666,
             "#ed7953"
            ],
            [
             0.7777777777777778,
             "#fb9f3a"
            ],
            [
             0.8888888888888888,
             "#fdca26"
            ],
            [
             1,
             "#f0f921"
            ]
           ],
           "sequentialminus": [
            [
             0,
             "#0d0887"
            ],
            [
             0.1111111111111111,
             "#46039f"
            ],
            [
             0.2222222222222222,
             "#7201a8"
            ],
            [
             0.3333333333333333,
             "#9c179e"
            ],
            [
             0.4444444444444444,
             "#bd3786"
            ],
            [
             0.5555555555555556,
             "#d8576b"
            ],
            [
             0.6666666666666666,
             "#ed7953"
            ],
            [
             0.7777777777777778,
             "#fb9f3a"
            ],
            [
             0.8888888888888888,
             "#fdca26"
            ],
            [
             1,
             "#f0f921"
            ]
           ]
          },
          "colorway": [
           "#636efa",
           "#EF553B",
           "#00cc96",
           "#ab63fa",
           "#FFA15A",
           "#19d3f3",
           "#FF6692",
           "#B6E880",
           "#FF97FF",
           "#FECB52"
          ],
          "font": {
           "color": "#2a3f5f"
          },
          "geo": {
           "bgcolor": "white",
           "lakecolor": "white",
           "landcolor": "white",
           "showlakes": true,
           "showland": true,
           "subunitcolor": "#C8D4E3"
          },
          "hoverlabel": {
           "align": "left"
          },
          "hovermode": "closest",
          "mapbox": {
           "style": "light"
          },
          "paper_bgcolor": "white",
          "plot_bgcolor": "white",
          "polar": {
           "angularaxis": {
            "gridcolor": "#EBF0F8",
            "linecolor": "#EBF0F8",
            "ticks": ""
           },
           "bgcolor": "white",
           "radialaxis": {
            "gridcolor": "#EBF0F8",
            "linecolor": "#EBF0F8",
            "ticks": ""
           }
          },
          "scene": {
           "xaxis": {
            "backgroundcolor": "white",
            "gridcolor": "#DFE8F3",
            "gridwidth": 2,
            "linecolor": "#EBF0F8",
            "showbackground": true,
            "ticks": "",
            "zerolinecolor": "#EBF0F8"
           },
           "yaxis": {
            "backgroundcolor": "white",
            "gridcolor": "#DFE8F3",
            "gridwidth": 2,
            "linecolor": "#EBF0F8",
            "showbackground": true,
            "ticks": "",
            "zerolinecolor": "#EBF0F8"
           },
           "zaxis": {
            "backgroundcolor": "white",
            "gridcolor": "#DFE8F3",
            "gridwidth": 2,
            "linecolor": "#EBF0F8",
            "showbackground": true,
            "ticks": "",
            "zerolinecolor": "#EBF0F8"
           }
          },
          "shapedefaults": {
           "line": {
            "color": "#2a3f5f"
           }
          },
          "ternary": {
           "aaxis": {
            "gridcolor": "#DFE8F3",
            "linecolor": "#A2B1C6",
            "ticks": ""
           },
           "baxis": {
            "gridcolor": "#DFE8F3",
            "linecolor": "#A2B1C6",
            "ticks": ""
           },
           "bgcolor": "white",
           "caxis": {
            "gridcolor": "#DFE8F3",
            "linecolor": "#A2B1C6",
            "ticks": ""
           }
          },
          "title": {
           "x": 0.05
          },
          "xaxis": {
           "automargin": true,
           "gridcolor": "#EBF0F8",
           "linecolor": "#EBF0F8",
           "ticks": "",
           "title": {
            "standoff": 15
           },
           "zerolinecolor": "#EBF0F8",
           "zerolinewidth": 2
          },
          "yaxis": {
           "automargin": true,
           "gridcolor": "#EBF0F8",
           "linecolor": "#EBF0F8",
           "ticks": "",
           "title": {
            "standoff": 15
           },
           "zerolinecolor": "#EBF0F8",
           "zerolinewidth": 2
          }
         }
        },
        "xaxis": {
         "anchor": "y",
         "domain": [
          0,
          1
         ],
         "title": {
          "text": "Date"
         }
        },
        "yaxis": {
         "anchor": "x",
         "domain": [
          0,
          1
         ],
         "title": {
          "text": "value"
         }
        }
       }
      },
      "text/html": [
       "<div>                            <div id=\"88a7c8b8-17a0-4915-88c1-6b021bdc0427\" class=\"plotly-graph-div\" style=\"height:525px; width:100%;\"></div>            <script type=\"text/javascript\">                require([\"plotly\"], function(Plotly) {                    window.PLOTLYENV=window.PLOTLYENV || {};                                    if (document.getElementById(\"88a7c8b8-17a0-4915-88c1-6b021bdc0427\")) {                    Plotly.newPlot(                        \"88a7c8b8-17a0-4915-88c1-6b021bdc0427\",                        [{\"hovertemplate\":\"variable=W-2 Revenue<br>Date=%{x}<br>value=%{y}<extra></extra>\",\"legendgroup\":\"W-2 Revenue\",\"line\":{\"color\":\"#636efa\",\"dash\":\"solid\"},\"marker\":{\"symbol\":\"circle\"},\"mode\":\"lines\",\"name\":\"W-2 Revenue\",\"orientation\":\"v\",\"showlegend\":true,\"x\":[\"2014-06-01T00:00:00\",\"2014-07-01T00:00:00\",\"2014-08-01T00:00:00\",\"2014-09-01T00:00:00\",\"2014-10-01T00:00:00\",\"2014-11-01T00:00:00\",\"2014-12-01T00:00:00\",\"2015-01-01T00:00:00\",\"2015-02-01T00:00:00\",\"2015-03-01T00:00:00\",\"2015-04-01T00:00:00\",\"2015-05-01T00:00:00\",\"2015-06-01T00:00:00\",\"2015-07-01T00:00:00\",\"2015-08-01T00:00:00\",\"2015-09-01T00:00:00\",\"2015-10-01T00:00:00\",\"2015-11-01T00:00:00\",\"2015-12-01T00:00:00\",\"2016-01-01T00:00:00\",\"2016-02-01T00:00:00\",\"2016-03-01T00:00:00\",\"2016-04-01T00:00:00\",\"2016-05-01T00:00:00\",\"2016-06-01T00:00:00\",\"2016-07-01T00:00:00\",\"2016-08-01T00:00:00\",\"2016-09-01T00:00:00\",\"2016-10-01T00:00:00\",\"2016-11-01T00:00:00\",\"2016-12-01T00:00:00\",\"2017-01-01T00:00:00\",\"2017-02-01T00:00:00\",\"2017-03-01T00:00:00\",\"2017-04-01T00:00:00\",\"2017-05-01T00:00:00\",\"2017-06-01T00:00:00\",\"2017-07-01T00:00:00\",\"2017-08-01T00:00:00\",\"2017-09-01T00:00:00\",\"2017-10-01T00:00:00\",\"2017-11-01T00:00:00\",\"2017-12-01T00:00:00\",\"2018-01-01T00:00:00\",\"2018-02-01T00:00:00\",\"2018-03-01T00:00:00\",\"2018-04-01T00:00:00\",\"2018-05-01T00:00:00\",\"2018-06-01T00:00:00\",\"2018-07-01T00:00:00\",\"2018-08-01T00:00:00\",\"2018-09-01T00:00:00\",\"2018-10-01T00:00:00\",\"2018-11-01T00:00:00\",\"2018-12-01T00:00:00\",\"2019-01-01T00:00:00\",\"2019-02-01T00:00:00\",\"2019-03-01T00:00:00\",\"2019-04-01T00:00:00\",\"2019-05-01T00:00:00\",\"2019-06-01T00:00:00\",\"2019-07-01T00:00:00\",\"2019-08-01T00:00:00\",\"2019-09-01T00:00:00\",\"2019-10-01T00:00:00\",\"2019-11-01T00:00:00\",\"2019-12-01T00:00:00\",\"2020-01-01T00:00:00\",\"2020-02-01T00:00:00\",\"2020-03-01T00:00:00\",\"2020-04-01T00:00:00\",\"2020-05-01T00:00:00\",\"2020-06-01T00:00:00\",\"2020-07-01T00:00:00\",\"2020-08-01T00:00:00\",\"2020-09-01T00:00:00\",\"2020-10-01T00:00:00\",\"2020-11-01T00:00:00\",\"2020-12-01T00:00:00\",\"2021-01-01T00:00:00\",\"2021-02-01T00:00:00\",\"2021-03-01T00:00:00\",\"2021-04-01T00:00:00\",\"2021-05-01T00:00:00\"],\"xaxis\":\"x\",\"y\":[7031234.09,7325377.82,7443620.46,7414842.11,7818212.35,7542659.46,8117392.17,9377834.84,7226134.53,6909620.47,7301671.08,7260382.11,7394189.03,7847795.04,7932837.15,7936344.08,8278406.81,7554776.85,8573805.72,7593788.48,7305483.96,7231568.92,7382402.54,6983682.41,7939119.37,7866814.61,8052852.46,7498421.18,8531642.37,8540560.78,7987958.95,10169659.06,6785179.52,7927264.97,7537154.75,6175856.06,8800397.84,7887136.61,7602343.41,7277217.55,8126909.97,8449869.35,7915751.12,13178457.56,7194287.27,7567950.55,7695015.35,8621115.07,254225.27,305124.49,342622.3,276560.9,180092.57,517750.99,633412.69,91805550.59,-183758.43,141277.9,157985.54,300405.13,255174.15,359903.73,236475.53,302200.63,426395.09,294299.84,422089.81,89119517.59,-55689.5,16995.28,180969.05,135876.35,103884.59,162905.4,176199.4,227531.19,183308.66,208805.4,233016.32,80988881.77,28599.77,-43477.46,44625.45,113517.87],\"yaxis\":\"y\",\"type\":\"scatter\"},{\"hovertemplate\":\"variable=W-2 Revenue - ML Predicted<br>Date=%{x}<br>value=%{y}<extra></extra>\",\"legendgroup\":\"W-2 Revenue - ML Predicted\",\"line\":{\"color\":\"#EF553B\",\"dash\":\"solid\"},\"marker\":{\"symbol\":\"circle\"},\"mode\":\"lines\",\"name\":\"W-2 Revenue - ML Predicted\",\"orientation\":\"v\",\"showlegend\":true,\"x\":[\"2014-06-01T00:00:00\",\"2014-07-01T00:00:00\",\"2014-08-01T00:00:00\",\"2014-09-01T00:00:00\",\"2014-10-01T00:00:00\",\"2014-11-01T00:00:00\",\"2014-12-01T00:00:00\",\"2015-01-01T00:00:00\",\"2015-02-01T00:00:00\",\"2015-03-01T00:00:00\",\"2015-04-01T00:00:00\",\"2015-05-01T00:00:00\",\"2015-06-01T00:00:00\",\"2015-07-01T00:00:00\",\"2015-08-01T00:00:00\",\"2015-09-01T00:00:00\",\"2015-10-01T00:00:00\",\"2015-11-01T00:00:00\",\"2015-12-01T00:00:00\",\"2016-01-01T00:00:00\",\"2016-02-01T00:00:00\",\"2016-03-01T00:00:00\",\"2016-04-01T00:00:00\",\"2016-05-01T00:00:00\",\"2016-06-01T00:00:00\",\"2016-07-01T00:00:00\",\"2016-08-01T00:00:00\",\"2016-09-01T00:00:00\",\"2016-10-01T00:00:00\",\"2016-11-01T00:00:00\",\"2016-12-01T00:00:00\",\"2017-01-01T00:00:00\",\"2017-02-01T00:00:00\",\"2017-03-01T00:00:00\",\"2017-04-01T00:00:00\",\"2017-05-01T00:00:00\",\"2017-06-01T00:00:00\",\"2017-07-01T00:00:00\",\"2017-08-01T00:00:00\",\"2017-09-01T00:00:00\",\"2017-10-01T00:00:00\",\"2017-11-01T00:00:00\",\"2017-12-01T00:00:00\",\"2018-01-01T00:00:00\",\"2018-02-01T00:00:00\",\"2018-03-01T00:00:00\",\"2018-04-01T00:00:00\",\"2018-05-01T00:00:00\",\"2018-06-01T00:00:00\",\"2018-07-01T00:00:00\",\"2018-08-01T00:00:00\",\"2018-09-01T00:00:00\",\"2018-10-01T00:00:00\",\"2018-11-01T00:00:00\",\"2018-12-01T00:00:00\",\"2019-01-01T00:00:00\",\"2019-02-01T00:00:00\",\"2019-03-01T00:00:00\",\"2019-04-01T00:00:00\",\"2019-05-01T00:00:00\",\"2019-06-01T00:00:00\",\"2019-07-01T00:00:00\",\"2019-08-01T00:00:00\",\"2019-09-01T00:00:00\",\"2019-10-01T00:00:00\",\"2019-11-01T00:00:00\",\"2019-12-01T00:00:00\",\"2020-01-01T00:00:00\",\"2020-02-01T00:00:00\",\"2020-03-01T00:00:00\",\"2020-04-01T00:00:00\",\"2020-05-01T00:00:00\",\"2020-06-01T00:00:00\",\"2020-07-01T00:00:00\",\"2020-08-01T00:00:00\",\"2020-09-01T00:00:00\",\"2020-10-01T00:00:00\",\"2020-11-01T00:00:00\",\"2020-12-01T00:00:00\",\"2021-01-01T00:00:00\",\"2021-02-01T00:00:00\",\"2021-03-01T00:00:00\",\"2021-04-01T00:00:00\",\"2021-05-01T00:00:00\"],\"xaxis\":\"x\",\"y\":[8724674.206153363,11602960.075823527,8502053.168362442,8737320.108111475,8348545.666355564,8268471.843488445,8026328.893679932,7822508.1140124155,7675035.241868869,8170485.708980245,8085282.696650844,7521437.568239361,8460571.504841335,8169393.0036976235,7966043.247526887,7707551.87347445,7895144.594610049,8113973.276152139,7776562.351198965,7949835.877047103,7691512.284578247,7584994.82954008,7970295.550734073,7789492.348434227,7430091.398736151,7466839.239578056,7877526.211343333,7406278.975849475,8552937.518967813,7719402.979875558,7563869.066783124,7615677.800257231,7492442.654745662,7795338.797633608,7854390.674703482,7743491.323325855,8556678.938954256,7767301.397347512,7824016.395727081,8305519.470552008,8130750.033527082,8450339.640290732,8365219.900399756,7929912.739219719,8148974.064301535,8539080.987028692,8568768.286610823,8621114.90010463,8632477.669870902,8289968.442511863,8932389.778007742,8787668.900623828,8539320.940573249,8087447.322006003,8663098.604174785,9105617.157113846,8695815.386318147,9264075.362095311,9112606.705710128,8535927.596406806,8751265.790713886,8974304.18363136,8787007.244798603,8769922.861307336,9009882.775745781,8262152.835552299,8534697.459149376,8017923.786004386,8102214.5687940745,5961866.607547003,5287226.717799067,5739985.4749478,6579864.593268166,7434640.048548569,7599041.836989121,7742012.791294651,7827317.737155403,8040472.4377408,8198858.811868275,8443425.444098372,8569011.249360252,8699878.062269207,8611072.373114087,8952532.775284346],\"yaxis\":\"y\",\"type\":\"scatter\"}],                        {\"template\":{\"data\":{\"barpolar\":[{\"marker\":{\"line\":{\"color\":\"white\",\"width\":0.5},\"pattern\":{\"fillmode\":\"overlay\",\"size\":10,\"solidity\":0.2}},\"type\":\"barpolar\"}],\"bar\":[{\"error_x\":{\"color\":\"#2a3f5f\"},\"error_y\":{\"color\":\"#2a3f5f\"},\"marker\":{\"line\":{\"color\":\"white\",\"width\":0.5},\"pattern\":{\"fillmode\":\"overlay\",\"size\":10,\"solidity\":0.2}},\"type\":\"bar\"}],\"carpet\":[{\"aaxis\":{\"endlinecolor\":\"#2a3f5f\",\"gridcolor\":\"#C8D4E3\",\"linecolor\":\"#C8D4E3\",\"minorgridcolor\":\"#C8D4E3\",\"startlinecolor\":\"#2a3f5f\"},\"baxis\":{\"endlinecolor\":\"#2a3f5f\",\"gridcolor\":\"#C8D4E3\",\"linecolor\":\"#C8D4E3\",\"minorgridcolor\":\"#C8D4E3\",\"startlinecolor\":\"#2a3f5f\"},\"type\":\"carpet\"}],\"choropleth\":[{\"colorbar\":{\"outlinewidth\":0,\"ticks\":\"\"},\"type\":\"choropleth\"}],\"contourcarpet\":[{\"colorbar\":{\"outlinewidth\":0,\"ticks\":\"\"},\"type\":\"contourcarpet\"}],\"contour\":[{\"colorbar\":{\"outlinewidth\":0,\"ticks\":\"\"},\"colorscale\":[[0.0,\"#0d0887\"],[0.1111111111111111,\"#46039f\"],[0.2222222222222222,\"#7201a8\"],[0.3333333333333333,\"#9c179e\"],[0.4444444444444444,\"#bd3786\"],[0.5555555555555556,\"#d8576b\"],[0.6666666666666666,\"#ed7953\"],[0.7777777777777778,\"#fb9f3a\"],[0.8888888888888888,\"#fdca26\"],[1.0,\"#f0f921\"]],\"type\":\"contour\"}],\"heatmapgl\":[{\"colorbar\":{\"outlinewidth\":0,\"ticks\":\"\"},\"colorscale\":[[0.0,\"#0d0887\"],[0.1111111111111111,\"#46039f\"],[0.2222222222222222,\"#7201a8\"],[0.3333333333333333,\"#9c179e\"],[0.4444444444444444,\"#bd3786\"],[0.5555555555555556,\"#d8576b\"],[0.6666666666666666,\"#ed7953\"],[0.7777777777777778,\"#fb9f3a\"],[0.8888888888888888,\"#fdca26\"],[1.0,\"#f0f921\"]],\"type\":\"heatmapgl\"}],\"heatmap\":[{\"colorbar\":{\"outlinewidth\":0,\"ticks\":\"\"},\"colorscale\":[[0.0,\"#0d0887\"],[0.1111111111111111,\"#46039f\"],[0.2222222222222222,\"#7201a8\"],[0.3333333333333333,\"#9c179e\"],[0.4444444444444444,\"#bd3786\"],[0.5555555555555556,\"#d8576b\"],[0.6666666666666666,\"#ed7953\"],[0.7777777777777778,\"#fb9f3a\"],[0.8888888888888888,\"#fdca26\"],[1.0,\"#f0f921\"]],\"type\":\"heatmap\"}],\"histogram2dcontour\":[{\"colorbar\":{\"outlinewidth\":0,\"ticks\":\"\"},\"colorscale\":[[0.0,\"#0d0887\"],[0.1111111111111111,\"#46039f\"],[0.2222222222222222,\"#7201a8\"],[0.3333333333333333,\"#9c179e\"],[0.4444444444444444,\"#bd3786\"],[0.5555555555555556,\"#d8576b\"],[0.6666666666666666,\"#ed7953\"],[0.7777777777777778,\"#fb9f3a\"],[0.8888888888888888,\"#fdca26\"],[1.0,\"#f0f921\"]],\"type\":\"histogram2dcontour\"}],\"histogram2d\":[{\"colorbar\":{\"outlinewidth\":0,\"ticks\":\"\"},\"colorscale\":[[0.0,\"#0d0887\"],[0.1111111111111111,\"#46039f\"],[0.2222222222222222,\"#7201a8\"],[0.3333333333333333,\"#9c179e\"],[0.4444444444444444,\"#bd3786\"],[0.5555555555555556,\"#d8576b\"],[0.6666666666666666,\"#ed7953\"],[0.7777777777777778,\"#fb9f3a\"],[0.8888888888888888,\"#fdca26\"],[1.0,\"#f0f921\"]],\"type\":\"histogram2d\"}],\"histogram\":[{\"marker\":{\"pattern\":{\"fillmode\":\"overlay\",\"size\":10,\"solidity\":0.2}},\"type\":\"histogram\"}],\"mesh3d\":[{\"colorbar\":{\"outlinewidth\":0,\"ticks\":\"\"},\"type\":\"mesh3d\"}],\"parcoords\":[{\"line\":{\"colorbar\":{\"outlinewidth\":0,\"ticks\":\"\"}},\"type\":\"parcoords\"}],\"pie\":[{\"automargin\":true,\"type\":\"pie\"}],\"scatter3d\":[{\"line\":{\"colorbar\":{\"outlinewidth\":0,\"ticks\":\"\"}},\"marker\":{\"colorbar\":{\"outlinewidth\":0,\"ticks\":\"\"}},\"type\":\"scatter3d\"}],\"scattercarpet\":[{\"marker\":{\"colorbar\":{\"outlinewidth\":0,\"ticks\":\"\"}},\"type\":\"scattercarpet\"}],\"scattergeo\":[{\"marker\":{\"colorbar\":{\"outlinewidth\":0,\"ticks\":\"\"}},\"type\":\"scattergeo\"}],\"scattergl\":[{\"marker\":{\"colorbar\":{\"outlinewidth\":0,\"ticks\":\"\"}},\"type\":\"scattergl\"}],\"scattermapbox\":[{\"marker\":{\"colorbar\":{\"outlinewidth\":0,\"ticks\":\"\"}},\"type\":\"scattermapbox\"}],\"scatterpolargl\":[{\"marker\":{\"colorbar\":{\"outlinewidth\":0,\"ticks\":\"\"}},\"type\":\"scatterpolargl\"}],\"scatterpolar\":[{\"marker\":{\"colorbar\":{\"outlinewidth\":0,\"ticks\":\"\"}},\"type\":\"scatterpolar\"}],\"scatter\":[{\"marker\":{\"colorbar\":{\"outlinewidth\":0,\"ticks\":\"\"}},\"type\":\"scatter\"}],\"scatterternary\":[{\"marker\":{\"colorbar\":{\"outlinewidth\":0,\"ticks\":\"\"}},\"type\":\"scatterternary\"}],\"surface\":[{\"colorbar\":{\"outlinewidth\":0,\"ticks\":\"\"},\"colorscale\":[[0.0,\"#0d0887\"],[0.1111111111111111,\"#46039f\"],[0.2222222222222222,\"#7201a8\"],[0.3333333333333333,\"#9c179e\"],[0.4444444444444444,\"#bd3786\"],[0.5555555555555556,\"#d8576b\"],[0.6666666666666666,\"#ed7953\"],[0.7777777777777778,\"#fb9f3a\"],[0.8888888888888888,\"#fdca26\"],[1.0,\"#f0f921\"]],\"type\":\"surface\"}],\"table\":[{\"cells\":{\"fill\":{\"color\":\"#EBF0F8\"},\"line\":{\"color\":\"white\"}},\"header\":{\"fill\":{\"color\":\"#C8D4E3\"},\"line\":{\"color\":\"white\"}},\"type\":\"table\"}]},\"layout\":{\"annotationdefaults\":{\"arrowcolor\":\"#2a3f5f\",\"arrowhead\":0,\"arrowwidth\":1},\"autotypenumbers\":\"strict\",\"coloraxis\":{\"colorbar\":{\"outlinewidth\":0,\"ticks\":\"\"}},\"colorscale\":{\"diverging\":[[0,\"#8e0152\"],[0.1,\"#c51b7d\"],[0.2,\"#de77ae\"],[0.3,\"#f1b6da\"],[0.4,\"#fde0ef\"],[0.5,\"#f7f7f7\"],[0.6,\"#e6f5d0\"],[0.7,\"#b8e186\"],[0.8,\"#7fbc41\"],[0.9,\"#4d9221\"],[1,\"#276419\"]],\"sequential\":[[0.0,\"#0d0887\"],[0.1111111111111111,\"#46039f\"],[0.2222222222222222,\"#7201a8\"],[0.3333333333333333,\"#9c179e\"],[0.4444444444444444,\"#bd3786\"],[0.5555555555555556,\"#d8576b\"],[0.6666666666666666,\"#ed7953\"],[0.7777777777777778,\"#fb9f3a\"],[0.8888888888888888,\"#fdca26\"],[1.0,\"#f0f921\"]],\"sequentialminus\":[[0.0,\"#0d0887\"],[0.1111111111111111,\"#46039f\"],[0.2222222222222222,\"#7201a8\"],[0.3333333333333333,\"#9c179e\"],[0.4444444444444444,\"#bd3786\"],[0.5555555555555556,\"#d8576b\"],[0.6666666666666666,\"#ed7953\"],[0.7777777777777778,\"#fb9f3a\"],[0.8888888888888888,\"#fdca26\"],[1.0,\"#f0f921\"]]},\"colorway\":[\"#636efa\",\"#EF553B\",\"#00cc96\",\"#ab63fa\",\"#FFA15A\",\"#19d3f3\",\"#FF6692\",\"#B6E880\",\"#FF97FF\",\"#FECB52\"],\"font\":{\"color\":\"#2a3f5f\"},\"geo\":{\"bgcolor\":\"white\",\"lakecolor\":\"white\",\"landcolor\":\"white\",\"showlakes\":true,\"showland\":true,\"subunitcolor\":\"#C8D4E3\"},\"hoverlabel\":{\"align\":\"left\"},\"hovermode\":\"closest\",\"mapbox\":{\"style\":\"light\"},\"paper_bgcolor\":\"white\",\"plot_bgcolor\":\"white\",\"polar\":{\"angularaxis\":{\"gridcolor\":\"#EBF0F8\",\"linecolor\":\"#EBF0F8\",\"ticks\":\"\"},\"bgcolor\":\"white\",\"radialaxis\":{\"gridcolor\":\"#EBF0F8\",\"linecolor\":\"#EBF0F8\",\"ticks\":\"\"}},\"scene\":{\"xaxis\":{\"backgroundcolor\":\"white\",\"gridcolor\":\"#DFE8F3\",\"gridwidth\":2,\"linecolor\":\"#EBF0F8\",\"showbackground\":true,\"ticks\":\"\",\"zerolinecolor\":\"#EBF0F8\"},\"yaxis\":{\"backgroundcolor\":\"white\",\"gridcolor\":\"#DFE8F3\",\"gridwidth\":2,\"linecolor\":\"#EBF0F8\",\"showbackground\":true,\"ticks\":\"\",\"zerolinecolor\":\"#EBF0F8\"},\"zaxis\":{\"backgroundcolor\":\"white\",\"gridcolor\":\"#DFE8F3\",\"gridwidth\":2,\"linecolor\":\"#EBF0F8\",\"showbackground\":true,\"ticks\":\"\",\"zerolinecolor\":\"#EBF0F8\"}},\"shapedefaults\":{\"line\":{\"color\":\"#2a3f5f\"}},\"ternary\":{\"aaxis\":{\"gridcolor\":\"#DFE8F3\",\"linecolor\":\"#A2B1C6\",\"ticks\":\"\"},\"baxis\":{\"gridcolor\":\"#DFE8F3\",\"linecolor\":\"#A2B1C6\",\"ticks\":\"\"},\"bgcolor\":\"white\",\"caxis\":{\"gridcolor\":\"#DFE8F3\",\"linecolor\":\"#A2B1C6\",\"ticks\":\"\"}},\"title\":{\"x\":0.05},\"xaxis\":{\"automargin\":true,\"gridcolor\":\"#EBF0F8\",\"linecolor\":\"#EBF0F8\",\"ticks\":\"\",\"title\":{\"standoff\":15},\"zerolinecolor\":\"#EBF0F8\",\"zerolinewidth\":2},\"yaxis\":{\"automargin\":true,\"gridcolor\":\"#EBF0F8\",\"linecolor\":\"#EBF0F8\",\"ticks\":\"\",\"title\":{\"standoff\":15},\"zerolinecolor\":\"#EBF0F8\",\"zerolinewidth\":2}}},\"xaxis\":{\"anchor\":\"y\",\"domain\":[0.0,1.0],\"title\":{\"text\":\"Date\"}},\"yaxis\":{\"anchor\":\"x\",\"domain\":[0.0,1.0],\"title\":{\"text\":\"value\"}},\"legend\":{\"title\":{\"text\":\"variable\"},\"tracegroupgap\":0},\"margin\":{\"t\":60}},                        {\"responsive\": true}                    ).then(function(){\n",
       "                            \n",
       "var gd = document.getElementById('88a7c8b8-17a0-4915-88c1-6b021bdc0427');\n",
       "var x = new MutationObserver(function (mutations, observer) {{\n",
       "        var display = window.getComputedStyle(gd).display;\n",
       "        if (!display || display === 'none') {{\n",
       "            console.log([gd, 'removed!']);\n",
       "            Plotly.purge(gd);\n",
       "            observer.disconnect();\n",
       "        }}\n",
       "}});\n",
       "\n",
       "// Listen for the removal of the full notebook cells\n",
       "var notebookContainer = gd.closest('#notebook-container');\n",
       "if (notebookContainer) {{\n",
       "    x.observe(notebookContainer, {childList: true});\n",
       "}}\n",
       "\n",
       "// Listen for the clearing of the current output cell\n",
       "var outputEl = gd.closest('.output');\n",
       "if (outputEl) {{\n",
       "    x.observe(outputEl, {childList: true});\n",
       "}}\n",
       "\n",
       "                        })                };                });            </script>        </div>"
      ]
     },
     "metadata": {},
     "output_type": "display_data"
    },
    {
     "name": "stdout",
     "output_type": "stream",
     "text": [
      "############################  Running Auto ARIMA for DEXCHUS   ############################\n",
      "Performing stepwise search to minimize aic\n",
      " ARIMA(1,1,1)(0,1,1)[12]             : AIC=-108.129, Time=0.79 sec\n",
      " ARIMA(0,1,0)(0,1,0)[12]             : AIC=-96.510, Time=0.05 sec\n",
      " ARIMA(1,1,0)(1,1,0)[12]             : AIC=-102.134, Time=0.41 sec\n",
      " ARIMA(0,1,1)(0,1,1)[12]             : AIC=-109.595, Time=0.62 sec\n",
      " ARIMA(0,1,1)(0,1,0)[12]             : AIC=-97.157, Time=0.10 sec\n",
      " ARIMA(0,1,1)(1,1,1)[12]             : AIC=inf, Time=1.26 sec\n",
      " ARIMA(0,1,1)(0,1,2)[12]             : AIC=inf, Time=1.69 sec\n",
      " ARIMA(0,1,1)(1,1,0)[12]             : AIC=-101.866, Time=0.14 sec\n",
      " ARIMA(0,1,1)(1,1,2)[12]             : AIC=inf, Time=1.78 sec\n",
      " ARIMA(0,1,0)(0,1,1)[12]             : AIC=-110.079, Time=0.15 sec\n",
      " ARIMA(0,1,0)(1,1,1)[12]             : AIC=inf, Time=0.68 sec\n",
      " ARIMA(0,1,0)(0,1,2)[12]             : AIC=inf, Time=0.94 sec\n",
      " ARIMA(0,1,0)(1,1,0)[12]             : AIC=-101.804, Time=0.27 sec\n",
      " ARIMA(0,1,0)(1,1,2)[12]             : AIC=inf, Time=1.75 sec\n",
      " ARIMA(1,1,0)(0,1,1)[12]             : AIC=-109.765, Time=0.45 sec\n",
      " ARIMA(0,1,0)(0,1,1)[12] intercept   : AIC=-108.809, Time=0.31 sec\n",
      "\n",
      "Best model:  ARIMA(0,1,0)(0,1,1)[12]          \n",
      "Total fit time: 11.413 seconds\n",
      "############################  End Auto ARIMA for DEXCHUS   ############################\n",
      "\n",
      "\n",
      "############################  Running Auto ARIMA for M1SL   ############################\n",
      "Performing stepwise search to minimize aic\n",
      " ARIMA(1,1,1)(0,1,1)[12]             : AIC=inf, Time=1.06 sec\n",
      " ARIMA(0,1,0)(0,1,0)[12]             : AIC=1275.324, Time=0.05 sec\n",
      " ARIMA(1,1,0)(1,1,0)[12]             : AIC=1238.294, Time=0.60 sec\n",
      " ARIMA(0,1,1)(0,1,1)[12]             : AIC=inf, Time=0.45 sec\n",
      " ARIMA(1,1,0)(0,1,0)[12]             : AIC=1277.047, Time=0.02 sec\n",
      " ARIMA(1,1,0)(2,1,0)[12]             : AIC=1238.656, Time=1.02 sec\n",
      " ARIMA(1,1,0)(1,1,1)[12]             : AIC=1238.649, Time=1.01 sec\n",
      " ARIMA(1,1,0)(0,1,1)[12]             : AIC=inf, Time=0.47 sec\n",
      " ARIMA(1,1,0)(2,1,1)[12]             : AIC=1240.597, Time=1.57 sec\n",
      " ARIMA(0,1,0)(1,1,0)[12]             : AIC=1236.659, Time=0.20 sec\n",
      " ARIMA(0,1,0)(2,1,0)[12]             : AIC=1237.038, Time=0.64 sec\n",
      " ARIMA(0,1,0)(1,1,1)[12]             : AIC=1237.020, Time=0.56 sec\n",
      " ARIMA(0,1,0)(0,1,1)[12]             : AIC=inf, Time=0.20 sec\n",
      " ARIMA(0,1,0)(2,1,1)[12]             : AIC=1238.975, Time=0.99 sec\n",
      " ARIMA(0,1,1)(1,1,0)[12]             : AIC=1239.963, Time=0.39 sec\n",
      " ARIMA(1,1,1)(1,1,0)[12]             : AIC=inf, Time=0.85 sec\n",
      " ARIMA(0,1,0)(1,1,0)[12] intercept   : AIC=1237.581, Time=0.46 sec\n",
      "\n",
      "Best model:  ARIMA(0,1,0)(1,1,0)[12]          \n",
      "Total fit time: 10.582 seconds\n",
      "############################  End Auto ARIMA for M1SL   ############################\n",
      "\n",
      "\n",
      "############################  Running Auto ARIMA for JTSJOL   ############################\n",
      "Performing stepwise search to minimize aic\n",
      " ARIMA(1,1,1)(0,1,1)[12]             : AIC=inf, Time=0.60 sec\n",
      " ARIMA(0,1,0)(0,1,0)[12]             : AIC=1099.140, Time=0.03 sec\n",
      " ARIMA(1,1,0)(1,1,0)[12]             : AIC=1078.944, Time=0.22 sec\n",
      " ARIMA(0,1,1)(0,1,1)[12]             : AIC=inf, Time=0.64 sec\n",
      " ARIMA(1,1,0)(0,1,0)[12]             : AIC=1101.028, Time=0.04 sec\n",
      " ARIMA(1,1,0)(2,1,0)[12]             : AIC=1070.574, Time=0.58 sec\n",
      " ARIMA(1,1,0)(2,1,1)[12]             : AIC=inf, Time=1.98 sec\n",
      " ARIMA(1,1,0)(1,1,1)[12]             : AIC=inf, Time=0.42 sec\n",
      " ARIMA(0,1,0)(2,1,0)[12]             : AIC=1069.245, Time=0.37 sec\n",
      " ARIMA(0,1,0)(1,1,0)[12]             : AIC=1077.191, Time=0.08 sec\n",
      " ARIMA(0,1,0)(2,1,1)[12]             : AIC=inf, Time=1.35 sec\n",
      " ARIMA(0,1,0)(1,1,1)[12]             : AIC=inf, Time=0.49 sec\n",
      " ARIMA(0,1,1)(2,1,0)[12]             : AIC=1070.679, Time=0.55 sec\n",
      " ARIMA(1,1,1)(2,1,0)[12]             : AIC=inf, Time=2.16 sec\n",
      " ARIMA(0,1,0)(2,1,0)[12] intercept   : AIC=1071.119, Time=0.70 sec\n",
      "\n",
      "Best model:  ARIMA(0,1,0)(2,1,0)[12]          \n",
      "Total fit time: 10.253 seconds\n",
      "############################  End Auto ARIMA for JTSJOL   ############################\n",
      "\n",
      "\n",
      "############################  Running Auto ARIMA for HOUST   ############################\n",
      "Performing stepwise search to minimize aic\n",
      " ARIMA(1,1,1)(0,1,1)[12]             : AIC=inf, Time=0.54 sec\n",
      " ARIMA(0,1,0)(0,1,0)[12]             : AIC=934.558, Time=0.01 sec\n",
      " ARIMA(1,1,0)(1,1,0)[12]             : AIC=918.112, Time=0.19 sec\n",
      " ARIMA(0,1,1)(0,1,1)[12]             : AIC=inf, Time=0.42 sec\n",
      " ARIMA(1,1,0)(0,1,0)[12]             : AIC=931.352, Time=0.03 sec\n",
      " ARIMA(1,1,0)(2,1,0)[12]             : AIC=910.951, Time=0.49 sec\n",
      " ARIMA(1,1,0)(2,1,1)[12]             : AIC=910.339, Time=0.93 sec\n",
      " ARIMA(1,1,0)(1,1,1)[12]             : AIC=909.933, Time=0.47 sec\n",
      " ARIMA(1,1,0)(0,1,1)[12]             : AIC=inf, Time=0.20 sec\n",
      " ARIMA(1,1,0)(1,1,2)[12]             : AIC=inf, Time=1.17 sec\n",
      " ARIMA(1,1,0)(0,1,2)[12]             : AIC=909.880, Time=0.77 sec\n",
      " ARIMA(0,1,0)(0,1,2)[12]             : AIC=913.446, Time=0.48 sec\n",
      " ARIMA(2,1,0)(0,1,2)[12]             : AIC=910.241, Time=0.96 sec\n",
      " ARIMA(1,1,1)(0,1,2)[12]             : AIC=inf, Time=1.31 sec\n",
      " ARIMA(0,1,1)(0,1,2)[12]             : AIC=906.205, Time=0.88 sec\n",
      " ARIMA(0,1,1)(1,1,2)[12]             : AIC=inf, Time=2.86 sec\n",
      " ARIMA(0,1,1)(1,1,1)[12]             : AIC=906.278, Time=0.71 sec\n",
      " ARIMA(0,1,2)(0,1,2)[12]             : AIC=903.019, Time=3.29 sec\n",
      " ARIMA(0,1,2)(0,1,1)[12]             : AIC=inf, Time=0.60 sec\n",
      " ARIMA(0,1,2)(1,1,2)[12]             : AIC=inf, Time=2.49 sec\n",
      " ARIMA(0,1,2)(1,1,1)[12]             : AIC=903.120, Time=2.75 sec\n",
      " ARIMA(1,1,2)(0,1,2)[12]             : AIC=903.458, Time=14.22 sec\n",
      " ARIMA(0,1,3)(0,1,2)[12]             : AIC=inf, Time=3.43 sec\n",
      " ARIMA(1,1,3)(0,1,2)[12]             : AIC=inf, Time=9.44 sec\n",
      " ARIMA(0,1,2)(0,1,2)[12] intercept   : AIC=904.520, Time=5.17 sec\n",
      "\n",
      "Best model:  ARIMA(0,1,2)(0,1,2)[12]          \n",
      "Total fit time: 53.856 seconds\n",
      "############################  End Auto ARIMA for HOUST   ############################\n",
      "\n",
      "\n",
      "############################  Running Auto ARIMA for PAYEMS   ############################\n",
      "Performing stepwise search to minimize aic\n",
      " ARIMA(1,1,1)(0,1,1)[12]             : AIC=inf, Time=0.71 sec\n",
      " ARIMA(0,1,0)(0,1,0)[12]             : AIC=1365.278, Time=0.03 sec\n",
      " ARIMA(1,1,0)(1,1,0)[12]             : AIC=1368.216, Time=0.09 sec\n",
      " ARIMA(0,1,1)(0,1,1)[12]             : AIC=inf, Time=0.45 sec\n",
      " ARIMA(0,1,0)(1,1,0)[12]             : AIC=1366.178, Time=0.28 sec\n",
      " ARIMA(0,1,0)(0,1,1)[12]             : AIC=inf, Time=0.10 sec\n",
      " ARIMA(0,1,0)(1,1,1)[12]             : AIC=inf, Time=0.53 sec\n",
      " ARIMA(1,1,0)(0,1,0)[12]             : AIC=1367.270, Time=0.04 sec\n",
      " ARIMA(0,1,1)(0,1,0)[12]             : AIC=1367.379, Time=0.04 sec\n",
      " ARIMA(1,1,1)(0,1,0)[12]             : AIC=inf, Time=0.31 sec\n",
      " ARIMA(0,1,0)(0,1,0)[12] intercept   : AIC=1367.171, Time=0.02 sec\n",
      "\n",
      "Best model:  ARIMA(0,1,0)(0,1,0)[12]          \n",
      "Total fit time: 2.597 seconds\n",
      "############################  End Auto ARIMA for PAYEMS   ############################\n",
      "\n",
      "\n",
      "############################  Running Auto ARIMA for WFII5   ############################\n",
      "Performing stepwise search to minimize aic\n",
      " ARIMA(1,1,1)(0,1,1)[12]             : AIC=-40.246, Time=0.31 sec\n",
      " ARIMA(0,1,0)(0,1,0)[12]             : AIC=-36.985, Time=0.04 sec\n",
      " ARIMA(1,1,0)(1,1,0)[12]             : AIC=-38.601, Time=0.19 sec\n",
      " ARIMA(0,1,1)(0,1,1)[12]             : AIC=-42.246, Time=0.28 sec\n",
      " ARIMA(0,1,1)(0,1,0)[12]             : AIC=-35.406, Time=0.08 sec\n",
      " ARIMA(0,1,1)(1,1,1)[12]             : AIC=-40.444, Time=0.55 sec\n",
      " ARIMA(0,1,1)(0,1,2)[12]             : AIC=-40.855, Time=0.71 sec\n",
      " ARIMA(0,1,1)(1,1,0)[12]             : AIC=-38.596, Time=0.20 sec\n",
      " ARIMA(0,1,1)(1,1,2)[12]             : AIC=inf, Time=2.22 sec\n",
      " ARIMA(0,1,0)(0,1,1)[12]             : AIC=-44.244, Time=0.12 sec\n",
      " ARIMA(0,1,0)(1,1,1)[12]             : AIC=-42.440, Time=0.47 sec\n",
      " ARIMA(0,1,0)(0,1,2)[12]             : AIC=-42.842, Time=0.44 sec\n",
      " ARIMA(0,1,0)(1,1,0)[12]             : AIC=-40.520, Time=0.29 sec\n",
      " ARIMA(0,1,0)(1,1,2)[12]             : AIC=inf, Time=1.72 sec\n",
      " ARIMA(1,1,0)(0,1,1)[12]             : AIC=-42.246, Time=0.18 sec\n",
      " ARIMA(0,1,0)(0,1,1)[12] intercept   : AIC=-45.420, Time=0.34 sec\n",
      " ARIMA(0,1,0)(0,1,0)[12] intercept   : AIC=-36.171, Time=0.09 sec\n"
     ]
    },
    {
     "name": "stdout",
     "output_type": "stream",
     "text": [
      " ARIMA(0,1,0)(1,1,1)[12] intercept   : AIC=-43.730, Time=0.62 sec\n",
      " ARIMA(0,1,0)(0,1,2)[12] intercept   : AIC=-44.295, Time=0.74 sec\n",
      " ARIMA(0,1,0)(1,1,0)[12] intercept   : AIC=-40.347, Time=0.19 sec\n",
      " ARIMA(0,1,0)(1,1,2)[12] intercept   : AIC=inf, Time=2.35 sec\n",
      " ARIMA(1,1,0)(0,1,1)[12] intercept   : AIC=-43.562, Time=0.38 sec\n",
      " ARIMA(0,1,1)(0,1,1)[12] intercept   : AIC=-43.559, Time=0.54 sec\n",
      " ARIMA(1,1,1)(0,1,1)[12] intercept   : AIC=inf, Time=1.08 sec\n",
      "\n",
      "Best model:  ARIMA(0,1,0)(0,1,1)[12] intercept\n",
      "Total fit time: 14.155 seconds\n",
      "############################  End Auto ARIMA for WFII5   ############################\n",
      "\n",
      "\n",
      "############################  Running Auto ARIMA for GASREGW   ############################\n",
      "Performing stepwise search to minimize aic\n",
      " ARIMA(1,1,1)(0,1,1)[12]             : AIC=inf, Time=0.93 sec\n",
      " ARIMA(0,1,0)(0,1,0)[12]             : AIC=-18.913, Time=0.05 sec\n",
      " ARIMA(1,1,0)(1,1,0)[12]             : AIC=-39.262, Time=0.15 sec\n",
      " ARIMA(0,1,1)(0,1,1)[12]             : AIC=inf, Time=0.91 sec\n",
      " ARIMA(1,1,0)(0,1,0)[12]             : AIC=-25.871, Time=0.11 sec\n",
      " ARIMA(1,1,0)(2,1,0)[12]             : AIC=-41.281, Time=0.89 sec\n",
      " ARIMA(1,1,0)(2,1,1)[12]             : AIC=inf, Time=2.39 sec\n",
      " ARIMA(1,1,0)(1,1,1)[12]             : AIC=inf, Time=0.72 sec\n",
      " ARIMA(0,1,0)(2,1,0)[12]             : AIC=-34.447, Time=0.31 sec\n",
      " ARIMA(2,1,0)(2,1,0)[12]             : AIC=-40.568, Time=1.43 sec\n",
      " ARIMA(1,1,1)(2,1,0)[12]             : AIC=-40.163, Time=1.07 sec\n",
      " ARIMA(0,1,1)(2,1,0)[12]             : AIC=-41.988, Time=0.71 sec\n",
      " ARIMA(0,1,1)(1,1,0)[12]             : AIC=-39.494, Time=0.29 sec\n",
      " ARIMA(0,1,1)(2,1,1)[12]             : AIC=inf, Time=3.33 sec\n",
      " ARIMA(0,1,1)(1,1,1)[12]             : AIC=inf, Time=1.28 sec\n",
      " ARIMA(0,1,2)(2,1,0)[12]             : AIC=-40.230, Time=1.22 sec\n",
      " ARIMA(1,1,2)(2,1,0)[12]             : AIC=-38.260, Time=3.69 sec\n",
      " ARIMA(0,1,1)(2,1,0)[12] intercept   : AIC=-40.808, Time=1.80 sec\n",
      "\n",
      "Best model:  ARIMA(0,1,1)(2,1,0)[12]          \n",
      "Total fit time: 21.303 seconds\n",
      "############################  End Auto ARIMA for GASREGW   ############################\n",
      "\n",
      "\n",
      "############################  Running Auto ARIMA for DGORDER   ############################\n",
      "Performing stepwise search to minimize aic\n",
      " ARIMA(1,1,1)(0,1,1)[12]             : AIC=1589.424, Time=0.70 sec\n",
      " ARIMA(0,1,0)(0,1,0)[12]             : AIC=1610.354, Time=0.01 sec\n",
      " ARIMA(1,1,0)(1,1,0)[12]             : AIC=1608.479, Time=0.22 sec\n",
      " ARIMA(0,1,1)(0,1,1)[12]             : AIC=1602.517, Time=0.20 sec\n",
      " ARIMA(1,1,1)(0,1,0)[12]             : AIC=1590.653, Time=0.14 sec\n",
      " ARIMA(1,1,1)(1,1,1)[12]             : AIC=inf, Time=0.74 sec\n",
      " ARIMA(1,1,1)(0,1,2)[12]             : AIC=1579.059, Time=3.16 sec\n",
      " ARIMA(1,1,1)(1,1,2)[12]             : AIC=1581.034, Time=2.61 sec\n",
      " ARIMA(0,1,1)(0,1,2)[12]             : AIC=1588.902, Time=0.68 sec\n",
      " ARIMA(1,1,0)(0,1,2)[12]             : AIC=1589.901, Time=1.06 sec\n",
      " ARIMA(2,1,1)(0,1,2)[12]             : AIC=1579.414, Time=2.76 sec\n",
      " ARIMA(1,1,2)(0,1,2)[12]             : AIC=inf, Time=2.62 sec\n",
      " ARIMA(0,1,0)(0,1,2)[12]             : AIC=1592.643, Time=0.35 sec\n",
      " ARIMA(0,1,2)(0,1,2)[12]             : AIC=1584.693, Time=0.61 sec\n",
      " ARIMA(2,1,0)(0,1,2)[12]             : AIC=1587.637, Time=0.64 sec\n",
      " ARIMA(2,1,2)(0,1,2)[12]             : AIC=1581.990, Time=1.69 sec\n",
      " ARIMA(1,1,1)(0,1,2)[12] intercept   : AIC=1581.509, Time=1.79 sec\n",
      "\n",
      "Best model:  ARIMA(1,1,1)(0,1,2)[12]          \n",
      "Total fit time: 20.012 seconds\n",
      "############################  End Auto ARIMA for DGORDER   ############################\n",
      "\n",
      "\n",
      "############################  Running Auto ARIMA for WFII10   ############################\n",
      "Performing stepwise search to minimize aic\n",
      " ARIMA(1,1,1)(0,1,1)[12]             : AIC=-55.778, Time=0.89 sec\n",
      " ARIMA(0,1,0)(0,1,0)[12]             : AIC=-43.871, Time=0.02 sec\n",
      " ARIMA(1,1,0)(1,1,0)[12]             : AIC=-47.073, Time=0.21 sec\n",
      " ARIMA(0,1,1)(0,1,1)[12]             : AIC=-54.881, Time=0.26 sec\n",
      " ARIMA(1,1,1)(0,1,0)[12]             : AIC=-44.102, Time=0.32 sec\n",
      " ARIMA(1,1,1)(1,1,1)[12]             : AIC=inf, Time=1.06 sec\n",
      " ARIMA(1,1,1)(0,1,2)[12]             : AIC=inf, Time=1.61 sec\n",
      " ARIMA(1,1,1)(1,1,0)[12]             : AIC=-45.073, Time=0.33 sec\n",
      " ARIMA(1,1,1)(1,1,2)[12]             : AIC=inf, Time=3.45 sec\n",
      " ARIMA(1,1,0)(0,1,1)[12]             : AIC=-54.877, Time=0.30 sec\n",
      " ARIMA(2,1,1)(0,1,1)[12]             : AIC=-55.155, Time=0.94 sec\n",
      " ARIMA(1,1,2)(0,1,1)[12]             : AIC=-54.561, Time=1.06 sec\n",
      " ARIMA(0,1,0)(0,1,1)[12]             : AIC=-56.839, Time=0.18 sec\n",
      " ARIMA(0,1,0)(1,1,1)[12]             : AIC=-55.345, Time=0.45 sec\n",
      " ARIMA(0,1,0)(0,1,2)[12]             : AIC=inf, Time=0.96 sec\n",
      " ARIMA(0,1,0)(1,1,0)[12]             : AIC=-49.051, Time=0.19 sec\n",
      " ARIMA(0,1,0)(1,1,2)[12]             : AIC=-55.447, Time=1.38 sec\n",
      " ARIMA(0,1,0)(0,1,1)[12] intercept   : AIC=-56.057, Time=0.44 sec\n",
      "\n",
      "Best model:  ARIMA(0,1,0)(0,1,1)[12]          \n",
      "Total fit time: 14.084 seconds\n",
      "############################  End Auto ARIMA for WFII10   ############################\n",
      "\n",
      "\n",
      "############################  Running Auto ARIMA for CIVPART   ############################\n",
      "Performing stepwise search to minimize aic\n",
      " ARIMA(1,1,1)(0,1,1)[12]             : AIC=inf, Time=0.55 sec\n",
      " ARIMA(0,1,0)(0,1,0)[12]             : AIC=101.620, Time=0.03 sec\n",
      " ARIMA(1,1,0)(1,1,0)[12]             : AIC=77.351, Time=0.25 sec\n",
      " ARIMA(0,1,1)(0,1,1)[12]             : AIC=inf, Time=0.49 sec\n",
      " ARIMA(1,1,0)(0,1,0)[12]             : AIC=103.615, Time=0.03 sec\n",
      " ARIMA(1,1,0)(2,1,0)[12]             : AIC=76.305, Time=0.66 sec\n",
      " ARIMA(1,1,0)(2,1,1)[12]             : AIC=inf, Time=3.44 sec\n",
      " ARIMA(1,1,0)(1,1,1)[12]             : AIC=74.970, Time=0.59 sec\n",
      " ARIMA(1,1,0)(0,1,1)[12]             : AIC=inf, Time=0.53 sec\n",
      " ARIMA(1,1,0)(1,1,2)[12]             : AIC=inf, Time=1.84 sec\n",
      " ARIMA(1,1,0)(0,1,2)[12]             : AIC=75.208, Time=0.72 sec\n",
      " ARIMA(1,1,0)(2,1,2)[12]             : AIC=inf, Time=2.60 sec\n",
      " ARIMA(0,1,0)(1,1,1)[12]             : AIC=73.004, Time=0.50 sec\n",
      " ARIMA(0,1,0)(0,1,1)[12]             : AIC=inf, Time=0.30 sec\n",
      " ARIMA(0,1,0)(1,1,0)[12]             : AIC=75.377, Time=0.16 sec\n",
      " ARIMA(0,1,0)(2,1,1)[12]             : AIC=inf, Time=2.99 sec\n",
      " ARIMA(0,1,0)(1,1,2)[12]             : AIC=inf, Time=2.15 sec\n",
      " ARIMA(0,1,0)(0,1,2)[12]             : AIC=73.240, Time=0.82 sec\n",
      " ARIMA(0,1,0)(2,1,0)[12]             : AIC=74.312, Time=0.37 sec\n",
      " ARIMA(0,1,0)(2,1,2)[12]             : AIC=inf, Time=1.77 sec\n",
      " ARIMA(0,1,1)(1,1,1)[12]             : AIC=74.954, Time=0.92 sec\n",
      " ARIMA(1,1,1)(1,1,1)[12]             : AIC=74.344, Time=1.67 sec\n",
      " ARIMA(0,1,0)(1,1,1)[12] intercept   : AIC=74.879, Time=0.90 sec\n",
      "\n",
      "Best model:  ARIMA(0,1,0)(1,1,1)[12]          \n",
      "Total fit time: 24.320 seconds\n",
      "############################  End Auto ARIMA for CIVPART   ############################\n",
      "\n",
      "\n",
      "############################  Running Auto ARIMA for W-2 Revenue   ############################\n",
      "Performing stepwise search to minimize aic\n",
      " ARIMA(1,1,1)(0,1,1)[12]             : AIC=2506.070, Time=0.46 sec\n",
      " ARIMA(0,1,0)(0,1,0)[12]             : AIC=2547.264, Time=0.03 sec\n",
      " ARIMA(1,1,0)(1,1,0)[12]             : AIC=2530.535, Time=0.26 sec\n",
      " ARIMA(0,1,1)(0,1,1)[12]             : AIC=2504.141, Time=0.23 sec\n",
      " ARIMA(0,1,1)(0,1,0)[12]             : AIC=2502.151, Time=0.05 sec\n",
      " ARIMA(0,1,1)(1,1,0)[12]             : AIC=2504.142, Time=0.19 sec\n",
      " ARIMA(0,1,1)(1,1,1)[12]             : AIC=2506.108, Time=0.39 sec\n",
      " ARIMA(1,1,1)(0,1,0)[12]             : AIC=2504.080, Time=0.10 sec\n",
      " ARIMA(0,1,2)(0,1,0)[12]             : AIC=2503.267, Time=0.11 sec\n",
      " ARIMA(1,1,0)(0,1,0)[12]             : AIC=2528.536, Time=0.06 sec\n",
      " ARIMA(1,1,2)(0,1,0)[12]             : AIC=2505.036, Time=0.07 sec\n",
      " ARIMA(0,1,1)(0,1,0)[12] intercept   : AIC=2503.609, Time=0.09 sec\n",
      "\n",
      "Best model:  ARIMA(0,1,1)(0,1,0)[12]          \n",
      "Total fit time: 2.078 seconds\n",
      "############################  End Auto ARIMA for W-2 Revenue   ############################\n",
      "\n",
      "\n"
     ]
    },
    {
     "data": {
      "application/vnd.plotly.v1+json": {
       "config": {
        "plotlyServerURL": "https://plot.ly"
       },
       "data": [
        {
         "hovertemplate": "variable=W-2 Revenue<br>Calendar Date=%{x}<br>value=%{y}<extra></extra>",
         "legendgroup": "W-2 Revenue",
         "line": {
          "color": "#636efa",
          "dash": "solid"
         },
         "marker": {
          "symbol": "circle"
         },
         "mode": "lines",
         "name": "W-2 Revenue",
         "orientation": "v",
         "showlegend": true,
         "type": "scatter",
         "x": [
          "2014-06-01T00:00:00",
          "2014-07-01T00:00:00",
          "2014-08-01T00:00:00",
          "2014-09-01T00:00:00",
          "2014-10-01T00:00:00",
          "2014-11-01T00:00:00",
          "2014-12-01T00:00:00",
          "2015-01-01T00:00:00",
          "2015-02-01T00:00:00",
          "2015-03-01T00:00:00",
          "2015-04-01T00:00:00",
          "2015-05-01T00:00:00",
          "2015-06-01T00:00:00",
          "2015-07-01T00:00:00",
          "2015-08-01T00:00:00",
          "2015-09-01T00:00:00",
          "2015-10-01T00:00:00",
          "2015-11-01T00:00:00",
          "2015-12-01T00:00:00",
          "2016-01-01T00:00:00",
          "2016-02-01T00:00:00",
          "2016-03-01T00:00:00",
          "2016-04-01T00:00:00",
          "2016-05-01T00:00:00",
          "2016-06-01T00:00:00",
          "2016-07-01T00:00:00",
          "2016-08-01T00:00:00",
          "2016-09-01T00:00:00",
          "2016-10-01T00:00:00",
          "2016-11-01T00:00:00",
          "2016-12-01T00:00:00",
          "2017-01-01T00:00:00",
          "2017-02-01T00:00:00",
          "2017-03-01T00:00:00",
          "2017-04-01T00:00:00",
          "2017-05-01T00:00:00",
          "2017-06-01T00:00:00",
          "2017-07-01T00:00:00",
          "2017-08-01T00:00:00",
          "2017-09-01T00:00:00",
          "2017-10-01T00:00:00",
          "2017-11-01T00:00:00",
          "2017-12-01T00:00:00",
          "2018-01-01T00:00:00",
          "2018-02-01T00:00:00",
          "2018-03-01T00:00:00",
          "2018-04-01T00:00:00",
          "2018-05-01T00:00:00",
          "2018-06-01T00:00:00",
          "2018-07-01T00:00:00",
          "2018-08-01T00:00:00",
          "2018-09-01T00:00:00",
          "2018-10-01T00:00:00",
          "2018-11-01T00:00:00",
          "2018-12-01T00:00:00",
          "2019-01-01T00:00:00",
          "2019-02-01T00:00:00",
          "2019-03-01T00:00:00",
          "2019-04-01T00:00:00",
          "2019-05-01T00:00:00",
          "2019-06-01T00:00:00",
          "2019-07-01T00:00:00",
          "2019-08-01T00:00:00",
          "2019-09-01T00:00:00",
          "2019-10-01T00:00:00",
          "2019-11-01T00:00:00",
          "2019-12-01T00:00:00",
          "2020-01-01T00:00:00",
          "2020-02-01T00:00:00",
          "2020-03-01T00:00:00",
          "2020-04-01T00:00:00",
          "2020-05-01T00:00:00",
          "2020-06-01T00:00:00",
          "2020-07-01T00:00:00",
          "2020-08-01T00:00:00",
          "2020-09-01T00:00:00",
          "2020-10-01T00:00:00",
          "2020-11-01T00:00:00",
          "2020-12-01T00:00:00",
          "2021-01-01T00:00:00",
          "2021-02-01T00:00:00",
          "2021-03-01T00:00:00",
          "2021-04-01T00:00:00",
          "2021-05-01T00:00:00",
          "2021-06-01T00:00:00",
          "2021-07-01T00:00:00",
          "2021-08-01T00:00:00",
          "2021-09-01T00:00:00",
          "2021-10-01T00:00:00",
          "2021-11-01T00:00:00",
          "2021-12-01T00:00:00",
          "2022-01-01T00:00:00"
         ],
         "xaxis": "x",
         "y": [
          7031234.09,
          7325377.82,
          7443620.46,
          7414842.11,
          7818212.35,
          7542659.46,
          8117392.17,
          9377834.84,
          7226134.53,
          6909620.47,
          7301671.08,
          7260382.11,
          7394189.03,
          7847795.04,
          7932837.15,
          7936344.08,
          8278406.81,
          7554776.85,
          8573805.72,
          7593788.48,
          7305483.96,
          7231568.92,
          7382402.54,
          6983682.41,
          7939119.37,
          7866814.61,
          8052852.46,
          7498421.18,
          8531642.37,
          8540560.78,
          7987958.95,
          10169659.06,
          6785179.52,
          7927264.97,
          7537154.75,
          6175856.06,
          8800397.84,
          7887136.61,
          7602343.41,
          7277217.55,
          8126909.97,
          8449869.35,
          7915751.12,
          13178457.56,
          7194287.27,
          7567950.55,
          7695015.35,
          8621115.07,
          254225.27,
          305124.49,
          342622.3,
          276560.9,
          180092.57,
          517750.99,
          633412.69,
          91805550.59,
          -183758.43,
          141277.9,
          157985.54,
          300405.13,
          255174.15,
          359903.73,
          236475.53,
          302200.63,
          426395.09,
          294299.84,
          422089.81,
          89119517.59,
          -55689.5,
          16995.28,
          180969.05,
          135876.35,
          103884.59,
          162905.4,
          176199.4,
          227531.19,
          183308.66,
          208805.4,
          233016.32,
          80988881.77,
          28599.77,
          -43477.46,
          44625.45,
          113517.87,
          145664.32,
          129513.03,
          149699.46,
          184562.25,
          181163.07,
          155279.24,
          192584.15,
          81544421.44
         ],
         "yaxis": "y"
        },
        {
         "hovertemplate": "variable=W-2 Revenue - ML Predicted<br>Calendar Date=%{x}<br>value=%{y}<extra></extra>",
         "legendgroup": "W-2 Revenue - ML Predicted",
         "line": {
          "color": "#EF553B",
          "dash": "solid"
         },
         "marker": {
          "symbol": "circle"
         },
         "mode": "lines",
         "name": "W-2 Revenue - ML Predicted",
         "orientation": "v",
         "showlegend": true,
         "type": "scatter",
         "x": [
          "2014-06-01T00:00:00",
          "2014-07-01T00:00:00",
          "2014-08-01T00:00:00",
          "2014-09-01T00:00:00",
          "2014-10-01T00:00:00",
          "2014-11-01T00:00:00",
          "2014-12-01T00:00:00",
          "2015-01-01T00:00:00",
          "2015-02-01T00:00:00",
          "2015-03-01T00:00:00",
          "2015-04-01T00:00:00",
          "2015-05-01T00:00:00",
          "2015-06-01T00:00:00",
          "2015-07-01T00:00:00",
          "2015-08-01T00:00:00",
          "2015-09-01T00:00:00",
          "2015-10-01T00:00:00",
          "2015-11-01T00:00:00",
          "2015-12-01T00:00:00",
          "2016-01-01T00:00:00",
          "2016-02-01T00:00:00",
          "2016-03-01T00:00:00",
          "2016-04-01T00:00:00",
          "2016-05-01T00:00:00",
          "2016-06-01T00:00:00",
          "2016-07-01T00:00:00",
          "2016-08-01T00:00:00",
          "2016-09-01T00:00:00",
          "2016-10-01T00:00:00",
          "2016-11-01T00:00:00",
          "2016-12-01T00:00:00",
          "2017-01-01T00:00:00",
          "2017-02-01T00:00:00",
          "2017-03-01T00:00:00",
          "2017-04-01T00:00:00",
          "2017-05-01T00:00:00",
          "2017-06-01T00:00:00",
          "2017-07-01T00:00:00",
          "2017-08-01T00:00:00",
          "2017-09-01T00:00:00",
          "2017-10-01T00:00:00",
          "2017-11-01T00:00:00",
          "2017-12-01T00:00:00",
          "2018-01-01T00:00:00",
          "2018-02-01T00:00:00",
          "2018-03-01T00:00:00",
          "2018-04-01T00:00:00",
          "2018-05-01T00:00:00",
          "2018-06-01T00:00:00",
          "2018-07-01T00:00:00",
          "2018-08-01T00:00:00",
          "2018-09-01T00:00:00",
          "2018-10-01T00:00:00",
          "2018-11-01T00:00:00",
          "2018-12-01T00:00:00",
          "2019-01-01T00:00:00",
          "2019-02-01T00:00:00",
          "2019-03-01T00:00:00",
          "2019-04-01T00:00:00",
          "2019-05-01T00:00:00",
          "2019-06-01T00:00:00",
          "2019-07-01T00:00:00",
          "2019-08-01T00:00:00",
          "2019-09-01T00:00:00",
          "2019-10-01T00:00:00",
          "2019-11-01T00:00:00",
          "2019-12-01T00:00:00",
          "2020-01-01T00:00:00",
          "2020-02-01T00:00:00",
          "2020-03-01T00:00:00",
          "2020-04-01T00:00:00",
          "2020-05-01T00:00:00",
          "2020-06-01T00:00:00",
          "2020-07-01T00:00:00",
          "2020-08-01T00:00:00",
          "2020-09-01T00:00:00",
          "2020-10-01T00:00:00",
          "2020-11-01T00:00:00",
          "2020-12-01T00:00:00",
          "2021-01-01T00:00:00",
          "2021-02-01T00:00:00",
          "2021-03-01T00:00:00",
          "2021-04-01T00:00:00",
          "2021-05-01T00:00:00",
          "2021-06-01T00:00:00",
          "2021-07-01T00:00:00",
          "2021-08-01T00:00:00",
          "2021-09-01T00:00:00",
          "2021-10-01T00:00:00",
          "2021-11-01T00:00:00",
          "2021-12-01T00:00:00",
          "2022-01-01T00:00:00"
         ],
         "xaxis": "x",
         "y": [
          null,
          null,
          null,
          null,
          null,
          null,
          null,
          null,
          null,
          null,
          null,
          null,
          null,
          null,
          null,
          null,
          null,
          null,
          null,
          null,
          null,
          null,
          null,
          null,
          null,
          null,
          null,
          null,
          null,
          null,
          null,
          null,
          null,
          null,
          null,
          null,
          null,
          null,
          null,
          null,
          null,
          null,
          null,
          null,
          null,
          null,
          null,
          null,
          null,
          null,
          null,
          null,
          null,
          null,
          null,
          null,
          null,
          null,
          null,
          null,
          null,
          null,
          null,
          null,
          null,
          null,
          null,
          null,
          null,
          null,
          null,
          null,
          null,
          null,
          null,
          null,
          null,
          null,
          null,
          null,
          null,
          null,
          null,
          null,
          10253339.165275685,
          10534316.113992488,
          10813165.115354529,
          10754793.167816576,
          10898197.850967139,
          10902875.606710117,
          11085612.60740621,
          11285508.09200387
         ],
         "yaxis": "y"
        },
        {
         "hovertemplate": "variable=W-2 Revenue - UTS Predicted<br>Calendar Date=%{x}<br>value=%{y}<extra></extra>",
         "legendgroup": "W-2 Revenue - UTS Predicted",
         "line": {
          "color": "#00cc96",
          "dash": "solid"
         },
         "marker": {
          "symbol": "circle"
         },
         "mode": "lines",
         "name": "W-2 Revenue - UTS Predicted",
         "orientation": "v",
         "showlegend": true,
         "type": "scatter",
         "x": [
          "2014-06-01T00:00:00",
          "2014-07-01T00:00:00",
          "2014-08-01T00:00:00",
          "2014-09-01T00:00:00",
          "2014-10-01T00:00:00",
          "2014-11-01T00:00:00",
          "2014-12-01T00:00:00",
          "2015-01-01T00:00:00",
          "2015-02-01T00:00:00",
          "2015-03-01T00:00:00",
          "2015-04-01T00:00:00",
          "2015-05-01T00:00:00",
          "2015-06-01T00:00:00",
          "2015-07-01T00:00:00",
          "2015-08-01T00:00:00",
          "2015-09-01T00:00:00",
          "2015-10-01T00:00:00",
          "2015-11-01T00:00:00",
          "2015-12-01T00:00:00",
          "2016-01-01T00:00:00",
          "2016-02-01T00:00:00",
          "2016-03-01T00:00:00",
          "2016-04-01T00:00:00",
          "2016-05-01T00:00:00",
          "2016-06-01T00:00:00",
          "2016-07-01T00:00:00",
          "2016-08-01T00:00:00",
          "2016-09-01T00:00:00",
          "2016-10-01T00:00:00",
          "2016-11-01T00:00:00",
          "2016-12-01T00:00:00",
          "2017-01-01T00:00:00",
          "2017-02-01T00:00:00",
          "2017-03-01T00:00:00",
          "2017-04-01T00:00:00",
          "2017-05-01T00:00:00",
          "2017-06-01T00:00:00",
          "2017-07-01T00:00:00",
          "2017-08-01T00:00:00",
          "2017-09-01T00:00:00",
          "2017-10-01T00:00:00",
          "2017-11-01T00:00:00",
          "2017-12-01T00:00:00",
          "2018-01-01T00:00:00",
          "2018-02-01T00:00:00",
          "2018-03-01T00:00:00",
          "2018-04-01T00:00:00",
          "2018-05-01T00:00:00",
          "2018-06-01T00:00:00",
          "2018-07-01T00:00:00",
          "2018-08-01T00:00:00",
          "2018-09-01T00:00:00",
          "2018-10-01T00:00:00",
          "2018-11-01T00:00:00",
          "2018-12-01T00:00:00",
          "2019-01-01T00:00:00",
          "2019-02-01T00:00:00",
          "2019-03-01T00:00:00",
          "2019-04-01T00:00:00",
          "2019-05-01T00:00:00",
          "2019-06-01T00:00:00",
          "2019-07-01T00:00:00",
          "2019-08-01T00:00:00",
          "2019-09-01T00:00:00",
          "2019-10-01T00:00:00",
          "2019-11-01T00:00:00",
          "2019-12-01T00:00:00",
          "2020-01-01T00:00:00",
          "2020-02-01T00:00:00",
          "2020-03-01T00:00:00",
          "2020-04-01T00:00:00",
          "2020-05-01T00:00:00",
          "2020-06-01T00:00:00",
          "2020-07-01T00:00:00",
          "2020-08-01T00:00:00",
          "2020-09-01T00:00:00",
          "2020-10-01T00:00:00",
          "2020-11-01T00:00:00",
          "2020-12-01T00:00:00",
          "2021-01-01T00:00:00",
          "2021-02-01T00:00:00",
          "2021-03-01T00:00:00",
          "2021-04-01T00:00:00",
          "2021-05-01T00:00:00",
          "2021-06-01T00:00:00",
          "2021-07-01T00:00:00",
          "2021-08-01T00:00:00",
          "2021-09-01T00:00:00",
          "2021-10-01T00:00:00",
          "2021-11-01T00:00:00",
          "2021-12-01T00:00:00",
          "2022-01-01T00:00:00"
         ],
         "xaxis": "x",
         "y": [
          null,
          null,
          null,
          null,
          null,
          null,
          null,
          null,
          null,
          null,
          null,
          null,
          null,
          null,
          null,
          null,
          null,
          null,
          null,
          null,
          null,
          null,
          null,
          null,
          null,
          null,
          null,
          null,
          null,
          null,
          null,
          null,
          null,
          null,
          null,
          null,
          null,
          null,
          null,
          null,
          null,
          null,
          null,
          null,
          null,
          null,
          null,
          null,
          null,
          null,
          null,
          null,
          null,
          null,
          null,
          null,
          null,
          null,
          null,
          null,
          null,
          null,
          null,
          null,
          null,
          null,
          null,
          null,
          null,
          null,
          null,
          null,
          null,
          null,
          null,
          null,
          null,
          null,
          null,
          null,
          null,
          null,
          null,
          null,
          83343.9484424341,
          142364.75844243402,
          155658.75844243425,
          206990.5484424322,
          162768.0184424328,
          188264.75844243402,
          212475.67844243455,
          80968341.12844244
         ],
         "yaxis": "y"
        },
        {
         "hovertemplate": "variable=W-2 Revenue - Plan<br>Calendar Date=%{x}<br>value=%{y}<extra></extra>",
         "legendgroup": "W-2 Revenue - Plan",
         "line": {
          "color": "#ab63fa",
          "dash": "solid"
         },
         "marker": {
          "symbol": "circle"
         },
         "mode": "lines",
         "name": "W-2 Revenue - Plan",
         "orientation": "v",
         "showlegend": true,
         "type": "scatter",
         "x": [
          "2014-06-01T00:00:00",
          "2014-07-01T00:00:00",
          "2014-08-01T00:00:00",
          "2014-09-01T00:00:00",
          "2014-10-01T00:00:00",
          "2014-11-01T00:00:00",
          "2014-12-01T00:00:00",
          "2015-01-01T00:00:00",
          "2015-02-01T00:00:00",
          "2015-03-01T00:00:00",
          "2015-04-01T00:00:00",
          "2015-05-01T00:00:00",
          "2015-06-01T00:00:00",
          "2015-07-01T00:00:00",
          "2015-08-01T00:00:00",
          "2015-09-01T00:00:00",
          "2015-10-01T00:00:00",
          "2015-11-01T00:00:00",
          "2015-12-01T00:00:00",
          "2016-01-01T00:00:00",
          "2016-02-01T00:00:00",
          "2016-03-01T00:00:00",
          "2016-04-01T00:00:00",
          "2016-05-01T00:00:00",
          "2016-06-01T00:00:00",
          "2016-07-01T00:00:00",
          "2016-08-01T00:00:00",
          "2016-09-01T00:00:00",
          "2016-10-01T00:00:00",
          "2016-11-01T00:00:00",
          "2016-12-01T00:00:00",
          "2017-01-01T00:00:00",
          "2017-02-01T00:00:00",
          "2017-03-01T00:00:00",
          "2017-04-01T00:00:00",
          "2017-05-01T00:00:00",
          "2017-06-01T00:00:00",
          "2017-07-01T00:00:00",
          "2017-08-01T00:00:00",
          "2017-09-01T00:00:00",
          "2017-10-01T00:00:00",
          "2017-11-01T00:00:00",
          "2017-12-01T00:00:00",
          "2018-01-01T00:00:00",
          "2018-02-01T00:00:00",
          "2018-03-01T00:00:00",
          "2018-04-01T00:00:00",
          "2018-05-01T00:00:00",
          "2018-06-01T00:00:00",
          "2018-07-01T00:00:00",
          "2018-08-01T00:00:00",
          "2018-09-01T00:00:00",
          "2018-10-01T00:00:00",
          "2018-11-01T00:00:00",
          "2018-12-01T00:00:00",
          "2019-01-01T00:00:00",
          "2019-02-01T00:00:00",
          "2019-03-01T00:00:00",
          "2019-04-01T00:00:00",
          "2019-05-01T00:00:00",
          "2019-06-01T00:00:00",
          "2019-07-01T00:00:00",
          "2019-08-01T00:00:00",
          "2019-09-01T00:00:00",
          "2019-10-01T00:00:00",
          "2019-11-01T00:00:00",
          "2019-12-01T00:00:00",
          "2020-01-01T00:00:00",
          "2020-02-01T00:00:00",
          "2020-03-01T00:00:00",
          "2020-04-01T00:00:00",
          "2020-05-01T00:00:00",
          "2020-06-01T00:00:00",
          "2020-07-01T00:00:00",
          "2020-08-01T00:00:00",
          "2020-09-01T00:00:00",
          "2020-10-01T00:00:00",
          "2020-11-01T00:00:00",
          "2020-12-01T00:00:00",
          "2021-01-01T00:00:00",
          "2021-02-01T00:00:00",
          "2021-03-01T00:00:00",
          "2021-04-01T00:00:00",
          "2021-05-01T00:00:00",
          "2021-06-01T00:00:00",
          "2021-07-01T00:00:00",
          "2021-08-01T00:00:00",
          "2021-09-01T00:00:00",
          "2021-10-01T00:00:00",
          "2021-11-01T00:00:00",
          "2021-12-01T00:00:00",
          "2022-01-01T00:00:00"
         ],
         "xaxis": "x",
         "y": [
          null,
          null,
          null,
          null,
          null,
          null,
          null,
          null,
          null,
          null,
          null,
          null,
          null,
          null,
          null,
          null,
          null,
          null,
          null,
          null,
          null,
          null,
          null,
          null,
          null,
          null,
          null,
          null,
          null,
          null,
          null,
          null,
          null,
          null,
          null,
          null,
          null,
          null,
          null,
          null,
          null,
          null,
          null,
          null,
          null,
          null,
          null,
          null,
          null,
          null,
          null,
          null,
          null,
          null,
          null,
          null,
          null,
          null,
          null,
          null,
          null,
          null,
          null,
          null,
          null,
          null,
          null,
          null,
          null,
          null,
          null,
          null,
          null,
          null,
          null,
          null,
          null,
          null,
          null,
          null,
          null,
          null,
          null,
          null,
          94336.19,
          162905.4,
          176231.69,
          227531.19,
          183308.66,
          208552.65,
          233285.75,
          80892681.59
         ],
         "yaxis": "y"
        },
        {
         "hovertemplate": "variable=W-2 Revenue - 2+10 Forecast<br>Calendar Date=%{x}<br>value=%{y}<extra></extra>",
         "legendgroup": "W-2 Revenue - 2+10 Forecast",
         "line": {
          "color": "#FFA15A",
          "dash": "solid"
         },
         "marker": {
          "symbol": "circle"
         },
         "mode": "lines",
         "name": "W-2 Revenue - 2+10 Forecast",
         "orientation": "v",
         "showlegend": true,
         "type": "scatter",
         "x": [
          "2014-06-01T00:00:00",
          "2014-07-01T00:00:00",
          "2014-08-01T00:00:00",
          "2014-09-01T00:00:00",
          "2014-10-01T00:00:00",
          "2014-11-01T00:00:00",
          "2014-12-01T00:00:00",
          "2015-01-01T00:00:00",
          "2015-02-01T00:00:00",
          "2015-03-01T00:00:00",
          "2015-04-01T00:00:00",
          "2015-05-01T00:00:00",
          "2015-06-01T00:00:00",
          "2015-07-01T00:00:00",
          "2015-08-01T00:00:00",
          "2015-09-01T00:00:00",
          "2015-10-01T00:00:00",
          "2015-11-01T00:00:00",
          "2015-12-01T00:00:00",
          "2016-01-01T00:00:00",
          "2016-02-01T00:00:00",
          "2016-03-01T00:00:00",
          "2016-04-01T00:00:00",
          "2016-05-01T00:00:00",
          "2016-06-01T00:00:00",
          "2016-07-01T00:00:00",
          "2016-08-01T00:00:00",
          "2016-09-01T00:00:00",
          "2016-10-01T00:00:00",
          "2016-11-01T00:00:00",
          "2016-12-01T00:00:00",
          "2017-01-01T00:00:00",
          "2017-02-01T00:00:00",
          "2017-03-01T00:00:00",
          "2017-04-01T00:00:00",
          "2017-05-01T00:00:00",
          "2017-06-01T00:00:00",
          "2017-07-01T00:00:00",
          "2017-08-01T00:00:00",
          "2017-09-01T00:00:00",
          "2017-10-01T00:00:00",
          "2017-11-01T00:00:00",
          "2017-12-01T00:00:00",
          "2018-01-01T00:00:00",
          "2018-02-01T00:00:00",
          "2018-03-01T00:00:00",
          "2018-04-01T00:00:00",
          "2018-05-01T00:00:00",
          "2018-06-01T00:00:00",
          "2018-07-01T00:00:00",
          "2018-08-01T00:00:00",
          "2018-09-01T00:00:00",
          "2018-10-01T00:00:00",
          "2018-11-01T00:00:00",
          "2018-12-01T00:00:00",
          "2019-01-01T00:00:00",
          "2019-02-01T00:00:00",
          "2019-03-01T00:00:00",
          "2019-04-01T00:00:00",
          "2019-05-01T00:00:00",
          "2019-06-01T00:00:00",
          "2019-07-01T00:00:00",
          "2019-08-01T00:00:00",
          "2019-09-01T00:00:00",
          "2019-10-01T00:00:00",
          "2019-11-01T00:00:00",
          "2019-12-01T00:00:00",
          "2020-01-01T00:00:00",
          "2020-02-01T00:00:00",
          "2020-03-01T00:00:00",
          "2020-04-01T00:00:00",
          "2020-05-01T00:00:00",
          "2020-06-01T00:00:00",
          "2020-07-01T00:00:00",
          "2020-08-01T00:00:00",
          "2020-09-01T00:00:00",
          "2020-10-01T00:00:00",
          "2020-11-01T00:00:00",
          "2020-12-01T00:00:00",
          "2021-01-01T00:00:00",
          "2021-02-01T00:00:00",
          "2021-03-01T00:00:00",
          "2021-04-01T00:00:00",
          "2021-05-01T00:00:00",
          "2021-06-01T00:00:00",
          "2021-07-01T00:00:00",
          "2021-08-01T00:00:00",
          "2021-09-01T00:00:00",
          "2021-10-01T00:00:00",
          "2021-11-01T00:00:00",
          "2021-12-01T00:00:00",
          "2022-01-01T00:00:00"
         ],
         "xaxis": "x",
         "y": [
          null,
          null,
          null,
          null,
          null,
          null,
          null,
          null,
          null,
          null,
          null,
          null,
          null,
          null,
          null,
          null,
          null,
          null,
          null,
          null,
          null,
          null,
          null,
          null,
          null,
          null,
          null,
          null,
          null,
          null,
          null,
          null,
          null,
          null,
          null,
          null,
          null,
          null,
          null,
          null,
          null,
          null,
          null,
          null,
          null,
          null,
          null,
          null,
          null,
          null,
          null,
          null,
          null,
          null,
          null,
          null,
          null,
          null,
          null,
          null,
          null,
          null,
          null,
          null,
          null,
          null,
          null,
          null,
          null,
          null,
          null,
          null,
          null,
          null,
          null,
          null,
          null,
          null,
          null,
          null,
          null,
          null,
          null,
          null,
          145664.32,
          129513.03,
          176231.69,
          227531.19,
          183308.66,
          208552.65,
          233285.75,
          80808417.22
         ],
         "yaxis": "y"
        }
       ],
       "layout": {
        "legend": {
         "title": {
          "text": "variable"
         },
         "tracegroupgap": 0
        },
        "margin": {
         "t": 60
        },
        "template": {
         "data": {
          "bar": [
           {
            "error_x": {
             "color": "#2a3f5f"
            },
            "error_y": {
             "color": "#2a3f5f"
            },
            "marker": {
             "line": {
              "color": "white",
              "width": 0.5
             },
             "pattern": {
              "fillmode": "overlay",
              "size": 10,
              "solidity": 0.2
             }
            },
            "type": "bar"
           }
          ],
          "barpolar": [
           {
            "marker": {
             "line": {
              "color": "white",
              "width": 0.5
             },
             "pattern": {
              "fillmode": "overlay",
              "size": 10,
              "solidity": 0.2
             }
            },
            "type": "barpolar"
           }
          ],
          "carpet": [
           {
            "aaxis": {
             "endlinecolor": "#2a3f5f",
             "gridcolor": "#C8D4E3",
             "linecolor": "#C8D4E3",
             "minorgridcolor": "#C8D4E3",
             "startlinecolor": "#2a3f5f"
            },
            "baxis": {
             "endlinecolor": "#2a3f5f",
             "gridcolor": "#C8D4E3",
             "linecolor": "#C8D4E3",
             "minorgridcolor": "#C8D4E3",
             "startlinecolor": "#2a3f5f"
            },
            "type": "carpet"
           }
          ],
          "choropleth": [
           {
            "colorbar": {
             "outlinewidth": 0,
             "ticks": ""
            },
            "type": "choropleth"
           }
          ],
          "contour": [
           {
            "colorbar": {
             "outlinewidth": 0,
             "ticks": ""
            },
            "colorscale": [
             [
              0,
              "#0d0887"
             ],
             [
              0.1111111111111111,
              "#46039f"
             ],
             [
              0.2222222222222222,
              "#7201a8"
             ],
             [
              0.3333333333333333,
              "#9c179e"
             ],
             [
              0.4444444444444444,
              "#bd3786"
             ],
             [
              0.5555555555555556,
              "#d8576b"
             ],
             [
              0.6666666666666666,
              "#ed7953"
             ],
             [
              0.7777777777777778,
              "#fb9f3a"
             ],
             [
              0.8888888888888888,
              "#fdca26"
             ],
             [
              1,
              "#f0f921"
             ]
            ],
            "type": "contour"
           }
          ],
          "contourcarpet": [
           {
            "colorbar": {
             "outlinewidth": 0,
             "ticks": ""
            },
            "type": "contourcarpet"
           }
          ],
          "heatmap": [
           {
            "colorbar": {
             "outlinewidth": 0,
             "ticks": ""
            },
            "colorscale": [
             [
              0,
              "#0d0887"
             ],
             [
              0.1111111111111111,
              "#46039f"
             ],
             [
              0.2222222222222222,
              "#7201a8"
             ],
             [
              0.3333333333333333,
              "#9c179e"
             ],
             [
              0.4444444444444444,
              "#bd3786"
             ],
             [
              0.5555555555555556,
              "#d8576b"
             ],
             [
              0.6666666666666666,
              "#ed7953"
             ],
             [
              0.7777777777777778,
              "#fb9f3a"
             ],
             [
              0.8888888888888888,
              "#fdca26"
             ],
             [
              1,
              "#f0f921"
             ]
            ],
            "type": "heatmap"
           }
          ],
          "heatmapgl": [
           {
            "colorbar": {
             "outlinewidth": 0,
             "ticks": ""
            },
            "colorscale": [
             [
              0,
              "#0d0887"
             ],
             [
              0.1111111111111111,
              "#46039f"
             ],
             [
              0.2222222222222222,
              "#7201a8"
             ],
             [
              0.3333333333333333,
              "#9c179e"
             ],
             [
              0.4444444444444444,
              "#bd3786"
             ],
             [
              0.5555555555555556,
              "#d8576b"
             ],
             [
              0.6666666666666666,
              "#ed7953"
             ],
             [
              0.7777777777777778,
              "#fb9f3a"
             ],
             [
              0.8888888888888888,
              "#fdca26"
             ],
             [
              1,
              "#f0f921"
             ]
            ],
            "type": "heatmapgl"
           }
          ],
          "histogram": [
           {
            "marker": {
             "pattern": {
              "fillmode": "overlay",
              "size": 10,
              "solidity": 0.2
             }
            },
            "type": "histogram"
           }
          ],
          "histogram2d": [
           {
            "colorbar": {
             "outlinewidth": 0,
             "ticks": ""
            },
            "colorscale": [
             [
              0,
              "#0d0887"
             ],
             [
              0.1111111111111111,
              "#46039f"
             ],
             [
              0.2222222222222222,
              "#7201a8"
             ],
             [
              0.3333333333333333,
              "#9c179e"
             ],
             [
              0.4444444444444444,
              "#bd3786"
             ],
             [
              0.5555555555555556,
              "#d8576b"
             ],
             [
              0.6666666666666666,
              "#ed7953"
             ],
             [
              0.7777777777777778,
              "#fb9f3a"
             ],
             [
              0.8888888888888888,
              "#fdca26"
             ],
             [
              1,
              "#f0f921"
             ]
            ],
            "type": "histogram2d"
           }
          ],
          "histogram2dcontour": [
           {
            "colorbar": {
             "outlinewidth": 0,
             "ticks": ""
            },
            "colorscale": [
             [
              0,
              "#0d0887"
             ],
             [
              0.1111111111111111,
              "#46039f"
             ],
             [
              0.2222222222222222,
              "#7201a8"
             ],
             [
              0.3333333333333333,
              "#9c179e"
             ],
             [
              0.4444444444444444,
              "#bd3786"
             ],
             [
              0.5555555555555556,
              "#d8576b"
             ],
             [
              0.6666666666666666,
              "#ed7953"
             ],
             [
              0.7777777777777778,
              "#fb9f3a"
             ],
             [
              0.8888888888888888,
              "#fdca26"
             ],
             [
              1,
              "#f0f921"
             ]
            ],
            "type": "histogram2dcontour"
           }
          ],
          "mesh3d": [
           {
            "colorbar": {
             "outlinewidth": 0,
             "ticks": ""
            },
            "type": "mesh3d"
           }
          ],
          "parcoords": [
           {
            "line": {
             "colorbar": {
              "outlinewidth": 0,
              "ticks": ""
             }
            },
            "type": "parcoords"
           }
          ],
          "pie": [
           {
            "automargin": true,
            "type": "pie"
           }
          ],
          "scatter": [
           {
            "marker": {
             "colorbar": {
              "outlinewidth": 0,
              "ticks": ""
             }
            },
            "type": "scatter"
           }
          ],
          "scatter3d": [
           {
            "line": {
             "colorbar": {
              "outlinewidth": 0,
              "ticks": ""
             }
            },
            "marker": {
             "colorbar": {
              "outlinewidth": 0,
              "ticks": ""
             }
            },
            "type": "scatter3d"
           }
          ],
          "scattercarpet": [
           {
            "marker": {
             "colorbar": {
              "outlinewidth": 0,
              "ticks": ""
             }
            },
            "type": "scattercarpet"
           }
          ],
          "scattergeo": [
           {
            "marker": {
             "colorbar": {
              "outlinewidth": 0,
              "ticks": ""
             }
            },
            "type": "scattergeo"
           }
          ],
          "scattergl": [
           {
            "marker": {
             "colorbar": {
              "outlinewidth": 0,
              "ticks": ""
             }
            },
            "type": "scattergl"
           }
          ],
          "scattermapbox": [
           {
            "marker": {
             "colorbar": {
              "outlinewidth": 0,
              "ticks": ""
             }
            },
            "type": "scattermapbox"
           }
          ],
          "scatterpolar": [
           {
            "marker": {
             "colorbar": {
              "outlinewidth": 0,
              "ticks": ""
             }
            },
            "type": "scatterpolar"
           }
          ],
          "scatterpolargl": [
           {
            "marker": {
             "colorbar": {
              "outlinewidth": 0,
              "ticks": ""
             }
            },
            "type": "scatterpolargl"
           }
          ],
          "scatterternary": [
           {
            "marker": {
             "colorbar": {
              "outlinewidth": 0,
              "ticks": ""
             }
            },
            "type": "scatterternary"
           }
          ],
          "surface": [
           {
            "colorbar": {
             "outlinewidth": 0,
             "ticks": ""
            },
            "colorscale": [
             [
              0,
              "#0d0887"
             ],
             [
              0.1111111111111111,
              "#46039f"
             ],
             [
              0.2222222222222222,
              "#7201a8"
             ],
             [
              0.3333333333333333,
              "#9c179e"
             ],
             [
              0.4444444444444444,
              "#bd3786"
             ],
             [
              0.5555555555555556,
              "#d8576b"
             ],
             [
              0.6666666666666666,
              "#ed7953"
             ],
             [
              0.7777777777777778,
              "#fb9f3a"
             ],
             [
              0.8888888888888888,
              "#fdca26"
             ],
             [
              1,
              "#f0f921"
             ]
            ],
            "type": "surface"
           }
          ],
          "table": [
           {
            "cells": {
             "fill": {
              "color": "#EBF0F8"
             },
             "line": {
              "color": "white"
             }
            },
            "header": {
             "fill": {
              "color": "#C8D4E3"
             },
             "line": {
              "color": "white"
             }
            },
            "type": "table"
           }
          ]
         },
         "layout": {
          "annotationdefaults": {
           "arrowcolor": "#2a3f5f",
           "arrowhead": 0,
           "arrowwidth": 1
          },
          "autotypenumbers": "strict",
          "coloraxis": {
           "colorbar": {
            "outlinewidth": 0,
            "ticks": ""
           }
          },
          "colorscale": {
           "diverging": [
            [
             0,
             "#8e0152"
            ],
            [
             0.1,
             "#c51b7d"
            ],
            [
             0.2,
             "#de77ae"
            ],
            [
             0.3,
             "#f1b6da"
            ],
            [
             0.4,
             "#fde0ef"
            ],
            [
             0.5,
             "#f7f7f7"
            ],
            [
             0.6,
             "#e6f5d0"
            ],
            [
             0.7,
             "#b8e186"
            ],
            [
             0.8,
             "#7fbc41"
            ],
            [
             0.9,
             "#4d9221"
            ],
            [
             1,
             "#276419"
            ]
           ],
           "sequential": [
            [
             0,
             "#0d0887"
            ],
            [
             0.1111111111111111,
             "#46039f"
            ],
            [
             0.2222222222222222,
             "#7201a8"
            ],
            [
             0.3333333333333333,
             "#9c179e"
            ],
            [
             0.4444444444444444,
             "#bd3786"
            ],
            [
             0.5555555555555556,
             "#d8576b"
            ],
            [
             0.6666666666666666,
             "#ed7953"
            ],
            [
             0.7777777777777778,
             "#fb9f3a"
            ],
            [
             0.8888888888888888,
             "#fdca26"
            ],
            [
             1,
             "#f0f921"
            ]
           ],
           "sequentialminus": [
            [
             0,
             "#0d0887"
            ],
            [
             0.1111111111111111,
             "#46039f"
            ],
            [
             0.2222222222222222,
             "#7201a8"
            ],
            [
             0.3333333333333333,
             "#9c179e"
            ],
            [
             0.4444444444444444,
             "#bd3786"
            ],
            [
             0.5555555555555556,
             "#d8576b"
            ],
            [
             0.6666666666666666,
             "#ed7953"
            ],
            [
             0.7777777777777778,
             "#fb9f3a"
            ],
            [
             0.8888888888888888,
             "#fdca26"
            ],
            [
             1,
             "#f0f921"
            ]
           ]
          },
          "colorway": [
           "#636efa",
           "#EF553B",
           "#00cc96",
           "#ab63fa",
           "#FFA15A",
           "#19d3f3",
           "#FF6692",
           "#B6E880",
           "#FF97FF",
           "#FECB52"
          ],
          "font": {
           "color": "#2a3f5f"
          },
          "geo": {
           "bgcolor": "white",
           "lakecolor": "white",
           "landcolor": "white",
           "showlakes": true,
           "showland": true,
           "subunitcolor": "#C8D4E3"
          },
          "hoverlabel": {
           "align": "left"
          },
          "hovermode": "closest",
          "mapbox": {
           "style": "light"
          },
          "paper_bgcolor": "white",
          "plot_bgcolor": "white",
          "polar": {
           "angularaxis": {
            "gridcolor": "#EBF0F8",
            "linecolor": "#EBF0F8",
            "ticks": ""
           },
           "bgcolor": "white",
           "radialaxis": {
            "gridcolor": "#EBF0F8",
            "linecolor": "#EBF0F8",
            "ticks": ""
           }
          },
          "scene": {
           "xaxis": {
            "backgroundcolor": "white",
            "gridcolor": "#DFE8F3",
            "gridwidth": 2,
            "linecolor": "#EBF0F8",
            "showbackground": true,
            "ticks": "",
            "zerolinecolor": "#EBF0F8"
           },
           "yaxis": {
            "backgroundcolor": "white",
            "gridcolor": "#DFE8F3",
            "gridwidth": 2,
            "linecolor": "#EBF0F8",
            "showbackground": true,
            "ticks": "",
            "zerolinecolor": "#EBF0F8"
           },
           "zaxis": {
            "backgroundcolor": "white",
            "gridcolor": "#DFE8F3",
            "gridwidth": 2,
            "linecolor": "#EBF0F8",
            "showbackground": true,
            "ticks": "",
            "zerolinecolor": "#EBF0F8"
           }
          },
          "shapedefaults": {
           "line": {
            "color": "#2a3f5f"
           }
          },
          "ternary": {
           "aaxis": {
            "gridcolor": "#DFE8F3",
            "linecolor": "#A2B1C6",
            "ticks": ""
           },
           "baxis": {
            "gridcolor": "#DFE8F3",
            "linecolor": "#A2B1C6",
            "ticks": ""
           },
           "bgcolor": "white",
           "caxis": {
            "gridcolor": "#DFE8F3",
            "linecolor": "#A2B1C6",
            "ticks": ""
           }
          },
          "title": {
           "x": 0.05
          },
          "xaxis": {
           "automargin": true,
           "gridcolor": "#EBF0F8",
           "linecolor": "#EBF0F8",
           "ticks": "",
           "title": {
            "standoff": 15
           },
           "zerolinecolor": "#EBF0F8",
           "zerolinewidth": 2
          },
          "yaxis": {
           "automargin": true,
           "gridcolor": "#EBF0F8",
           "linecolor": "#EBF0F8",
           "ticks": "",
           "title": {
            "standoff": 15
           },
           "zerolinecolor": "#EBF0F8",
           "zerolinewidth": 2
          }
         }
        },
        "xaxis": {
         "anchor": "y",
         "domain": [
          0,
          1
         ],
         "title": {
          "text": "Calendar Date"
         }
        },
        "yaxis": {
         "anchor": "x",
         "domain": [
          0,
          1
         ],
         "title": {
          "text": "value"
         }
        }
       }
      },
      "text/html": [
       "<div>                            <div id=\"c0a16b35-29b7-4818-880d-6331e261185a\" class=\"plotly-graph-div\" style=\"height:525px; width:100%;\"></div>            <script type=\"text/javascript\">                require([\"plotly\"], function(Plotly) {                    window.PLOTLYENV=window.PLOTLYENV || {};                                    if (document.getElementById(\"c0a16b35-29b7-4818-880d-6331e261185a\")) {                    Plotly.newPlot(                        \"c0a16b35-29b7-4818-880d-6331e261185a\",                        [{\"hovertemplate\":\"variable=W-2 Revenue<br>Calendar Date=%{x}<br>value=%{y}<extra></extra>\",\"legendgroup\":\"W-2 Revenue\",\"line\":{\"color\":\"#636efa\",\"dash\":\"solid\"},\"marker\":{\"symbol\":\"circle\"},\"mode\":\"lines\",\"name\":\"W-2 Revenue\",\"orientation\":\"v\",\"showlegend\":true,\"x\":[\"2014-06-01T00:00:00\",\"2014-07-01T00:00:00\",\"2014-08-01T00:00:00\",\"2014-09-01T00:00:00\",\"2014-10-01T00:00:00\",\"2014-11-01T00:00:00\",\"2014-12-01T00:00:00\",\"2015-01-01T00:00:00\",\"2015-02-01T00:00:00\",\"2015-03-01T00:00:00\",\"2015-04-01T00:00:00\",\"2015-05-01T00:00:00\",\"2015-06-01T00:00:00\",\"2015-07-01T00:00:00\",\"2015-08-01T00:00:00\",\"2015-09-01T00:00:00\",\"2015-10-01T00:00:00\",\"2015-11-01T00:00:00\",\"2015-12-01T00:00:00\",\"2016-01-01T00:00:00\",\"2016-02-01T00:00:00\",\"2016-03-01T00:00:00\",\"2016-04-01T00:00:00\",\"2016-05-01T00:00:00\",\"2016-06-01T00:00:00\",\"2016-07-01T00:00:00\",\"2016-08-01T00:00:00\",\"2016-09-01T00:00:00\",\"2016-10-01T00:00:00\",\"2016-11-01T00:00:00\",\"2016-12-01T00:00:00\",\"2017-01-01T00:00:00\",\"2017-02-01T00:00:00\",\"2017-03-01T00:00:00\",\"2017-04-01T00:00:00\",\"2017-05-01T00:00:00\",\"2017-06-01T00:00:00\",\"2017-07-01T00:00:00\",\"2017-08-01T00:00:00\",\"2017-09-01T00:00:00\",\"2017-10-01T00:00:00\",\"2017-11-01T00:00:00\",\"2017-12-01T00:00:00\",\"2018-01-01T00:00:00\",\"2018-02-01T00:00:00\",\"2018-03-01T00:00:00\",\"2018-04-01T00:00:00\",\"2018-05-01T00:00:00\",\"2018-06-01T00:00:00\",\"2018-07-01T00:00:00\",\"2018-08-01T00:00:00\",\"2018-09-01T00:00:00\",\"2018-10-01T00:00:00\",\"2018-11-01T00:00:00\",\"2018-12-01T00:00:00\",\"2019-01-01T00:00:00\",\"2019-02-01T00:00:00\",\"2019-03-01T00:00:00\",\"2019-04-01T00:00:00\",\"2019-05-01T00:00:00\",\"2019-06-01T00:00:00\",\"2019-07-01T00:00:00\",\"2019-08-01T00:00:00\",\"2019-09-01T00:00:00\",\"2019-10-01T00:00:00\",\"2019-11-01T00:00:00\",\"2019-12-01T00:00:00\",\"2020-01-01T00:00:00\",\"2020-02-01T00:00:00\",\"2020-03-01T00:00:00\",\"2020-04-01T00:00:00\",\"2020-05-01T00:00:00\",\"2020-06-01T00:00:00\",\"2020-07-01T00:00:00\",\"2020-08-01T00:00:00\",\"2020-09-01T00:00:00\",\"2020-10-01T00:00:00\",\"2020-11-01T00:00:00\",\"2020-12-01T00:00:00\",\"2021-01-01T00:00:00\",\"2021-02-01T00:00:00\",\"2021-03-01T00:00:00\",\"2021-04-01T00:00:00\",\"2021-05-01T00:00:00\",\"2021-06-01T00:00:00\",\"2021-07-01T00:00:00\",\"2021-08-01T00:00:00\",\"2021-09-01T00:00:00\",\"2021-10-01T00:00:00\",\"2021-11-01T00:00:00\",\"2021-12-01T00:00:00\",\"2022-01-01T00:00:00\"],\"xaxis\":\"x\",\"y\":[7031234.09,7325377.82,7443620.46,7414842.11,7818212.35,7542659.46,8117392.17,9377834.84,7226134.53,6909620.47,7301671.08,7260382.11,7394189.03,7847795.04,7932837.15,7936344.08,8278406.81,7554776.85,8573805.72,7593788.48,7305483.96,7231568.92,7382402.54,6983682.41,7939119.37,7866814.61,8052852.46,7498421.18,8531642.37,8540560.78,7987958.95,10169659.06,6785179.52,7927264.97,7537154.75,6175856.06,8800397.84,7887136.61,7602343.41,7277217.55,8126909.97,8449869.35,7915751.12,13178457.56,7194287.27,7567950.55,7695015.35,8621115.07,254225.27,305124.49,342622.3,276560.9,180092.57,517750.99,633412.69,91805550.59,-183758.43,141277.9,157985.54,300405.13,255174.15,359903.73,236475.53,302200.63,426395.09,294299.84,422089.81,89119517.59,-55689.5,16995.28,180969.05,135876.35,103884.59,162905.4,176199.4,227531.19,183308.66,208805.4,233016.32,80988881.77,28599.77,-43477.46,44625.45,113517.87,145664.32,129513.03,149699.46,184562.25,181163.07,155279.24,192584.15,81544421.44],\"yaxis\":\"y\",\"type\":\"scatter\"},{\"hovertemplate\":\"variable=W-2 Revenue - ML Predicted<br>Calendar Date=%{x}<br>value=%{y}<extra></extra>\",\"legendgroup\":\"W-2 Revenue - ML Predicted\",\"line\":{\"color\":\"#EF553B\",\"dash\":\"solid\"},\"marker\":{\"symbol\":\"circle\"},\"mode\":\"lines\",\"name\":\"W-2 Revenue - ML Predicted\",\"orientation\":\"v\",\"showlegend\":true,\"x\":[\"2014-06-01T00:00:00\",\"2014-07-01T00:00:00\",\"2014-08-01T00:00:00\",\"2014-09-01T00:00:00\",\"2014-10-01T00:00:00\",\"2014-11-01T00:00:00\",\"2014-12-01T00:00:00\",\"2015-01-01T00:00:00\",\"2015-02-01T00:00:00\",\"2015-03-01T00:00:00\",\"2015-04-01T00:00:00\",\"2015-05-01T00:00:00\",\"2015-06-01T00:00:00\",\"2015-07-01T00:00:00\",\"2015-08-01T00:00:00\",\"2015-09-01T00:00:00\",\"2015-10-01T00:00:00\",\"2015-11-01T00:00:00\",\"2015-12-01T00:00:00\",\"2016-01-01T00:00:00\",\"2016-02-01T00:00:00\",\"2016-03-01T00:00:00\",\"2016-04-01T00:00:00\",\"2016-05-01T00:00:00\",\"2016-06-01T00:00:00\",\"2016-07-01T00:00:00\",\"2016-08-01T00:00:00\",\"2016-09-01T00:00:00\",\"2016-10-01T00:00:00\",\"2016-11-01T00:00:00\",\"2016-12-01T00:00:00\",\"2017-01-01T00:00:00\",\"2017-02-01T00:00:00\",\"2017-03-01T00:00:00\",\"2017-04-01T00:00:00\",\"2017-05-01T00:00:00\",\"2017-06-01T00:00:00\",\"2017-07-01T00:00:00\",\"2017-08-01T00:00:00\",\"2017-09-01T00:00:00\",\"2017-10-01T00:00:00\",\"2017-11-01T00:00:00\",\"2017-12-01T00:00:00\",\"2018-01-01T00:00:00\",\"2018-02-01T00:00:00\",\"2018-03-01T00:00:00\",\"2018-04-01T00:00:00\",\"2018-05-01T00:00:00\",\"2018-06-01T00:00:00\",\"2018-07-01T00:00:00\",\"2018-08-01T00:00:00\",\"2018-09-01T00:00:00\",\"2018-10-01T00:00:00\",\"2018-11-01T00:00:00\",\"2018-12-01T00:00:00\",\"2019-01-01T00:00:00\",\"2019-02-01T00:00:00\",\"2019-03-01T00:00:00\",\"2019-04-01T00:00:00\",\"2019-05-01T00:00:00\",\"2019-06-01T00:00:00\",\"2019-07-01T00:00:00\",\"2019-08-01T00:00:00\",\"2019-09-01T00:00:00\",\"2019-10-01T00:00:00\",\"2019-11-01T00:00:00\",\"2019-12-01T00:00:00\",\"2020-01-01T00:00:00\",\"2020-02-01T00:00:00\",\"2020-03-01T00:00:00\",\"2020-04-01T00:00:00\",\"2020-05-01T00:00:00\",\"2020-06-01T00:00:00\",\"2020-07-01T00:00:00\",\"2020-08-01T00:00:00\",\"2020-09-01T00:00:00\",\"2020-10-01T00:00:00\",\"2020-11-01T00:00:00\",\"2020-12-01T00:00:00\",\"2021-01-01T00:00:00\",\"2021-02-01T00:00:00\",\"2021-03-01T00:00:00\",\"2021-04-01T00:00:00\",\"2021-05-01T00:00:00\",\"2021-06-01T00:00:00\",\"2021-07-01T00:00:00\",\"2021-08-01T00:00:00\",\"2021-09-01T00:00:00\",\"2021-10-01T00:00:00\",\"2021-11-01T00:00:00\",\"2021-12-01T00:00:00\",\"2022-01-01T00:00:00\"],\"xaxis\":\"x\",\"y\":[null,null,null,null,null,null,null,null,null,null,null,null,null,null,null,null,null,null,null,null,null,null,null,null,null,null,null,null,null,null,null,null,null,null,null,null,null,null,null,null,null,null,null,null,null,null,null,null,null,null,null,null,null,null,null,null,null,null,null,null,null,null,null,null,null,null,null,null,null,null,null,null,null,null,null,null,null,null,null,null,null,null,null,null,10253339.165275685,10534316.113992488,10813165.115354529,10754793.167816576,10898197.850967139,10902875.606710117,11085612.60740621,11285508.09200387],\"yaxis\":\"y\",\"type\":\"scatter\"},{\"hovertemplate\":\"variable=W-2 Revenue - UTS Predicted<br>Calendar Date=%{x}<br>value=%{y}<extra></extra>\",\"legendgroup\":\"W-2 Revenue - UTS Predicted\",\"line\":{\"color\":\"#00cc96\",\"dash\":\"solid\"},\"marker\":{\"symbol\":\"circle\"},\"mode\":\"lines\",\"name\":\"W-2 Revenue - UTS Predicted\",\"orientation\":\"v\",\"showlegend\":true,\"x\":[\"2014-06-01T00:00:00\",\"2014-07-01T00:00:00\",\"2014-08-01T00:00:00\",\"2014-09-01T00:00:00\",\"2014-10-01T00:00:00\",\"2014-11-01T00:00:00\",\"2014-12-01T00:00:00\",\"2015-01-01T00:00:00\",\"2015-02-01T00:00:00\",\"2015-03-01T00:00:00\",\"2015-04-01T00:00:00\",\"2015-05-01T00:00:00\",\"2015-06-01T00:00:00\",\"2015-07-01T00:00:00\",\"2015-08-01T00:00:00\",\"2015-09-01T00:00:00\",\"2015-10-01T00:00:00\",\"2015-11-01T00:00:00\",\"2015-12-01T00:00:00\",\"2016-01-01T00:00:00\",\"2016-02-01T00:00:00\",\"2016-03-01T00:00:00\",\"2016-04-01T00:00:00\",\"2016-05-01T00:00:00\",\"2016-06-01T00:00:00\",\"2016-07-01T00:00:00\",\"2016-08-01T00:00:00\",\"2016-09-01T00:00:00\",\"2016-10-01T00:00:00\",\"2016-11-01T00:00:00\",\"2016-12-01T00:00:00\",\"2017-01-01T00:00:00\",\"2017-02-01T00:00:00\",\"2017-03-01T00:00:00\",\"2017-04-01T00:00:00\",\"2017-05-01T00:00:00\",\"2017-06-01T00:00:00\",\"2017-07-01T00:00:00\",\"2017-08-01T00:00:00\",\"2017-09-01T00:00:00\",\"2017-10-01T00:00:00\",\"2017-11-01T00:00:00\",\"2017-12-01T00:00:00\",\"2018-01-01T00:00:00\",\"2018-02-01T00:00:00\",\"2018-03-01T00:00:00\",\"2018-04-01T00:00:00\",\"2018-05-01T00:00:00\",\"2018-06-01T00:00:00\",\"2018-07-01T00:00:00\",\"2018-08-01T00:00:00\",\"2018-09-01T00:00:00\",\"2018-10-01T00:00:00\",\"2018-11-01T00:00:00\",\"2018-12-01T00:00:00\",\"2019-01-01T00:00:00\",\"2019-02-01T00:00:00\",\"2019-03-01T00:00:00\",\"2019-04-01T00:00:00\",\"2019-05-01T00:00:00\",\"2019-06-01T00:00:00\",\"2019-07-01T00:00:00\",\"2019-08-01T00:00:00\",\"2019-09-01T00:00:00\",\"2019-10-01T00:00:00\",\"2019-11-01T00:00:00\",\"2019-12-01T00:00:00\",\"2020-01-01T00:00:00\",\"2020-02-01T00:00:00\",\"2020-03-01T00:00:00\",\"2020-04-01T00:00:00\",\"2020-05-01T00:00:00\",\"2020-06-01T00:00:00\",\"2020-07-01T00:00:00\",\"2020-08-01T00:00:00\",\"2020-09-01T00:00:00\",\"2020-10-01T00:00:00\",\"2020-11-01T00:00:00\",\"2020-12-01T00:00:00\",\"2021-01-01T00:00:00\",\"2021-02-01T00:00:00\",\"2021-03-01T00:00:00\",\"2021-04-01T00:00:00\",\"2021-05-01T00:00:00\",\"2021-06-01T00:00:00\",\"2021-07-01T00:00:00\",\"2021-08-01T00:00:00\",\"2021-09-01T00:00:00\",\"2021-10-01T00:00:00\",\"2021-11-01T00:00:00\",\"2021-12-01T00:00:00\",\"2022-01-01T00:00:00\"],\"xaxis\":\"x\",\"y\":[null,null,null,null,null,null,null,null,null,null,null,null,null,null,null,null,null,null,null,null,null,null,null,null,null,null,null,null,null,null,null,null,null,null,null,null,null,null,null,null,null,null,null,null,null,null,null,null,null,null,null,null,null,null,null,null,null,null,null,null,null,null,null,null,null,null,null,null,null,null,null,null,null,null,null,null,null,null,null,null,null,null,null,null,83343.9484424341,142364.75844243402,155658.75844243425,206990.5484424322,162768.0184424328,188264.75844243402,212475.67844243455,80968341.12844244],\"yaxis\":\"y\",\"type\":\"scatter\"},{\"hovertemplate\":\"variable=W-2 Revenue - Plan<br>Calendar Date=%{x}<br>value=%{y}<extra></extra>\",\"legendgroup\":\"W-2 Revenue - Plan\",\"line\":{\"color\":\"#ab63fa\",\"dash\":\"solid\"},\"marker\":{\"symbol\":\"circle\"},\"mode\":\"lines\",\"name\":\"W-2 Revenue - Plan\",\"orientation\":\"v\",\"showlegend\":true,\"x\":[\"2014-06-01T00:00:00\",\"2014-07-01T00:00:00\",\"2014-08-01T00:00:00\",\"2014-09-01T00:00:00\",\"2014-10-01T00:00:00\",\"2014-11-01T00:00:00\",\"2014-12-01T00:00:00\",\"2015-01-01T00:00:00\",\"2015-02-01T00:00:00\",\"2015-03-01T00:00:00\",\"2015-04-01T00:00:00\",\"2015-05-01T00:00:00\",\"2015-06-01T00:00:00\",\"2015-07-01T00:00:00\",\"2015-08-01T00:00:00\",\"2015-09-01T00:00:00\",\"2015-10-01T00:00:00\",\"2015-11-01T00:00:00\",\"2015-12-01T00:00:00\",\"2016-01-01T00:00:00\",\"2016-02-01T00:00:00\",\"2016-03-01T00:00:00\",\"2016-04-01T00:00:00\",\"2016-05-01T00:00:00\",\"2016-06-01T00:00:00\",\"2016-07-01T00:00:00\",\"2016-08-01T00:00:00\",\"2016-09-01T00:00:00\",\"2016-10-01T00:00:00\",\"2016-11-01T00:00:00\",\"2016-12-01T00:00:00\",\"2017-01-01T00:00:00\",\"2017-02-01T00:00:00\",\"2017-03-01T00:00:00\",\"2017-04-01T00:00:00\",\"2017-05-01T00:00:00\",\"2017-06-01T00:00:00\",\"2017-07-01T00:00:00\",\"2017-08-01T00:00:00\",\"2017-09-01T00:00:00\",\"2017-10-01T00:00:00\",\"2017-11-01T00:00:00\",\"2017-12-01T00:00:00\",\"2018-01-01T00:00:00\",\"2018-02-01T00:00:00\",\"2018-03-01T00:00:00\",\"2018-04-01T00:00:00\",\"2018-05-01T00:00:00\",\"2018-06-01T00:00:00\",\"2018-07-01T00:00:00\",\"2018-08-01T00:00:00\",\"2018-09-01T00:00:00\",\"2018-10-01T00:00:00\",\"2018-11-01T00:00:00\",\"2018-12-01T00:00:00\",\"2019-01-01T00:00:00\",\"2019-02-01T00:00:00\",\"2019-03-01T00:00:00\",\"2019-04-01T00:00:00\",\"2019-05-01T00:00:00\",\"2019-06-01T00:00:00\",\"2019-07-01T00:00:00\",\"2019-08-01T00:00:00\",\"2019-09-01T00:00:00\",\"2019-10-01T00:00:00\",\"2019-11-01T00:00:00\",\"2019-12-01T00:00:00\",\"2020-01-01T00:00:00\",\"2020-02-01T00:00:00\",\"2020-03-01T00:00:00\",\"2020-04-01T00:00:00\",\"2020-05-01T00:00:00\",\"2020-06-01T00:00:00\",\"2020-07-01T00:00:00\",\"2020-08-01T00:00:00\",\"2020-09-01T00:00:00\",\"2020-10-01T00:00:00\",\"2020-11-01T00:00:00\",\"2020-12-01T00:00:00\",\"2021-01-01T00:00:00\",\"2021-02-01T00:00:00\",\"2021-03-01T00:00:00\",\"2021-04-01T00:00:00\",\"2021-05-01T00:00:00\",\"2021-06-01T00:00:00\",\"2021-07-01T00:00:00\",\"2021-08-01T00:00:00\",\"2021-09-01T00:00:00\",\"2021-10-01T00:00:00\",\"2021-11-01T00:00:00\",\"2021-12-01T00:00:00\",\"2022-01-01T00:00:00\"],\"xaxis\":\"x\",\"y\":[null,null,null,null,null,null,null,null,null,null,null,null,null,null,null,null,null,null,null,null,null,null,null,null,null,null,null,null,null,null,null,null,null,null,null,null,null,null,null,null,null,null,null,null,null,null,null,null,null,null,null,null,null,null,null,null,null,null,null,null,null,null,null,null,null,null,null,null,null,null,null,null,null,null,null,null,null,null,null,null,null,null,null,null,94336.19,162905.4,176231.69,227531.19,183308.66,208552.65,233285.75,80892681.59],\"yaxis\":\"y\",\"type\":\"scatter\"},{\"hovertemplate\":\"variable=W-2 Revenue - 2+10 Forecast<br>Calendar Date=%{x}<br>value=%{y}<extra></extra>\",\"legendgroup\":\"W-2 Revenue - 2+10 Forecast\",\"line\":{\"color\":\"#FFA15A\",\"dash\":\"solid\"},\"marker\":{\"symbol\":\"circle\"},\"mode\":\"lines\",\"name\":\"W-2 Revenue - 2+10 Forecast\",\"orientation\":\"v\",\"showlegend\":true,\"x\":[\"2014-06-01T00:00:00\",\"2014-07-01T00:00:00\",\"2014-08-01T00:00:00\",\"2014-09-01T00:00:00\",\"2014-10-01T00:00:00\",\"2014-11-01T00:00:00\",\"2014-12-01T00:00:00\",\"2015-01-01T00:00:00\",\"2015-02-01T00:00:00\",\"2015-03-01T00:00:00\",\"2015-04-01T00:00:00\",\"2015-05-01T00:00:00\",\"2015-06-01T00:00:00\",\"2015-07-01T00:00:00\",\"2015-08-01T00:00:00\",\"2015-09-01T00:00:00\",\"2015-10-01T00:00:00\",\"2015-11-01T00:00:00\",\"2015-12-01T00:00:00\",\"2016-01-01T00:00:00\",\"2016-02-01T00:00:00\",\"2016-03-01T00:00:00\",\"2016-04-01T00:00:00\",\"2016-05-01T00:00:00\",\"2016-06-01T00:00:00\",\"2016-07-01T00:00:00\",\"2016-08-01T00:00:00\",\"2016-09-01T00:00:00\",\"2016-10-01T00:00:00\",\"2016-11-01T00:00:00\",\"2016-12-01T00:00:00\",\"2017-01-01T00:00:00\",\"2017-02-01T00:00:00\",\"2017-03-01T00:00:00\",\"2017-04-01T00:00:00\",\"2017-05-01T00:00:00\",\"2017-06-01T00:00:00\",\"2017-07-01T00:00:00\",\"2017-08-01T00:00:00\",\"2017-09-01T00:00:00\",\"2017-10-01T00:00:00\",\"2017-11-01T00:00:00\",\"2017-12-01T00:00:00\",\"2018-01-01T00:00:00\",\"2018-02-01T00:00:00\",\"2018-03-01T00:00:00\",\"2018-04-01T00:00:00\",\"2018-05-01T00:00:00\",\"2018-06-01T00:00:00\",\"2018-07-01T00:00:00\",\"2018-08-01T00:00:00\",\"2018-09-01T00:00:00\",\"2018-10-01T00:00:00\",\"2018-11-01T00:00:00\",\"2018-12-01T00:00:00\",\"2019-01-01T00:00:00\",\"2019-02-01T00:00:00\",\"2019-03-01T00:00:00\",\"2019-04-01T00:00:00\",\"2019-05-01T00:00:00\",\"2019-06-01T00:00:00\",\"2019-07-01T00:00:00\",\"2019-08-01T00:00:00\",\"2019-09-01T00:00:00\",\"2019-10-01T00:00:00\",\"2019-11-01T00:00:00\",\"2019-12-01T00:00:00\",\"2020-01-01T00:00:00\",\"2020-02-01T00:00:00\",\"2020-03-01T00:00:00\",\"2020-04-01T00:00:00\",\"2020-05-01T00:00:00\",\"2020-06-01T00:00:00\",\"2020-07-01T00:00:00\",\"2020-08-01T00:00:00\",\"2020-09-01T00:00:00\",\"2020-10-01T00:00:00\",\"2020-11-01T00:00:00\",\"2020-12-01T00:00:00\",\"2021-01-01T00:00:00\",\"2021-02-01T00:00:00\",\"2021-03-01T00:00:00\",\"2021-04-01T00:00:00\",\"2021-05-01T00:00:00\",\"2021-06-01T00:00:00\",\"2021-07-01T00:00:00\",\"2021-08-01T00:00:00\",\"2021-09-01T00:00:00\",\"2021-10-01T00:00:00\",\"2021-11-01T00:00:00\",\"2021-12-01T00:00:00\",\"2022-01-01T00:00:00\"],\"xaxis\":\"x\",\"y\":[null,null,null,null,null,null,null,null,null,null,null,null,null,null,null,null,null,null,null,null,null,null,null,null,null,null,null,null,null,null,null,null,null,null,null,null,null,null,null,null,null,null,null,null,null,null,null,null,null,null,null,null,null,null,null,null,null,null,null,null,null,null,null,null,null,null,null,null,null,null,null,null,null,null,null,null,null,null,null,null,null,null,null,null,145664.32,129513.03,176231.69,227531.19,183308.66,208552.65,233285.75,80808417.22],\"yaxis\":\"y\",\"type\":\"scatter\"}],                        {\"template\":{\"data\":{\"barpolar\":[{\"marker\":{\"line\":{\"color\":\"white\",\"width\":0.5},\"pattern\":{\"fillmode\":\"overlay\",\"size\":10,\"solidity\":0.2}},\"type\":\"barpolar\"}],\"bar\":[{\"error_x\":{\"color\":\"#2a3f5f\"},\"error_y\":{\"color\":\"#2a3f5f\"},\"marker\":{\"line\":{\"color\":\"white\",\"width\":0.5},\"pattern\":{\"fillmode\":\"overlay\",\"size\":10,\"solidity\":0.2}},\"type\":\"bar\"}],\"carpet\":[{\"aaxis\":{\"endlinecolor\":\"#2a3f5f\",\"gridcolor\":\"#C8D4E3\",\"linecolor\":\"#C8D4E3\",\"minorgridcolor\":\"#C8D4E3\",\"startlinecolor\":\"#2a3f5f\"},\"baxis\":{\"endlinecolor\":\"#2a3f5f\",\"gridcolor\":\"#C8D4E3\",\"linecolor\":\"#C8D4E3\",\"minorgridcolor\":\"#C8D4E3\",\"startlinecolor\":\"#2a3f5f\"},\"type\":\"carpet\"}],\"choropleth\":[{\"colorbar\":{\"outlinewidth\":0,\"ticks\":\"\"},\"type\":\"choropleth\"}],\"contourcarpet\":[{\"colorbar\":{\"outlinewidth\":0,\"ticks\":\"\"},\"type\":\"contourcarpet\"}],\"contour\":[{\"colorbar\":{\"outlinewidth\":0,\"ticks\":\"\"},\"colorscale\":[[0.0,\"#0d0887\"],[0.1111111111111111,\"#46039f\"],[0.2222222222222222,\"#7201a8\"],[0.3333333333333333,\"#9c179e\"],[0.4444444444444444,\"#bd3786\"],[0.5555555555555556,\"#d8576b\"],[0.6666666666666666,\"#ed7953\"],[0.7777777777777778,\"#fb9f3a\"],[0.8888888888888888,\"#fdca26\"],[1.0,\"#f0f921\"]],\"type\":\"contour\"}],\"heatmapgl\":[{\"colorbar\":{\"outlinewidth\":0,\"ticks\":\"\"},\"colorscale\":[[0.0,\"#0d0887\"],[0.1111111111111111,\"#46039f\"],[0.2222222222222222,\"#7201a8\"],[0.3333333333333333,\"#9c179e\"],[0.4444444444444444,\"#bd3786\"],[0.5555555555555556,\"#d8576b\"],[0.6666666666666666,\"#ed7953\"],[0.7777777777777778,\"#fb9f3a\"],[0.8888888888888888,\"#fdca26\"],[1.0,\"#f0f921\"]],\"type\":\"heatmapgl\"}],\"heatmap\":[{\"colorbar\":{\"outlinewidth\":0,\"ticks\":\"\"},\"colorscale\":[[0.0,\"#0d0887\"],[0.1111111111111111,\"#46039f\"],[0.2222222222222222,\"#7201a8\"],[0.3333333333333333,\"#9c179e\"],[0.4444444444444444,\"#bd3786\"],[0.5555555555555556,\"#d8576b\"],[0.6666666666666666,\"#ed7953\"],[0.7777777777777778,\"#fb9f3a\"],[0.8888888888888888,\"#fdca26\"],[1.0,\"#f0f921\"]],\"type\":\"heatmap\"}],\"histogram2dcontour\":[{\"colorbar\":{\"outlinewidth\":0,\"ticks\":\"\"},\"colorscale\":[[0.0,\"#0d0887\"],[0.1111111111111111,\"#46039f\"],[0.2222222222222222,\"#7201a8\"],[0.3333333333333333,\"#9c179e\"],[0.4444444444444444,\"#bd3786\"],[0.5555555555555556,\"#d8576b\"],[0.6666666666666666,\"#ed7953\"],[0.7777777777777778,\"#fb9f3a\"],[0.8888888888888888,\"#fdca26\"],[1.0,\"#f0f921\"]],\"type\":\"histogram2dcontour\"}],\"histogram2d\":[{\"colorbar\":{\"outlinewidth\":0,\"ticks\":\"\"},\"colorscale\":[[0.0,\"#0d0887\"],[0.1111111111111111,\"#46039f\"],[0.2222222222222222,\"#7201a8\"],[0.3333333333333333,\"#9c179e\"],[0.4444444444444444,\"#bd3786\"],[0.5555555555555556,\"#d8576b\"],[0.6666666666666666,\"#ed7953\"],[0.7777777777777778,\"#fb9f3a\"],[0.8888888888888888,\"#fdca26\"],[1.0,\"#f0f921\"]],\"type\":\"histogram2d\"}],\"histogram\":[{\"marker\":{\"pattern\":{\"fillmode\":\"overlay\",\"size\":10,\"solidity\":0.2}},\"type\":\"histogram\"}],\"mesh3d\":[{\"colorbar\":{\"outlinewidth\":0,\"ticks\":\"\"},\"type\":\"mesh3d\"}],\"parcoords\":[{\"line\":{\"colorbar\":{\"outlinewidth\":0,\"ticks\":\"\"}},\"type\":\"parcoords\"}],\"pie\":[{\"automargin\":true,\"type\":\"pie\"}],\"scatter3d\":[{\"line\":{\"colorbar\":{\"outlinewidth\":0,\"ticks\":\"\"}},\"marker\":{\"colorbar\":{\"outlinewidth\":0,\"ticks\":\"\"}},\"type\":\"scatter3d\"}],\"scattercarpet\":[{\"marker\":{\"colorbar\":{\"outlinewidth\":0,\"ticks\":\"\"}},\"type\":\"scattercarpet\"}],\"scattergeo\":[{\"marker\":{\"colorbar\":{\"outlinewidth\":0,\"ticks\":\"\"}},\"type\":\"scattergeo\"}],\"scattergl\":[{\"marker\":{\"colorbar\":{\"outlinewidth\":0,\"ticks\":\"\"}},\"type\":\"scattergl\"}],\"scattermapbox\":[{\"marker\":{\"colorbar\":{\"outlinewidth\":0,\"ticks\":\"\"}},\"type\":\"scattermapbox\"}],\"scatterpolargl\":[{\"marker\":{\"colorbar\":{\"outlinewidth\":0,\"ticks\":\"\"}},\"type\":\"scatterpolargl\"}],\"scatterpolar\":[{\"marker\":{\"colorbar\":{\"outlinewidth\":0,\"ticks\":\"\"}},\"type\":\"scatterpolar\"}],\"scatter\":[{\"marker\":{\"colorbar\":{\"outlinewidth\":0,\"ticks\":\"\"}},\"type\":\"scatter\"}],\"scatterternary\":[{\"marker\":{\"colorbar\":{\"outlinewidth\":0,\"ticks\":\"\"}},\"type\":\"scatterternary\"}],\"surface\":[{\"colorbar\":{\"outlinewidth\":0,\"ticks\":\"\"},\"colorscale\":[[0.0,\"#0d0887\"],[0.1111111111111111,\"#46039f\"],[0.2222222222222222,\"#7201a8\"],[0.3333333333333333,\"#9c179e\"],[0.4444444444444444,\"#bd3786\"],[0.5555555555555556,\"#d8576b\"],[0.6666666666666666,\"#ed7953\"],[0.7777777777777778,\"#fb9f3a\"],[0.8888888888888888,\"#fdca26\"],[1.0,\"#f0f921\"]],\"type\":\"surface\"}],\"table\":[{\"cells\":{\"fill\":{\"color\":\"#EBF0F8\"},\"line\":{\"color\":\"white\"}},\"header\":{\"fill\":{\"color\":\"#C8D4E3\"},\"line\":{\"color\":\"white\"}},\"type\":\"table\"}]},\"layout\":{\"annotationdefaults\":{\"arrowcolor\":\"#2a3f5f\",\"arrowhead\":0,\"arrowwidth\":1},\"autotypenumbers\":\"strict\",\"coloraxis\":{\"colorbar\":{\"outlinewidth\":0,\"ticks\":\"\"}},\"colorscale\":{\"diverging\":[[0,\"#8e0152\"],[0.1,\"#c51b7d\"],[0.2,\"#de77ae\"],[0.3,\"#f1b6da\"],[0.4,\"#fde0ef\"],[0.5,\"#f7f7f7\"],[0.6,\"#e6f5d0\"],[0.7,\"#b8e186\"],[0.8,\"#7fbc41\"],[0.9,\"#4d9221\"],[1,\"#276419\"]],\"sequential\":[[0.0,\"#0d0887\"],[0.1111111111111111,\"#46039f\"],[0.2222222222222222,\"#7201a8\"],[0.3333333333333333,\"#9c179e\"],[0.4444444444444444,\"#bd3786\"],[0.5555555555555556,\"#d8576b\"],[0.6666666666666666,\"#ed7953\"],[0.7777777777777778,\"#fb9f3a\"],[0.8888888888888888,\"#fdca26\"],[1.0,\"#f0f921\"]],\"sequentialminus\":[[0.0,\"#0d0887\"],[0.1111111111111111,\"#46039f\"],[0.2222222222222222,\"#7201a8\"],[0.3333333333333333,\"#9c179e\"],[0.4444444444444444,\"#bd3786\"],[0.5555555555555556,\"#d8576b\"],[0.6666666666666666,\"#ed7953\"],[0.7777777777777778,\"#fb9f3a\"],[0.8888888888888888,\"#fdca26\"],[1.0,\"#f0f921\"]]},\"colorway\":[\"#636efa\",\"#EF553B\",\"#00cc96\",\"#ab63fa\",\"#FFA15A\",\"#19d3f3\",\"#FF6692\",\"#B6E880\",\"#FF97FF\",\"#FECB52\"],\"font\":{\"color\":\"#2a3f5f\"},\"geo\":{\"bgcolor\":\"white\",\"lakecolor\":\"white\",\"landcolor\":\"white\",\"showlakes\":true,\"showland\":true,\"subunitcolor\":\"#C8D4E3\"},\"hoverlabel\":{\"align\":\"left\"},\"hovermode\":\"closest\",\"mapbox\":{\"style\":\"light\"},\"paper_bgcolor\":\"white\",\"plot_bgcolor\":\"white\",\"polar\":{\"angularaxis\":{\"gridcolor\":\"#EBF0F8\",\"linecolor\":\"#EBF0F8\",\"ticks\":\"\"},\"bgcolor\":\"white\",\"radialaxis\":{\"gridcolor\":\"#EBF0F8\",\"linecolor\":\"#EBF0F8\",\"ticks\":\"\"}},\"scene\":{\"xaxis\":{\"backgroundcolor\":\"white\",\"gridcolor\":\"#DFE8F3\",\"gridwidth\":2,\"linecolor\":\"#EBF0F8\",\"showbackground\":true,\"ticks\":\"\",\"zerolinecolor\":\"#EBF0F8\"},\"yaxis\":{\"backgroundcolor\":\"white\",\"gridcolor\":\"#DFE8F3\",\"gridwidth\":2,\"linecolor\":\"#EBF0F8\",\"showbackground\":true,\"ticks\":\"\",\"zerolinecolor\":\"#EBF0F8\"},\"zaxis\":{\"backgroundcolor\":\"white\",\"gridcolor\":\"#DFE8F3\",\"gridwidth\":2,\"linecolor\":\"#EBF0F8\",\"showbackground\":true,\"ticks\":\"\",\"zerolinecolor\":\"#EBF0F8\"}},\"shapedefaults\":{\"line\":{\"color\":\"#2a3f5f\"}},\"ternary\":{\"aaxis\":{\"gridcolor\":\"#DFE8F3\",\"linecolor\":\"#A2B1C6\",\"ticks\":\"\"},\"baxis\":{\"gridcolor\":\"#DFE8F3\",\"linecolor\":\"#A2B1C6\",\"ticks\":\"\"},\"bgcolor\":\"white\",\"caxis\":{\"gridcolor\":\"#DFE8F3\",\"linecolor\":\"#A2B1C6\",\"ticks\":\"\"}},\"title\":{\"x\":0.05},\"xaxis\":{\"automargin\":true,\"gridcolor\":\"#EBF0F8\",\"linecolor\":\"#EBF0F8\",\"ticks\":\"\",\"title\":{\"standoff\":15},\"zerolinecolor\":\"#EBF0F8\",\"zerolinewidth\":2},\"yaxis\":{\"automargin\":true,\"gridcolor\":\"#EBF0F8\",\"linecolor\":\"#EBF0F8\",\"ticks\":\"\",\"title\":{\"standoff\":15},\"zerolinecolor\":\"#EBF0F8\",\"zerolinewidth\":2}}},\"xaxis\":{\"anchor\":\"y\",\"domain\":[0.0,1.0],\"title\":{\"text\":\"Calendar Date\"}},\"yaxis\":{\"anchor\":\"x\",\"domain\":[0.0,1.0],\"title\":{\"text\":\"value\"}},\"legend\":{\"title\":{\"text\":\"variable\"},\"tracegroupgap\":0},\"margin\":{\"t\":60}},                        {\"responsive\": true}                    ).then(function(){\n",
       "                            \n",
       "var gd = document.getElementById('c0a16b35-29b7-4818-880d-6331e261185a');\n",
       "var x = new MutationObserver(function (mutations, observer) {{\n",
       "        var display = window.getComputedStyle(gd).display;\n",
       "        if (!display || display === 'none') {{\n",
       "            console.log([gd, 'removed!']);\n",
       "            Plotly.purge(gd);\n",
       "            observer.disconnect();\n",
       "        }}\n",
       "}});\n",
       "\n",
       "// Listen for the removal of the full notebook cells\n",
       "var notebookContainer = gd.closest('#notebook-container');\n",
       "if (notebookContainer) {{\n",
       "    x.observe(notebookContainer, {childList: true});\n",
       "}}\n",
       "\n",
       "// Listen for the clearing of the current output cell\n",
       "var outputEl = gd.closest('.output');\n",
       "if (outputEl) {{\n",
       "    x.observe(outputEl, {childList: true});\n",
       "}}\n",
       "\n",
       "                        })                };                });            </script>        </div>"
      ]
     },
     "metadata": {},
     "output_type": "display_data"
    },
    {
     "data": {
      "text/html": [
       "<table border=\"1\" class=\"dataframe\">\n",
       "  <thead>\n",
       "    <tr style=\"text-align: right;\">\n",
       "      <th>Calendar Date</th>\n",
       "      <th>W-2 Revenue</th>\n",
       "      <th>W-2 Revenue - ML Predicted</th>\n",
       "      <th>W-2 Revenue - ML Predicted - APE</th>\n",
       "      <th>W-2 Revenue - UTS Predicted</th>\n",
       "      <th>W-2 Revenue - UTS Predicted - APE</th>\n",
       "      <th>W-2 Revenue - Plan</th>\n",
       "      <th>W-2 Revenue - Plan - APE</th>\n",
       "      <th>W-2 Revenue - 2+10 Forecast</th>\n",
       "      <th>W-2 Revenue - 2+10 Forecast - APE</th>\n",
       "    </tr>\n",
       "  </thead>\n",
       "  <tbody>\n",
       "    <tr>\n",
       "      <td>2021-06-01 00:00:00</td>\n",
       "      <td>145664.32</td>\n",
       "      <td>1.025334e+07</td>\n",
       "      <td>69.390190</td>\n",
       "      <td>8.334395e+04</td>\n",
       "      <td>0.427836</td>\n",
       "      <td>94336.19</td>\n",
       "      <td>0.352373</td>\n",
       "      <td>145664.32</td>\n",
       "      <td>0.000000</td>\n",
       "    </tr>\n",
       "    <tr>\n",
       "      <td>2021-07-01 00:00:00</td>\n",
       "      <td>129513.03</td>\n",
       "      <td>1.053432e+07</td>\n",
       "      <td>80.337886</td>\n",
       "      <td>1.423648e+05</td>\n",
       "      <td>0.099231</td>\n",
       "      <td>162905.40</td>\n",
       "      <td>0.257830</td>\n",
       "      <td>129513.03</td>\n",
       "      <td>0.000000</td>\n",
       "    </tr>\n",
       "    <tr>\n",
       "      <td>2021-08-01 00:00:00</td>\n",
       "      <td>149699.46</td>\n",
       "      <td>1.081317e+07</td>\n",
       "      <td>71.232492</td>\n",
       "      <td>1.556588e+05</td>\n",
       "      <td>0.039808</td>\n",
       "      <td>176231.69</td>\n",
       "      <td>0.177237</td>\n",
       "      <td>176231.69</td>\n",
       "      <td>0.177237</td>\n",
       "    </tr>\n",
       "    <tr>\n",
       "      <td>2021-09-01 00:00:00</td>\n",
       "      <td>184562.25</td>\n",
       "      <td>1.075479e+07</td>\n",
       "      <td>57.271901</td>\n",
       "      <td>2.069905e+05</td>\n",
       "      <td>0.121522</td>\n",
       "      <td>227531.19</td>\n",
       "      <td>0.232815</td>\n",
       "      <td>227531.19</td>\n",
       "      <td>0.232815</td>\n",
       "    </tr>\n",
       "    <tr>\n",
       "      <td>2021-10-01 00:00:00</td>\n",
       "      <td>181163.07</td>\n",
       "      <td>1.089820e+07</td>\n",
       "      <td>59.156840</td>\n",
       "      <td>1.627680e+05</td>\n",
       "      <td>0.101539</td>\n",
       "      <td>183308.66</td>\n",
       "      <td>0.011843</td>\n",
       "      <td>183308.66</td>\n",
       "      <td>0.011843</td>\n",
       "    </tr>\n",
       "    <tr>\n",
       "      <td>2021-11-01 00:00:00</td>\n",
       "      <td>155279.24</td>\n",
       "      <td>1.090288e+07</td>\n",
       "      <td>69.214638</td>\n",
       "      <td>1.882648e+05</td>\n",
       "      <td>0.212427</td>\n",
       "      <td>208552.65</td>\n",
       "      <td>0.343081</td>\n",
       "      <td>208552.65</td>\n",
       "      <td>0.343081</td>\n",
       "    </tr>\n",
       "    <tr>\n",
       "      <td>2021-12-01 00:00:00</td>\n",
       "      <td>192584.15</td>\n",
       "      <td>1.108561e+07</td>\n",
       "      <td>56.562435</td>\n",
       "      <td>2.124757e+05</td>\n",
       "      <td>0.103287</td>\n",
       "      <td>233285.75</td>\n",
       "      <td>0.211344</td>\n",
       "      <td>233285.75</td>\n",
       "      <td>0.211344</td>\n",
       "    </tr>\n",
       "    <tr>\n",
       "      <td>2022-01-01 00:00:00</td>\n",
       "      <td>81544421.44</td>\n",
       "      <td>1.128551e+07</td>\n",
       "      <td>0.861603</td>\n",
       "      <td>8.096834e+07</td>\n",
       "      <td>0.007065</td>\n",
       "      <td>80892681.59</td>\n",
       "      <td>0.007992</td>\n",
       "      <td>80808417.22</td>\n",
       "      <td>0.009026</td>\n",
       "    </tr>\n",
       "    <tr>\n",
       "      <td>MAPE</td>\n",
       "      <td>NaN</td>\n",
       "      <td>NaN</td>\n",
       "      <td>58.003498</td>\n",
       "      <td>NaN</td>\n",
       "      <td>0.139089</td>\n",
       "      <td>NaN</td>\n",
       "      <td>0.199315</td>\n",
       "      <td>NaN</td>\n",
       "      <td>0.123168</td>\n",
       "    </tr>\n",
       "  </tbody>\n",
       "</table>"
      ],
      "text/plain": [
       "<IPython.core.display.HTML object>"
      ]
     },
     "metadata": {},
     "output_type": "display_data"
    },
    {
     "data": {
      "image/png": "[encoded data removed]",
      "text/plain": [
       "<Figure size 576x864 with 2 Axes>"
      ]
     },
     "metadata": {},
     "output_type": "display_data"
    }
   ],
   "source": [
    "import pandas as pd\n",
    "import numpy as np\n",
    "import plotly.express as px\n",
    "import warnings\n",
    "from pycaret.regression import *\n",
    "import pmdarima as pm\n",
    "from pmdarima.arima import ARIMA\n",
    "from pmdarima.arima.stationarity import ADFTest\n",
    "from pmdarima.arima.utils import ndiffs\n",
    "from datetime import datetime\n",
    "import seaborn as sns\n",
    "import matplotlib.pyplot as plt\n",
    "import import_ipynb\n",
    "import data_loader as dl\n",
    "from IPython.display import display, HTML\n",
    "\n",
    "warnings.filterwarnings(\"ignore\")\n",
    "\n",
    "def run_auto_ml(train_df, test_df, target_col, feature_cols, normal_transform, ml_criteria):\n",
    "    # Model Definitions\n",
    "    s = setup(data = train_df, \n",
    "              test_data = test_df, \n",
    "              target = target_col, \n",
    "              fold_strategy = 'timeseries', \n",
    "              numeric_features = feature_cols, \n",
    "              fold = 3, \n",
    "              transform_target = normal_transform,\n",
    "              feature_selection = True,\n",
    "              feature_selection_threshold = 0.8,\n",
    "              remove_multicollinearity = True,\n",
    "              multicollinearity_threshold = 0.9,\n",
    "              session_id = 123)\n",
    "    best = compare_models(sort = ml_criteria)\n",
    "    results = pull()\n",
    "    model_results = results.Model.tolist()\n",
    "    #print(type(best))\n",
    "    return best\n",
    "\n",
    "def get_important_features(model, threshold):\n",
    "    # Get list of features and their values\n",
    "    features = pd.DataFrame()\n",
    "    if model == 'xgboost':\n",
    "        xgb = create_model('xgboost', cross_validation=True, verbose=False)        \n",
    "        feature_important = xgb.get_booster().get_score(importance_type='gain')\n",
    "        keys = list(feature_important.keys())\n",
    "        values = list(feature_important.values())\n",
    "        features = pd.DataFrame(data=values, index=keys, columns=['Variable Importance']).sort_values(by='Variable Importance', ascending=False)\n",
    "        features = features[features.index.str.contains('Calendar Date') == False]\n",
    "        features = features.rename_axis('Feature').reset_index()\n",
    "        features = features[features.index <= threshold-1]\n",
    "    return features\n",
    "\n",
    "def run_auto_arima(df, feature_cols, pred_start_dt, forecast_window, ci):\n",
    "    pred_df = pd.DataFrame()\n",
    "    dti = pd.date_range(pred_start_dt, periods=forecast_window, freq=\"M\")\n",
    "    dti = dti + pd.offsets.MonthBegin(-1)\n",
    "    pred_df['Calendar Date'] = dti\n",
    "    for col in feature_cols:\n",
    "        print('############################  Running Auto ARIMA for '+col+'   ############################')\n",
    "        model = pm.auto_arima(df[col], \n",
    "                      start_p=1, \n",
    "                      start_q=1, \n",
    "                      max_p=5, \n",
    "                      max_q=5, \n",
    "                      m=12, \n",
    "                      start_P=0, \n",
    "                      seasonal=True, \n",
    "                      d=1, \n",
    "                      D=1, \n",
    "                      trace=True, \n",
    "                      error_action='ignore',  # don't want to know if an order does not work\n",
    "                      suppress_warnings=True,  # don't want convergence warnings\n",
    "                      stepwise=True)  # set to stepwise\n",
    "        # make future predictions\n",
    "        if ci:\n",
    "            y_pred, conf_int = model.predict(n_periods=forecast_window, return_conf_int=True, alpha=0.05)\n",
    "            pred_df[col] = y_pred\n",
    "            pred_df[col+'_lower_ci'], pred_df[col+'_upper_ci'] = conf_int.T\n",
    "        else:\n",
    "            pred_df[col] = model.predict(n_periods=forecast_window)\n",
    "        print('############################  End Auto ARIMA for '+col+'   ############################')\n",
    "        print('')\n",
    "        print('')\n",
    "    return pred_df\n",
    "\n",
    "def compute_apes_and_mapes(df, date_col, target_col, feature_cols):\n",
    "    sort_cols = [date_col, target_col]\n",
    "    ape_cols = []\n",
    "    for col in feature_cols:\n",
    "        ape_col = col+' - APE' \n",
    "        df[ape_col] = ((df[target_col] - df[col]).abs())/df[target_col]\n",
    "        sort_cols.append(col)\n",
    "        sort_cols.append(ape_col)\n",
    "        ape_cols.append(ape_col)\n",
    "    df = df[sort_cols]    \n",
    "    non_ape_cols = list(set(sort_cols) - set(ape_cols))\n",
    "    mape_df = df.groupby([True]*len(df)).mean(numeric_only=True)\n",
    "    mape_df[non_ape_cols] = np.nan\n",
    "    df = pd.concat([df,mape_df])\n",
    "    return df  \n",
    "\n",
    "#########################################################################################\n",
    "#                              BEGIN PARAMETERS SECTION \n",
    "#      This section is where we set the model parameters including:\n",
    "#      The date ranges for the training, testing and prediction dataframes\n",
    "#      The features and correlations thresholds, etc\n",
    "#########################################################################################\n",
    "\n",
    "# ------------------------------------------------------------------------------------- #\n",
    "# This is where we change the parameters for the model\n",
    "# ------------------------------------------------------------------------------------- #\n",
    "train_start_dt = '20140601'\n",
    "train_end_dt = '20200501'\n",
    "test_start_dt = '20200601'\n",
    "test_end_dt = '20210501'\n",
    "pred_start_dt = '20210601'\n",
    "pred_end_dt = '20220101'\n",
    "ml_criteria = 'MAE'\n",
    "forecast_window = 8\n",
    "forecast_type = '2+10'\n",
    "\n",
    "# This is how strong you want the correlation to be in order to be included as a feature\n",
    "correlation_threshold = 0.5\n",
    "\n",
    "# This is how many features you want to keep in the final model\n",
    "features_threshold = 10\n",
    "\n",
    "has_actuals = True\n",
    "\n",
    "# ------------------------------------------------------------------------------------- #\n",
    "# Total Payroll Section\n",
    "# ------------------------------------------------------------------------------------- #\n",
    "#target_col = 'Payroll blended products'\n",
    "#has_drivers = True\n",
    "target_col = 'W-2 Revenue'\n",
    "has_drivers = False\n",
    "#target_col = 'Delivery Revenue'\n",
    "#has_drivers = False\n",
    "#target_col = 'ASO Allocation'\n",
    "#has_drivers = False\n",
    "#target_col = 'Other Processing Revenue'\n",
    "#has_drivers = False\n",
    "#target_col = 'SurePayroll.'\n",
    "#has_drivers = True\n",
    "#target_col = 'Total international'\n",
    "#has_drivers = False\n",
    "\n",
    "# ------------------------------------------------------------------------------------- #\n",
    "# Total 401K Section\n",
    "# ------------------------------------------------------------------------------------- #\n",
    "#target_col = '401K Fee Revenue'\n",
    "#has_drivers = True\n",
    "#target_col = '401K Asset fee & BP Revenue'\n",
    "#has_drivers = True\n",
    "\n",
    "# ------------------------------------------------------------------------------------- #\n",
    "# Name the output columns here\n",
    "# ------------------------------------------------------------------------------------- #\n",
    "ml_col = target_col+' - ML Predicted'\n",
    "uts_col = target_col+' - UTS Predicted'\n",
    "plan_col = target_col+' - Plan'\n",
    "fcst_col = target_col+' - '+forecast_type+' Forecast'\n",
    "fcst_cols = [ml_col,uts_col,plan_col,fcst_col]\n",
    "\n",
    "\n",
    "#########################################################################################\n",
    "#                              END PARAMETERS SECTION \n",
    "#########################################################################################\n",
    "\n",
    "#########################################################################################\n",
    "#                              BEGIN DATA SECTION \n",
    "#             This is where the dataframes get created based on the parameters \n",
    "#             set in the previous section. You should not need to change any code \n",
    "#             from here below\n",
    "#########################################################################################\n",
    "\n",
    "# Get the full data frame and combine with drivers\n",
    "all_df = dl.get_level_0_data(train_start_dt, pred_end_dt)\n",
    "all_df = all_df[['Calendar Date', target_col]]\n",
    "if has_drivers:\n",
    "    driv_df = dl.get_driver_data(train_start_dt, pred_end_dt, target_col)\n",
    "    driv_df.drop(columns=['Scenario'], inplace=True)\n",
    "    all_df = pd.merge(all_df, driv_df, on='Calendar Date', how='inner')\n",
    "ext_df = dl.get_external_data(train_start_dt, pred_end_dt)\n",
    "all_df = pd.merge(all_df, ext_df, on='Calendar Date', how='inner')\n",
    "\n",
    "# Train df\n",
    "train_df = all_df[all_df['Calendar Date'].astype(int) <= int(train_end_dt)]\n",
    "train_df['Calendar Date'] = pd.to_datetime(train_df['Calendar Date'])\n",
    "print('Shape of the training dataframe:')\n",
    "print(train_df.shape)\n",
    "\n",
    "# Test df\n",
    "test_df = all_df[(all_df['Calendar Date'].astype(int) >= int(test_start_dt)) & (all_df['Calendar Date'].astype(int) <= int(test_end_dt))]\n",
    "test_df['Calendar Date'] = pd.to_datetime(test_df['Calendar Date'])\n",
    "print('Shape of the testing dataframe:')\n",
    "print(test_df.shape)\n",
    "\n",
    "# Combined dataframe\n",
    "comb_df = pd.concat([train_df, test_df])\n",
    "print('Shape of the combination dataframe:')\n",
    "print(comb_df.shape)\n",
    "\n",
    "feature_cols = comb_df.columns.to_list()\n",
    "feature_cols.remove('Calendar Date')\n",
    "feature_cols.remove(target_col)\n",
    "\n",
    "# Run Correlations to target\n",
    "corr_df = comb_df.corr()[[target_col]]\n",
    "corr_df = corr_df[corr_df[target_col].abs() >= correlation_threshold]\n",
    "\n",
    "# Plot the highest correlated features to the target\n",
    "plt.figure(figsize=(8, 12))\n",
    "heatmap = sns.heatmap(corr_df, vmin=-1, vmax=1, annot=True, cmap='BrBG')\n",
    "heatmap.set_title('Features Correlating with '+target_col, fontdict={'fontsize':18}, pad=16);\n",
    "\n",
    "# Get a list of the features based on correlation\n",
    "corr_df = corr_df.rename_axis('Feature').reset_index()\n",
    "corr_feature_cols = corr_df['Feature'].tolist()\n",
    "corr_feature_cols.remove(target_col)    \n",
    "#print(corr_feature_cols)\n",
    "\n",
    "# run auto ml and get the most important features\n",
    "best = run_auto_ml(train_df, test_df, target_col, feature_cols, False, ml_criteria)\n",
    "ml_features = get_important_features('xgboost', features_threshold)\n",
    "ml_feature_cols = ml_features['Feature'].tolist()\n",
    "\n",
    "if len(ml_features.index) != 0:\n",
    "    # plot the most important features\n",
    "    fig = px.bar(ml_features.sort_values('Variable Importance', ascending=True),\n",
    "                 x='Variable Importance', \n",
    "                 y='Feature', \n",
    "                 orientation='h', \n",
    "                 title='Feature Importance Plot')\n",
    "    fig.show()\n",
    "    \n",
    "# ------------------------------------------------------------------------------------- #\n",
    "# re-run the auto ml with only the important features\n",
    "# ------------------------------------------------------------------------------------- #\n",
    "\n",
    "# Here we need to figure out which set of features we want to use\n",
    "# ml_features or corr_features\n",
    "feature_cols = ml_feature_cols\n",
    "\n",
    "keeps = ['Calendar Date', target_col]+feature_cols\n",
    "train_df = train_df[keeps]\n",
    "test_df = test_df[keeps]\n",
    "comb_df = comb_df[keeps]\n",
    "\n",
    "best = run_auto_ml(train_df, test_df, target_col, feature_cols, False, ml_criteria)    \n",
    "\n",
    "# ------------------------------------------------------------------------------------- #\n",
    "# generate and plot predicted values on the original dataset\n",
    "# ------------------------------------------------------------------------------------- #\n",
    "\n",
    "predictions = predict_model(best, data=comb_df)\n",
    "predictions['Date'] = pd.date_range(start=str(train_start_dt), end = str(test_end_dt), freq = 'MS')\n",
    "predictions.rename(columns={'Label':target_col+' - ML Predicted'}, inplace=True)\n",
    "fig = px.line(predictions, x='Date', y=[target_col, target_col+' - ML Predicted'], template = 'plotly_white')\n",
    "fig.show()\n",
    "\n",
    "# ------------------------------------------------------------------------------------- #\n",
    "# This section now applies the trained/tested model to make future predictions\n",
    "# ------------------------------------------------------------------------------------- #\n",
    "\n",
    "# create the future predictions dataframe\n",
    "if has_actuals:\n",
    "    act_df = all_df[all_df['Calendar Date'].astype(int) >= int(pred_start_dt)]\n",
    "    act_df = act_df[keeps]\n",
    "    act_df['Calendar Date'] = pd.to_datetime(act_df['Calendar Date'])\n",
    "    pred_df = run_auto_arima(comb_df, feature_cols, pred_start_dt, forecast_window, False)\n",
    "    final_best = finalize_model(best)\n",
    "    #future_dates = pd.date_range(start = pred_start_dt, end = pred_end_dt, freq = 'MS')\n",
    "    pred_df = predict_model(final_best, data=pred_df)\n",
    "    #pred_df = pred_df[['Calendar Date', 'Label']]\n",
    "    pred_df.rename(columns={'Label':ml_col}, inplace=True)\n",
    "    concat_df = pd.merge(pred_df,act_df, on='Calendar Date', how='inner')\n",
    "    \n",
    "    # get plan data\n",
    "    plan_df = dl.get_plan_data(pred_start_dt, pred_end_dt)\n",
    "    plan_df = plan_df[['Calendar Date', target_col]]\n",
    "    plan_df.rename(columns={target_col:plan_col}, inplace=True)\n",
    "    plan_df['Calendar Date'] = pd.to_datetime(plan_df['Calendar Date'])\n",
    "    concat_df = pd.merge(concat_df,plan_df, on='Calendar Date', how='inner')\n",
    "    \n",
    "    # get forecast data\n",
    "    fcst_df = dl.get_forecast_data(pred_start_dt, pred_end_dt, forecast_type)\n",
    "    fcst_df = fcst_df[['Calendar Date', target_col]]\n",
    "    fcst_df.rename(columns={target_col:fcst_col}, inplace=True)\n",
    "    fcst_df['Calendar Date'] = pd.to_datetime(fcst_df['Calendar Date'])\n",
    "    concat_df = pd.merge(concat_df,fcst_df, on='Calendar Date', how='inner')\n",
    "\n",
    "    # run UTS \n",
    "    uts_df = comb_df[['Calendar Date', target_col]]\n",
    "    uts_df = run_auto_arima(uts_df, [target_col], pred_start_dt, forecast_window, True)\n",
    "    uts_df.rename(columns={target_col:uts_col}, inplace=True)\n",
    "    concat_df = pd.merge(concat_df,uts_df, on='Calendar Date', how='inner')\n",
    "    \n",
    "    # combine all data together\n",
    "    concat_df = pd.concat([comb_df,concat_df], axis=0)\n",
    "    \n",
    "    # show plot\n",
    "    fig = px.line(concat_df, x='Calendar Date', y=[target_col, ml_col, uts_col, plan_col, fcst_col], template='plotly_white')\n",
    "    fig.show()\n",
    "    \n",
    "    # compute mape_df\n",
    "    mape_df = concat_df[['Calendar Date', target_col, ml_col, uts_col, plan_col, fcst_col]]\n",
    "    mape_df = mape_df[mape_df['Calendar Date'] >= datetime.strptime(pred_start_dt, '%Y%m%d')]\n",
    "    mape_df = compute_apes_and_mapes(mape_df, 'Calendar Date', target_col, fcst_cols)\n",
    "    mape_df['Calendar Date'] = mape_df['Calendar Date'].apply(lambda x: 'MAPE' if len(str(x)) < 10 else x)\n",
    "    display(HTML(mape_df.to_html(index=False)))"
   ]
  },
  {
   "cell_type": "code",
   "execution_count": null,
   "metadata": {},
   "outputs": [],
   "source": []
  },
  {
   "cell_type": "code",
   "execution_count": null,
   "metadata": {},
   "outputs": [],
   "source": []
  },
  {
   "cell_type": "code",
   "execution_count": null,
   "metadata": {},
   "outputs": [],
   "source": []
  }
 ],
 "metadata": {
  "kernelspec": {
   "display_name": "Python 3",
   "language": "python",
   "name": "python3"
  },
  "language_info": {
   "codemirror_mode": {
    "name": "ipython",
    "version": 3
   },
   "file_extension": ".py",
   "mimetype": "text/x-python",
   "name": "python",
   "nbconvert_exporter": "python",
   "pygments_lexer": "ipython3",
   "version": "3.8.1"
  }
 },
 "nbformat": 4,
 "nbformat_minor": 4
}
